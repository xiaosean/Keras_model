{
 "cells": [
  {
   "cell_type": "code",
   "execution_count": 38,
   "metadata": {},
   "outputs": [],
   "source": [
    "import time\n",
    "import numpy as np\n",
    "from keras.utils import np_utils\n",
    "import keras.callbacks as cb\n",
    "from keras.models import Sequential\n",
    "from keras.layers.core import Dense, Dropout, Activation\n",
    "from keras.optimizers import RMSprop\n",
    "import feather \n",
    "from mailerWithUtf8 import mail\n",
    "from sklearn.preprocessing import LabelEncoder\n",
    "from keras.models import model_from_json"
   ]
  },
  {
   "cell_type": "code",
   "execution_count": 100,
   "metadata": {
    "collapsed": true
   },
   "outputs": [],
   "source": [
    "def plot_confusion_matrix(cm, classes,\n",
    "                          normalize=False,\n",
    "                          title='Confusion matrix',\n",
    "                          cmap=plt.cm.Blues):\n",
    "    \"\"\"\n",
    "    This function prints and plots the confusion matrix.\n",
    "    Normalization can be applied by setting `normalize=True`.\n",
    "    \"\"\"\n",
    "    plt.imshow(cm, interpolation='nearest', cmap=cmap)\n",
    "    plt.title(title)\n",
    "    plt.colorbar()\n",
    "    tick_marks = np.arange(len(classes))\n",
    "    plt.xticks(tick_marks, classes, rotation=45)\n",
    "    plt.yticks(tick_marks, classes)\n",
    "\n",
    "    if normalize:\n",
    "        cm = cm.astype('float') / cm.sum(axis=1)[:, np.newaxis]\n",
    "#         print(\"Normalized confusion matrix\")\n",
    "#     else:\n",
    "#         print('Confusion matrix, without normalization')\n",
    "\n",
    "#     print(cm)\n",
    "\n",
    "    thresh = cm.max() / 2.\n",
    "    for i, j in itertools.product(range(cm.shape[0]), range(cm.shape[1])):\n",
    "        plt.text(j, i, \"\",\n",
    "                 horizontalalignment=\"center\",\n",
    "                 color=\"white\" if cm[i, j] > thresh else \"black\")\n",
    "\n",
    "    plt.tight_layout()\n",
    "    plt.ylabel('True label')\n",
    "    plt.xlabel('Predicted label')"
   ]
  },
  {
   "cell_type": "markdown",
   "metadata": {},
   "source": [
    "# preprocess load data"
   ]
  },
  {
   "cell_type": "code",
   "execution_count": 39,
   "metadata": {},
   "outputs": [
    {
     "name": "stdout",
     "output_type": "stream",
     "text": [
      "load feather %s seconds 1.5008654594421387\n"
     ]
    }
   ],
   "source": [
    "start_time = time.time()\n",
    "path = 'C:/Users/VIPLAB/Desktop/preprocess_py/marketing_analyze/0710_marketing_train.feather' \n",
    "# path = 'C:/Users/VIPLAB/Desktop/preprocess_py/marketing_analyze/0710_marketing_train_sample.feather' \n",
    "train_df = feather.read_dataframe(path)\n",
    "print('load feather %s seconds', format(time.time() - start_time))\n"
   ]
  },
  {
   "cell_type": "code",
   "execution_count": 40,
   "metadata": {},
   "outputs": [
    {
     "name": "stdout",
     "output_type": "stream",
     "text": [
      "load feather %s seconds 0.3840045928955078\n"
     ]
    }
   ],
   "source": [
    "start_time = time.time()\n",
    "path = 'C:/Users/VIPLAB/Desktop/preprocess_py/marketing_analyze/0710_marketing_test.feather'\n",
    "# path = 'C:/Users/VIPLAB/Desktop/preprocess_py/marketing_analyze/0710_marketing_test_sample.feather' \n",
    "\n",
    "test_df = feather.read_dataframe(path)\n",
    "print('load feather %s seconds', format(time.time() - start_time))"
   ]
  },
  {
   "cell_type": "code",
   "execution_count": 42,
   "metadata": {
    "collapsed": true
   },
   "outputs": [],
   "source": [
    "train_x, train_y = train_df.iloc[:, 0:-1].values, train_df.iloc[:, -1].values"
   ]
  },
  {
   "cell_type": "code",
   "execution_count": 43,
   "metadata": {
    "collapsed": true
   },
   "outputs": [],
   "source": [
    "test_x, test_y = test_df.iloc[:, 0:-1].values, test_df.iloc[:, -1].values"
   ]
  },
  {
   "cell_type": "code",
   "execution_count": 44,
   "metadata": {
    "collapsed": true
   },
   "outputs": [],
   "source": [
    "train_x = train_x.reshape(train_x.shape[0], -1)   # normalize\n",
    "test_x = test_x.reshape(test_x.shape[0], -1)   # normalize\n",
    "\n"
   ]
  },
  {
   "cell_type": "code",
   "execution_count": 45,
   "metadata": {
    "collapsed": true
   },
   "outputs": [],
   "source": [
    "# from sklearn.preprocessing import LabelBinarizer\n",
    "# encoder = LabelBinarizer()\n",
    "# y_train = encoder.fit_transform(y_train)\n",
    "# y_test = encoder.fit_transform(y_test)"
   ]
  },
  {
   "cell_type": "code",
   "execution_count": 46,
   "metadata": {
    "collapsed": true
   },
   "outputs": [],
   "source": [
    "# encode class values as integers\n",
    "encoder = LabelEncoder()\n",
    "encoder.fit(train_y)\n",
    "encoded_Y = encoder.transform(train_y)\n",
    "# convert integers to dummy variables (i.e. one hot encoded)\n",
    "train_y = np_utils.to_categorical(encoded_Y)\n",
    "\n",
    "encoded_Y = encoder.transform(test_y)\n",
    "# convert integers to dummy variables (i.e. one hot encoded)\n",
    "test_y = np_utils.to_categorical(encoded_Y)"
   ]
  },
  {
   "cell_type": "code",
   "execution_count": 47,
   "metadata": {},
   "outputs": [
    {
     "data": {
      "text/plain": [
       "array(['Adult', 'Game', 'HomeLife', 'Infrequent Internet User',\n",
       "       'InstantMessage-High', 'InstantMessage-Low', 'Map', 'News',\n",
       "       'No significant preference', 'Portal', 'Social-media'], dtype=object)"
      ]
     },
     "execution_count": 47,
     "metadata": {},
     "output_type": "execute_result"
    }
   ],
   "source": [
    "# get y unique name\n",
    "encoder.classes_"
   ]
  },
  {
   "cell_type": "code",
   "execution_count": 48,
   "metadata": {},
   "outputs": [
    {
     "data": {
      "text/plain": [
       "1506103"
      ]
     },
     "execution_count": 48,
     "metadata": {},
     "output_type": "execute_result"
    }
   ],
   "source": [
    "len(train_y)"
   ]
  },
  {
   "cell_type": "code",
   "execution_count": 49,
   "metadata": {},
   "outputs": [
    {
     "data": {
      "text/plain": [
       "376526"
      ]
     },
     "execution_count": 49,
     "metadata": {},
     "output_type": "execute_result"
    }
   ],
   "source": [
    "len(test_y)"
   ]
  },
  {
   "cell_type": "markdown",
   "metadata": {},
   "source": [
    "# construct and compile model"
   ]
  },
  {
   "cell_type": "code",
   "execution_count": 87,
   "metadata": {
    "collapsed": true
   },
   "outputs": [],
   "source": [
    "classify_num = 11\n",
    "epochs = 300\n",
    "batch = 128"
   ]
  },
  {
   "cell_type": "markdown",
   "metadata": {},
   "source": [
    "# basic config"
   ]
  },
  {
   "cell_type": "code",
   "execution_count": 88,
   "metadata": {},
   "outputs": [
    {
     "name": "stdout",
     "output_type": "stream",
     "text": [
      "Compiling Model ... \n",
      "Model compield in 0.10134553909301758 seconds\n"
     ]
    }
   ],
   "source": [
    "start_time = time.time()\n",
    "print ('Compiling Model ... ')\n",
    "model = Sequential()\n",
    "model.add(Dense(1024, input_shape=train_x[0].shape ))\n",
    "# model.add(Activation('relu'))\n",
    "# model.add(Dropout(0.2))\n",
    "model.add(Dense(512))\n",
    "model.add(Activation('relu'))\n",
    "model.add(Dense(256))\n",
    "model.add(Activation('relu'))\n",
    "model.add(Dense(128))\n",
    "model.add(Activation('relu'))\n",
    "# model.add(Dropout(0.2))\n",
    "model.add(Dense(64))\n",
    "model.add(Activation('relu'))\n",
    "model.add(Dense(32))\n",
    "model.add(Activation('relu'))\n",
    "model.add(Dense(classify_num))\n",
    "model.add(Activation('softmax'))\n",
    "\n",
    "rms = RMSprop()\n",
    "model.compile(loss='categorical_crossentropy', optimizer=rms, metrics=['accuracy'])\n",
    "\n",
    "print('Model compield in {0} seconds'.format(time.time() - start_time))\n"
   ]
  },
  {
   "cell_type": "markdown",
   "metadata": {},
   "source": [
    "# Train model"
   ]
  },
  {
   "cell_type": "code",
   "execution_count": 89,
   "metadata": {
    "scrolled": true
   },
   "outputs": [
    {
     "name": "stdout",
     "output_type": "stream",
     "text": [
      "Training model...\n",
      "Train on 1355492 samples, validate on 150611 samples\n",
      "Epoch 1/300\n",
      "59s - loss: 1.9602 - acc: 0.2956 - val_loss: 1.9214 - val_acc: 0.3046\n",
      "Epoch 2/300\n",
      "60s - loss: 1.9184 - acc: 0.3058 - val_loss: 1.9334 - val_acc: 0.3069\n",
      "Epoch 3/300\n",
      "60s - loss: 1.9121 - acc: 0.3084 - val_loss: 1.9139 - val_acc: 0.3117\n",
      "Epoch 4/300\n",
      "61s - loss: 1.9096 - acc: 0.3095 - val_loss: 1.9254 - val_acc: 0.3103\n",
      "Epoch 5/300\n",
      "60s - loss: 1.9067 - acc: 0.3102 - val_loss: 1.9091 - val_acc: 0.3084\n",
      "Epoch 6/300\n",
      "59s - loss: 1.9053 - acc: 0.3110 - val_loss: 1.9155 - val_acc: 0.3064\n",
      "Epoch 7/300\n",
      "59s - loss: 1.9027 - acc: 0.3116 - val_loss: 1.9000 - val_acc: 0.3143\n",
      "Epoch 8/300\n",
      "59s - loss: 1.9014 - acc: 0.3117 - val_loss: 1.9025 - val_acc: 0.3136\n",
      "Epoch 9/300\n",
      "59s - loss: 1.9009 - acc: 0.3123 - val_loss: 1.9148 - val_acc: 0.3119\n",
      "Epoch 10/300\n",
      "59s - loss: 1.8989 - acc: 0.3123 - val_loss: 1.9105 - val_acc: 0.3069\n",
      "Epoch 11/300\n",
      "59s - loss: 1.8974 - acc: 0.3130 - val_loss: 1.8988 - val_acc: 0.3103\n",
      "Epoch 12/300\n",
      "59s - loss: 1.8970 - acc: 0.3132 - val_loss: 1.8843 - val_acc: 0.3178\n",
      "Epoch 13/300\n",
      "59s - loss: 1.8968 - acc: 0.3134 - val_loss: 1.8975 - val_acc: 0.3148\n",
      "Epoch 14/300\n",
      "59s - loss: 1.8971 - acc: 0.3131 - val_loss: 1.8918 - val_acc: 0.3145\n",
      "Epoch 15/300\n",
      "59s - loss: 1.8964 - acc: 0.3129 - val_loss: 1.8858 - val_acc: 0.3148\n",
      "Epoch 16/300\n",
      "59s - loss: 1.8952 - acc: 0.3128 - val_loss: 1.9011 - val_acc: 0.3132\n",
      "Epoch 17/300\n",
      "59s - loss: 1.8968 - acc: 0.3130 - val_loss: 1.8982 - val_acc: 0.3164\n",
      "Epoch 18/300\n",
      "59s - loss: 1.8957 - acc: 0.3132 - val_loss: 1.9035 - val_acc: 0.3147\n",
      "Epoch 19/300\n",
      "59s - loss: 1.8951 - acc: 0.3135 - val_loss: 1.8995 - val_acc: 0.3118\n",
      "Epoch 20/300\n",
      "59s - loss: 1.8958 - acc: 0.3135 - val_loss: 1.9013 - val_acc: 0.3131\n",
      "Epoch 21/300\n",
      "59s - loss: 1.8948 - acc: 0.3136 - val_loss: 1.9080 - val_acc: 0.3089\n",
      "Epoch 22/300\n",
      "60s - loss: 1.8947 - acc: 0.3134 - val_loss: 1.8934 - val_acc: 0.3144\n",
      "Epoch 23/300\n",
      "58s - loss: 1.8959 - acc: 0.3138 - val_loss: 1.9289 - val_acc: 0.3003\n",
      "Epoch 24/300\n",
      "57s - loss: 1.8945 - acc: 0.3144 - val_loss: 1.8895 - val_acc: 0.3148\n",
      "Epoch 25/300\n",
      "60s - loss: 1.8936 - acc: 0.3144 - val_loss: 1.8915 - val_acc: 0.3122\n",
      "Epoch 26/300\n",
      "59s - loss: 1.8953 - acc: 0.3142 - val_loss: 1.8923 - val_acc: 0.3182\n",
      "Epoch 27/300\n",
      "60s - loss: 1.8957 - acc: 0.3142 - val_loss: 1.9037 - val_acc: 0.3141\n",
      "Epoch 28/300\n",
      "59s - loss: 1.8980 - acc: 0.3137 - val_loss: 1.8897 - val_acc: 0.3173\n",
      "Epoch 29/300\n",
      "60s - loss: 1.8989 - acc: 0.3140 - val_loss: 1.9175 - val_acc: 0.3118\n",
      "Epoch 30/300\n",
      "60s - loss: 1.8984 - acc: 0.3140 - val_loss: 1.9062 - val_acc: 0.3106\n",
      "Epoch 31/300\n",
      "60s - loss: 1.8985 - acc: 0.3137 - val_loss: 1.9181 - val_acc: 0.3144\n",
      "Epoch 32/300\n",
      "58s - loss: 1.8971 - acc: 0.3141 - val_loss: 1.8988 - val_acc: 0.3140\n",
      "Epoch 33/300\n",
      "59s - loss: 1.8981 - acc: 0.3137 - val_loss: 1.8969 - val_acc: 0.3170\n",
      "Epoch 34/300\n",
      "59s - loss: 1.8972 - acc: 0.3136 - val_loss: 1.8975 - val_acc: 0.3160\n",
      "Epoch 35/300\n",
      "60s - loss: 1.8980 - acc: 0.3138 - val_loss: 1.8992 - val_acc: 0.3133\n",
      "Epoch 36/300\n",
      "58s - loss: 1.8989 - acc: 0.3136 - val_loss: 1.9056 - val_acc: 0.3131\n",
      "Epoch 37/300\n",
      "58s - loss: 1.8991 - acc: 0.3140 - val_loss: 1.8962 - val_acc: 0.3127\n",
      "Epoch 38/300\n",
      "58s - loss: 1.8984 - acc: 0.3140 - val_loss: 1.9130 - val_acc: 0.3116\n",
      "Epoch 39/300\n",
      "58s - loss: 1.8989 - acc: 0.3143 - val_loss: 1.8885 - val_acc: 0.3154\n",
      "Epoch 40/300\n",
      "58s - loss: 1.9009 - acc: 0.3143 - val_loss: 1.8942 - val_acc: 0.3164\n",
      "Epoch 41/300\n",
      "59s - loss: 1.9012 - acc: 0.3139 - val_loss: 1.9168 - val_acc: 0.3100\n",
      "Epoch 42/300\n",
      "59s - loss: 1.9035 - acc: 0.3139 - val_loss: 1.9090 - val_acc: 0.3120\n",
      "Epoch 43/300\n",
      "60s - loss: 1.9050 - acc: 0.3135 - val_loss: 1.9313 - val_acc: 0.3125\n",
      "Epoch 44/300\n",
      "59s - loss: 1.9034 - acc: 0.3140 - val_loss: 1.8980 - val_acc: 0.3164\n",
      "Epoch 45/300\n",
      "61s - loss: 1.9060 - acc: 0.3139 - val_loss: 1.9153 - val_acc: 0.3107\n",
      "Epoch 46/300\n",
      "58s - loss: 1.9028 - acc: 0.3139 - val_loss: 1.9435 - val_acc: 0.2986\n",
      "Epoch 47/300\n",
      "61s - loss: 1.9043 - acc: 0.3139 - val_loss: 1.9202 - val_acc: 0.3102\n",
      "Epoch 48/300\n",
      "60s - loss: 1.9065 - acc: 0.3137 - val_loss: 1.9254 - val_acc: 0.3035\n",
      "Epoch 49/300\n",
      "61s - loss: 1.9076 - acc: 0.3139 - val_loss: 1.9153 - val_acc: 0.3152\n",
      "Epoch 50/300\n",
      "59s - loss: 1.9071 - acc: 0.3141 - val_loss: 1.9011 - val_acc: 0.3147\n",
      "Epoch 51/300\n",
      "59s - loss: 1.9033 - acc: 0.3147 - val_loss: 1.9182 - val_acc: 0.3093\n",
      "Epoch 52/300\n",
      "57s - loss: 1.9038 - acc: 0.3142 - val_loss: 1.9095 - val_acc: 0.3133\n",
      "Epoch 53/300\n",
      "60s - loss: 1.9032 - acc: 0.3149 - val_loss: 1.9133 - val_acc: 0.3125\n",
      "Epoch 54/300\n",
      "59s - loss: 1.9037 - acc: 0.3140 - val_loss: 1.9325 - val_acc: 0.3149\n",
      "Epoch 55/300\n",
      "58s - loss: 1.9047 - acc: 0.3140 - val_loss: 1.9090 - val_acc: 0.3151\n",
      "Epoch 56/300\n",
      "58s - loss: 1.9048 - acc: 0.3138 - val_loss: 1.9028 - val_acc: 0.3163\n",
      "Epoch 57/300\n",
      "61s - loss: 1.9054 - acc: 0.3138 - val_loss: 1.9104 - val_acc: 0.3120\n",
      "Epoch 58/300\n",
      "60s - loss: 1.9039 - acc: 0.3140 - val_loss: 1.9239 - val_acc: 0.3067\n",
      "Epoch 59/300\n",
      "57s - loss: 1.9043 - acc: 0.3140 - val_loss: 1.9244 - val_acc: 0.3136\n",
      "Epoch 60/300\n",
      "59s - loss: 1.9051 - acc: 0.3142 - val_loss: 1.9034 - val_acc: 0.3145\n",
      "Epoch 61/300\n",
      "59s - loss: 1.9042 - acc: 0.3139 - val_loss: 1.9019 - val_acc: 0.3170\n",
      "Epoch 62/300\n",
      "61s - loss: 1.9022 - acc: 0.3143 - val_loss: 1.9369 - val_acc: 0.3002\n",
      "Epoch 63/300\n",
      "59s - loss: 1.9059 - acc: 0.3146 - val_loss: 1.9023 - val_acc: 0.3156\n",
      "Epoch 64/300\n",
      "59s - loss: 1.9059 - acc: 0.3143 - val_loss: 1.9235 - val_acc: 0.3129\n",
      "Epoch 65/300\n",
      "60s - loss: 1.9091 - acc: 0.3141 - val_loss: 1.9075 - val_acc: 0.3197\n",
      "Epoch 66/300\n",
      "62s - loss: 1.9086 - acc: 0.3144 - val_loss: 1.9422 - val_acc: 0.3018\n",
      "Epoch 67/300\n",
      "62s - loss: 1.9082 - acc: 0.3144 - val_loss: 1.9044 - val_acc: 0.3133\n",
      "Epoch 68/300\n",
      "58s - loss: 1.9070 - acc: 0.3142 - val_loss: 1.8975 - val_acc: 0.3145\n",
      "Epoch 69/300\n",
      "61s - loss: 1.9059 - acc: 0.3144 - val_loss: 1.9758 - val_acc: 0.3096\n",
      "Epoch 70/300\n",
      "60s - loss: 1.9073 - acc: 0.3146 - val_loss: 1.9239 - val_acc: 0.3089\n",
      "Epoch 71/300\n",
      "60s - loss: 1.9068 - acc: 0.3146 - val_loss: 1.9075 - val_acc: 0.3147\n",
      "Epoch 72/300\n",
      "60s - loss: 1.9091 - acc: 0.3148 - val_loss: 1.9201 - val_acc: 0.3188\n",
      "Epoch 73/300\n",
      "60s - loss: 1.9172 - acc: 0.3151 - val_loss: 1.9058 - val_acc: 0.3129\n",
      "Epoch 74/300\n",
      "59s - loss: 1.9222 - acc: 0.3149 - val_loss: 1.9117 - val_acc: 0.3172\n",
      "Epoch 75/300\n",
      "60s - loss: 1.9225 - acc: 0.3147 - val_loss: 1.9241 - val_acc: 0.3148\n",
      "Epoch 76/300\n",
      "59s - loss: 1.9266 - acc: 0.3149 - val_loss: 1.9119 - val_acc: 0.3122\n",
      "Epoch 77/300\n",
      "59s - loss: 1.9432 - acc: 0.3145 - val_loss: 1.9103 - val_acc: 0.3167\n",
      "Epoch 78/300\n",
      "61s - loss: 1.9247 - acc: 0.3146 - val_loss: 1.9232 - val_acc: 0.3103\n",
      "Epoch 79/300\n",
      "60s - loss: 1.9146 - acc: 0.3152 - val_loss: 1.9077 - val_acc: 0.3165\n",
      "Epoch 80/300\n",
      "59s - loss: 1.9203 - acc: 0.3149 - val_loss: 1.9604 - val_acc: 0.3170\n",
      "Epoch 81/300\n",
      "61s - loss: 1.9868 - acc: 0.3141 - val_loss: 1.9464 - val_acc: 0.3162\n",
      "Epoch 82/300\n",
      "61s - loss: 1.9404 - acc: 0.3142 - val_loss: 1.9298 - val_acc: 0.3104\n",
      "Epoch 83/300\n",
      "59s - loss: 1.9108 - acc: 0.3143 - val_loss: 1.9040 - val_acc: 0.3148\n",
      "Epoch 84/300\n",
      "59s - loss: 1.9150 - acc: 0.3145 - val_loss: 1.9351 - val_acc: 0.3130\n",
      "Epoch 85/300\n",
      "61s - loss: 1.9158 - acc: 0.3148 - val_loss: 1.9183 - val_acc: 0.3073\n",
      "Epoch 86/300\n",
      "60s - loss: 1.9290 - acc: 0.3148 - val_loss: 1.9257 - val_acc: 0.3135\n",
      "Epoch 87/300\n",
      "60s - loss: 1.9280 - acc: 0.3150 - val_loss: 1.9471 - val_acc: 0.3141\n",
      "Epoch 88/300\n",
      "61s - loss: 1.9311 - acc: 0.3148 - val_loss: 1.9328 - val_acc: 0.3156\n",
      "Epoch 89/300\n",
      "61s - loss: 1.9320 - acc: 0.3150 - val_loss: 1.9094 - val_acc: 0.3178\n",
      "Epoch 90/300\n",
      "58s - loss: 1.9392 - acc: 0.3147 - val_loss: 1.9359 - val_acc: 0.3121\n",
      "Epoch 91/300\n",
      "58s - loss: 1.9620 - acc: 0.3146 - val_loss: 1.9473 - val_acc: 0.3142\n",
      "Epoch 92/300\n",
      "61s - loss: 1.9605 - acc: 0.3142 - val_loss: 1.9319 - val_acc: 0.3162\n",
      "Epoch 93/300\n",
      "60s - loss: 1.9644 - acc: 0.3143 - val_loss: 1.9682 - val_acc: 0.3116\n",
      "Epoch 94/300\n",
      "59s - loss: 1.9408 - acc: 0.3144 - val_loss: 1.9523 - val_acc: 0.3158\n",
      "Epoch 95/300\n",
      "60s - loss: 1.9275 - acc: 0.3141 - val_loss: 1.9505 - val_acc: 0.3125\n",
      "Epoch 96/300\n",
      "59s - loss: 1.9169 - acc: 0.3140 - val_loss: 1.9273 - val_acc: 0.3121\n",
      "Epoch 97/300\n",
      "58s - loss: 1.9135 - acc: 0.3142 - val_loss: 1.9240 - val_acc: 0.3135\n",
      "Epoch 98/300\n",
      "61s - loss: 1.9175 - acc: 0.3143 - val_loss: 1.9792 - val_acc: 0.3071\n",
      "Epoch 99/300\n"
     ]
    },
    {
     "name": "stdout",
     "output_type": "stream",
     "text": [
      "60s - loss: 1.9249 - acc: 0.3142 - val_loss: 1.9481 - val_acc: 0.3101\n",
      "Epoch 100/300\n",
      "59s - loss: 1.9216 - acc: 0.3136 - val_loss: 1.9642 - val_acc: 0.3000\n",
      "Epoch 101/300\n",
      "61s - loss: 1.9447 - acc: 0.3137 - val_loss: 1.9239 - val_acc: 0.3128\n",
      "Epoch 102/300\n",
      "60s - loss: 1.9167 - acc: 0.3140 - val_loss: 1.9889 - val_acc: 0.3017\n",
      "Epoch 103/300\n",
      "59s - loss: 1.9171 - acc: 0.3142 - val_loss: 1.9140 - val_acc: 0.3137\n",
      "Epoch 104/300\n",
      "60s - loss: 1.9182 - acc: 0.3141 - val_loss: 1.9168 - val_acc: 0.3132\n",
      "Epoch 105/300\n",
      "61s - loss: 1.9338 - acc: 0.3137 - val_loss: 1.9675 - val_acc: 0.3147\n",
      "Epoch 106/300\n",
      "64s - loss: 1.9161 - acc: 0.3142 - val_loss: 1.9543 - val_acc: 0.3073\n",
      "Epoch 107/300\n",
      "59s - loss: 1.9187 - acc: 0.3145 - val_loss: 1.9173 - val_acc: 0.3168\n",
      "Epoch 108/300\n",
      "59s - loss: 1.9256 - acc: 0.3137 - val_loss: 2.0830 - val_acc: 0.3160\n",
      "Epoch 109/300\n",
      "58s - loss: 1.9373 - acc: 0.3146 - val_loss: 1.9584 - val_acc: 0.3168\n",
      "Epoch 110/300\n",
      "60s - loss: 1.9337 - acc: 0.3141 - val_loss: 1.9373 - val_acc: 0.3170\n",
      "Epoch 111/300\n",
      "59s - loss: 1.9480 - acc: 0.3134 - val_loss: 1.9393 - val_acc: 0.3151\n",
      "Epoch 112/300\n",
      "60s - loss: 1.9460 - acc: 0.3130 - val_loss: 1.9859 - val_acc: 0.3076\n",
      "Epoch 113/300\n",
      "61s - loss: 1.9370 - acc: 0.3139 - val_loss: 1.9559 - val_acc: 0.3009\n",
      "Epoch 114/300\n",
      "60s - loss: 1.9411 - acc: 0.3141 - val_loss: 2.0426 - val_acc: 0.3086\n",
      "Epoch 115/300\n",
      "60s - loss: 1.9578 - acc: 0.3138 - val_loss: 1.9505 - val_acc: 0.3118\n",
      "Epoch 116/300\n",
      "59s - loss: 1.9272 - acc: 0.3135 - val_loss: 1.9419 - val_acc: 0.3049\n",
      "Epoch 117/300\n",
      "60s - loss: 1.9328 - acc: 0.3128 - val_loss: 1.9348 - val_acc: 0.3110\n",
      "Epoch 118/300\n",
      "59s - loss: 1.9273 - acc: 0.3128 - val_loss: 1.9230 - val_acc: 0.3159\n",
      "Epoch 119/300\n",
      "61s - loss: 1.9215 - acc: 0.3132 - val_loss: 1.9437 - val_acc: 0.3113\n",
      "Epoch 120/300\n",
      "59s - loss: 1.9302 - acc: 0.3134 - val_loss: 1.9329 - val_acc: 0.3106\n",
      "Epoch 121/300\n",
      "58s - loss: 1.9460 - acc: 0.3131 - val_loss: 1.9512 - val_acc: 0.3038\n",
      "Epoch 122/300\n",
      "59s - loss: 1.9322 - acc: 0.3130 - val_loss: 1.9390 - val_acc: 0.3106\n",
      "Epoch 123/300\n",
      "57s - loss: 1.9279 - acc: 0.3130 - val_loss: 1.9261 - val_acc: 0.3166\n",
      "Epoch 124/300\n",
      "61s - loss: 1.9320 - acc: 0.3128 - val_loss: 1.9365 - val_acc: 0.3151\n",
      "Epoch 125/300\n",
      "60s - loss: 1.9349 - acc: 0.3122 - val_loss: 1.9326 - val_acc: 0.3016\n",
      "Epoch 126/300\n",
      "60s - loss: 1.9321 - acc: 0.3121 - val_loss: 1.9334 - val_acc: 0.3051\n",
      "Epoch 127/300\n",
      "59s - loss: 1.9397 - acc: 0.3120 - val_loss: 1.9824 - val_acc: 0.3090\n",
      "Epoch 128/300\n",
      "61s - loss: 1.9330 - acc: 0.3121 - val_loss: 2.1051 - val_acc: 0.3054\n",
      "Epoch 129/300\n",
      "60s - loss: 1.9270 - acc: 0.3120 - val_loss: 1.9538 - val_acc: 0.3061\n",
      "Epoch 130/300\n",
      "58s - loss: 1.9262 - acc: 0.3129 - val_loss: 1.9276 - val_acc: 0.3129\n",
      "Epoch 131/300\n",
      "61s - loss: 1.9279 - acc: 0.3132 - val_loss: 1.9439 - val_acc: 0.3143\n",
      "Epoch 132/300\n",
      "60s - loss: 1.9270 - acc: 0.3128 - val_loss: 1.9251 - val_acc: 0.3097\n",
      "Epoch 133/300\n",
      "58s - loss: 1.9309 - acc: 0.3131 - val_loss: 1.9243 - val_acc: 0.3107\n",
      "Epoch 134/300\n",
      "62s - loss: 1.9293 - acc: 0.3132 - val_loss: 1.9688 - val_acc: 0.3125\n",
      "Epoch 135/300\n",
      "59s - loss: 1.9227 - acc: 0.3138 - val_loss: 1.9203 - val_acc: 0.3108\n",
      "Epoch 136/300\n",
      "60s - loss: 1.9314 - acc: 0.3140 - val_loss: 1.9397 - val_acc: 0.3166\n",
      "Epoch 137/300\n",
      "59s - loss: 1.9340 - acc: 0.3141 - val_loss: 1.9199 - val_acc: 0.3162\n",
      "Epoch 138/300\n",
      "58s - loss: 1.9310 - acc: 0.3140 - val_loss: 1.9403 - val_acc: 0.3082\n",
      "Epoch 139/300\n",
      "60s - loss: 1.9227 - acc: 0.3143 - val_loss: 1.9228 - val_acc: 0.3149\n",
      "Epoch 140/300\n",
      "59s - loss: 1.9251 - acc: 0.3141 - val_loss: 1.9565 - val_acc: 0.3141\n",
      "Epoch 141/300\n",
      "62s - loss: 1.9274 - acc: 0.3139 - val_loss: 1.9462 - val_acc: 0.3079\n",
      "Epoch 142/300\n",
      "60s - loss: 1.9224 - acc: 0.3140 - val_loss: 1.9204 - val_acc: 0.3172\n",
      "Epoch 143/300\n",
      "60s - loss: 1.9272 - acc: 0.3138 - val_loss: 1.9594 - val_acc: 0.3066\n",
      "Epoch 144/300\n",
      "61s - loss: 1.9400 - acc: 0.3133 - val_loss: 1.9311 - val_acc: 0.3058\n",
      "Epoch 145/300\n",
      "62s - loss: 1.9437 - acc: 0.3134 - val_loss: 1.9477 - val_acc: 0.3160\n",
      "Epoch 146/300\n",
      "59s - loss: 1.9449 - acc: 0.3134 - val_loss: 1.9456 - val_acc: 0.3140\n",
      "Epoch 147/300\n",
      "60s - loss: 1.9560 - acc: 0.3141 - val_loss: 1.9498 - val_acc: 0.3087\n",
      "Epoch 148/300\n",
      "58s - loss: 1.9499 - acc: 0.3135 - val_loss: 1.9417 - val_acc: 0.3099\n",
      "Epoch 149/300\n",
      "56s - loss: 1.9413 - acc: 0.3143 - val_loss: 1.9343 - val_acc: 0.3099\n",
      "Epoch 150/300\n",
      "57s - loss: 1.9446 - acc: 0.3140 - val_loss: 1.9466 - val_acc: 0.3111\n",
      "Epoch 151/300\n",
      "56s - loss: 1.9375 - acc: 0.3143 - val_loss: 1.9530 - val_acc: 0.3126\n",
      "Epoch 152/300\n",
      "57s - loss: 1.9352 - acc: 0.3141 - val_loss: 1.9331 - val_acc: 0.3145\n",
      "Epoch 153/300\n",
      "57s - loss: 1.9287 - acc: 0.3142 - val_loss: 1.9326 - val_acc: 0.3131\n",
      "Epoch 154/300\n",
      "58s - loss: 1.9259 - acc: 0.3142 - val_loss: 1.9276 - val_acc: 0.3056\n",
      "Epoch 155/300\n",
      "58s - loss: 1.9393 - acc: 0.3139 - val_loss: 2.0022 - val_acc: 0.3106\n",
      "Epoch 156/300\n",
      "58s - loss: 1.9371 - acc: 0.3143 - val_loss: 1.9254 - val_acc: 0.3160\n",
      "Epoch 157/300\n",
      "58s - loss: 1.9425 - acc: 0.3138 - val_loss: 1.9103 - val_acc: 0.3172\n",
      "Epoch 158/300\n",
      "58s - loss: 1.9277 - acc: 0.3141 - val_loss: 1.9210 - val_acc: 0.3117\n",
      "Epoch 159/300\n",
      "59s - loss: 1.9360 - acc: 0.3138 - val_loss: 1.9323 - val_acc: 0.3118\n",
      "Epoch 160/300\n",
      "61s - loss: 1.9316 - acc: 0.3146 - val_loss: 1.9394 - val_acc: 0.3061\n",
      "Epoch 161/300\n",
      "60s - loss: 1.9353 - acc: 0.3141 - val_loss: 1.9513 - val_acc: 0.3136\n",
      "Epoch 162/300\n",
      "61s - loss: 1.9322 - acc: 0.3143 - val_loss: 1.9420 - val_acc: 0.3044\n",
      "Epoch 163/300\n",
      "59s - loss: 1.9421 - acc: 0.3145 - val_loss: 2.0310 - val_acc: 0.3143\n",
      "Epoch 164/300\n",
      "62s - loss: 1.9401 - acc: 0.3142 - val_loss: 1.9197 - val_acc: 0.3163\n",
      "Epoch 165/300\n",
      "59s - loss: 1.9513 - acc: 0.3142 - val_loss: 1.9489 - val_acc: 0.3150\n",
      "Epoch 166/300\n",
      "61s - loss: 1.9490 - acc: 0.3141 - val_loss: 1.9397 - val_acc: 0.3187\n",
      "Epoch 167/300\n",
      "60s - loss: 1.9599 - acc: 0.3145 - val_loss: 1.9356 - val_acc: 0.3120\n",
      "Epoch 168/300\n",
      "61s - loss: 1.9566 - acc: 0.3146 - val_loss: 2.0308 - val_acc: 0.3097\n",
      "Epoch 169/300\n",
      "59s - loss: 1.9699 - acc: 0.3133 - val_loss: 1.9259 - val_acc: 0.3166\n",
      "Epoch 170/300\n",
      "58s - loss: 1.9697 - acc: 0.3123 - val_loss: 1.9550 - val_acc: 0.3090\n",
      "Epoch 171/300\n",
      "60s - loss: 1.9688 - acc: 0.3125 - val_loss: 1.9649 - val_acc: 0.3044\n",
      "Epoch 172/300\n",
      "60s - loss: 1.9597 - acc: 0.3135 - val_loss: 1.9410 - val_acc: 0.3109\n",
      "Epoch 173/300\n",
      "60s - loss: 1.9859 - acc: 0.3124 - val_loss: 1.9689 - val_acc: 0.3127\n",
      "Epoch 174/300\n",
      "59s - loss: 1.9634 - acc: 0.3133 - val_loss: 2.6817 - val_acc: 0.2946\n",
      "Epoch 175/300\n",
      "62s - loss: 1.9885 - acc: 0.3125 - val_loss: 1.9430 - val_acc: 0.3155\n",
      "Epoch 176/300\n",
      "61s - loss: 1.9664 - acc: 0.3131 - val_loss: 1.9411 - val_acc: 0.3164\n",
      "Epoch 177/300\n",
      "61s - loss: 1.9579 - acc: 0.3131 - val_loss: 1.9498 - val_acc: 0.3161\n",
      "Epoch 178/300\n",
      "59s - loss: 1.9598 - acc: 0.3136 - val_loss: 1.9455 - val_acc: 0.3158\n",
      "Epoch 179/300\n",
      "56s - loss: 1.9627 - acc: 0.3130 - val_loss: 1.9598 - val_acc: 0.3064\n",
      "Epoch 180/300\n",
      "62s - loss: 1.9509 - acc: 0.3135 - val_loss: 1.9559 - val_acc: 0.3121\n",
      "Epoch 181/300\n",
      "60s - loss: 1.9706 - acc: 0.3135 - val_loss: 1.9325 - val_acc: 0.3152\n",
      "Epoch 182/300\n",
      "60s - loss: 1.9599 - acc: 0.3138 - val_loss: 1.9155 - val_acc: 0.3175\n",
      "Epoch 183/300\n",
      "60s - loss: 1.9441 - acc: 0.3137 - val_loss: 1.9436 - val_acc: 0.3111\n",
      "Epoch 184/300\n",
      "60s - loss: 1.9495 - acc: 0.3137 - val_loss: 1.9330 - val_acc: 0.3133\n",
      "Epoch 185/300\n",
      "59s - loss: 1.9628 - acc: 0.3141 - val_loss: 1.9569 - val_acc: 0.3087\n",
      "Epoch 186/300\n",
      "57s - loss: 1.9695 - acc: 0.3132 - val_loss: 1.9864 - val_acc: 0.3144\n",
      "Epoch 187/300\n",
      "60s - loss: 1.9620 - acc: 0.3136 - val_loss: 1.9330 - val_acc: 0.3167\n",
      "Epoch 188/300\n",
      "59s - loss: 1.9541 - acc: 0.3137 - val_loss: 1.9287 - val_acc: 0.3148\n",
      "Epoch 189/300\n",
      "60s - loss: 1.9791 - acc: 0.3131 - val_loss: 1.9344 - val_acc: 0.3180\n",
      "Epoch 190/300\n",
      "58s - loss: 1.9777 - acc: 0.3135 - val_loss: 1.9499 - val_acc: 0.3166\n",
      "Epoch 191/300\n",
      "61s - loss: 1.9996 - acc: 0.3131 - val_loss: 1.9372 - val_acc: 0.3146\n",
      "Epoch 192/300\n",
      "60s - loss: 1.9512 - acc: 0.3144 - val_loss: 1.9974 - val_acc: 0.3122\n",
      "Epoch 193/300\n",
      "57s - loss: 1.9589 - acc: 0.3137 - val_loss: 1.9570 - val_acc: 0.3155\n",
      "Epoch 194/300\n",
      "58s - loss: 1.9997 - acc: 0.3136 - val_loss: 1.9562 - val_acc: 0.3143\n",
      "Epoch 195/300\n",
      "58s - loss: 1.9600 - acc: 0.3139 - val_loss: 1.9106 - val_acc: 0.3158\n",
      "Epoch 196/300\n",
      "60s - loss: 1.9840 - acc: 0.3132 - val_loss: 1.9334 - val_acc: 0.3151\n",
      "Epoch 197/300\n"
     ]
    },
    {
     "name": "stdout",
     "output_type": "stream",
     "text": [
      "61s - loss: 2.0129 - acc: 0.3123 - val_loss: 2.0359 - val_acc: 0.3073\n",
      "Epoch 198/300\n",
      "62s - loss: 1.9518 - acc: 0.3137 - val_loss: 1.9856 - val_acc: 0.3118\n",
      "Epoch 199/300\n",
      "59s - loss: 1.9765 - acc: 0.3131 - val_loss: 1.9858 - val_acc: 0.3177\n",
      "Epoch 200/300\n",
      "59s - loss: 1.9749 - acc: 0.3134 - val_loss: 2.0079 - val_acc: 0.3094\n",
      "Epoch 201/300\n",
      "60s - loss: 1.9458 - acc: 0.3140 - val_loss: 1.9603 - val_acc: 0.3109\n",
      "Epoch 202/300\n",
      "60s - loss: 1.9540 - acc: 0.3136 - val_loss: 1.9245 - val_acc: 0.3152\n",
      "Epoch 203/300\n",
      "59s - loss: 1.9531 - acc: 0.3143 - val_loss: 1.9470 - val_acc: 0.3168\n",
      "Epoch 204/300\n",
      "60s - loss: 1.9485 - acc: 0.3144 - val_loss: 1.9327 - val_acc: 0.3160\n",
      "Epoch 205/300\n",
      "58s - loss: 1.9477 - acc: 0.3139 - val_loss: 1.9426 - val_acc: 0.3134\n",
      "Epoch 206/300\n",
      "59s - loss: 1.9496 - acc: 0.3140 - val_loss: 1.9455 - val_acc: 0.3146\n",
      "Epoch 207/300\n",
      "60s - loss: 1.9358 - acc: 0.3146 - val_loss: 1.9216 - val_acc: 0.3166\n",
      "Epoch 208/300\n",
      "60s - loss: 1.9350 - acc: 0.3149 - val_loss: 1.9972 - val_acc: 0.3120\n",
      "Epoch 209/300\n",
      "60s - loss: 1.9453 - acc: 0.3144 - val_loss: 1.9629 - val_acc: 0.3074\n",
      "Epoch 210/300\n",
      "59s - loss: 1.9480 - acc: 0.3143 - val_loss: 1.9289 - val_acc: 0.3173\n",
      "Epoch 211/300\n",
      "59s - loss: 1.9377 - acc: 0.3151 - val_loss: 2.0093 - val_acc: 0.3095\n",
      "Epoch 212/300\n",
      "60s - loss: 1.9304 - acc: 0.3149 - val_loss: 1.9188 - val_acc: 0.3198\n",
      "Epoch 213/300\n",
      "62s - loss: 1.9427 - acc: 0.3148 - val_loss: 1.9963 - val_acc: 0.2999\n",
      "Epoch 214/300\n",
      "59s - loss: 1.9274 - acc: 0.3150 - val_loss: 1.9232 - val_acc: 0.3152\n",
      "Epoch 215/300\n",
      "59s - loss: 1.9294 - acc: 0.3146 - val_loss: 1.9522 - val_acc: 0.3081\n",
      "Epoch 216/300\n",
      "59s - loss: 1.9303 - acc: 0.3145 - val_loss: 1.9435 - val_acc: 0.3055\n",
      "Epoch 217/300\n",
      "60s - loss: 1.9296 - acc: 0.3147 - val_loss: 1.9369 - val_acc: 0.3121\n",
      "Epoch 218/300\n",
      "58s - loss: 1.9326 - acc: 0.3144 - val_loss: 1.9389 - val_acc: 0.3154\n",
      "Epoch 219/300\n",
      "59s - loss: 1.9389 - acc: 0.3135 - val_loss: 1.9286 - val_acc: 0.3082\n",
      "Epoch 220/300\n",
      "59s - loss: 1.9362 - acc: 0.3137 - val_loss: 1.9482 - val_acc: 0.3165\n",
      "Epoch 221/300\n",
      "60s - loss: 1.9309 - acc: 0.3136 - val_loss: 1.9231 - val_acc: 0.3151\n",
      "Epoch 222/300\n",
      "59s - loss: 1.9320 - acc: 0.3138 - val_loss: 1.9321 - val_acc: 0.3136\n",
      "Epoch 223/300\n",
      "61s - loss: 1.9379 - acc: 0.3128 - val_loss: 1.9456 - val_acc: 0.3126\n",
      "Epoch 224/300\n",
      "60s - loss: 1.9334 - acc: 0.3122 - val_loss: 1.9431 - val_acc: 0.3053\n",
      "Epoch 225/300\n",
      "61s - loss: 1.9209 - acc: 0.3121 - val_loss: 1.9231 - val_acc: 0.3163\n",
      "Epoch 226/300\n",
      "61s - loss: 1.9177 - acc: 0.3130 - val_loss: 1.9816 - val_acc: 0.3073\n",
      "Epoch 227/300\n",
      "60s - loss: 1.9197 - acc: 0.3126 - val_loss: 1.9315 - val_acc: 0.3109\n",
      "Epoch 228/300\n",
      "56s - loss: 1.9184 - acc: 0.3135 - val_loss: 1.9274 - val_acc: 0.3093\n",
      "Epoch 229/300\n",
      "60s - loss: 1.9201 - acc: 0.3134 - val_loss: 1.9317 - val_acc: 0.3018\n",
      "Epoch 230/300\n",
      "61s - loss: 1.9176 - acc: 0.3139 - val_loss: 1.9161 - val_acc: 0.3087\n",
      "Epoch 231/300\n",
      "62s - loss: 1.9187 - acc: 0.3133 - val_loss: 1.9517 - val_acc: 0.3086\n",
      "Epoch 232/300\n",
      "60s - loss: 1.9190 - acc: 0.3142 - val_loss: 1.9272 - val_acc: 0.3083\n",
      "Epoch 233/300\n",
      "60s - loss: 1.9214 - acc: 0.3137 - val_loss: 1.9597 - val_acc: 0.3139\n",
      "Epoch 234/300\n",
      "59s - loss: 1.9226 - acc: 0.3129 - val_loss: 1.9360 - val_acc: 0.3090\n",
      "Epoch 235/300\n",
      "58s - loss: 1.9211 - acc: 0.3140 - val_loss: 1.9543 - val_acc: 0.3024\n",
      "Epoch 236/300\n",
      "58s - loss: 1.9218 - acc: 0.3146 - val_loss: 1.9210 - val_acc: 0.3156\n",
      "Epoch 237/300\n",
      "58s - loss: 1.9216 - acc: 0.3147 - val_loss: 1.9210 - val_acc: 0.3143\n",
      "Epoch 238/300\n",
      "59s - loss: 1.9264 - acc: 0.3142 - val_loss: 1.9336 - val_acc: 0.3103\n",
      "Epoch 239/300\n",
      "61s - loss: 1.9263 - acc: 0.3146 - val_loss: 1.9372 - val_acc: 0.3174\n",
      "Epoch 240/300\n",
      "61s - loss: 1.9273 - acc: 0.3139 - val_loss: 1.9396 - val_acc: 0.3168\n",
      "Epoch 241/300\n",
      "60s - loss: 1.9313 - acc: 0.3141 - val_loss: 1.9379 - val_acc: 0.3158\n",
      "Epoch 242/300\n",
      "57s - loss: 1.9336 - acc: 0.3146 - val_loss: 1.9489 - val_acc: 0.3164\n",
      "Epoch 243/300\n",
      "57s - loss: 1.9393 - acc: 0.3145 - val_loss: 1.9391 - val_acc: 0.3127\n",
      "Epoch 244/300\n",
      "59s - loss: 1.9369 - acc: 0.3145 - val_loss: 1.9338 - val_acc: 0.3123\n",
      "Epoch 245/300\n",
      "61s - loss: 1.9317 - acc: 0.3143 - val_loss: 2.0029 - val_acc: 0.3044\n",
      "Epoch 246/300\n",
      "58s - loss: 1.9381 - acc: 0.3142 - val_loss: 2.0248 - val_acc: 0.3131\n",
      "Epoch 247/300\n",
      "59s - loss: 1.9334 - acc: 0.3148 - val_loss: 1.9337 - val_acc: 0.3124\n",
      "Epoch 248/300\n",
      "58s - loss: 1.9363 - acc: 0.3142 - val_loss: 1.9492 - val_acc: 0.3149\n",
      "Epoch 249/300\n",
      "61s - loss: 1.9463 - acc: 0.3144 - val_loss: 1.9540 - val_acc: 0.3137\n",
      "Epoch 250/300\n",
      "61s - loss: 1.9407 - acc: 0.3144 - val_loss: 1.9451 - val_acc: 0.3043\n",
      "Epoch 251/300\n",
      "60s - loss: 1.9323 - acc: 0.3144 - val_loss: 1.9403 - val_acc: 0.3140\n",
      "Epoch 252/300\n",
      "61s - loss: 1.9292 - acc: 0.3143 - val_loss: 1.9704 - val_acc: 0.3149\n",
      "Epoch 253/300\n",
      "58s - loss: 1.9265 - acc: 0.3150 - val_loss: 1.9314 - val_acc: 0.3107\n",
      "Epoch 254/300\n",
      "58s - loss: 1.9309 - acc: 0.3147 - val_loss: 1.9393 - val_acc: 0.3077\n",
      "Epoch 255/300\n",
      "59s - loss: 1.9287 - acc: 0.3143 - val_loss: 1.9418 - val_acc: 0.3141\n",
      "Epoch 256/300\n",
      "60s - loss: 1.9257 - acc: 0.3147 - val_loss: 1.9251 - val_acc: 0.3166\n",
      "Epoch 257/300\n",
      "60s - loss: 1.9243 - acc: 0.3147 - val_loss: 1.9445 - val_acc: 0.3111\n",
      "Epoch 258/300\n",
      "58s - loss: 1.9323 - acc: 0.3147 - val_loss: 1.9609 - val_acc: 0.3050\n",
      "Epoch 259/300\n",
      "62s - loss: 1.9437 - acc: 0.3149 - val_loss: 1.9442 - val_acc: 0.3158\n",
      "Epoch 260/300\n",
      "60s - loss: 1.9360 - acc: 0.3146 - val_loss: 1.9333 - val_acc: 0.3133\n",
      "Epoch 261/300\n",
      "61s - loss: 1.9377 - acc: 0.3152 - val_loss: 1.9674 - val_acc: 0.3140\n",
      "Epoch 262/300\n",
      "59s - loss: 1.9356 - acc: 0.3149 - val_loss: 1.9218 - val_acc: 0.3164\n",
      "Epoch 263/300\n",
      "61s - loss: 1.9473 - acc: 0.3147 - val_loss: 1.9421 - val_acc: 0.3091\n",
      "Epoch 264/300\n",
      "61s - loss: 1.9560 - acc: 0.3145 - val_loss: 1.9918 - val_acc: 0.3070\n",
      "Epoch 265/300\n",
      "59s - loss: 1.9377 - acc: 0.3148 - val_loss: 1.9861 - val_acc: 0.3069\n",
      "Epoch 266/300\n",
      "59s - loss: 1.9415 - acc: 0.3151 - val_loss: 1.9400 - val_acc: 0.3126\n",
      "Epoch 267/300\n",
      "58s - loss: 1.9339 - acc: 0.3154 - val_loss: 1.9364 - val_acc: 0.3162\n",
      "Epoch 268/300\n",
      "59s - loss: 1.9308 - acc: 0.3151 - val_loss: 1.9388 - val_acc: 0.3127\n",
      "Epoch 269/300\n",
      "60s - loss: 1.9312 - acc: 0.3152 - val_loss: 1.9486 - val_acc: 0.3084\n",
      "Epoch 270/300\n",
      "61s - loss: 1.9353 - acc: 0.3151 - val_loss: 1.9559 - val_acc: 0.3112\n",
      "Epoch 271/300\n",
      "61s - loss: 1.9253 - acc: 0.3155 - val_loss: 1.9314 - val_acc: 0.3133\n",
      "Epoch 272/300\n",
      "59s - loss: 1.9266 - acc: 0.3158 - val_loss: 1.9529 - val_acc: 0.3134\n",
      "Epoch 273/300\n",
      "61s - loss: 1.9291 - acc: 0.3159 - val_loss: 1.9197 - val_acc: 0.3123\n",
      "Epoch 274/300\n",
      "60s - loss: 1.9401 - acc: 0.3158 - val_loss: 1.9510 - val_acc: 0.3135\n",
      "Epoch 275/300\n",
      "57s - loss: 1.9392 - acc: 0.3161 - val_loss: 1.9441 - val_acc: 0.3150\n",
      "Epoch 276/300\n",
      "59s - loss: 1.9353 - acc: 0.3158 - val_loss: 1.9282 - val_acc: 0.3125\n",
      "Epoch 277/300\n",
      "61s - loss: 1.9314 - acc: 0.3157 - val_loss: 1.9539 - val_acc: 0.3105\n",
      "Epoch 278/300\n",
      "58s - loss: 1.9256 - acc: 0.3159 - val_loss: 1.9200 - val_acc: 0.3154\n",
      "Epoch 279/300\n",
      "61s - loss: 1.9233 - acc: 0.3158 - val_loss: 1.9645 - val_acc: 0.3097\n",
      "Epoch 280/300\n",
      "59s - loss: 1.9238 - acc: 0.3157 - val_loss: 1.9283 - val_acc: 0.3159\n",
      "Epoch 281/300\n",
      "62s - loss: 1.9307 - acc: 0.3159 - val_loss: 1.9375 - val_acc: 0.3149\n",
      "Epoch 282/300\n",
      "59s - loss: 1.9396 - acc: 0.3157 - val_loss: 1.9353 - val_acc: 0.3136\n",
      "Epoch 283/300\n",
      "59s - loss: 1.9361 - acc: 0.3157 - val_loss: 1.9392 - val_acc: 0.3125\n",
      "Epoch 284/300\n",
      "59s - loss: 1.9329 - acc: 0.3157 - val_loss: 1.9629 - val_acc: 0.3089\n",
      "Epoch 285/300\n",
      "61s - loss: 1.9445 - acc: 0.3154 - val_loss: 1.9511 - val_acc: 0.3138\n",
      "Epoch 286/300\n",
      "62s - loss: 1.9491 - acc: 0.3151 - val_loss: 1.9464 - val_acc: 0.3098\n",
      "Epoch 287/300\n",
      "60s - loss: 1.9332 - acc: 0.3159 - val_loss: 1.9380 - val_acc: 0.3145\n",
      "Epoch 288/300\n",
      "59s - loss: 1.9332 - acc: 0.3156 - val_loss: 1.9361 - val_acc: 0.3131\n",
      "Epoch 289/300\n",
      "60s - loss: 1.9383 - acc: 0.3155 - val_loss: 1.9269 - val_acc: 0.3103\n",
      "Epoch 290/300\n",
      "59s - loss: 1.9412 - acc: 0.3152 - val_loss: 1.9437 - val_acc: 0.3089\n",
      "Epoch 291/300\n",
      "61s - loss: 1.9524 - acc: 0.3152 - val_loss: 1.9480 - val_acc: 0.3142\n",
      "Epoch 292/300\n",
      "64s - loss: 1.9637 - acc: 0.3147 - val_loss: 1.9573 - val_acc: 0.3125\n",
      "Epoch 293/300\n",
      "59s - loss: 1.9529 - acc: 0.3150 - val_loss: 1.9673 - val_acc: 0.3146\n",
      "Epoch 294/300\n",
      "61s - loss: 1.9417 - acc: 0.3151 - val_loss: 1.9648 - val_acc: 0.3113\n",
      "Epoch 295/300\n"
     ]
    },
    {
     "name": "stdout",
     "output_type": "stream",
     "text": [
      "61s - loss: 1.9778 - acc: 0.3150 - val_loss: 1.9967 - val_acc: 0.2981\n",
      "Epoch 296/300\n",
      "60s - loss: 1.9515 - acc: 0.3153 - val_loss: 2.0047 - val_acc: 0.3075\n",
      "Epoch 297/300\n",
      "62s - loss: 1.9651 - acc: 0.3147 - val_loss: 1.9758 - val_acc: 0.3103\n",
      "Epoch 298/300\n",
      "60s - loss: 1.9630 - acc: 0.3145 - val_loss: 1.9679 - val_acc: 0.3091\n",
      "Epoch 299/300\n",
      "58s - loss: 1.9658 - acc: 0.3145 - val_loss: 1.9366 - val_acc: 0.3081\n",
      "Epoch 300/300\n",
      "60s - loss: 1.9602 - acc: 0.3140 - val_loss: 1.9492 - val_acc: 0.3060\n",
      "Training duration : 18019.46417737007\n"
     ]
    }
   ],
   "source": [
    "start_time = time.time()\n",
    "print('Training model...')\n",
    "model.fit(train_x, train_y , epochs=epochs, batch_size=batch,\n",
    "          shuffle=True,validation_split=0.1, verbose=2)\n",
    "print(\"Training duration : {0}\".format(time.time() - start_time))\n"
   ]
  },
  {
   "cell_type": "code",
   "execution_count": 90,
   "metadata": {
    "collapsed": true
   },
   "outputs": [],
   "source": [
    "train_time = time.time() - start_time"
   ]
  },
  {
   "cell_type": "markdown",
   "metadata": {},
   "source": [
    "# save model"
   ]
  },
  {
   "cell_type": "code",
   "execution_count": 91,
   "metadata": {},
   "outputs": [
    {
     "name": "stdout",
     "output_type": "stream",
     "text": [
      "Saved model to disk\n"
     ]
    }
   ],
   "source": [
    "# serialize model to JSON\n",
    "model_json = model.to_json()\n",
    "with open(\"model.json\", \"w\") as json_file:\n",
    "    json_file.write(model_json)\n",
    "# serialize weights to HDF5\n",
    "model.save_weights(\"model.h5\")\n",
    "print(\"Saved model to disk\")\n",
    " \n"
   ]
  },
  {
   "cell_type": "markdown",
   "metadata": {},
   "source": [
    "# test model and get accuracy"
   ]
  },
  {
   "cell_type": "code",
   "execution_count": 92,
   "metadata": {},
   "outputs": [
    {
     "name": "stdout",
     "output_type": "stream",
     "text": [
      "376448/376526 [============================>.] - ETA: 0s"
     ]
    }
   ],
   "source": [
    "test_batch = 32\n",
    "loss, accuracy = model.evaluate(test_x, test_y, batch_size=test_batch)"
   ]
  },
  {
   "cell_type": "code",
   "execution_count": 93,
   "metadata": {},
   "outputs": [
    {
     "name": "stdout",
     "output_type": "stream",
     "text": [
      "acc: 30.68%\n"
     ]
    }
   ],
   "source": [
    "print(\"%s: %.2f%%\" % (model.metrics_names[1], accuracy*100))\n"
   ]
  },
  {
   "cell_type": "markdown",
   "metadata": {},
   "source": [
    "# send mail to alert"
   ]
  },
  {
   "cell_type": "code",
   "execution_count": 94,
   "metadata": {
    "collapsed": true
   },
   "outputs": [],
   "source": [
    "model_config = []\n",
    "for index, layer in enumerate(model.get_config()):\n",
    "    model_config.append(\"layer - > %d===============\" % index)\n",
    "    model_config.append(\"class_name = \" + layer[\"class_name\"] )\n",
    "    if(str(layer[\"config\"].get(\"units\", \"None\")) != \"None\"):\n",
    "        model_config.append(\"units = \" + str(layer[\"config\"].get(\"units\", \"None\")))\n",
    "    if(str(layer[\"config\"].get(\"activation\", \"None\")) != \"None\"):\n",
    "        model_config.append(\"activation = \" + layer[\"config\"][\"activation\"])\n",
    "    if(str(layer[\"config\"].get(\"rate\", \"None\")) != \"None\"):\n",
    "        model_config.append(\"rate = \" + str(layer[\"config\"][\"rate\"]))\n",
    "model_info = '\\n'.join(model_config)"
   ]
  },
  {
   "cell_type": "code",
   "execution_count": 95,
   "metadata": {
    "collapsed": true
   },
   "outputs": [],
   "source": [
    "model_info += \"\\n\\ntrain epochs = \" + str(epochs)\n",
    "model_info += \"\\ntrain batch = \" + str(batch)\n",
    "model_info += \"\\ntest batch = \" + str(test_batch)\n",
    "model_info += \"\\ntrain time = \" + str(train_time)\n",
    "model_info += \"\\nloss = \" + str(loss)\n",
    "model_info += \"\\n\\n\\naccuracy = \" + str(accuracy)\n",
    "\n"
   ]
  },
  {
   "cell_type": "code",
   "execution_count": 96,
   "metadata": {},
   "outputs": [
    {
     "name": "stdout",
     "output_type": "stream",
     "text": [
      "Start Send Mail\n",
      "User Email : a - DONE \n",
      "User Email : a - DONE \n",
      "User Email : 2 - DONE \n",
      "User Email : 6 - DONE \n",
      "User Email : 3 - DONE \n",
      "User Email : 6 - DONE \n",
      "User Email : 5 - DONE \n",
      "User Email : 5 - DONE \n",
      "User Email : 6 - DONE \n",
      "User Email : 6 - DONE \n",
      "User Email : @ - DONE \n",
      "User Email : g - DONE \n",
      "User Email : m - DONE \n",
      "User Email : a - DONE \n",
      "User Email : i - DONE \n",
      "User Email : l - DONE \n",
      "User Email : . - DONE \n",
      "User Email : c - DONE \n",
      "User Email : o - DONE \n",
      "User Email : m - DONE \n",
      "Finish Send Mail\n"
     ]
    }
   ],
   "source": [
    "test=mail()\n",
    "test.main(\"model finished\", model_info)"
   ]
  },
  {
   "cell_type": "markdown",
   "metadata": {},
   "source": [
    "# write readme to report the model"
   ]
  },
  {
   "cell_type": "code",
   "execution_count": 97,
   "metadata": {},
   "outputs": [
    {
     "data": {
      "text/plain": [
       "True"
      ]
     },
     "execution_count": 97,
     "metadata": {},
     "output_type": "execute_result"
    }
   ],
   "source": [
    "md_info = model_info.replace(\"\\n\", \"<br>\")\n",
    "with open('readme.md', 'w+') as f:\n",
    "     f.write(md_info)\n",
    "f.closed"
   ]
  },
  {
   "cell_type": "code",
   "execution_count": 98,
   "metadata": {},
   "outputs": [
    {
     "name": "stdout",
     "output_type": "stream",
     "text": [
      "layer - > 0===============\n",
      "class_name = Dense\n",
      "units = 1024\n",
      "activation = linear\n",
      "layer - > 1===============\n",
      "class_name = Dense\n",
      "units = 512\n",
      "activation = linear\n",
      "layer - > 2===============\n",
      "class_name = Activation\n",
      "activation = relu\n",
      "layer - > 3===============\n",
      "class_name = Dense\n",
      "units = 256\n",
      "activation = linear\n",
      "layer - > 4===============\n",
      "class_name = Activation\n",
      "activation = relu\n",
      "layer - > 5===============\n",
      "class_name = Dense\n",
      "units = 128\n",
      "activation = linear\n",
      "layer - > 6===============\n",
      "class_name = Activation\n",
      "activation = relu\n",
      "layer - > 7===============\n",
      "class_name = Dense\n",
      "units = 64\n",
      "activation = linear\n",
      "layer - > 8===============\n",
      "class_name = Activation\n",
      "activation = relu\n",
      "layer - > 9===============\n",
      "class_name = Dense\n",
      "units = 32\n",
      "activation = linear\n",
      "layer - > 10===============\n",
      "class_name = Activation\n",
      "activation = relu\n",
      "layer - > 11===============\n",
      "class_name = Dense\n",
      "units = 11\n",
      "activation = linear\n",
      "layer - > 12===============\n",
      "class_name = Activation\n",
      "activation = softmax\n",
      "\n",
      "train epochs = 300\n",
      "train batch = 128\n",
      "test batch = 32\n",
      "train time = 18019.471714258194\n",
      "loss = 1.94470559011\n",
      "\n",
      "\n",
      "accuracy = 0.306788907008\n"
     ]
    }
   ],
   "source": [
    "print(model_info)"
   ]
  },
  {
   "cell_type": "code",
   "execution_count": 99,
   "metadata": {
    "collapsed": true
   },
   "outputs": [],
   "source": [
    "from sklearn.metrics import confusion_matrix\n",
    "import matplotlib.pyplot as plt\n",
    "import itertools"
   ]
  },
  {
   "cell_type": "code",
   "execution_count": 101,
   "metadata": {
    "collapsed": true
   },
   "outputs": [],
   "source": [
    "pred = model.predict(test_x)"
   ]
  },
  {
   "cell_type": "code",
   "execution_count": 102,
   "metadata": {},
   "outputs": [
    {
     "data": {
      "text/plain": [
       "array([[    1,     0,     0,   197,  2382,  4635,     7,     0,  3658,\n",
       "            0,     0],\n",
       "       [    1,     0,     0,   765,  5788,  7859,    19,     0,  2859,\n",
       "            0,     0],\n",
       "       [    1,     0,     0,   238,  2649,  9530,     9,     0,  2603,\n",
       "            0,     0],\n",
       "       [    0,     0,     0, 12845, 13822,  1073,    63,     0,  1162,\n",
       "            0,     0],\n",
       "       [    0,     0,     0,  4047, 36459, 39343,   307,     0,  4766,\n",
       "            0,     0],\n",
       "       [    0,     0,     1,  1428, 23119, 54326,   133,     0,  7170,\n",
       "            0,     0],\n",
       "       [    0,     0,     0,    28,  2006, 18776,    41,     0,   170,\n",
       "            0,     0],\n",
       "       [    0,     0,     0,   669,  4942,  4170,    11,     0,  1582,\n",
       "            0,     0],\n",
       "       [    3,     0,     5,  2082, 15544, 23865,    63,     0, 11842,\n",
       "            0,     0],\n",
       "       [    0,     0,     0,  1083,  6813,  5826,    15,     0,  5830,\n",
       "            0,     0],\n",
       "       [    0,     0,     0,   992, 12217, 11531,    30,     0,  3125,\n",
       "            0,     0]])"
      ]
     },
     "execution_count": 102,
     "metadata": {},
     "output_type": "execute_result"
    }
   ],
   "source": [
    "cnf_matrix = confusion_matrix(np.argmax(test_y, axis = 1), np.argmax(pred, axis = 1))\n",
    "cnf_matrix"
   ]
  },
  {
   "cell_type": "code",
   "execution_count": 103,
   "metadata": {},
   "outputs": [
    {
     "data": {
      "image/png": "[encoded data removed]",
      "text/plain": [
       "<matplotlib.figure.Figure at 0x1eb15b46ef0>"
      ]
     },
     "metadata": {},
     "output_type": "display_data"
    }
   ],
   "source": [
    "np.set_printoptions(precision=2)\n",
    "plt.figure(figsize=(6, 6), dpi = 120)\n",
    "plot_confusion_matrix(cnf_matrix, classes=encoder.classes_, normalize=True, title='confusion matrix')\n",
    "plt.show()"
   ]
  },
  {
   "cell_type": "code",
   "execution_count": 110,
   "metadata": {},
   "outputs": [
    {
     "name": "stdout",
     "output_type": "stream",
     "text": [
      "[[ 0.  0.  0. ...,  0.  1.  0.]\n",
      " [ 0.  0.  0. ...,  0.  0.  0.]\n",
      " [ 0.  0.  0. ...,  0.  0.  0.]\n",
      " ..., \n",
      " [ 0.  0.  0. ...,  0.  1.  0.]\n",
      " [ 0.  0.  0. ...,  0.  0.  0.]\n",
      " [ 0.  0.  0. ...,  0.  0.  0.]]\n",
      "[[ 0.  0.  0. ...,  0.  1.  0.]\n",
      " [ 0.  0.  0. ...,  0.  0.  0.]\n",
      " [ 0.  0.  0. ...,  0.  0.  0.]\n",
      " ..., \n",
      " [ 0.  0.  0. ...,  0.  1.  0.]\n",
      " [ 0.  0.  0. ...,  0.  0.  0.]\n",
      " [ 0.  0.  0. ...,  0.  0.  0.]]\n",
      "[[ 0.  0.  0. ...,  0.  1.  0.]\n",
      " [ 0.  0.  0. ...,  0.  0.  0.]\n",
      " [ 0.  0.  0. ...,  0.  0.  0.]\n",
      " ..., \n",
      " [ 0.  0.  0. ...,  0.  1.  0.]\n",
      " [ 0.  0.  0. ...,  0.  0.  0.]\n",
      " [ 0.  0.  0. ...,  0.  0.  0.]]\n",
      "[[ 0.  0.  0. ...,  0.  1.  0.]\n",
      " [ 0.  0.  0. ...,  0.  0.  0.]\n",
      " [ 0.  0.  0. ...,  0.  0.  0.]\n",
      " ..., \n",
      " [ 0.  0.  0. ...,  0.  1.  0.]\n",
      " [ 0.  0.  0. ...,  0.  0.  0.]\n",
      " [ 0.  0.  0. ...,  0.  0.  0.]]\n",
      "[[ 0.  0.  0. ...,  0.  1.  0.]\n",
      " [ 0.  0.  0. ...,  0.  0.  0.]\n",
      " [ 0.  0.  0. ...,  0.  0.  0.]\n",
      " ..., \n",
      " [ 0.  0.  0. ...,  0.  1.  0.]\n",
      " [ 0.  0.  0. ...,  0.  0.  0.]\n",
      " [ 0.  0.  0. ...,  0.  0.  0.]]\n",
      "[[ 0.  0.  0. ...,  0.  1.  0.]\n",
      " [ 0.  0.  0. ...,  0.  0.  0.]\n",
      " [ 0.  0.  0. ...,  0.  0.  0.]\n",
      " ..., \n",
      " [ 0.  0.  0. ...,  0.  1.  0.]\n",
      " [ 0.  0.  0. ...,  0.  0.  0.]\n",
      " [ 0.  0.  0. ...,  0.  0.  0.]]\n",
      "[[ 0.  0.  0. ...,  0.  1.  0.]\n",
      " [ 0.  0.  0. ...,  0.  0.  0.]\n",
      " [ 0.  0.  0. ...,  0.  0.  0.]\n",
      " ..., \n",
      " [ 0.  0.  0. ...,  0.  1.  0.]\n",
      " [ 0.  0.  0. ...,  0.  0.  0.]\n",
      " [ 0.  0.  0. ...,  0.  0.  0.]]\n",
      "[[ 0.  0.  0. ...,  0.  1.  0.]\n",
      " [ 0.  0.  0. ...,  0.  0.  0.]\n",
      " [ 0.  0.  0. ...,  0.  0.  0.]\n",
      " ..., \n",
      " [ 0.  0.  0. ...,  0.  1.  0.]\n",
      " [ 0.  0.  0. ...,  0.  0.  0.]\n",
      " [ 0.  0.  0. ...,  0.  0.  0.]]\n",
      "[[ 0.  0.  0. ...,  0.  1.  0.]\n",
      " [ 0.  0.  0. ...,  0.  0.  0.]\n",
      " [ 0.  0.  0. ...,  0.  0.  0.]\n",
      " ..., \n",
      " [ 0.  0.  0. ...,  0.  1.  0.]\n",
      " [ 0.  0.  0. ...,  0.  0.  0.]\n",
      " [ 0.  0.  0. ...,  0.  0.  0.]]\n",
      "[[ 0.  0.  0. ...,  0.  1.  0.]\n",
      " [ 0.  0.  0. ...,  0.  0.  0.]\n",
      " [ 0.  0.  0. ...,  0.  0.  0.]\n",
      " ..., \n",
      " [ 0.  0.  0. ...,  0.  1.  0.]\n",
      " [ 0.  0.  0. ...,  0.  0.  0.]\n",
      " [ 0.  0.  0. ...,  0.  0.  0.]]\n"
     ]
    }
   ],
   "source": [
    "# for i in range(10):\n",
    "#     probabilities = model.predict(test_x[i:i+1,:], batch_size=32, verbose=0)\n",
    "#     probabilities = model.predict(test_x[i:i+1,:])\n",
    "#     probabilities = model.predict(test_x)\n",
    "#     probabilities[probabilities>=0.5] = 1\n",
    "#     probabilities[probabilities<0.5] = 0\n",
    "#     print(probabilities)"
   ]
  }
 ],
 "metadata": {
  "kernelspec": {
   "display_name": "Python 3",
   "language": "python",
   "name": "python3"
  },
  "language_info": {
   "codemirror_mode": {
    "name": "ipython",
    "version": 3
   },
   "file_extension": ".py",
   "mimetype": "text/x-python",
   "name": "python",
   "nbconvert_exporter": "python",
   "pygments_lexer": "ipython3",
   "version": "3.5.3"
  }
 },
 "nbformat": 4,
 "nbformat_minor": 2
}
