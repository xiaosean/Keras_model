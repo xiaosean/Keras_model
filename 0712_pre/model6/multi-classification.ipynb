{
 "cells": [
  {
   "cell_type": "code",
   "execution_count": 166,
   "metadata": {},
   "outputs": [],
   "source": [
    "import time\n",
    "import numpy as np\n",
    "import pandas as pd\n",
    "from keras.utils import np_utils\n",
    "import keras.callbacks as cb\n",
    "from keras.models import Sequential\n",
    "from keras.layers.core import Dense, Dropout, Activation\n",
    "from keras.optimizers import RMSprop\n",
    "import feather \n",
    "from mailerWithUtf8 import mail\n",
    "from sklearn.preprocessing import LabelEncoder\n",
    "from keras.models import model_from_json\n",
    "from keras.optimizers import SGD, Adam"
   ]
  },
  {
   "cell_type": "code",
   "execution_count": 136,
   "metadata": {
    "collapsed": true
   },
   "outputs": [],
   "source": [
    "def plot_confusion_matrix(cm, classes,\n",
    "                          normalize=False,\n",
    "                          title='Confusion matrix',\n",
    "                          cmap=plt.cm.Blues):\n",
    "    \"\"\"\n",
    "    This function prints and plots the confusion matrix.\n",
    "    Normalization can be applied by setting `normalize=True`.\n",
    "    \"\"\"\n",
    "    plt.imshow(cm, interpolation='nearest', cmap=cmap)\n",
    "    plt.title(title)\n",
    "    plt.colorbar()\n",
    "    tick_marks = np.arange(len(classes))\n",
    "    plt.xticks(tick_marks, classes, rotation=45)\n",
    "    plt.yticks(tick_marks, classes)\n",
    "\n",
    "    if normalize:\n",
    "        cm = cm.astype('float') / cm.sum(axis=1)[:, np.newaxis]\n",
    "#         print(\"Normalized confusion matrix\")\n",
    "#     else:\n",
    "#         print('Confusion matrix, without normalization')\n",
    "\n",
    "#     print(cm)\n",
    "\n",
    "    thresh = cm.max() / 2.\n",
    "    for i, j in itertools.product(range(cm.shape[0]), range(cm.shape[1])):\n",
    "        plt.text(j, i, \"\",\n",
    "                 horizontalalignment=\"center\",\n",
    "                 color=\"white\" if cm[i, j] > thresh else \"black\")\n",
    "\n",
    "    plt.tight_layout()\n",
    "    plt.ylabel('True label')\n",
    "    plt.xlabel('Predicted label')"
   ]
  },
  {
   "cell_type": "markdown",
   "metadata": {},
   "source": [
    "# preprocess load data"
   ]
  },
  {
   "cell_type": "code",
   "execution_count": 137,
   "metadata": {},
   "outputs": [
    {
     "name": "stdout",
     "output_type": "stream",
     "text": [
      "load feather %s seconds 1.522301435470581\n"
     ]
    }
   ],
   "source": [
    "start_time = time.time()\n",
    "path = 'C:/Users/VIPLAB/Desktop/preprocess_py/marketing_analyze/0710_marketing_train.feather' \n",
    "# path = 'C:/Users/VIPLAB/Desktop/preprocess_py/marketing_analyze/0710_marketing_train_sample.feather' \n",
    "train_df = feather.read_dataframe(path)\n",
    "print('load feather %s seconds', format(time.time() - start_time))\n"
   ]
  },
  {
   "cell_type": "code",
   "execution_count": 138,
   "metadata": {},
   "outputs": [
    {
     "name": "stdout",
     "output_type": "stream",
     "text": [
      "load feather %s seconds 0.3715088367462158\n"
     ]
    }
   ],
   "source": [
    "start_time = time.time()\n",
    "path = 'C:/Users/VIPLAB/Desktop/preprocess_py/marketing_analyze/0710_marketing_test.feather'\n",
    "# path = 'C:/Users/VIPLAB/Desktop/preprocess_py/marketing_analyze/0710_marketing_test_sample.feather' \n",
    "\n",
    "test_df = feather.read_dataframe(path)\n",
    "print('load feather %s seconds', format(time.time() - start_time))"
   ]
  },
  {
   "cell_type": "code",
   "execution_count": 139,
   "metadata": {
    "collapsed": true
   },
   "outputs": [],
   "source": [
    "train_x, train_y = train_df.iloc[:, 0:-1].values, train_df.iloc[:, -1].values"
   ]
  },
  {
   "cell_type": "code",
   "execution_count": 140,
   "metadata": {
    "collapsed": true
   },
   "outputs": [],
   "source": [
    "test_x, test_y = test_df.iloc[:, 0:-1].values, test_df.iloc[:, -1].values"
   ]
  },
  {
   "cell_type": "code",
   "execution_count": 141,
   "metadata": {
    "collapsed": true
   },
   "outputs": [],
   "source": [
    "train_x = train_x.reshape(train_x.shape[0], -1)   # normalize\n",
    "test_x = test_x.reshape(test_x.shape[0], -1)   # normalize\n",
    "\n"
   ]
  },
  {
   "cell_type": "code",
   "execution_count": 142,
   "metadata": {
    "collapsed": true
   },
   "outputs": [],
   "source": [
    "# from sklearn.preprocessing import LabelBinarizer\n",
    "# encoder = LabelBinarizer()\n",
    "# y_train = encoder.fit_transform(y_train)\n",
    "# y_test = encoder.fit_transform(y_test)"
   ]
  },
  {
   "cell_type": "code",
   "execution_count": 143,
   "metadata": {
    "collapsed": true
   },
   "outputs": [],
   "source": [
    "# encode class values as integers\n",
    "encoder = LabelEncoder()\n",
    "encoder.fit(train_y)\n",
    "encoded_Y = encoder.transform(train_y)\n",
    "# convert integers to dummy variables (i.e. one hot encoded)\n",
    "train_y = np_utils.to_categorical(encoded_Y)\n",
    "\n",
    "encoded_Y = encoder.transform(test_y)\n",
    "# convert integers to dummy variables (i.e. one hot encoded)\n",
    "test_y = np_utils.to_categorical(encoded_Y)"
   ]
  },
  {
   "cell_type": "code",
   "execution_count": 144,
   "metadata": {},
   "outputs": [
    {
     "data": {
      "text/plain": [
       "array(['Adult', 'Game', 'HomeLife', 'Infrequent Internet User',\n",
       "       'InstantMessage-High', 'InstantMessage-Low', 'Map', 'News',\n",
       "       'No significant preference', 'Portal', 'Social-media'], dtype=object)"
      ]
     },
     "execution_count": 144,
     "metadata": {},
     "output_type": "execute_result"
    }
   ],
   "source": [
    "# get y unique name\n",
    "encoder.classes_"
   ]
  },
  {
   "cell_type": "code",
   "execution_count": 145,
   "metadata": {},
   "outputs": [
    {
     "data": {
      "text/plain": [
       "1506103"
      ]
     },
     "execution_count": 145,
     "metadata": {},
     "output_type": "execute_result"
    }
   ],
   "source": [
    "len(train_y)"
   ]
  },
  {
   "cell_type": "code",
   "execution_count": 146,
   "metadata": {},
   "outputs": [
    {
     "data": {
      "text/plain": [
       "376526"
      ]
     },
     "execution_count": 146,
     "metadata": {},
     "output_type": "execute_result"
    }
   ],
   "source": [
    "len(test_y)"
   ]
  },
  {
   "cell_type": "markdown",
   "metadata": {},
   "source": [
    "# construct and compile model"
   ]
  },
  {
   "cell_type": "code",
   "execution_count": 147,
   "metadata": {
    "collapsed": true
   },
   "outputs": [],
   "source": [
    "classify_num = 11\n",
    "epochs = 300\n",
    "batch = 128"
   ]
  },
  {
   "cell_type": "markdown",
   "metadata": {},
   "source": [
    "# basic config"
   ]
  },
  {
   "cell_type": "code",
   "execution_count": 150,
   "metadata": {},
   "outputs": [
    {
     "name": "stdout",
     "output_type": "stream",
     "text": [
      "Compiling Model ... \n",
      "Model compield in 0.12836360931396484 seconds\n"
     ]
    }
   ],
   "source": [
    "start_time = time.time()\n",
    "print ('Compiling Model ... ')\n",
    "model = Sequential()\n",
    "model.add(Dense(1024, input_shape=train_x[0].shape ))\n",
    "# model.add(Activation('relu'))\n",
    "# model.add(Dropout(0.2))\n",
    "model.add(Dense(512))\n",
    "model.add(Activation('relu'))\n",
    "model.add(Dense(256))\n",
    "model.add(Activation('relu'))\n",
    "model.add(Dense(128))\n",
    "model.add(Activation('relu'))\n",
    "# model.add(Dropout(0.2))\n",
    "model.add(Dense(64))\n",
    "model.add(Activation('relu'))\n",
    "model.add(Dense(32))\n",
    "model.add(Activation('relu'))\n",
    "model.add(Dense(classify_num))\n",
    "model.add(Activation('softmax'))\n",
    "\n",
    "# rms = RMSprop()\n",
    "sgd = SGD(lr=0.01, decay=1e-6, momentum=0.9, nesterov=True)\n",
    "model.compile(loss='categorical_crossentropy', optimizer=Adam(), metrics=['accuracy'])\n",
    "\n",
    "# model.compile(loss='categorical_crossentropy', optimizer=sgd, metrics=['accuracy'])\n",
    "\n",
    "# model.compile(loss='categorical_crossentropy', optimizer=rms, metrics=['accuracy'])\n",
    "\n",
    "\n",
    "print('Model compield in {0} seconds'.format(time.time() - start_time))\n"
   ]
  },
  {
   "cell_type": "markdown",
   "metadata": {},
   "source": [
    "# Train model"
   ]
  },
  {
   "cell_type": "code",
   "execution_count": 151,
   "metadata": {
    "scrolled": true
   },
   "outputs": [
    {
     "name": "stdout",
     "output_type": "stream",
     "text": [
      "Training model...\n",
      "Train on 1355492 samples, validate on 150611 samples\n",
      "Epoch 1/300\n",
      "64s - loss: 1.9472 - acc: 0.2991 - val_loss: 1.9106 - val_acc: 0.3110\n",
      "Epoch 2/300\n",
      "66s - loss: 1.9029 - acc: 0.3097 - val_loss: 1.9087 - val_acc: 0.3029\n",
      "Epoch 3/300\n",
      "67s - loss: 1.8933 - acc: 0.3123 - val_loss: 1.8879 - val_acc: 0.3155\n",
      "Epoch 4/300\n",
      "66s - loss: 1.8867 - acc: 0.3144 - val_loss: 1.8857 - val_acc: 0.3155\n",
      "Epoch 5/300\n",
      "66s - loss: 1.8824 - acc: 0.3156 - val_loss: 1.8836 - val_acc: 0.3160\n",
      "Epoch 6/300\n",
      "65s - loss: 1.8775 - acc: 0.3161 - val_loss: 1.8892 - val_acc: 0.3119\n",
      "Epoch 7/300\n",
      "64s - loss: 1.8728 - acc: 0.3175 - val_loss: 1.8701 - val_acc: 0.3172\n",
      "Epoch 8/300\n",
      "65s - loss: 1.8696 - acc: 0.3183 - val_loss: 1.8710 - val_acc: 0.3183\n",
      "Epoch 9/300\n",
      "65s - loss: 1.8690 - acc: 0.3191 - val_loss: 1.8757 - val_acc: 0.3185\n",
      "Epoch 10/300\n",
      "63s - loss: 1.8660 - acc: 0.3193 - val_loss: 1.8653 - val_acc: 0.3211\n",
      "Epoch 11/300\n",
      "66s - loss: 1.8641 - acc: 0.3198 - val_loss: 1.8641 - val_acc: 0.3220\n",
      "Epoch 12/300\n",
      "66s - loss: 1.8628 - acc: 0.3203 - val_loss: 1.8623 - val_acc: 0.3219\n",
      "Epoch 13/300\n",
      "63s - loss: 1.8617 - acc: 0.3206 - val_loss: 1.8683 - val_acc: 0.3175\n",
      "Epoch 14/300\n",
      "65s - loss: 1.8603 - acc: 0.3210 - val_loss: 1.8610 - val_acc: 0.3227\n",
      "Epoch 15/300\n",
      "64s - loss: 1.8593 - acc: 0.3214 - val_loss: 1.8625 - val_acc: 0.3225\n",
      "Epoch 16/300\n",
      "64s - loss: 1.8586 - acc: 0.3215 - val_loss: 1.8681 - val_acc: 0.3216\n",
      "Epoch 17/300\n",
      "65s - loss: 1.8579 - acc: 0.3218 - val_loss: 1.8596 - val_acc: 0.3218\n",
      "Epoch 18/300\n",
      "66s - loss: 1.8571 - acc: 0.3219 - val_loss: 1.8651 - val_acc: 0.3215\n",
      "Epoch 19/300\n",
      "65s - loss: 1.8563 - acc: 0.3223 - val_loss: 1.8692 - val_acc: 0.3219\n",
      "Epoch 20/300\n",
      "65s - loss: 1.8552 - acc: 0.3227 - val_loss: 1.8833 - val_acc: 0.3197\n",
      "Epoch 21/300\n",
      "68s - loss: 1.8548 - acc: 0.3229 - val_loss: 1.8618 - val_acc: 0.3200\n",
      "Epoch 22/300\n",
      "65s - loss: 1.8552 - acc: 0.3228 - val_loss: 1.8643 - val_acc: 0.3211\n",
      "Epoch 23/300\n",
      "65s - loss: 1.8533 - acc: 0.3229 - val_loss: 1.8623 - val_acc: 0.3243\n",
      "Epoch 24/300\n",
      "66s - loss: 1.8535 - acc: 0.3232 - val_loss: 1.8622 - val_acc: 0.3225\n",
      "Epoch 25/300\n",
      "66s - loss: 1.8522 - acc: 0.3236 - val_loss: 1.8578 - val_acc: 0.3237\n",
      "Epoch 26/300\n",
      "65s - loss: 1.8518 - acc: 0.3237 - val_loss: 1.8562 - val_acc: 0.3229\n",
      "Epoch 27/300\n",
      "65s - loss: 1.8509 - acc: 0.3238 - val_loss: 1.8651 - val_acc: 0.3187\n",
      "Epoch 28/300\n",
      "67s - loss: 1.8506 - acc: 0.3240 - val_loss: 1.8677 - val_acc: 0.3224\n",
      "Epoch 29/300\n",
      "63s - loss: 1.8507 - acc: 0.3240 - val_loss: 1.8593 - val_acc: 0.3238\n",
      "Epoch 30/300\n",
      "67s - loss: 1.8499 - acc: 0.3241 - val_loss: 1.8556 - val_acc: 0.3229\n",
      "Epoch 31/300\n",
      "66s - loss: 1.8495 - acc: 0.3248 - val_loss: 1.8709 - val_acc: 0.3212\n",
      "Epoch 32/300\n",
      "66s - loss: 1.8493 - acc: 0.3241 - val_loss: 1.8582 - val_acc: 0.3232\n",
      "Epoch 33/300\n",
      "64s - loss: 1.8488 - acc: 0.3246 - val_loss: 1.8601 - val_acc: 0.3220\n",
      "Epoch 34/300\n",
      "66s - loss: 1.8482 - acc: 0.3249 - val_loss: 1.8572 - val_acc: 0.3230\n",
      "Epoch 35/300\n",
      "67s - loss: 1.8479 - acc: 0.3250 - val_loss: 1.8629 - val_acc: 0.3207\n",
      "Epoch 36/300\n",
      "67s - loss: 1.8477 - acc: 0.3247 - val_loss: 1.8592 - val_acc: 0.3231\n",
      "Epoch 37/300\n",
      "65s - loss: 1.8475 - acc: 0.3254 - val_loss: 1.8596 - val_acc: 0.3223\n",
      "Epoch 38/300\n",
      "64s - loss: 1.8467 - acc: 0.3253 - val_loss: 1.8626 - val_acc: 0.3230\n",
      "Epoch 39/300\n",
      "65s - loss: 1.8469 - acc: 0.3257 - val_loss: 1.8591 - val_acc: 0.3247\n",
      "Epoch 40/300\n",
      "65s - loss: 1.8457 - acc: 0.3257 - val_loss: 1.8579 - val_acc: 0.3231\n",
      "Epoch 41/300\n",
      "65s - loss: 1.8458 - acc: 0.3257 - val_loss: 1.8570 - val_acc: 0.3234\n",
      "Epoch 42/300\n",
      "66s - loss: 1.8454 - acc: 0.3260 - val_loss: 1.8601 - val_acc: 0.3237\n",
      "Epoch 43/300\n",
      "64s - loss: 1.8460 - acc: 0.3254 - val_loss: 1.8581 - val_acc: 0.3249\n",
      "Epoch 44/300\n",
      "65s - loss: 1.8490 - acc: 0.3253 - val_loss: 1.8613 - val_acc: 0.3220\n",
      "Epoch 45/300\n",
      "63s - loss: 1.8445 - acc: 0.3261 - val_loss: 1.8564 - val_acc: 0.3249\n",
      "Epoch 46/300\n",
      "65s - loss: 1.8444 - acc: 0.3261 - val_loss: 1.8623 - val_acc: 0.3218\n",
      "Epoch 47/300\n",
      "64s - loss: 1.8445 - acc: 0.3264 - val_loss: 1.8564 - val_acc: 0.3240\n",
      "Epoch 48/300\n",
      "64s - loss: 1.8436 - acc: 0.3263 - val_loss: 1.8632 - val_acc: 0.3199\n",
      "Epoch 49/300\n",
      "64s - loss: 1.8436 - acc: 0.3264 - val_loss: 1.8699 - val_acc: 0.3227\n",
      "Epoch 50/300\n",
      "68s - loss: 1.8452 - acc: 0.3262 - val_loss: 1.8812 - val_acc: 0.3204\n",
      "Epoch 51/300\n",
      "67s - loss: 1.8470 - acc: 0.3265 - val_loss: 1.8659 - val_acc: 0.3212\n",
      "Epoch 52/300\n",
      "66s - loss: 1.8433 - acc: 0.3269 - val_loss: 1.8606 - val_acc: 0.3225\n",
      "Epoch 53/300\n",
      "65s - loss: 1.8431 - acc: 0.3266 - val_loss: 1.8604 - val_acc: 0.3238\n",
      "Epoch 54/300\n",
      "64s - loss: 1.8431 - acc: 0.3270 - val_loss: 1.8600 - val_acc: 0.3218\n",
      "Epoch 55/300\n",
      "65s - loss: 1.8423 - acc: 0.3271 - val_loss: 1.8764 - val_acc: 0.3215\n",
      "Epoch 56/300\n",
      "65s - loss: 1.8425 - acc: 0.3267 - val_loss: 1.8613 - val_acc: 0.3217\n",
      "Epoch 57/300\n",
      "64s - loss: 1.8426 - acc: 0.3270 - val_loss: 1.8562 - val_acc: 0.3249\n",
      "Epoch 58/300\n",
      "66s - loss: 1.8432 - acc: 0.3265 - val_loss: 1.8591 - val_acc: 0.3225\n",
      "Epoch 59/300\n",
      "66s - loss: 1.8415 - acc: 0.3272 - val_loss: 1.8613 - val_acc: 0.3233\n",
      "Epoch 60/300\n",
      "64s - loss: 1.8419 - acc: 0.3269 - val_loss: 1.8639 - val_acc: 0.3193\n",
      "Epoch 61/300\n",
      "65s - loss: 1.8423 - acc: 0.3270 - val_loss: 1.8612 - val_acc: 0.3239\n",
      "Epoch 62/300\n",
      "64s - loss: 1.8422 - acc: 0.3271 - val_loss: 1.8626 - val_acc: 0.3227\n",
      "Epoch 63/300\n",
      "66s - loss: 1.8452 - acc: 0.3268 - val_loss: 1.8587 - val_acc: 0.3219\n",
      "Epoch 64/300\n",
      "64s - loss: 1.8418 - acc: 0.3271 - val_loss: 1.8686 - val_acc: 0.3222\n",
      "Epoch 65/300\n",
      "65s - loss: 1.8414 - acc: 0.3273 - val_loss: 1.8621 - val_acc: 0.3211\n",
      "Epoch 66/300\n",
      "64s - loss: 1.8473 - acc: 0.3261 - val_loss: 1.8601 - val_acc: 0.3239\n",
      "Epoch 67/300\n",
      "65s - loss: 1.8413 - acc: 0.3274 - val_loss: 1.8617 - val_acc: 0.3238\n",
      "Epoch 68/300\n",
      "64s - loss: 1.8404 - acc: 0.3275 - val_loss: 1.8618 - val_acc: 0.3224\n",
      "Epoch 69/300\n",
      "66s - loss: 1.8411 - acc: 0.3274 - val_loss: 1.8587 - val_acc: 0.3238\n",
      "Epoch 70/300\n",
      "65s - loss: 1.8406 - acc: 0.3276 - val_loss: 1.8621 - val_acc: 0.3211\n",
      "Epoch 71/300\n",
      "65s - loss: 1.8406 - acc: 0.3273 - val_loss: 1.8623 - val_acc: 0.3201\n",
      "Epoch 72/300\n",
      "63s - loss: 1.8510 - acc: 0.3260 - val_loss: 1.8710 - val_acc: 0.3212\n",
      "Epoch 73/300\n",
      "67s - loss: 1.8498 - acc: 0.3267 - val_loss: 1.8691 - val_acc: 0.3223\n",
      "Epoch 74/300\n",
      "67s - loss: 1.8407 - acc: 0.3273 - val_loss: 1.8598 - val_acc: 0.3236\n",
      "Epoch 75/300\n",
      "66s - loss: 1.8397 - acc: 0.3276 - val_loss: 1.8651 - val_acc: 0.3231\n",
      "Epoch 76/300\n",
      "65s - loss: 1.8459 - acc: 0.3266 - val_loss: 1.8683 - val_acc: 0.3211\n",
      "Epoch 77/300\n",
      "63s - loss: 1.8408 - acc: 0.3277 - val_loss: 1.8616 - val_acc: 0.3232\n",
      "Epoch 78/300\n",
      "65s - loss: 1.8396 - acc: 0.3277 - val_loss: 1.8624 - val_acc: 0.3207\n",
      "Epoch 79/300\n",
      "66s - loss: 1.8393 - acc: 0.3282 - val_loss: 1.8667 - val_acc: 0.3213\n",
      "Epoch 80/300\n",
      "65s - loss: 1.8393 - acc: 0.3281 - val_loss: 1.8616 - val_acc: 0.3233\n",
      "Epoch 81/300\n",
      "64s - loss: 1.8388 - acc: 0.3285 - val_loss: 1.8598 - val_acc: 0.3252\n",
      "Epoch 82/300\n",
      "65s - loss: 1.8389 - acc: 0.3283 - val_loss: 1.8610 - val_acc: 0.3226\n",
      "Epoch 83/300\n",
      "65s - loss: 1.8403 - acc: 0.3278 - val_loss: 1.8626 - val_acc: 0.3233\n",
      "Epoch 84/300\n",
      "65s - loss: 1.8385 - acc: 0.3280 - val_loss: 1.8641 - val_acc: 0.3238\n",
      "Epoch 85/300\n",
      "65s - loss: 1.8390 - acc: 0.3281 - val_loss: 1.8623 - val_acc: 0.3242\n",
      "Epoch 86/300\n",
      "64s - loss: 1.8383 - acc: 0.3282 - val_loss: 1.8722 - val_acc: 0.3212\n",
      "Epoch 87/300\n",
      "65s - loss: 1.8392 - acc: 0.3282 - val_loss: 1.8668 - val_acc: 0.3205\n",
      "Epoch 88/300\n",
      "67s - loss: 1.8381 - acc: 0.3285 - val_loss: 1.8694 - val_acc: 0.3217\n",
      "Epoch 89/300\n",
      "65s - loss: 1.8382 - acc: 0.3283 - val_loss: 1.8664 - val_acc: 0.3214\n",
      "Epoch 90/300\n",
      "65s - loss: 1.8380 - acc: 0.3282 - val_loss: 1.8762 - val_acc: 0.3194\n",
      "Epoch 91/300\n",
      "64s - loss: 1.8410 - acc: 0.3277 - val_loss: 1.8650 - val_acc: 0.3242\n",
      "Epoch 92/300\n",
      "66s - loss: 1.8385 - acc: 0.3282 - val_loss: 1.8694 - val_acc: 0.3224\n",
      "Epoch 93/300\n",
      "63s - loss: 1.8448 - acc: 0.3277 - val_loss: 1.8622 - val_acc: 0.3232\n",
      "Epoch 94/300\n",
      "64s - loss: 1.8389 - acc: 0.3284 - val_loss: 1.8657 - val_acc: 0.3209\n",
      "Epoch 95/300\n",
      "66s - loss: 1.8379 - acc: 0.3287 - val_loss: 1.8748 - val_acc: 0.3209\n",
      "Epoch 96/300\n",
      "64s - loss: 1.8376 - acc: 0.3283 - val_loss: 1.8637 - val_acc: 0.3230\n",
      "Epoch 97/300\n",
      "66s - loss: 1.8374 - acc: 0.3283 - val_loss: 1.8610 - val_acc: 0.3231\n",
      "Epoch 98/300\n",
      "64s - loss: 1.8377 - acc: 0.3286 - val_loss: 1.8608 - val_acc: 0.3246\n",
      "Epoch 99/300\n"
     ]
    },
    {
     "name": "stdout",
     "output_type": "stream",
     "text": [
      "64s - loss: 1.8375 - acc: 0.3286 - val_loss: 1.8601 - val_acc: 0.3237\n",
      "Epoch 100/300\n",
      "63s - loss: 1.8379 - acc: 0.3286 - val_loss: 1.8634 - val_acc: 0.3233\n",
      "Epoch 101/300\n",
      "62s - loss: 1.8386 - acc: 0.3286 - val_loss: 1.8643 - val_acc: 0.3238\n",
      "Epoch 102/300\n",
      "62s - loss: 1.8377 - acc: 0.3287 - val_loss: 1.8654 - val_acc: 0.3232\n",
      "Epoch 103/300\n",
      "62s - loss: 1.8374 - acc: 0.3285 - val_loss: 1.8609 - val_acc: 0.3222\n",
      "Epoch 104/300\n",
      "63s - loss: 1.8368 - acc: 0.3292 - val_loss: 1.8660 - val_acc: 0.3221\n",
      "Epoch 105/300\n",
      "63s - loss: 1.8366 - acc: 0.3290 - val_loss: 1.8649 - val_acc: 0.3220\n",
      "Epoch 106/300\n",
      "63s - loss: 1.8371 - acc: 0.3288 - val_loss: 1.8747 - val_acc: 0.3219\n",
      "Epoch 107/300\n",
      "63s - loss: 1.8369 - acc: 0.3287 - val_loss: 1.8640 - val_acc: 0.3225\n",
      "Epoch 108/300\n",
      "63s - loss: 1.8377 - acc: 0.3290 - val_loss: 1.8677 - val_acc: 0.3231\n",
      "Epoch 109/300\n",
      "62s - loss: 1.8368 - acc: 0.3289 - val_loss: 1.8635 - val_acc: 0.3226\n",
      "Epoch 110/300\n",
      "62s - loss: 1.8368 - acc: 0.3290 - val_loss: 1.8652 - val_acc: 0.3223\n",
      "Epoch 111/300\n",
      "63s - loss: 1.8363 - acc: 0.3291 - val_loss: 1.8668 - val_acc: 0.3215\n",
      "Epoch 112/300\n",
      "64s - loss: 1.8359 - acc: 0.3289 - val_loss: 1.8705 - val_acc: 0.3201\n",
      "Epoch 113/300\n",
      "63s - loss: 1.8363 - acc: 0.3288 - val_loss: 1.8683 - val_acc: 0.3205\n",
      "Epoch 114/300\n",
      "63s - loss: 1.8365 - acc: 0.3290 - val_loss: 1.8714 - val_acc: 0.3197\n",
      "Epoch 115/300\n",
      "63s - loss: 1.8372 - acc: 0.3288 - val_loss: 1.8702 - val_acc: 0.3172\n",
      "Epoch 116/300\n",
      "63s - loss: 1.8361 - acc: 0.3291 - val_loss: 1.8693 - val_acc: 0.3210\n",
      "Epoch 117/300\n",
      "63s - loss: 1.8359 - acc: 0.3293 - val_loss: 1.8653 - val_acc: 0.3209\n",
      "Epoch 118/300\n",
      "63s - loss: 1.8360 - acc: 0.3292 - val_loss: 1.8642 - val_acc: 0.3226\n",
      "Epoch 119/300\n",
      "63s - loss: 1.8360 - acc: 0.3296 - val_loss: 1.8638 - val_acc: 0.3228\n",
      "Epoch 120/300\n",
      "64s - loss: 1.8364 - acc: 0.3290 - val_loss: 1.8637 - val_acc: 0.3225\n",
      "Epoch 121/300\n",
      "62s - loss: 1.8364 - acc: 0.3293 - val_loss: 1.8618 - val_acc: 0.3226\n",
      "Epoch 122/300\n",
      "63s - loss: 1.8360 - acc: 0.3294 - val_loss: 1.8719 - val_acc: 0.3196\n",
      "Epoch 123/300\n",
      "64s - loss: 1.8356 - acc: 0.3290 - val_loss: 1.8664 - val_acc: 0.3189\n",
      "Epoch 124/300\n",
      "63s - loss: 1.8360 - acc: 0.3292 - val_loss: 1.8661 - val_acc: 0.3209\n",
      "Epoch 125/300\n",
      "63s - loss: 1.8358 - acc: 0.3293 - val_loss: 1.8662 - val_acc: 0.3223\n",
      "Epoch 126/300\n",
      "63s - loss: 1.8359 - acc: 0.3296 - val_loss: 1.8639 - val_acc: 0.3213\n",
      "Epoch 127/300\n",
      "62s - loss: 1.8355 - acc: 0.3292 - val_loss: 1.8680 - val_acc: 0.3206\n",
      "Epoch 128/300\n",
      "63s - loss: 1.8356 - acc: 0.3297 - val_loss: 1.8639 - val_acc: 0.3225\n",
      "Epoch 129/300\n",
      "63s - loss: 1.8358 - acc: 0.3295 - val_loss: 1.8657 - val_acc: 0.3228\n",
      "Epoch 130/300\n",
      "62s - loss: 1.8348 - acc: 0.3294 - val_loss: 1.8644 - val_acc: 0.3218\n",
      "Epoch 131/300\n",
      "62s - loss: 1.8350 - acc: 0.3295 - val_loss: 1.8630 - val_acc: 0.3217\n",
      "Epoch 132/300\n",
      "63s - loss: 1.8352 - acc: 0.3295 - val_loss: 1.8665 - val_acc: 0.3231\n",
      "Epoch 133/300\n",
      "64s - loss: 1.8350 - acc: 0.3295 - val_loss: 1.8657 - val_acc: 0.3235\n",
      "Epoch 134/300\n",
      "62s - loss: 1.8353 - acc: 0.3295 - val_loss: 1.8732 - val_acc: 0.3192\n",
      "Epoch 135/300\n",
      "63s - loss: 1.8349 - acc: 0.3296 - val_loss: 1.8740 - val_acc: 0.3204\n",
      "Epoch 136/300\n",
      "63s - loss: 1.8353 - acc: 0.3296 - val_loss: 1.8703 - val_acc: 0.3211\n",
      "Epoch 137/300\n",
      "63s - loss: 1.8350 - acc: 0.3299 - val_loss: 1.8649 - val_acc: 0.3227\n",
      "Epoch 138/300\n",
      "63s - loss: 1.8347 - acc: 0.3296 - val_loss: 1.8653 - val_acc: 0.3215\n",
      "Epoch 139/300\n",
      "62s - loss: 1.8351 - acc: 0.3296 - val_loss: 1.8700 - val_acc: 0.3232\n",
      "Epoch 140/300\n",
      "63s - loss: 1.8353 - acc: 0.3298 - val_loss: 1.8670 - val_acc: 0.3227\n",
      "Epoch 141/300\n",
      "63s - loss: 1.8355 - acc: 0.3295 - val_loss: 1.8693 - val_acc: 0.3200\n",
      "Epoch 142/300\n",
      "62s - loss: 1.8357 - acc: 0.3291 - val_loss: 1.8702 - val_acc: 0.3210\n",
      "Epoch 143/300\n",
      "63s - loss: 1.8347 - acc: 0.3296 - val_loss: 1.8665 - val_acc: 0.3201\n",
      "Epoch 144/300\n",
      "63s - loss: 1.8358 - acc: 0.3294 - val_loss: 1.8663 - val_acc: 0.3228\n",
      "Epoch 145/300\n",
      "64s - loss: 1.8361 - acc: 0.3292 - val_loss: 1.8657 - val_acc: 0.3231\n",
      "Epoch 146/300\n",
      "65s - loss: 1.8358 - acc: 0.3297 - val_loss: 1.8666 - val_acc: 0.3228\n",
      "Epoch 147/300\n",
      "66s - loss: 1.8360 - acc: 0.3292 - val_loss: 1.8626 - val_acc: 0.3221\n",
      "Epoch 148/300\n",
      "65s - loss: 1.8370 - acc: 0.3292 - val_loss: 1.8670 - val_acc: 0.3216\n",
      "Epoch 149/300\n",
      "63s - loss: 1.8365 - acc: 0.3293 - val_loss: 1.8653 - val_acc: 0.3220\n",
      "Epoch 150/300\n",
      "65s - loss: 1.8360 - acc: 0.3294 - val_loss: 1.8731 - val_acc: 0.3196\n",
      "Epoch 151/300\n",
      "63s - loss: 1.8366 - acc: 0.3293 - val_loss: 1.8661 - val_acc: 0.3224\n",
      "Epoch 152/300\n",
      "64s - loss: 1.8367 - acc: 0.3292 - val_loss: 1.8669 - val_acc: 0.3230\n",
      "Epoch 153/300\n",
      "65s - loss: 1.8363 - acc: 0.3294 - val_loss: 1.8702 - val_acc: 0.3215\n",
      "Epoch 154/300\n",
      "64s - loss: 1.8359 - acc: 0.3292 - val_loss: 1.8648 - val_acc: 0.3226\n",
      "Epoch 155/300\n",
      "64s - loss: 1.8366 - acc: 0.3295 - val_loss: 1.8727 - val_acc: 0.3220\n",
      "Epoch 156/300\n",
      "65s - loss: 1.8361 - acc: 0.3292 - val_loss: 1.8634 - val_acc: 0.3230\n",
      "Epoch 157/300\n",
      "66s - loss: 1.8356 - acc: 0.3296 - val_loss: 1.8690 - val_acc: 0.3209\n",
      "Epoch 158/300\n",
      "63s - loss: 1.8359 - acc: 0.3295 - val_loss: 1.8683 - val_acc: 0.3183\n",
      "Epoch 159/300\n",
      "66s - loss: 1.8354 - acc: 0.3298 - val_loss: 1.8697 - val_acc: 0.3222\n",
      "Epoch 160/300\n",
      "63s - loss: 1.8367 - acc: 0.3293 - val_loss: 1.8736 - val_acc: 0.3209\n",
      "Epoch 161/300\n",
      "66s - loss: 1.8358 - acc: 0.3292 - val_loss: 1.8665 - val_acc: 0.3222\n",
      "Epoch 162/300\n",
      "67s - loss: 1.8362 - acc: 0.3291 - val_loss: 1.8670 - val_acc: 0.3228\n",
      "Epoch 163/300\n",
      "64s - loss: 1.8360 - acc: 0.3298 - val_loss: 1.8682 - val_acc: 0.3227\n",
      "Epoch 164/300\n",
      "64s - loss: 1.8361 - acc: 0.3292 - val_loss: 1.8670 - val_acc: 0.3205\n",
      "Epoch 165/300\n",
      "66s - loss: 1.8356 - acc: 0.3290 - val_loss: 1.8660 - val_acc: 0.3232\n",
      "Epoch 166/300\n",
      "64s - loss: 1.8361 - acc: 0.3294 - val_loss: 1.8666 - val_acc: 0.3200\n",
      "Epoch 167/300\n",
      "67s - loss: 1.8366 - acc: 0.3291 - val_loss: 1.8771 - val_acc: 0.3203\n",
      "Epoch 168/300\n",
      "65s - loss: 1.8367 - acc: 0.3288 - val_loss: 1.8715 - val_acc: 0.3186\n",
      "Epoch 169/300\n",
      "66s - loss: 1.8374 - acc: 0.3289 - val_loss: 1.8645 - val_acc: 0.3228\n",
      "Epoch 170/300\n",
      "64s - loss: 1.8370 - acc: 0.3293 - val_loss: 1.8667 - val_acc: 0.3228\n",
      "Epoch 171/300\n",
      "63s - loss: 1.8367 - acc: 0.3297 - val_loss: 1.8670 - val_acc: 0.3224\n",
      "Epoch 172/300\n",
      "64s - loss: 1.8369 - acc: 0.3293 - val_loss: 1.8706 - val_acc: 0.3197\n",
      "Epoch 173/300\n",
      "63s - loss: 1.8375 - acc: 0.3290 - val_loss: 1.8709 - val_acc: 0.3192\n",
      "Epoch 174/300\n",
      "66s - loss: 1.8385 - acc: 0.3283 - val_loss: 1.8675 - val_acc: 0.3223\n",
      "Epoch 175/300\n",
      "66s - loss: 1.8390 - acc: 0.3283 - val_loss: 1.8733 - val_acc: 0.3213\n",
      "Epoch 176/300\n",
      "67s - loss: 1.8372 - acc: 0.3292 - val_loss: 1.8644 - val_acc: 0.3230\n",
      "Epoch 177/300\n",
      "67s - loss: 1.8381 - acc: 0.3289 - val_loss: 1.8645 - val_acc: 0.3230\n",
      "Epoch 178/300\n",
      "65s - loss: 1.8394 - acc: 0.3278 - val_loss: 1.8673 - val_acc: 0.3220\n",
      "Epoch 179/300\n",
      "65s - loss: 1.8390 - acc: 0.3282 - val_loss: 1.8660 - val_acc: 0.3234\n",
      "Epoch 180/300\n",
      "64s - loss: 1.8403 - acc: 0.3276 - val_loss: 1.8710 - val_acc: 0.3207\n",
      "Epoch 181/300\n",
      "65s - loss: 1.8392 - acc: 0.3280 - val_loss: 1.8787 - val_acc: 0.3176\n",
      "Epoch 182/300\n",
      "67s - loss: 1.8388 - acc: 0.3283 - val_loss: 1.8799 - val_acc: 0.3206\n",
      "Epoch 183/300\n",
      "65s - loss: 1.8378 - acc: 0.3286 - val_loss: 1.8677 - val_acc: 0.3214\n",
      "Epoch 184/300\n",
      "64s - loss: 1.8385 - acc: 0.3287 - val_loss: 1.8710 - val_acc: 0.3213\n",
      "Epoch 185/300\n",
      "67s - loss: 1.8382 - acc: 0.3284 - val_loss: 1.8687 - val_acc: 0.3191\n",
      "Epoch 186/300\n",
      "66s - loss: 1.8395 - acc: 0.3282 - val_loss: 1.8694 - val_acc: 0.3217\n",
      "Epoch 187/300\n",
      "66s - loss: 1.8374 - acc: 0.3291 - val_loss: 1.8703 - val_acc: 0.3221\n",
      "Epoch 188/300\n",
      "65s - loss: 1.8379 - acc: 0.3290 - val_loss: 1.8653 - val_acc: 0.3225\n",
      "Epoch 189/300\n",
      "64s - loss: 1.8402 - acc: 0.3279 - val_loss: 1.8706 - val_acc: 0.3217\n",
      "Epoch 190/300\n",
      "65s - loss: 1.8395 - acc: 0.3285 - val_loss: 1.8722 - val_acc: 0.3206\n",
      "Epoch 191/300\n",
      "64s - loss: 1.8413 - acc: 0.3274 - val_loss: 1.8724 - val_acc: 0.3193\n",
      "Epoch 192/300\n",
      "67s - loss: 1.8417 - acc: 0.3272 - val_loss: 1.8630 - val_acc: 0.3224\n",
      "Epoch 193/300\n",
      "63s - loss: 1.8418 - acc: 0.3278 - val_loss: 1.8708 - val_acc: 0.3227\n",
      "Epoch 194/300\n",
      "64s - loss: 1.8420 - acc: 0.3276 - val_loss: 1.8717 - val_acc: 0.3200\n",
      "Epoch 195/300\n",
      "64s - loss: 1.8423 - acc: 0.3271 - val_loss: 1.8722 - val_acc: 0.3206\n",
      "Epoch 196/300\n",
      "65s - loss: 1.8432 - acc: 0.3266 - val_loss: 1.8700 - val_acc: 0.3216\n",
      "Epoch 197/300\n"
     ]
    },
    {
     "name": "stdout",
     "output_type": "stream",
     "text": [
      "64s - loss: 1.8443 - acc: 0.3265 - val_loss: 1.8656 - val_acc: 0.3202\n",
      "Epoch 198/300\n",
      "67s - loss: 1.8430 - acc: 0.3276 - val_loss: 1.8651 - val_acc: 0.3228\n",
      "Epoch 199/300\n",
      "66s - loss: 1.8426 - acc: 0.3270 - val_loss: 1.8663 - val_acc: 0.3223\n",
      "Epoch 200/300\n",
      "66s - loss: 1.8445 - acc: 0.3265 - val_loss: 1.8673 - val_acc: 0.3186\n",
      "Epoch 201/300\n",
      "65s - loss: 1.8443 - acc: 0.3261 - val_loss: 1.8683 - val_acc: 0.3204\n",
      "Epoch 202/300\n",
      "64s - loss: 1.8418 - acc: 0.3275 - val_loss: 1.8759 - val_acc: 0.3205\n",
      "Epoch 203/300\n",
      "66s - loss: 1.8423 - acc: 0.3272 - val_loss: 1.8711 - val_acc: 0.3208\n",
      "Epoch 204/300\n",
      "64s - loss: 1.8432 - acc: 0.3270 - val_loss: 1.8677 - val_acc: 0.3233\n",
      "Epoch 205/300\n",
      "64s - loss: 1.8417 - acc: 0.3272 - val_loss: 1.8699 - val_acc: 0.3203\n",
      "Epoch 206/300\n",
      "64s - loss: 1.8433 - acc: 0.3269 - val_loss: 1.8684 - val_acc: 0.3203\n",
      "Epoch 207/300\n",
      "65s - loss: 1.8433 - acc: 0.3270 - val_loss: 1.8650 - val_acc: 0.3220\n",
      "Epoch 208/300\n",
      "64s - loss: 1.8432 - acc: 0.3265 - val_loss: 1.8675 - val_acc: 0.3212\n",
      "Epoch 209/300\n",
      "65s - loss: 1.8453 - acc: 0.3255 - val_loss: 1.8655 - val_acc: 0.3214\n",
      "Epoch 210/300\n",
      "66s - loss: 1.8475 - acc: 0.3251 - val_loss: 1.8711 - val_acc: 0.3195\n",
      "Epoch 211/300\n",
      "64s - loss: 1.8448 - acc: 0.3257 - val_loss: 1.8687 - val_acc: 0.3212\n",
      "Epoch 212/300\n",
      "65s - loss: 1.8436 - acc: 0.3268 - val_loss: 1.8649 - val_acc: 0.3226\n",
      "Epoch 213/300\n",
      "67s - loss: 1.8420 - acc: 0.3272 - val_loss: 1.8859 - val_acc: 0.3173\n",
      "Epoch 214/300\n",
      "64s - loss: 1.8416 - acc: 0.3278 - val_loss: 1.8742 - val_acc: 0.3218\n",
      "Epoch 215/300\n",
      "64s - loss: 1.8430 - acc: 0.3259 - val_loss: 1.8727 - val_acc: 0.3201\n",
      "Epoch 216/300\n",
      "64s - loss: 1.8441 - acc: 0.3261 - val_loss: 1.8701 - val_acc: 0.3201\n",
      "Epoch 217/300\n",
      "64s - loss: 1.8431 - acc: 0.3267 - val_loss: 1.8721 - val_acc: 0.3193\n",
      "Epoch 218/300\n",
      "67s - loss: 1.8412 - acc: 0.3277 - val_loss: 1.8657 - val_acc: 0.3224\n",
      "Epoch 219/300\n",
      "64s - loss: 1.8422 - acc: 0.3267 - val_loss: 1.8678 - val_acc: 0.3205\n",
      "Epoch 220/300\n",
      "66s - loss: 1.8413 - acc: 0.3276 - val_loss: 1.8727 - val_acc: 0.3192\n",
      "Epoch 221/300\n",
      "65s - loss: 1.8568 - acc: 0.3245 - val_loss: 1.8832 - val_acc: 0.3184\n",
      "Epoch 222/300\n",
      "63s - loss: 1.8450 - acc: 0.3267 - val_loss: 1.8666 - val_acc: 0.3217\n",
      "Epoch 223/300\n",
      "66s - loss: 1.8412 - acc: 0.3277 - val_loss: 1.8724 - val_acc: 0.3174\n",
      "Epoch 224/300\n",
      "64s - loss: 1.8405 - acc: 0.3275 - val_loss: 1.8716 - val_acc: 0.3193\n",
      "Epoch 225/300\n",
      "66s - loss: 1.8422 - acc: 0.3270 - val_loss: 1.8716 - val_acc: 0.3198\n",
      "Epoch 226/300\n",
      "66s - loss: 1.8423 - acc: 0.3267 - val_loss: 1.8811 - val_acc: 0.3178\n",
      "Epoch 227/300\n",
      "64s - loss: 1.8452 - acc: 0.3257 - val_loss: 1.8733 - val_acc: 0.3196\n",
      "Epoch 228/300\n",
      "63s - loss: 1.8432 - acc: 0.3267 - val_loss: 1.8767 - val_acc: 0.3199\n",
      "Epoch 229/300\n",
      "65s - loss: 1.8428 - acc: 0.3266 - val_loss: 1.8697 - val_acc: 0.3205\n",
      "Epoch 230/300\n",
      "65s - loss: 1.8426 - acc: 0.3272 - val_loss: 1.8663 - val_acc: 0.3213\n",
      "Epoch 231/300\n",
      "65s - loss: 1.8427 - acc: 0.3273 - val_loss: 1.8733 - val_acc: 0.3209\n",
      "Epoch 232/300\n",
      "65s - loss: 1.8438 - acc: 0.3263 - val_loss: 1.8772 - val_acc: 0.3197\n",
      "Epoch 233/300\n",
      "66s - loss: 1.8431 - acc: 0.3271 - val_loss: 1.8694 - val_acc: 0.3222\n",
      "Epoch 234/300\n",
      "66s - loss: 1.8431 - acc: 0.3270 - val_loss: 1.8695 - val_acc: 0.3209\n",
      "Epoch 235/300\n",
      "65s - loss: 1.8451 - acc: 0.3258 - val_loss: 1.8743 - val_acc: 0.3179\n",
      "Epoch 236/300\n",
      "65s - loss: 1.8447 - acc: 0.3264 - val_loss: 1.8710 - val_acc: 0.3201\n",
      "Epoch 237/300\n",
      "66s - loss: 1.8434 - acc: 0.3274 - val_loss: 1.8686 - val_acc: 0.3181\n",
      "Epoch 238/300\n",
      "65s - loss: 1.8464 - acc: 0.3260 - val_loss: 1.8695 - val_acc: 0.3208\n",
      "Epoch 239/300\n",
      "66s - loss: 1.8537 - acc: 0.3242 - val_loss: 1.9040 - val_acc: 0.3142\n",
      "Epoch 240/300\n",
      "66s - loss: 1.8556 - acc: 0.3237 - val_loss: 1.8731 - val_acc: 0.3215\n",
      "Epoch 241/300\n",
      "64s - loss: 1.8453 - acc: 0.3261 - val_loss: 1.8698 - val_acc: 0.3183\n",
      "Epoch 242/300\n",
      "64s - loss: 1.8463 - acc: 0.3259 - val_loss: 1.8729 - val_acc: 0.3209\n",
      "Epoch 243/300\n",
      "64s - loss: 1.8440 - acc: 0.3264 - val_loss: 1.8679 - val_acc: 0.3206\n",
      "Epoch 244/300\n",
      "67s - loss: 1.8427 - acc: 0.3271 - val_loss: 1.8712 - val_acc: 0.3222\n",
      "Epoch 245/300\n",
      "65s - loss: 1.8432 - acc: 0.3267 - val_loss: 1.8777 - val_acc: 0.3177\n",
      "Epoch 246/300\n",
      "66s - loss: 1.8465 - acc: 0.3267 - val_loss: 1.8791 - val_acc: 0.3171\n",
      "Epoch 247/300\n",
      "66s - loss: 1.8444 - acc: 0.3263 - val_loss: 1.8735 - val_acc: 0.3197\n",
      "Epoch 248/300\n",
      "66s - loss: 1.8465 - acc: 0.3256 - val_loss: 1.8700 - val_acc: 0.3190\n",
      "Epoch 249/300\n",
      "64s - loss: 1.8468 - acc: 0.3249 - val_loss: 1.8698 - val_acc: 0.3214\n",
      "Epoch 250/300\n",
      "65s - loss: 1.8495 - acc: 0.3242 - val_loss: 1.8693 - val_acc: 0.3198\n",
      "Epoch 251/300\n",
      "66s - loss: 1.8451 - acc: 0.3265 - val_loss: 1.8651 - val_acc: 0.3219\n",
      "Epoch 252/300\n",
      "65s - loss: 1.8450 - acc: 0.3266 - val_loss: 1.8713 - val_acc: 0.3217\n",
      "Epoch 253/300\n",
      "65s - loss: 1.8510 - acc: 0.3250 - val_loss: 1.8745 - val_acc: 0.3197\n",
      "Epoch 254/300\n",
      "62s - loss: 1.8456 - acc: 0.3254 - val_loss: 1.8666 - val_acc: 0.3222\n",
      "Epoch 255/300\n",
      "66s - loss: 1.8483 - acc: 0.3251 - val_loss: 1.8739 - val_acc: 0.3212\n",
      "Epoch 256/300\n",
      "64s - loss: 1.8459 - acc: 0.3261 - val_loss: 1.8700 - val_acc: 0.3193\n",
      "Epoch 257/300\n",
      "63s - loss: 1.8472 - acc: 0.3252 - val_loss: 1.8711 - val_acc: 0.3223\n",
      "Epoch 258/300\n",
      "66s - loss: 1.8467 - acc: 0.3257 - val_loss: 1.8690 - val_acc: 0.3242\n",
      "Epoch 259/300\n",
      "65s - loss: 1.8436 - acc: 0.3270 - val_loss: 1.8709 - val_acc: 0.3198\n",
      "Epoch 260/300\n",
      "64s - loss: 1.8449 - acc: 0.3261 - val_loss: 1.8752 - val_acc: 0.3206\n",
      "Epoch 261/300\n",
      "64s - loss: 1.8445 - acc: 0.3269 - val_loss: 1.8865 - val_acc: 0.3186\n",
      "Epoch 262/300\n",
      "66s - loss: 1.8445 - acc: 0.3266 - val_loss: 1.8713 - val_acc: 0.3221\n",
      "Epoch 263/300\n",
      "65s - loss: 1.8446 - acc: 0.3266 - val_loss: 1.8746 - val_acc: 0.3199\n",
      "Epoch 264/300\n",
      "65s - loss: 1.8457 - acc: 0.3258 - val_loss: 1.8705 - val_acc: 0.3212\n",
      "Epoch 265/300\n",
      "66s - loss: 1.8482 - acc: 0.3248 - val_loss: 1.8691 - val_acc: 0.3219\n",
      "Epoch 266/300\n",
      "62s - loss: 1.8486 - acc: 0.3250 - val_loss: 1.8762 - val_acc: 0.3213\n",
      "Epoch 267/300\n",
      "66s - loss: 1.8514 - acc: 0.3241 - val_loss: 1.8657 - val_acc: 0.3211\n",
      "Epoch 268/300\n",
      "64s - loss: 1.8461 - acc: 0.3261 - val_loss: 1.8684 - val_acc: 0.3227\n",
      "Epoch 269/300\n",
      "68s - loss: 1.8475 - acc: 0.3257 - val_loss: 1.8758 - val_acc: 0.3196\n",
      "Epoch 270/300\n",
      "66s - loss: 1.8449 - acc: 0.3260 - val_loss: 1.8748 - val_acc: 0.3185\n",
      "Epoch 271/300\n",
      "65s - loss: 1.8447 - acc: 0.3264 - val_loss: 1.8713 - val_acc: 0.3213\n",
      "Epoch 272/300\n",
      "65s - loss: 1.8431 - acc: 0.3271 - val_loss: 1.8660 - val_acc: 0.3226\n",
      "Epoch 273/300\n",
      "66s - loss: 1.8435 - acc: 0.3266 - val_loss: 1.8732 - val_acc: 0.3198\n",
      "Epoch 274/300\n",
      "65s - loss: 1.8424 - acc: 0.3276 - val_loss: 1.8722 - val_acc: 0.3216\n",
      "Epoch 275/300\n",
      "67s - loss: 1.8440 - acc: 0.3267 - val_loss: 1.8679 - val_acc: 0.3219\n",
      "Epoch 276/300\n",
      "65s - loss: 1.8437 - acc: 0.3269 - val_loss: 1.8727 - val_acc: 0.3217\n",
      "Epoch 277/300\n",
      "66s - loss: 1.8422 - acc: 0.3274 - val_loss: 1.8757 - val_acc: 0.3197\n",
      "Epoch 278/300\n",
      "65s - loss: 1.8440 - acc: 0.3269 - val_loss: 1.8737 - val_acc: 0.3195\n",
      "Epoch 279/300\n",
      "65s - loss: 1.8431 - acc: 0.3269 - val_loss: 1.8730 - val_acc: 0.3179\n",
      "Epoch 280/300\n",
      "66s - loss: 1.8438 - acc: 0.3271 - val_loss: 1.8892 - val_acc: 0.3183\n",
      "Epoch 281/300\n",
      "66s - loss: 1.8413 - acc: 0.3278 - val_loss: 1.8686 - val_acc: 0.3200\n",
      "Epoch 282/300\n",
      "65s - loss: 1.8433 - acc: 0.3265 - val_loss: 1.8728 - val_acc: 0.3166\n",
      "Epoch 283/300\n",
      "64s - loss: 1.8454 - acc: 0.3262 - val_loss: 1.8712 - val_acc: 0.3187\n",
      "Epoch 284/300\n",
      "67s - loss: 1.8455 - acc: 0.3258 - val_loss: 1.9031 - val_acc: 0.3186\n",
      "Epoch 285/300\n",
      "66s - loss: 1.8426 - acc: 0.3270 - val_loss: 1.8791 - val_acc: 0.3193\n",
      "Epoch 286/300\n",
      "64s - loss: 1.8480 - acc: 0.3246 - val_loss: 1.8657 - val_acc: 0.3213\n",
      "Epoch 287/300\n",
      "63s - loss: 1.8432 - acc: 0.3283 - val_loss: 1.8729 - val_acc: 0.3189\n",
      "Epoch 288/300\n",
      "65s - loss: 1.8396 - acc: 0.3289 - val_loss: 1.8679 - val_acc: 0.3171\n",
      "Epoch 289/300\n",
      "64s - loss: 1.8395 - acc: 0.3290 - val_loss: 1.8696 - val_acc: 0.3211\n",
      "Epoch 290/300\n",
      "64s - loss: 1.8396 - acc: 0.3291 - val_loss: 1.8839 - val_acc: 0.3158\n",
      "Epoch 291/300\n",
      "64s - loss: 1.8397 - acc: 0.3291 - val_loss: 1.8764 - val_acc: 0.3196\n",
      "Epoch 292/300\n",
      "67s - loss: 1.8386 - acc: 0.3295 - val_loss: 1.8694 - val_acc: 0.3209\n",
      "Epoch 293/300\n",
      "65s - loss: 1.8397 - acc: 0.3288 - val_loss: 1.8742 - val_acc: 0.3195\n",
      "Epoch 294/300\n",
      "64s - loss: 1.8412 - acc: 0.3289 - val_loss: 1.8711 - val_acc: 0.3230\n",
      "Epoch 295/300\n"
     ]
    },
    {
     "name": "stdout",
     "output_type": "stream",
     "text": [
      "65s - loss: 1.8425 - acc: 0.3279 - val_loss: 1.8724 - val_acc: 0.3222\n",
      "Epoch 296/300\n",
      "67s - loss: 1.8408 - acc: 0.3288 - val_loss: 1.8715 - val_acc: 0.3212\n",
      "Epoch 297/300\n",
      "65s - loss: 1.8411 - acc: 0.3281 - val_loss: 1.8735 - val_acc: 0.3201\n",
      "Epoch 298/300\n",
      "68s - loss: 1.8407 - acc: 0.3285 - val_loss: 1.8679 - val_acc: 0.3227\n",
      "Epoch 299/300\n",
      "63s - loss: 1.8409 - acc: 0.3282 - val_loss: 1.8699 - val_acc: 0.3215\n",
      "Epoch 300/300\n",
      "67s - loss: 1.8412 - acc: 0.3281 - val_loss: 1.8765 - val_acc: 0.3194\n",
      "Training duration : 19559.107285022736\n"
     ]
    }
   ],
   "source": [
    "start_time = time.time()\n",
    "print('Training model...')\n",
    "model.fit(train_x, train_y , epochs=epochs, batch_size=batch,\n",
    "          shuffle=True,validation_split=0.1, verbose=2)\n",
    "print(\"Training duration : {0}\".format(time.time() - start_time))\n"
   ]
  },
  {
   "cell_type": "code",
   "execution_count": 152,
   "metadata": {
    "collapsed": true
   },
   "outputs": [],
   "source": [
    "train_time = time.time() - start_time"
   ]
  },
  {
   "cell_type": "markdown",
   "metadata": {},
   "source": [
    "# save model"
   ]
  },
  {
   "cell_type": "code",
   "execution_count": 153,
   "metadata": {},
   "outputs": [
    {
     "name": "stdout",
     "output_type": "stream",
     "text": [
      "Saved model to disk\n"
     ]
    }
   ],
   "source": [
    "# serialize model to JSON\n",
    "model_json = model.to_json()\n",
    "with open(\"model.json\", \"w\") as json_file:\n",
    "    json_file.write(model_json)\n",
    "# serialize weights to HDF5\n",
    "model.save_weights(\"model.h5\")\n",
    "print(\"Saved model to disk\")\n",
    " \n"
   ]
  },
  {
   "cell_type": "markdown",
   "metadata": {},
   "source": [
    "# test model and get accuracy"
   ]
  },
  {
   "cell_type": "code",
   "execution_count": 154,
   "metadata": {},
   "outputs": [
    {
     "name": "stdout",
     "output_type": "stream",
     "text": [
      "376000/376526 [============================>.] - ETA: 0s"
     ]
    }
   ],
   "source": [
    "test_batch = 32\n",
    "loss, accuracy = model.evaluate(test_x, test_y, batch_size=test_batch)"
   ]
  },
  {
   "cell_type": "code",
   "execution_count": 155,
   "metadata": {},
   "outputs": [
    {
     "name": "stdout",
     "output_type": "stream",
     "text": [
      "acc: 31.75%\n"
     ]
    }
   ],
   "source": [
    "print(\"%s: %.2f%%\" % (model.metrics_names[1], accuracy*100))\n"
   ]
  },
  {
   "cell_type": "markdown",
   "metadata": {},
   "source": [
    "# send mail to alert"
   ]
  },
  {
   "cell_type": "code",
   "execution_count": 156,
   "metadata": {
    "collapsed": true
   },
   "outputs": [],
   "source": [
    "model_config = []\n",
    "for index, layer in enumerate(model.get_config()):\n",
    "    model_config.append(\"layer - > %d===============\" % index)\n",
    "    model_config.append(\"class_name = \" + layer[\"class_name\"] )\n",
    "    if(str(layer[\"config\"].get(\"units\", \"None\")) != \"None\"):\n",
    "        model_config.append(\"units = \" + str(layer[\"config\"].get(\"units\", \"None\")))\n",
    "    if(str(layer[\"config\"].get(\"activation\", \"None\")) != \"None\"):\n",
    "        model_config.append(\"activation = \" + layer[\"config\"][\"activation\"])\n",
    "    if(str(layer[\"config\"].get(\"rate\", \"None\")) != \"None\"):\n",
    "        model_config.append(\"rate = \" + str(layer[\"config\"][\"rate\"]))\n",
    "model_info = '\\n'.join(model_config)"
   ]
  },
  {
   "cell_type": "code",
   "execution_count": 157,
   "metadata": {
    "collapsed": true
   },
   "outputs": [],
   "source": [
    "model_info += \"\\n\\ntrain epochs = \" + str(epochs)\n",
    "model_info += \"\\ntrain batch = \" + str(batch)\n",
    "model_info += \"\\ntest batch = \" + str(test_batch)\n",
    "model_info += \"\\ntrain time = \" + str(train_time)\n",
    "model_info += \"\\nloss = \" + str(loss)\n",
    "model_info += \"\\n\\n\\naccuracy = \" + str(accuracy)\n",
    "\n"
   ]
  },
  {
   "cell_type": "code",
   "execution_count": 158,
   "metadata": {},
   "outputs": [
    {
     "name": "stdout",
     "output_type": "stream",
     "text": [
      "Start Send Mail\n",
      "User Email : a - DONE \n",
      "User Email : a - DONE \n",
      "User Email : 2 - DONE \n",
      "User Email : 6 - DONE \n",
      "User Email : 3 - DONE \n",
      "User Email : 6 - DONE \n",
      "User Email : 5 - DONE \n",
      "User Email : 5 - DONE \n",
      "User Email : 6 - DONE \n",
      "User Email : 6 - DONE \n",
      "User Email : @ - DONE \n",
      "User Email : g - DONE \n",
      "User Email : m - DONE \n",
      "User Email : a - DONE \n",
      "User Email : i - DONE \n",
      "User Email : l - DONE \n",
      "User Email : . - DONE \n",
      "User Email : c - DONE \n",
      "User Email : o - DONE \n",
      "User Email : m - DONE \n",
      "Finish Send Mail\n"
     ]
    }
   ],
   "source": [
    "test=mail()\n",
    "test.main(\"model finished\", model_info)"
   ]
  },
  {
   "cell_type": "markdown",
   "metadata": {},
   "source": [
    "# write readme to report the model"
   ]
  },
  {
   "cell_type": "code",
   "execution_count": 159,
   "metadata": {},
   "outputs": [
    {
     "data": {
      "text/plain": [
       "True"
      ]
     },
     "execution_count": 159,
     "metadata": {},
     "output_type": "execute_result"
    }
   ],
   "source": [
    "md_info = model_info.replace(\"\\n\", \"<br>\")\n",
    "with open('readme.md', 'w+') as f:\n",
    "     f.write(md_info)\n",
    "f.closed"
   ]
  },
  {
   "cell_type": "code",
   "execution_count": 160,
   "metadata": {},
   "outputs": [
    {
     "name": "stdout",
     "output_type": "stream",
     "text": [
      "layer - > 0===============\n",
      "class_name = Dense\n",
      "units = 1024\n",
      "activation = linear\n",
      "layer - > 1===============\n",
      "class_name = Dense\n",
      "units = 512\n",
      "activation = linear\n",
      "layer - > 2===============\n",
      "class_name = Activation\n",
      "activation = relu\n",
      "layer - > 3===============\n",
      "class_name = Dense\n",
      "units = 256\n",
      "activation = linear\n",
      "layer - > 4===============\n",
      "class_name = Activation\n",
      "activation = relu\n",
      "layer - > 5===============\n",
      "class_name = Dense\n",
      "units = 128\n",
      "activation = linear\n",
      "layer - > 6===============\n",
      "class_name = Activation\n",
      "activation = relu\n",
      "layer - > 7===============\n",
      "class_name = Dense\n",
      "units = 64\n",
      "activation = linear\n",
      "layer - > 8===============\n",
      "class_name = Activation\n",
      "activation = relu\n",
      "layer - > 9===============\n",
      "class_name = Dense\n",
      "units = 32\n",
      "activation = linear\n",
      "layer - > 10===============\n",
      "class_name = Activation\n",
      "activation = relu\n",
      "layer - > 11===============\n",
      "class_name = Dense\n",
      "units = 11\n",
      "activation = linear\n",
      "layer - > 12===============\n",
      "class_name = Activation\n",
      "activation = softmax\n",
      "\n",
      "train epochs = 300\n",
      "train batch = 128\n",
      "test batch = 32\n",
      "train time = 19559.123017549515\n",
      "loss = 1.87478656919\n",
      "\n",
      "\n",
      "accuracy = 0.317523889453\n"
     ]
    }
   ],
   "source": [
    "print(model_info)"
   ]
  },
  {
   "cell_type": "code",
   "execution_count": 161,
   "metadata": {
    "collapsed": true
   },
   "outputs": [],
   "source": [
    "from sklearn.metrics import confusion_matrix\n",
    "import matplotlib.pyplot as plt\n",
    "import itertools"
   ]
  },
  {
   "cell_type": "code",
   "execution_count": 162,
   "metadata": {
    "collapsed": true
   },
   "outputs": [],
   "source": [
    "pred = model.predict(test_x)"
   ]
  },
  {
   "cell_type": "code",
   "execution_count": 163,
   "metadata": {},
   "outputs": [
    {
     "data": {
      "text/plain": [
       "array([[    2,     0,     0,   133,  1531,  4327,     2,    15,  4286,\n",
       "          212,   372],\n",
       "       [    1,     0,     0,   790,  4520,  7164,     9,    21,  3999,\n",
       "          189,   598],\n",
       "       [    0,     0,     0,   226,  2012,  9094,    19,     9,  3134,\n",
       "          220,   316],\n",
       "       [    2,     0,     0, 15845,  7958,  1301,     1,    98,  2876,\n",
       "          103,   781],\n",
       "       [    5,     0,     0,  5097, 33694, 35258,    50,    71,  8401,\n",
       "          364,  1982],\n",
       "       [    5,     0,     0,  1549, 20582, 50253,    61,    47, 11332,\n",
       "          484,  1864],\n",
       "       [    0,     0,     0,    90,  4844, 15572,    51,     1,   447,\n",
       "            6,    10],\n",
       "       [    7,     0,     0,   573,  3046,  4076,     0,   203,  2903,\n",
       "           65,   501],\n",
       "       [    8,     0,     0,  2100,  9267, 23049,    12,    65, 16852,\n",
       "          630,  1421],\n",
       "       [    3,     0,     0,  1086,  4264,  6145,     2,    18,  6640,\n",
       "          713,   696],\n",
       "       [    1,     0,     0,   987,  7481, 12122,     6,    25,  5160,\n",
       "          170,  1943]])"
      ]
     },
     "execution_count": 163,
     "metadata": {},
     "output_type": "execute_result"
    }
   ],
   "source": [
    "cnf_matrix = confusion_matrix(np.argmax(test_y, axis = 1), np.argmax(pred, axis = 1))\n",
    "cnf_matrix"
   ]
  },
  {
   "cell_type": "code",
   "execution_count": 169,
   "metadata": {},
   "outputs": [],
   "source": [
    "cnf_matrix_df = pd.DataFrame(cnf_matrix)"
   ]
  },
  {
   "cell_type": "code",
   "execution_count": 170,
   "metadata": {},
   "outputs": [
    {
     "data": {
      "text/html": [
       "<div>\n",
       "<style>\n",
       "    .dataframe thead tr:only-child th {\n",
       "        text-align: right;\n",
       "    }\n",
       "\n",
       "    .dataframe thead th {\n",
       "        text-align: left;\n",
       "    }\n",
       "\n",
       "    .dataframe tbody tr th {\n",
       "        vertical-align: top;\n",
       "    }\n",
       "</style>\n",
       "<table border=\"1\" class=\"dataframe\">\n",
       "  <thead>\n",
       "    <tr style=\"text-align: right;\">\n",
       "      <th></th>\n",
       "      <th>0</th>\n",
       "      <th>1</th>\n",
       "      <th>2</th>\n",
       "      <th>3</th>\n",
       "      <th>4</th>\n",
       "      <th>5</th>\n",
       "      <th>6</th>\n",
       "      <th>7</th>\n",
       "      <th>8</th>\n",
       "      <th>9</th>\n",
       "      <th>10</th>\n",
       "    </tr>\n",
       "  </thead>\n",
       "  <tbody>\n",
       "    <tr>\n",
       "      <th>0</th>\n",
       "      <td>2</td>\n",
       "      <td>0</td>\n",
       "      <td>0</td>\n",
       "      <td>133</td>\n",
       "      <td>1531</td>\n",
       "      <td>4327</td>\n",
       "      <td>2</td>\n",
       "      <td>15</td>\n",
       "      <td>4286</td>\n",
       "      <td>212</td>\n",
       "      <td>372</td>\n",
       "    </tr>\n",
       "    <tr>\n",
       "      <th>1</th>\n",
       "      <td>1</td>\n",
       "      <td>0</td>\n",
       "      <td>0</td>\n",
       "      <td>790</td>\n",
       "      <td>4520</td>\n",
       "      <td>7164</td>\n",
       "      <td>9</td>\n",
       "      <td>21</td>\n",
       "      <td>3999</td>\n",
       "      <td>189</td>\n",
       "      <td>598</td>\n",
       "    </tr>\n",
       "    <tr>\n",
       "      <th>2</th>\n",
       "      <td>0</td>\n",
       "      <td>0</td>\n",
       "      <td>0</td>\n",
       "      <td>226</td>\n",
       "      <td>2012</td>\n",
       "      <td>9094</td>\n",
       "      <td>19</td>\n",
       "      <td>9</td>\n",
       "      <td>3134</td>\n",
       "      <td>220</td>\n",
       "      <td>316</td>\n",
       "    </tr>\n",
       "    <tr>\n",
       "      <th>3</th>\n",
       "      <td>2</td>\n",
       "      <td>0</td>\n",
       "      <td>0</td>\n",
       "      <td>15845</td>\n",
       "      <td>7958</td>\n",
       "      <td>1301</td>\n",
       "      <td>1</td>\n",
       "      <td>98</td>\n",
       "      <td>2876</td>\n",
       "      <td>103</td>\n",
       "      <td>781</td>\n",
       "    </tr>\n",
       "    <tr>\n",
       "      <th>4</th>\n",
       "      <td>5</td>\n",
       "      <td>0</td>\n",
       "      <td>0</td>\n",
       "      <td>5097</td>\n",
       "      <td>33694</td>\n",
       "      <td>35258</td>\n",
       "      <td>50</td>\n",
       "      <td>71</td>\n",
       "      <td>8401</td>\n",
       "      <td>364</td>\n",
       "      <td>1982</td>\n",
       "    </tr>\n",
       "    <tr>\n",
       "      <th>5</th>\n",
       "      <td>5</td>\n",
       "      <td>0</td>\n",
       "      <td>0</td>\n",
       "      <td>1549</td>\n",
       "      <td>20582</td>\n",
       "      <td>50253</td>\n",
       "      <td>61</td>\n",
       "      <td>47</td>\n",
       "      <td>11332</td>\n",
       "      <td>484</td>\n",
       "      <td>1864</td>\n",
       "    </tr>\n",
       "    <tr>\n",
       "      <th>6</th>\n",
       "      <td>0</td>\n",
       "      <td>0</td>\n",
       "      <td>0</td>\n",
       "      <td>90</td>\n",
       "      <td>4844</td>\n",
       "      <td>15572</td>\n",
       "      <td>51</td>\n",
       "      <td>1</td>\n",
       "      <td>447</td>\n",
       "      <td>6</td>\n",
       "      <td>10</td>\n",
       "    </tr>\n",
       "    <tr>\n",
       "      <th>7</th>\n",
       "      <td>7</td>\n",
       "      <td>0</td>\n",
       "      <td>0</td>\n",
       "      <td>573</td>\n",
       "      <td>3046</td>\n",
       "      <td>4076</td>\n",
       "      <td>0</td>\n",
       "      <td>203</td>\n",
       "      <td>2903</td>\n",
       "      <td>65</td>\n",
       "      <td>501</td>\n",
       "    </tr>\n",
       "    <tr>\n",
       "      <th>8</th>\n",
       "      <td>8</td>\n",
       "      <td>0</td>\n",
       "      <td>0</td>\n",
       "      <td>2100</td>\n",
       "      <td>9267</td>\n",
       "      <td>23049</td>\n",
       "      <td>12</td>\n",
       "      <td>65</td>\n",
       "      <td>16852</td>\n",
       "      <td>630</td>\n",
       "      <td>1421</td>\n",
       "    </tr>\n",
       "    <tr>\n",
       "      <th>9</th>\n",
       "      <td>3</td>\n",
       "      <td>0</td>\n",
       "      <td>0</td>\n",
       "      <td>1086</td>\n",
       "      <td>4264</td>\n",
       "      <td>6145</td>\n",
       "      <td>2</td>\n",
       "      <td>18</td>\n",
       "      <td>6640</td>\n",
       "      <td>713</td>\n",
       "      <td>696</td>\n",
       "    </tr>\n",
       "    <tr>\n",
       "      <th>10</th>\n",
       "      <td>1</td>\n",
       "      <td>0</td>\n",
       "      <td>0</td>\n",
       "      <td>987</td>\n",
       "      <td>7481</td>\n",
       "      <td>12122</td>\n",
       "      <td>6</td>\n",
       "      <td>25</td>\n",
       "      <td>5160</td>\n",
       "      <td>170</td>\n",
       "      <td>1943</td>\n",
       "    </tr>\n",
       "  </tbody>\n",
       "</table>\n",
       "</div>"
      ],
      "text/plain": [
       "    0   1   2      3      4      5   6    7      8    9     10\n",
       "0    2   0   0    133   1531   4327   2   15   4286  212   372\n",
       "1    1   0   0    790   4520   7164   9   21   3999  189   598\n",
       "2    0   0   0    226   2012   9094  19    9   3134  220   316\n",
       "3    2   0   0  15845   7958   1301   1   98   2876  103   781\n",
       "4    5   0   0   5097  33694  35258  50   71   8401  364  1982\n",
       "5    5   0   0   1549  20582  50253  61   47  11332  484  1864\n",
       "6    0   0   0     90   4844  15572  51    1    447    6    10\n",
       "7    7   0   0    573   3046   4076   0  203   2903   65   501\n",
       "8    8   0   0   2100   9267  23049  12   65  16852  630  1421\n",
       "9    3   0   0   1086   4264   6145   2   18   6640  713   696\n",
       "10   1   0   0    987   7481  12122   6   25   5160  170  1943"
      ]
     },
     "execution_count": 170,
     "metadata": {},
     "output_type": "execute_result"
    }
   ],
   "source": [
    "cnf_matrix_df"
   ]
  },
  {
   "cell_type": "code",
   "execution_count": 164,
   "metadata": {},
   "outputs": [
    {
     "data": {
      "image/png": "[encoded data removed]",
      "text/plain": [
       "<matplotlib.figure.Figure at 0x1eb3b31ac88>"
      ]
     },
     "metadata": {},
     "output_type": "display_data"
    }
   ],
   "source": [
    "np.set_printoptions(precision=2)\n",
    "plt.figure(figsize=(6, 6), dpi = 120)\n",
    "plot_confusion_matrix(cnf_matrix, classes=encoder.classes_, normalize=True, title='confusion matrix')\n",
    "plt.show()"
   ]
  },
  {
   "cell_type": "code",
   "execution_count": 134,
   "metadata": {},
   "outputs": [],
   "source": [
    "# for i in range(10):\n",
    "#     probabilities = model.predict(test_x[i:i+1,:], batch_size=32, verbose=0)\n",
    "#     probabilities = model.predict(test_x[i:i+1,:])\n",
    "#     probabilities = model.predict(test_x)\n",
    "#     probabilities[probabilities>=0.5] = 1\n",
    "#     probabilities[probabilities<0.5] = 0\n",
    "#     print(probabilities)"
   ]
  },
  {
   "cell_type": "code",
   "execution_count": null,
   "metadata": {
    "collapsed": true
   },
   "outputs": [],
   "source": []
  }
 ],
 "metadata": {
  "kernelspec": {
   "display_name": "Python 3",
   "language": "python",
   "name": "python3"
  },
  "language_info": {
   "codemirror_mode": {
    "name": "ipython",
    "version": 3
   },
   "file_extension": ".py",
   "mimetype": "text/x-python",
   "name": "python",
   "nbconvert_exporter": "python",
   "pygments_lexer": "ipython3",
   "version": "3.5.3"
  }
 },
 "nbformat": 4,
 "nbformat_minor": 2
}
