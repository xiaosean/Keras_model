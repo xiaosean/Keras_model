{
 "cells": [
  {
   "cell_type": "code",
   "execution_count": 38,
   "metadata": {},
   "outputs": [],
   "source": [
    "import time\n",
    "import numpy as np\n",
    "from keras.utils import np_utils\n",
    "import keras.callbacks as cb\n",
    "from keras.models import Sequential\n",
    "from keras.layers.core import Dense, Dropout, Activation\n",
    "from keras.optimizers import RMSprop\n",
    "import feather \n",
    "from mailerWithUtf8 import mail\n",
    "from sklearn.preprocessing import LabelEncoder\n",
    "from keras.models import model_from_json"
   ]
  },
  {
   "cell_type": "markdown",
   "metadata": {},
   "source": [
    "# preprocess load data"
   ]
  },
  {
   "cell_type": "code",
   "execution_count": 39,
   "metadata": {},
   "outputs": [
    {
     "name": "stdout",
     "output_type": "stream",
     "text": [
      "load feather %s seconds 1.5008654594421387\n"
     ]
    }
   ],
   "source": [
    "start_time = time.time()\n",
    "path = 'C:/Users/VIPLAB/Desktop/preprocess_py/marketing_analyze/0710_marketing_train.feather' \n",
    "# path = 'C:/Users/VIPLAB/Desktop/preprocess_py/marketing_analyze/0710_marketing_train_sample.feather' \n",
    "train_df = feather.read_dataframe(path)\n",
    "print('load feather %s seconds', format(time.time() - start_time))\n"
   ]
  },
  {
   "cell_type": "code",
   "execution_count": 40,
   "metadata": {},
   "outputs": [
    {
     "name": "stdout",
     "output_type": "stream",
     "text": [
      "load feather %s seconds 0.3840045928955078\n"
     ]
    }
   ],
   "source": [
    "start_time = time.time()\n",
    "path = 'C:/Users/VIPLAB/Desktop/preprocess_py/marketing_analyze/0710_marketing_test.feather'\n",
    "# path = 'C:/Users/VIPLAB/Desktop/preprocess_py/marketing_analyze/0710_marketing_test_sample.feather' \n",
    "\n",
    "test_df = feather.read_dataframe(path)\n",
    "print('load feather %s seconds', format(time.time() - start_time))"
   ]
  },
  {
   "cell_type": "code",
   "execution_count": 42,
   "metadata": {
    "collapsed": true
   },
   "outputs": [],
   "source": [
    "train_x, train_y = train_df.iloc[:, 0:-1].values, train_df.iloc[:, -1].values"
   ]
  },
  {
   "cell_type": "code",
   "execution_count": 43,
   "metadata": {
    "collapsed": true
   },
   "outputs": [],
   "source": [
    "test_x, test_y = test_df.iloc[:, 0:-1].values, test_df.iloc[:, -1].values"
   ]
  },
  {
   "cell_type": "code",
   "execution_count": 44,
   "metadata": {
    "collapsed": true
   },
   "outputs": [],
   "source": [
    "train_x = train_x.reshape(train_x.shape[0], -1)   # normalize\n",
    "test_x = test_x.reshape(test_x.shape[0], -1)   # normalize\n",
    "\n"
   ]
  },
  {
   "cell_type": "code",
   "execution_count": 45,
   "metadata": {
    "collapsed": true
   },
   "outputs": [],
   "source": [
    "# from sklearn.preprocessing import LabelBinarizer\n",
    "# encoder = LabelBinarizer()\n",
    "# y_train = encoder.fit_transform(y_train)\n",
    "# y_test = encoder.fit_transform(y_test)"
   ]
  },
  {
   "cell_type": "code",
   "execution_count": 46,
   "metadata": {
    "collapsed": true
   },
   "outputs": [],
   "source": [
    "# encode class values as integers\n",
    "encoder = LabelEncoder()\n",
    "encoder.fit(train_y)\n",
    "encoded_Y = encoder.transform(train_y)\n",
    "# convert integers to dummy variables (i.e. one hot encoded)\n",
    "train_y = np_utils.to_categorical(encoded_Y)\n",
    "\n",
    "encoded_Y = encoder.transform(test_y)\n",
    "# convert integers to dummy variables (i.e. one hot encoded)\n",
    "test_y = np_utils.to_categorical(encoded_Y)"
   ]
  },
  {
   "cell_type": "code",
   "execution_count": 47,
   "metadata": {},
   "outputs": [
    {
     "data": {
      "text/plain": [
       "array(['Adult', 'Game', 'HomeLife', 'Infrequent Internet User',\n",
       "       'InstantMessage-High', 'InstantMessage-Low', 'Map', 'News',\n",
       "       'No significant preference', 'Portal', 'Social-media'], dtype=object)"
      ]
     },
     "execution_count": 47,
     "metadata": {},
     "output_type": "execute_result"
    }
   ],
   "source": [
    "# get y unique name\n",
    "encoder.classes_"
   ]
  },
  {
   "cell_type": "code",
   "execution_count": 48,
   "metadata": {},
   "outputs": [
    {
     "data": {
      "text/plain": [
       "1506103"
      ]
     },
     "execution_count": 48,
     "metadata": {},
     "output_type": "execute_result"
    }
   ],
   "source": [
    "len(train_y)"
   ]
  },
  {
   "cell_type": "code",
   "execution_count": 49,
   "metadata": {},
   "outputs": [
    {
     "data": {
      "text/plain": [
       "376526"
      ]
     },
     "execution_count": 49,
     "metadata": {},
     "output_type": "execute_result"
    }
   ],
   "source": [
    "len(test_y)"
   ]
  },
  {
   "cell_type": "markdown",
   "metadata": {},
   "source": [
    "# construct and compile model"
   ]
  },
  {
   "cell_type": "code",
   "execution_count": 50,
   "metadata": {
    "collapsed": true
   },
   "outputs": [],
   "source": [
    "classify_num = 11\n",
    "epochs = 300\n",
    "batch = 128"
   ]
  },
  {
   "cell_type": "markdown",
   "metadata": {},
   "source": [
    "# basic config"
   ]
  },
  {
   "cell_type": "code",
   "execution_count": 52,
   "metadata": {},
   "outputs": [
    {
     "name": "stdout",
     "output_type": "stream",
     "text": [
      "Compiling Model ... \n",
      "Model compield in 0.28941941261291504 seconds\n"
     ]
    }
   ],
   "source": [
    "start_time = time.time()\n",
    "print ('Compiling Model ... ')\n",
    "model = Sequential()\n",
    "model.add(Dense(256, input_shape=train_x[0].shape ))\n",
    "model.add(Activation('relu'))\n",
    "model.add(Dropout(0.2))\n",
    "model.add(Dense(128))\n",
    "model.add(Activation('relu'))\n",
    "model.add(Dropout(0.2))\n",
    "model.add(Dense(64))\n",
    "model.add(Activation('relu'))\n",
    "model.add(Dense(32))\n",
    "model.add(Activation('relu'))\n",
    "model.add(Dense(classify_num))\n",
    "model.add(Activation('softmax'))\n",
    "\n",
    "rms = RMSprop()\n",
    "model.compile(loss='categorical_crossentropy', optimizer=rms, metrics=['accuracy'])\n",
    "\n",
    "print('Model compield in {0} seconds'.format(time.time() - start_time))\n"
   ]
  },
  {
   "cell_type": "markdown",
   "metadata": {},
   "source": [
    "# Train model"
   ]
  },
  {
   "cell_type": "code",
   "execution_count": 53,
   "metadata": {
    "scrolled": false
   },
   "outputs": [
    {
     "name": "stdout",
     "output_type": "stream",
     "text": [
      "Training model...\n",
      "Train on 1355492 samples, validate on 150611 samples\n",
      "Epoch 1/300\n",
      "52s - loss: 1.9661 - acc: 0.2946 - val_loss: 1.9296 - val_acc: 0.3042\n",
      "Epoch 2/300\n",
      "54s - loss: 1.9305 - acc: 0.3051 - val_loss: 1.9195 - val_acc: 0.3085\n",
      "Epoch 3/300\n",
      "53s - loss: 1.9218 - acc: 0.3073 - val_loss: 1.9099 - val_acc: 0.3112\n",
      "Epoch 4/300\n",
      "51s - loss: 1.9189 - acc: 0.3084 - val_loss: 1.9057 - val_acc: 0.3118\n",
      "Epoch 5/300\n",
      "52s - loss: 1.9170 - acc: 0.3093 - val_loss: 1.9090 - val_acc: 0.3115\n",
      "Epoch 6/300\n",
      "54s - loss: 1.9169 - acc: 0.3096 - val_loss: 1.9028 - val_acc: 0.3154\n",
      "Epoch 7/300\n",
      "53s - loss: 1.9158 - acc: 0.3102 - val_loss: 1.9082 - val_acc: 0.3132\n",
      "Epoch 8/300\n",
      "55s - loss: 1.9159 - acc: 0.3105 - val_loss: 1.9105 - val_acc: 0.3136\n",
      "Epoch 9/300\n",
      "54s - loss: 1.9177 - acc: 0.3107 - val_loss: 1.9077 - val_acc: 0.3140\n",
      "Epoch 10/300\n",
      "52s - loss: 1.9166 - acc: 0.3108 - val_loss: 1.8988 - val_acc: 0.3171\n",
      "Epoch 11/300\n",
      "54s - loss: 1.9156 - acc: 0.3113 - val_loss: 1.9062 - val_acc: 0.3131\n",
      "Epoch 12/300\n",
      "52s - loss: 1.9150 - acc: 0.3116 - val_loss: 1.9000 - val_acc: 0.3143\n",
      "Epoch 13/300\n",
      "54s - loss: 1.9145 - acc: 0.3116 - val_loss: 1.9001 - val_acc: 0.3164\n",
      "Epoch 14/300\n",
      "56s - loss: 1.9150 - acc: 0.3115 - val_loss: 1.8981 - val_acc: 0.3172\n",
      "Epoch 15/300\n",
      "52s - loss: 1.9138 - acc: 0.3120 - val_loss: 1.9033 - val_acc: 0.3142\n",
      "Epoch 16/300\n",
      "55s - loss: 1.9135 - acc: 0.3122 - val_loss: 1.8967 - val_acc: 0.3171\n",
      "Epoch 17/300\n",
      "52s - loss: 1.9122 - acc: 0.3126 - val_loss: 1.9014 - val_acc: 0.3142\n",
      "Epoch 18/300\n",
      "55s - loss: 1.9127 - acc: 0.3126 - val_loss: 1.8987 - val_acc: 0.3157\n",
      "Epoch 19/300\n",
      "52s - loss: 1.9124 - acc: 0.3126 - val_loss: 1.8954 - val_acc: 0.3173\n",
      "Epoch 20/300\n",
      "54s - loss: 1.9130 - acc: 0.3123 - val_loss: 1.8964 - val_acc: 0.3182\n",
      "Epoch 21/300\n",
      "55s - loss: 1.9119 - acc: 0.3129 - val_loss: 1.8961 - val_acc: 0.3163\n",
      "Epoch 22/300\n",
      "54s - loss: 1.9143 - acc: 0.3130 - val_loss: 1.9027 - val_acc: 0.3163\n",
      "Epoch 23/300\n",
      "51s - loss: 1.9155 - acc: 0.3123 - val_loss: 1.9004 - val_acc: 0.3161\n",
      "Epoch 24/300\n",
      "54s - loss: 1.9149 - acc: 0.3126 - val_loss: 1.8962 - val_acc: 0.3185\n",
      "Epoch 25/300\n",
      "52s - loss: 1.9160 - acc: 0.3129 - val_loss: 1.8965 - val_acc: 0.3185\n",
      "Epoch 26/300\n",
      "53s - loss: 1.9154 - acc: 0.3124 - val_loss: 1.8977 - val_acc: 0.3172\n",
      "Epoch 27/300\n",
      "53s - loss: 1.9169 - acc: 0.3132 - val_loss: 1.8998 - val_acc: 0.3166\n",
      "Epoch 28/300\n",
      "51s - loss: 1.9168 - acc: 0.3127 - val_loss: 1.8969 - val_acc: 0.3191\n",
      "Epoch 29/300\n",
      "54s - loss: 1.9166 - acc: 0.3127 - val_loss: 1.9004 - val_acc: 0.3166\n",
      "Epoch 30/300\n",
      "53s - loss: 1.9154 - acc: 0.3131 - val_loss: 1.9019 - val_acc: 0.3155\n",
      "Epoch 31/300\n",
      "52s - loss: 1.9156 - acc: 0.3132 - val_loss: 1.9056 - val_acc: 0.3164\n",
      "Epoch 32/300\n",
      "57s - loss: 1.9157 - acc: 0.3138 - val_loss: 1.9008 - val_acc: 0.3172\n",
      "Epoch 33/300\n",
      "55s - loss: 1.9165 - acc: 0.3129 - val_loss: 1.8982 - val_acc: 0.3191\n",
      "Epoch 34/300\n",
      "55s - loss: 1.9194 - acc: 0.3131 - val_loss: 1.8972 - val_acc: 0.3172\n",
      "Epoch 35/300\n",
      "53s - loss: 1.9210 - acc: 0.3129 - val_loss: 1.9119 - val_acc: 0.3152\n",
      "Epoch 36/300\n",
      "53s - loss: 1.9217 - acc: 0.3120 - val_loss: 1.9121 - val_acc: 0.3160\n",
      "Epoch 37/300\n",
      "54s - loss: 1.9219 - acc: 0.3126 - val_loss: 1.9023 - val_acc: 0.3161\n",
      "Epoch 38/300\n",
      "52s - loss: 1.9225 - acc: 0.3126 - val_loss: 1.9064 - val_acc: 0.3170\n",
      "Epoch 39/300\n",
      "52s - loss: 1.9235 - acc: 0.3123 - val_loss: 1.9160 - val_acc: 0.3140\n",
      "Epoch 40/300\n",
      "50s - loss: 1.9251 - acc: 0.3124 - val_loss: 1.9129 - val_acc: 0.3147\n",
      "Epoch 41/300\n",
      "51s - loss: 1.9286 - acc: 0.3124 - val_loss: 1.9028 - val_acc: 0.3179\n",
      "Epoch 42/300\n",
      "54s - loss: 1.9241 - acc: 0.3124 - val_loss: 1.9041 - val_acc: 0.3165\n",
      "Epoch 43/300\n",
      "53s - loss: 1.9243 - acc: 0.3124 - val_loss: 1.9073 - val_acc: 0.3186\n",
      "Epoch 44/300\n",
      "53s - loss: 1.9328 - acc: 0.3126 - val_loss: 1.9160 - val_acc: 0.3170\n",
      "Epoch 45/300\n",
      "53s - loss: 1.9320 - acc: 0.3122 - val_loss: 1.9074 - val_acc: 0.3188\n",
      "Epoch 46/300\n",
      "54s - loss: 1.9284 - acc: 0.3121 - val_loss: 1.9052 - val_acc: 0.3166\n",
      "Epoch 47/300\n",
      "53s - loss: 1.9297 - acc: 0.3124 - val_loss: 1.9080 - val_acc: 0.3176\n",
      "Epoch 48/300\n",
      "55s - loss: 1.9249 - acc: 0.3128 - val_loss: 1.9073 - val_acc: 0.3164\n",
      "Epoch 49/300\n",
      "54s - loss: 1.9281 - acc: 0.3124 - val_loss: 1.9116 - val_acc: 0.3169\n",
      "Epoch 50/300\n",
      "52s - loss: 1.9309 - acc: 0.3126 - val_loss: 1.9159 - val_acc: 0.3134\n",
      "Epoch 51/300\n",
      "54s - loss: 1.9304 - acc: 0.3123 - val_loss: 1.9117 - val_acc: 0.3159\n",
      "Epoch 52/300\n",
      "54s - loss: 1.9320 - acc: 0.3125 - val_loss: 1.9155 - val_acc: 0.3155\n",
      "Epoch 53/300\n",
      "54s - loss: 1.9327 - acc: 0.3120 - val_loss: 1.9193 - val_acc: 0.3153\n",
      "Epoch 54/300\n",
      "53s - loss: 1.9324 - acc: 0.3125 - val_loss: 1.9220 - val_acc: 0.3156\n",
      "Epoch 55/300\n",
      "52s - loss: 1.9393 - acc: 0.3117 - val_loss: 1.9123 - val_acc: 0.3167\n",
      "Epoch 56/300\n",
      "51s - loss: 1.9352 - acc: 0.3125 - val_loss: 1.9133 - val_acc: 0.3179\n",
      "Epoch 57/300\n",
      "50s - loss: 1.9329 - acc: 0.3127 - val_loss: 1.9180 - val_acc: 0.3142\n",
      "Epoch 58/300\n",
      "46s - loss: 1.9311 - acc: 0.3125 - val_loss: 1.9074 - val_acc: 0.3171\n",
      "Epoch 59/300\n",
      "47s - loss: 1.9338 - acc: 0.3127 - val_loss: 1.9089 - val_acc: 0.3163\n",
      "Epoch 60/300\n",
      "46s - loss: 1.9326 - acc: 0.3129 - val_loss: 1.9138 - val_acc: 0.3175\n",
      "Epoch 61/300\n",
      "46s - loss: 1.9322 - acc: 0.3131 - val_loss: 1.9099 - val_acc: 0.3151\n",
      "Epoch 62/300\n",
      "47s - loss: 1.9307 - acc: 0.3132 - val_loss: 1.9170 - val_acc: 0.3165\n",
      "Epoch 63/300\n",
      "47s - loss: 1.9320 - acc: 0.3130 - val_loss: 1.9160 - val_acc: 0.3173\n",
      "Epoch 64/300\n",
      "46s - loss: 1.9342 - acc: 0.3129 - val_loss: 1.9231 - val_acc: 0.3160\n",
      "Epoch 65/300\n",
      "46s - loss: 1.9355 - acc: 0.3131 - val_loss: 1.9157 - val_acc: 0.3172\n",
      "Epoch 66/300\n",
      "46s - loss: 1.9290 - acc: 0.3130 - val_loss: 1.9135 - val_acc: 0.3161\n",
      "Epoch 67/300\n",
      "46s - loss: 1.9294 - acc: 0.3132 - val_loss: 1.9190 - val_acc: 0.3171\n",
      "Epoch 68/300\n",
      "47s - loss: 1.9352 - acc: 0.3127 - val_loss: 1.9128 - val_acc: 0.3178\n",
      "Epoch 69/300\n",
      "46s - loss: 1.9296 - acc: 0.3129 - val_loss: 1.9153 - val_acc: 0.3178\n",
      "Epoch 70/300\n",
      "50s - loss: 1.9284 - acc: 0.3134 - val_loss: 1.9082 - val_acc: 0.3170\n",
      "Epoch 71/300\n",
      "52s - loss: 1.9291 - acc: 0.3135 - val_loss: 1.9097 - val_acc: 0.3154\n",
      "Epoch 72/300\n",
      "52s - loss: 1.9338 - acc: 0.3132 - val_loss: 1.9136 - val_acc: 0.3183\n",
      "Epoch 73/300\n",
      "51s - loss: 1.9378 - acc: 0.3134 - val_loss: 1.9175 - val_acc: 0.3180\n",
      "Epoch 74/300\n",
      "50s - loss: 1.9367 - acc: 0.3131 - val_loss: 1.9215 - val_acc: 0.3180\n",
      "Epoch 75/300\n",
      "52s - loss: 1.9374 - acc: 0.3130 - val_loss: 1.9164 - val_acc: 0.3186\n",
      "Epoch 76/300\n",
      "50s - loss: 1.9398 - acc: 0.3131 - val_loss: 1.9248 - val_acc: 0.3188\n",
      "Epoch 77/300\n",
      "50s - loss: 1.9475 - acc: 0.3130 - val_loss: 1.9450 - val_acc: 0.3186\n",
      "Epoch 78/300\n",
      "51s - loss: 1.9428 - acc: 0.3135 - val_loss: 1.9403 - val_acc: 0.3154\n",
      "Epoch 79/300\n",
      "50s - loss: 1.9477 - acc: 0.3131 - val_loss: 1.9294 - val_acc: 0.3181\n",
      "Epoch 80/300\n",
      "52s - loss: 1.9507 - acc: 0.3131 - val_loss: 1.9273 - val_acc: 0.3178\n",
      "Epoch 81/300\n",
      "51s - loss: 1.9461 - acc: 0.3134 - val_loss: 1.9191 - val_acc: 0.3177\n",
      "Epoch 82/300\n",
      "49s - loss: 1.9497 - acc: 0.3127 - val_loss: 1.9324 - val_acc: 0.3169\n",
      "Epoch 83/300\n",
      "51s - loss: 1.9515 - acc: 0.3127 - val_loss: 1.9291 - val_acc: 0.3179\n",
      "Epoch 84/300\n",
      "51s - loss: 1.9503 - acc: 0.3120 - val_loss: 1.9252 - val_acc: 0.3167\n",
      "Epoch 85/300\n",
      "50s - loss: 1.9477 - acc: 0.3118 - val_loss: 1.9356 - val_acc: 0.3159\n",
      "Epoch 86/300\n",
      "51s - loss: 1.9484 - acc: 0.3118 - val_loss: 1.9304 - val_acc: 0.3128\n",
      "Epoch 87/300\n",
      "51s - loss: 1.9473 - acc: 0.3118 - val_loss: 1.9275 - val_acc: 0.3154\n",
      "Epoch 88/300\n",
      "51s - loss: 1.9559 - acc: 0.3122 - val_loss: 1.9378 - val_acc: 0.3146\n",
      "Epoch 89/300\n",
      "51s - loss: 1.9480 - acc: 0.3122 - val_loss: 1.9281 - val_acc: 0.3171\n",
      "Epoch 90/300\n",
      "53s - loss: 1.9521 - acc: 0.3116 - val_loss: 1.9308 - val_acc: 0.3171\n",
      "Epoch 91/300\n",
      "52s - loss: 1.9537 - acc: 0.3121 - val_loss: 1.9325 - val_acc: 0.3176\n",
      "Epoch 92/300\n",
      "52s - loss: 1.9584 - acc: 0.3115 - val_loss: 1.9299 - val_acc: 0.3182\n",
      "Epoch 93/300\n",
      "53s - loss: 1.9491 - acc: 0.3118 - val_loss: 1.9341 - val_acc: 0.3156\n",
      "Epoch 94/300\n",
      "54s - loss: 1.9566 - acc: 0.3114 - val_loss: 1.9433 - val_acc: 0.3171\n",
      "Epoch 95/300\n",
      "51s - loss: 1.9631 - acc: 0.3112 - val_loss: 1.9439 - val_acc: 0.3169\n",
      "Epoch 96/300\n",
      "51s - loss: 1.9670 - acc: 0.3110 - val_loss: 1.9448 - val_acc: 0.3163\n",
      "Epoch 97/300\n",
      "51s - loss: 1.9685 - acc: 0.3108 - val_loss: 1.9505 - val_acc: 0.3157\n",
      "Epoch 98/300\n",
      "52s - loss: 1.9697 - acc: 0.3112 - val_loss: 1.9466 - val_acc: 0.3169\n",
      "Epoch 99/300\n"
     ]
    },
    {
     "name": "stdout",
     "output_type": "stream",
     "text": [
      "50s - loss: 1.9724 - acc: 0.3104 - val_loss: 1.9477 - val_acc: 0.3167\n",
      "Epoch 100/300\n",
      "50s - loss: 1.9645 - acc: 0.3110 - val_loss: 1.9409 - val_acc: 0.3172\n",
      "Epoch 101/300\n",
      "49s - loss: 1.9615 - acc: 0.3108 - val_loss: 1.9467 - val_acc: 0.3157\n",
      "Epoch 102/300\n",
      "47s - loss: 1.9573 - acc: 0.3109 - val_loss: 1.9450 - val_acc: 0.3178\n",
      "Epoch 103/300\n",
      "46s - loss: 1.9587 - acc: 0.3108 - val_loss: 1.9396 - val_acc: 0.3172\n",
      "Epoch 104/300\n",
      "46s - loss: 1.9598 - acc: 0.3109 - val_loss: 1.9439 - val_acc: 0.3169\n",
      "Epoch 105/300\n",
      "46s - loss: 1.9656 - acc: 0.3108 - val_loss: 1.9539 - val_acc: 0.3094\n",
      "Epoch 106/300\n",
      "46s - loss: 1.9787 - acc: 0.3100 - val_loss: 1.9579 - val_acc: 0.3169\n",
      "Epoch 107/300\n",
      "46s - loss: 1.9766 - acc: 0.3099 - val_loss: 1.9482 - val_acc: 0.3151\n",
      "Epoch 108/300\n",
      "46s - loss: 1.9817 - acc: 0.3101 - val_loss: 1.9584 - val_acc: 0.3135\n",
      "Epoch 109/300\n",
      "46s - loss: 1.9798 - acc: 0.3093 - val_loss: 1.9526 - val_acc: 0.3112\n",
      "Epoch 110/300\n",
      "47s - loss: 1.9860 - acc: 0.3095 - val_loss: 1.9526 - val_acc: 0.3148\n",
      "Epoch 111/300\n",
      "46s - loss: 1.9765 - acc: 0.3095 - val_loss: 1.9497 - val_acc: 0.3154\n",
      "Epoch 112/300\n",
      "46s - loss: 1.9793 - acc: 0.3098 - val_loss: 1.9468 - val_acc: 0.3157\n",
      "Epoch 113/300\n",
      "46s - loss: 1.9767 - acc: 0.3095 - val_loss: 1.9522 - val_acc: 0.3121\n",
      "Epoch 114/300\n",
      "46s - loss: 1.9747 - acc: 0.3097 - val_loss: 1.9482 - val_acc: 0.3164\n",
      "Epoch 115/300\n",
      "46s - loss: 1.9797 - acc: 0.3104 - val_loss: 1.9678 - val_acc: 0.3153\n",
      "Epoch 116/300\n",
      "46s - loss: 1.9740 - acc: 0.3107 - val_loss: 1.9424 - val_acc: 0.3161\n",
      "Epoch 117/300\n",
      "46s - loss: 1.9735 - acc: 0.3101 - val_loss: 1.9446 - val_acc: 0.3159\n",
      "Epoch 118/300\n",
      "46s - loss: 1.9723 - acc: 0.3099 - val_loss: 1.9483 - val_acc: 0.3162\n",
      "Epoch 119/300\n",
      "46s - loss: 1.9675 - acc: 0.3096 - val_loss: 1.9407 - val_acc: 0.3173\n",
      "Epoch 120/300\n",
      "46s - loss: 1.9654 - acc: 0.3098 - val_loss: 1.9410 - val_acc: 0.3165\n",
      "Epoch 121/300\n",
      "46s - loss: 1.9636 - acc: 0.3103 - val_loss: 1.9417 - val_acc: 0.3170\n",
      "Epoch 122/300\n",
      "46s - loss: 1.9626 - acc: 0.3100 - val_loss: 1.9431 - val_acc: 0.3142\n",
      "Epoch 123/300\n",
      "46s - loss: 1.9701 - acc: 0.3097 - val_loss: 1.9396 - val_acc: 0.3155\n",
      "Epoch 124/300\n",
      "46s - loss: 1.9693 - acc: 0.3097 - val_loss: 1.9496 - val_acc: 0.3141\n",
      "Epoch 125/300\n",
      "46s - loss: 1.9760 - acc: 0.3098 - val_loss: 1.9545 - val_acc: 0.3145\n",
      "Epoch 126/300\n",
      "46s - loss: 1.9712 - acc: 0.3097 - val_loss: 1.9476 - val_acc: 0.3165\n",
      "Epoch 127/300\n",
      "46s - loss: 1.9723 - acc: 0.3100 - val_loss: 1.9526 - val_acc: 0.3122\n",
      "Epoch 128/300\n",
      "46s - loss: 1.9710 - acc: 0.3099 - val_loss: 1.9437 - val_acc: 0.3160\n",
      "Epoch 129/300\n",
      "46s - loss: 1.9689 - acc: 0.3098 - val_loss: 1.9475 - val_acc: 0.3131\n",
      "Epoch 130/300\n",
      "46s - loss: 1.9660 - acc: 0.3100 - val_loss: 1.9355 - val_acc: 0.3158\n",
      "Epoch 131/300\n",
      "46s - loss: 1.9646 - acc: 0.3105 - val_loss: 1.9429 - val_acc: 0.3135\n",
      "Epoch 132/300\n",
      "46s - loss: 1.9709 - acc: 0.3096 - val_loss: 1.9451 - val_acc: 0.3153\n",
      "Epoch 133/300\n",
      "46s - loss: 1.9680 - acc: 0.3097 - val_loss: 1.9440 - val_acc: 0.3159\n",
      "Epoch 134/300\n",
      "46s - loss: 1.9675 - acc: 0.3098 - val_loss: 1.9446 - val_acc: 0.3163\n",
      "Epoch 135/300\n",
      "46s - loss: 1.9686 - acc: 0.3092 - val_loss: 1.9455 - val_acc: 0.3145\n",
      "Epoch 136/300\n",
      "46s - loss: 1.9687 - acc: 0.3088 - val_loss: 1.9443 - val_acc: 0.3151\n",
      "Epoch 137/300\n",
      "46s - loss: 1.9657 - acc: 0.3097 - val_loss: 1.9473 - val_acc: 0.3153\n",
      "Epoch 138/300\n",
      "46s - loss: 1.9675 - acc: 0.3090 - val_loss: 1.9472 - val_acc: 0.3138\n",
      "Epoch 139/300\n",
      "46s - loss: 1.9663 - acc: 0.3093 - val_loss: 1.9406 - val_acc: 0.3168\n",
      "Epoch 140/300\n",
      "46s - loss: 1.9690 - acc: 0.3089 - val_loss: 1.9460 - val_acc: 0.3151\n",
      "Epoch 141/300\n",
      "46s - loss: 1.9698 - acc: 0.3092 - val_loss: 1.9399 - val_acc: 0.3178\n",
      "Epoch 142/300\n",
      "47s - loss: 1.9698 - acc: 0.3089 - val_loss: 1.9458 - val_acc: 0.3123\n",
      "Epoch 143/300\n",
      "46s - loss: 1.9674 - acc: 0.3087 - val_loss: 1.9447 - val_acc: 0.3164\n",
      "Epoch 144/300\n",
      "46s - loss: 1.9729 - acc: 0.3090 - val_loss: 1.9493 - val_acc: 0.3156\n",
      "Epoch 145/300\n",
      "46s - loss: 1.9811 - acc: 0.3095 - val_loss: 1.9564 - val_acc: 0.3181\n",
      "Epoch 146/300\n",
      "46s - loss: 1.9842 - acc: 0.3088 - val_loss: 1.9484 - val_acc: 0.3176\n",
      "Epoch 147/300\n",
      "46s - loss: 1.9806 - acc: 0.3091 - val_loss: 1.9630 - val_acc: 0.3130\n",
      "Epoch 148/300\n",
      "46s - loss: 1.9818 - acc: 0.3087 - val_loss: 1.9544 - val_acc: 0.3164\n",
      "Epoch 149/300\n",
      "46s - loss: 1.9798 - acc: 0.3089 - val_loss: 1.9511 - val_acc: 0.3167\n",
      "Epoch 150/300\n",
      "46s - loss: 1.9751 - acc: 0.3088 - val_loss: 1.9461 - val_acc: 0.3171\n",
      "Epoch 151/300\n",
      "46s - loss: 1.9797 - acc: 0.3093 - val_loss: 1.9547 - val_acc: 0.3118\n",
      "Epoch 152/300\n",
      "46s - loss: 1.9778 - acc: 0.3086 - val_loss: 1.9496 - val_acc: 0.3148\n",
      "Epoch 153/300\n",
      "46s - loss: 1.9783 - acc: 0.3089 - val_loss: 1.9553 - val_acc: 0.3135\n",
      "Epoch 154/300\n",
      "46s - loss: 1.9805 - acc: 0.3084 - val_loss: 1.9601 - val_acc: 0.3143\n",
      "Epoch 155/300\n",
      "46s - loss: 1.9828 - acc: 0.3084 - val_loss: 1.9491 - val_acc: 0.3161\n",
      "Epoch 156/300\n",
      "46s - loss: 1.9714 - acc: 0.3092 - val_loss: 1.9459 - val_acc: 0.3130\n",
      "Epoch 157/300\n",
      "46s - loss: 1.9742 - acc: 0.3088 - val_loss: 1.9503 - val_acc: 0.3157\n",
      "Epoch 158/300\n",
      "46s - loss: 1.9758 - acc: 0.3088 - val_loss: 1.9520 - val_acc: 0.3141\n",
      "Epoch 159/300\n",
      "46s - loss: 1.9788 - acc: 0.3093 - val_loss: 1.9479 - val_acc: 0.3156\n",
      "Epoch 160/300\n",
      "46s - loss: 1.9782 - acc: 0.3092 - val_loss: 1.9524 - val_acc: 0.3159\n",
      "Epoch 161/300\n",
      "46s - loss: 1.9848 - acc: 0.3098 - val_loss: 1.9448 - val_acc: 0.3150\n",
      "Epoch 162/300\n",
      "46s - loss: 1.9794 - acc: 0.3097 - val_loss: 1.9485 - val_acc: 0.3139\n",
      "Epoch 163/300\n",
      "46s - loss: 1.9752 - acc: 0.3095 - val_loss: 1.9458 - val_acc: 0.3148\n",
      "Epoch 164/300\n",
      "46s - loss: 1.9751 - acc: 0.3095 - val_loss: 1.9401 - val_acc: 0.3169\n",
      "Epoch 165/300\n",
      "46s - loss: 1.9712 - acc: 0.3098 - val_loss: 1.9502 - val_acc: 0.3157\n",
      "Epoch 166/300\n",
      "46s - loss: 1.9784 - acc: 0.3102 - val_loss: 1.9489 - val_acc: 0.3169\n",
      "Epoch 167/300\n",
      "46s - loss: 1.9786 - acc: 0.3098 - val_loss: 1.9666 - val_acc: 0.3118\n",
      "Epoch 168/300\n",
      "46s - loss: 1.9759 - acc: 0.3099 - val_loss: 1.9450 - val_acc: 0.3162\n",
      "Epoch 169/300\n",
      "46s - loss: 1.9865 - acc: 0.3096 - val_loss: 1.9510 - val_acc: 0.3150\n",
      "Epoch 170/300\n",
      "46s - loss: 1.9845 - acc: 0.3099 - val_loss: 1.9601 - val_acc: 0.3168\n",
      "Epoch 171/300\n",
      "46s - loss: 1.9771 - acc: 0.3097 - val_loss: 1.9513 - val_acc: 0.3161\n",
      "Epoch 172/300\n",
      "46s - loss: 1.9733 - acc: 0.3097 - val_loss: 1.9464 - val_acc: 0.3142\n",
      "Epoch 173/300\n",
      "46s - loss: 1.9821 - acc: 0.3101 - val_loss: 1.9630 - val_acc: 0.3142\n",
      "Epoch 174/300\n",
      "46s - loss: 1.9720 - acc: 0.3096 - val_loss: 1.9518 - val_acc: 0.3141\n",
      "Epoch 175/300\n",
      "46s - loss: 1.9741 - acc: 0.3099 - val_loss: 1.9541 - val_acc: 0.3117\n",
      "Epoch 176/300\n",
      "46s - loss: 1.9779 - acc: 0.3100 - val_loss: 1.9492 - val_acc: 0.3145\n",
      "Epoch 177/300\n",
      "46s - loss: 1.9696 - acc: 0.3100 - val_loss: 1.9482 - val_acc: 0.3164\n",
      "Epoch 178/300\n",
      "46s - loss: 1.9771 - acc: 0.3103 - val_loss: 1.9566 - val_acc: 0.3148\n",
      "Epoch 179/300\n",
      "46s - loss: 1.9662 - acc: 0.3102 - val_loss: 1.9449 - val_acc: 0.3157\n",
      "Epoch 180/300\n",
      "46s - loss: 1.9799 - acc: 0.3101 - val_loss: 1.9474 - val_acc: 0.3167\n",
      "Epoch 181/300\n",
      "46s - loss: 1.9733 - acc: 0.3106 - val_loss: 1.9612 - val_acc: 0.3153\n",
      "Epoch 182/300\n",
      "46s - loss: 1.9797 - acc: 0.3104 - val_loss: 1.9519 - val_acc: 0.3158\n",
      "Epoch 183/300\n",
      "46s - loss: 1.9805 - acc: 0.3101 - val_loss: 1.9537 - val_acc: 0.3139\n",
      "Epoch 184/300\n",
      "46s - loss: 1.9743 - acc: 0.3101 - val_loss: 1.9452 - val_acc: 0.3156\n",
      "Epoch 185/300\n",
      "46s - loss: 1.9751 - acc: 0.3099 - val_loss: 1.9529 - val_acc: 0.3149\n",
      "Epoch 186/300\n",
      "46s - loss: 1.9756 - acc: 0.3103 - val_loss: 1.9479 - val_acc: 0.3158\n",
      "Epoch 187/300\n",
      "46s - loss: 1.9837 - acc: 0.3099 - val_loss: 1.9529 - val_acc: 0.3139\n",
      "Epoch 188/300\n",
      "46s - loss: 1.9808 - acc: 0.3102 - val_loss: 1.9544 - val_acc: 0.3165\n",
      "Epoch 189/300\n",
      "46s - loss: 1.9864 - acc: 0.3102 - val_loss: 1.9627 - val_acc: 0.3172\n",
      "Epoch 190/300\n",
      "46s - loss: 1.9814 - acc: 0.3101 - val_loss: 1.9438 - val_acc: 0.3165\n",
      "Epoch 191/300\n",
      "46s - loss: 1.9837 - acc: 0.3098 - val_loss: 1.9480 - val_acc: 0.3174\n",
      "Epoch 192/300\n",
      "46s - loss: 1.9861 - acc: 0.3101 - val_loss: 1.9489 - val_acc: 0.3163\n",
      "Epoch 193/300\n",
      "46s - loss: 1.9892 - acc: 0.3095 - val_loss: 1.9482 - val_acc: 0.3154\n",
      "Epoch 194/300\n",
      "46s - loss: 1.9880 - acc: 0.3095 - val_loss: 1.9550 - val_acc: 0.3173\n",
      "Epoch 195/300\n",
      "46s - loss: 1.9862 - acc: 0.3100 - val_loss: 1.9633 - val_acc: 0.3136\n",
      "Epoch 196/300\n",
      "46s - loss: 1.9901 - acc: 0.3107 - val_loss: 1.9588 - val_acc: 0.3140\n",
      "Epoch 197/300\n"
     ]
    },
    {
     "name": "stdout",
     "output_type": "stream",
     "text": [
      "46s - loss: 1.9847 - acc: 0.3102 - val_loss: 1.9671 - val_acc: 0.3159\n",
      "Epoch 198/300\n",
      "46s - loss: 1.9865 - acc: 0.3102 - val_loss: 1.9547 - val_acc: 0.3179\n",
      "Epoch 199/300\n",
      "46s - loss: 1.9867 - acc: 0.3104 - val_loss: 1.9533 - val_acc: 0.3170\n",
      "Epoch 200/300\n",
      "46s - loss: 1.9856 - acc: 0.3101 - val_loss: 1.9652 - val_acc: 0.3174\n",
      "Epoch 201/300\n",
      "46s - loss: 1.9884 - acc: 0.3105 - val_loss: 1.9640 - val_acc: 0.3168\n",
      "Epoch 202/300\n",
      "46s - loss: 1.9999 - acc: 0.3102 - val_loss: 1.9751 - val_acc: 0.3164\n",
      "Epoch 203/300\n",
      "46s - loss: 2.0082 - acc: 0.3102 - val_loss: 1.9614 - val_acc: 0.3163\n",
      "Epoch 204/300\n",
      "46s - loss: 2.0022 - acc: 0.3104 - val_loss: 2.0219 - val_acc: 0.3139\n",
      "Epoch 205/300\n",
      "46s - loss: 2.0117 - acc: 0.3105 - val_loss: 2.0908 - val_acc: 0.3137\n",
      "Epoch 206/300\n",
      "47s - loss: 2.0115 - acc: 0.3101 - val_loss: 1.9744 - val_acc: 0.3145\n",
      "Epoch 207/300\n",
      "46s - loss: 2.0236 - acc: 0.3104 - val_loss: 1.9689 - val_acc: 0.3170\n",
      "Epoch 208/300\n",
      "46s - loss: 2.0216 - acc: 0.3105 - val_loss: 1.9978 - val_acc: 0.3163\n",
      "Epoch 209/300\n",
      "46s - loss: 2.0202 - acc: 0.3100 - val_loss: 2.0136 - val_acc: 0.3143\n",
      "Epoch 210/300\n",
      "46s - loss: 2.0225 - acc: 0.3103 - val_loss: 1.9839 - val_acc: 0.3138\n",
      "Epoch 211/300\n",
      "46s - loss: 2.0111 - acc: 0.3101 - val_loss: 2.0086 - val_acc: 0.3160\n",
      "Epoch 212/300\n",
      "46s - loss: 2.0340 - acc: 0.3099 - val_loss: 2.1195 - val_acc: 0.3142\n",
      "Epoch 213/300\n",
      "46s - loss: 2.0126 - acc: 0.3100 - val_loss: 2.0395 - val_acc: 0.3129\n",
      "Epoch 214/300\n",
      "46s - loss: 2.0238 - acc: 0.3101 - val_loss: 1.9858 - val_acc: 0.3085\n",
      "Epoch 215/300\n",
      "46s - loss: 2.0120 - acc: 0.3097 - val_loss: 2.0486 - val_acc: 0.3069\n",
      "Epoch 216/300\n",
      "46s - loss: 2.0213 - acc: 0.3096 - val_loss: 1.9895 - val_acc: 0.3138\n",
      "Epoch 217/300\n",
      "46s - loss: 2.0183 - acc: 0.3097 - val_loss: 1.9971 - val_acc: 0.3141\n",
      "Epoch 218/300\n",
      "46s - loss: 2.0140 - acc: 0.3099 - val_loss: 1.9620 - val_acc: 0.3142\n",
      "Epoch 219/300\n",
      "47s - loss: 2.0093 - acc: 0.3097 - val_loss: 2.0522 - val_acc: 0.3134\n",
      "Epoch 220/300\n",
      "46s - loss: 1.9959 - acc: 0.3099 - val_loss: 2.0129 - val_acc: 0.3104\n",
      "Epoch 221/300\n",
      "46s - loss: 1.9941 - acc: 0.3098 - val_loss: 1.9702 - val_acc: 0.3161\n",
      "Epoch 222/300\n",
      "46s - loss: 1.9937 - acc: 0.3094 - val_loss: 1.9585 - val_acc: 0.3101\n",
      "Epoch 223/300\n",
      "46s - loss: 1.9867 - acc: 0.3100 - val_loss: 1.9647 - val_acc: 0.3098\n",
      "Epoch 224/300\n",
      "46s - loss: 1.9814 - acc: 0.3100 - val_loss: 1.9591 - val_acc: 0.3087\n",
      "Epoch 225/300\n",
      "46s - loss: 1.9859 - acc: 0.3097 - val_loss: 1.9587 - val_acc: 0.3134\n",
      "Epoch 226/300\n",
      "47s - loss: 1.9881 - acc: 0.3099 - val_loss: 1.9652 - val_acc: 0.3082\n",
      "Epoch 227/300\n",
      "46s - loss: 1.9792 - acc: 0.3100 - val_loss: 1.9638 - val_acc: 0.3151\n",
      "Epoch 228/300\n",
      "46s - loss: 1.9733 - acc: 0.3102 - val_loss: 1.9461 - val_acc: 0.3181\n",
      "Epoch 229/300\n",
      "46s - loss: 1.9716 - acc: 0.3105 - val_loss: 1.9492 - val_acc: 0.3149\n",
      "Epoch 230/300\n",
      "46s - loss: 1.9656 - acc: 0.3101 - val_loss: 1.9437 - val_acc: 0.3129\n",
      "Epoch 231/300\n",
      "46s - loss: 1.9685 - acc: 0.3109 - val_loss: 1.9450 - val_acc: 0.3168\n",
      "Epoch 232/300\n",
      "46s - loss: 1.9698 - acc: 0.3106 - val_loss: 1.9555 - val_acc: 0.3133\n",
      "Epoch 233/300\n",
      "46s - loss: 1.9697 - acc: 0.3105 - val_loss: 1.9504 - val_acc: 0.3158\n",
      "Epoch 234/300\n",
      "46s - loss: 1.9690 - acc: 0.3103 - val_loss: 1.9487 - val_acc: 0.3133\n",
      "Epoch 235/300\n",
      "46s - loss: 1.9732 - acc: 0.3104 - val_loss: 1.9489 - val_acc: 0.3153\n",
      "Epoch 236/300\n",
      "46s - loss: 1.9759 - acc: 0.3099 - val_loss: 1.9421 - val_acc: 0.3155\n",
      "Epoch 237/300\n",
      "46s - loss: 1.9766 - acc: 0.3108 - val_loss: 1.9497 - val_acc: 0.3117\n",
      "Epoch 238/300\n",
      "46s - loss: 1.9807 - acc: 0.3104 - val_loss: 1.9570 - val_acc: 0.3149\n",
      "Epoch 239/300\n",
      "47s - loss: 1.9829 - acc: 0.3103 - val_loss: 1.9632 - val_acc: 0.3161\n",
      "Epoch 240/300\n",
      "47s - loss: 1.9948 - acc: 0.3103 - val_loss: 1.9929 - val_acc: 0.3137\n",
      "Epoch 241/300\n",
      "50s - loss: 1.9961 - acc: 0.3105 - val_loss: 1.9668 - val_acc: 0.3162\n",
      "Epoch 242/300\n",
      "48s - loss: 1.9964 - acc: 0.3106 - val_loss: 1.9881 - val_acc: 0.3126\n",
      "Epoch 243/300\n",
      "46s - loss: 2.0021 - acc: 0.3105 - val_loss: 2.0005 - val_acc: 0.3101\n",
      "Epoch 244/300\n",
      "46s - loss: 2.0049 - acc: 0.3098 - val_loss: 1.9808 - val_acc: 0.3040\n",
      "Epoch 245/300\n",
      "46s - loss: 2.0055 - acc: 0.3104 - val_loss: 2.0116 - val_acc: 0.3104\n",
      "Epoch 246/300\n",
      "46s - loss: 2.0061 - acc: 0.3106 - val_loss: 1.9676 - val_acc: 0.3158\n",
      "Epoch 247/300\n",
      "47s - loss: 2.0065 - acc: 0.3104 - val_loss: 1.9665 - val_acc: 0.3160\n",
      "Epoch 248/300\n",
      "46s - loss: 2.0151 - acc: 0.3105 - val_loss: 2.0188 - val_acc: 0.3071\n",
      "Epoch 249/300\n",
      "46s - loss: 2.0243 - acc: 0.3108 - val_loss: 1.9856 - val_acc: 0.3108\n",
      "Epoch 250/300\n",
      "46s - loss: 2.0274 - acc: 0.3105 - val_loss: 1.9892 - val_acc: 0.3162\n",
      "Epoch 251/300\n",
      "46s - loss: 2.0299 - acc: 0.3105 - val_loss: 1.9836 - val_acc: 0.3156\n",
      "Epoch 252/300\n",
      "46s - loss: 2.0249 - acc: 0.3101 - val_loss: 2.0105 - val_acc: 0.3145\n",
      "Epoch 253/300\n",
      "46s - loss: 2.0277 - acc: 0.3102 - val_loss: 2.0025 - val_acc: 0.3088\n",
      "Epoch 254/300\n",
      "46s - loss: 2.0330 - acc: 0.3105 - val_loss: 1.9628 - val_acc: 0.3156\n",
      "Epoch 255/300\n",
      "46s - loss: 2.0475 - acc: 0.3104 - val_loss: 2.0311 - val_acc: 0.2998\n",
      "Epoch 256/300\n",
      "46s - loss: 2.0094 - acc: 0.3103 - val_loss: 1.9655 - val_acc: 0.3058\n",
      "Epoch 257/300\n",
      "46s - loss: 2.0177 - acc: 0.3096 - val_loss: 1.9754 - val_acc: 0.3162\n",
      "Epoch 258/300\n",
      "46s - loss: 2.0380 - acc: 0.3096 - val_loss: 1.9937 - val_acc: 0.3050\n",
      "Epoch 259/300\n",
      "46s - loss: 2.0262 - acc: 0.3099 - val_loss: 2.0171 - val_acc: 0.3136\n",
      "Epoch 260/300\n",
      "46s - loss: 2.0207 - acc: 0.3096 - val_loss: 1.9957 - val_acc: 0.3069\n",
      "Epoch 261/300\n",
      "46s - loss: 2.0669 - acc: 0.3099 - val_loss: 2.0048 - val_acc: 0.3047\n",
      "Epoch 262/300\n",
      "46s - loss: 2.0496 - acc: 0.3093 - val_loss: 1.9883 - val_acc: 0.3119\n",
      "Epoch 263/300\n",
      "46s - loss: 2.0425 - acc: 0.3094 - val_loss: 1.9816 - val_acc: 0.3157\n",
      "Epoch 264/300\n",
      "47s - loss: 2.0280 - acc: 0.3099 - val_loss: 2.0053 - val_acc: 0.3119\n",
      "Epoch 265/300\n",
      "46s - loss: 2.0312 - acc: 0.3097 - val_loss: 2.0709 - val_acc: 0.3092\n",
      "Epoch 266/300\n",
      "46s - loss: 2.0473 - acc: 0.3092 - val_loss: 2.0619 - val_acc: 0.3069\n",
      "Epoch 267/300\n",
      "46s - loss: 2.0289 - acc: 0.3095 - val_loss: 1.9851 - val_acc: 0.3121\n",
      "Epoch 268/300\n",
      "46s - loss: 2.0325 - acc: 0.3096 - val_loss: 2.0271 - val_acc: 0.3114\n",
      "Epoch 269/300\n",
      "46s - loss: 2.0323 - acc: 0.3096 - val_loss: 1.9652 - val_acc: 0.3135\n",
      "Epoch 270/300\n",
      "46s - loss: 2.0485 - acc: 0.3095 - val_loss: 1.9747 - val_acc: 0.3101\n",
      "Epoch 271/300\n",
      "46s - loss: 2.0231 - acc: 0.3091 - val_loss: 1.9723 - val_acc: 0.3135\n",
      "Epoch 272/300\n",
      "46s - loss: 1.9922 - acc: 0.3089 - val_loss: 1.9633 - val_acc: 0.3151\n",
      "Epoch 273/300\n",
      "46s - loss: 2.0103 - acc: 0.3093 - val_loss: 2.3168 - val_acc: 0.3047\n",
      "Epoch 274/300\n",
      "46s - loss: 2.0419 - acc: 0.3098 - val_loss: 2.1279 - val_acc: 0.3067\n",
      "Epoch 275/300\n",
      "46s - loss: 2.0469 - acc: 0.3094 - val_loss: 2.0054 - val_acc: 0.3040\n",
      "Epoch 276/300\n",
      "46s - loss: 2.0479 - acc: 0.3093 - val_loss: 1.9978 - val_acc: 0.3087\n",
      "Epoch 277/300\n",
      "46s - loss: 2.0690 - acc: 0.3100 - val_loss: 2.0598 - val_acc: 0.3090\n",
      "Epoch 278/300\n",
      "46s - loss: 2.0554 - acc: 0.3096 - val_loss: 1.9927 - val_acc: 0.2976\n",
      "Epoch 279/300\n",
      "46s - loss: 2.0888 - acc: 0.3100 - val_loss: 2.0067 - val_acc: 0.3018\n",
      "Epoch 280/300\n",
      "46s - loss: 2.0599 - acc: 0.3097 - val_loss: 2.1135 - val_acc: 0.3140\n",
      "Epoch 281/300\n",
      "46s - loss: 2.0659 - acc: 0.3096 - val_loss: 2.0183 - val_acc: 0.3000\n",
      "Epoch 282/300\n",
      "46s - loss: 2.0813 - acc: 0.3098 - val_loss: 2.2738 - val_acc: 0.3114\n",
      "Epoch 283/300\n",
      "47s - loss: 2.0992 - acc: 0.3098 - val_loss: 2.2440 - val_acc: 0.3116\n",
      "Epoch 284/300\n",
      "46s - loss: 2.0864 - acc: 0.3096 - val_loss: 2.2151 - val_acc: 0.3052\n",
      "Epoch 285/300\n",
      "46s - loss: 2.0408 - acc: 0.3097 - val_loss: 1.9680 - val_acc: 0.3145\n",
      "Epoch 286/300\n",
      "46s - loss: 2.0897 - acc: 0.3092 - val_loss: 2.0181 - val_acc: 0.3077\n",
      "Epoch 287/300\n",
      "46s - loss: 2.0570 - acc: 0.3096 - val_loss: 2.0942 - val_acc: 0.3074\n",
      "Epoch 288/300\n",
      "46s - loss: 2.0291 - acc: 0.3096 - val_loss: 2.1404 - val_acc: 0.3086\n",
      "Epoch 289/300\n",
      "46s - loss: 2.0185 - acc: 0.3099 - val_loss: 2.0040 - val_acc: 0.3125\n",
      "Epoch 290/300\n",
      "46s - loss: 2.0266 - acc: 0.3094 - val_loss: 2.0133 - val_acc: 0.3064\n",
      "Epoch 291/300\n",
      "46s - loss: 2.0148 - acc: 0.3092 - val_loss: 1.9677 - val_acc: 0.3089\n",
      "Epoch 292/300\n",
      "46s - loss: 2.0212 - acc: 0.3093 - val_loss: 2.0890 - val_acc: 0.3121\n",
      "Epoch 293/300\n",
      "46s - loss: 2.0286 - acc: 0.3093 - val_loss: 2.0009 - val_acc: 0.3039\n",
      "Epoch 294/300\n",
      "46s - loss: 2.0084 - acc: 0.3090 - val_loss: 1.9697 - val_acc: 0.3077\n",
      "Epoch 295/300\n"
     ]
    },
    {
     "name": "stdout",
     "output_type": "stream",
     "text": [
      "46s - loss: 1.9960 - acc: 0.3090 - val_loss: 2.0105 - val_acc: 0.2979\n",
      "Epoch 296/300\n",
      "46s - loss: 2.0177 - acc: 0.3091 - val_loss: 1.9820 - val_acc: 0.3115\n",
      "Epoch 297/300\n",
      "46s - loss: 1.9951 - acc: 0.3094 - val_loss: 2.0822 - val_acc: 0.3123\n",
      "Epoch 298/300\n",
      "46s - loss: 1.9968 - acc: 0.3093 - val_loss: 1.9979 - val_acc: 0.2994\n",
      "Epoch 299/300\n",
      "46s - loss: 2.0048 - acc: 0.3095 - val_loss: 1.9629 - val_acc: 0.3080\n",
      "Epoch 300/300\n",
      "46s - loss: 1.9961 - acc: 0.3093 - val_loss: 1.9539 - val_acc: 0.3144\n",
      "Training duration : 14595.872691869736\n"
     ]
    }
   ],
   "source": [
    "start_time = time.time()\n",
    "print('Training model...')\n",
    "model.fit(train_x, train_y , epochs=epochs, batch_size=batch,\n",
    "          shuffle=True,validation_split=0.1, verbose=2)\n",
    "print(\"Training duration : {0}\".format(time.time() - start_time))\n"
   ]
  },
  {
   "cell_type": "code",
   "execution_count": 54,
   "metadata": {
    "collapsed": true
   },
   "outputs": [],
   "source": [
    "train_time = time.time() - start_time"
   ]
  },
  {
   "cell_type": "markdown",
   "metadata": {},
   "source": [
    "# save model"
   ]
  },
  {
   "cell_type": "code",
   "execution_count": 55,
   "metadata": {},
   "outputs": [
    {
     "name": "stdout",
     "output_type": "stream",
     "text": [
      "Saved model to disk\n"
     ]
    }
   ],
   "source": [
    "# serialize model to JSON\n",
    "model_json = model.to_json()\n",
    "with open(\"model.json\", \"w\") as json_file:\n",
    "    json_file.write(model_json)\n",
    "# serialize weights to HDF5\n",
    "model.save_weights(\"model.h5\")\n",
    "print(\"Saved model to disk\")\n",
    " \n"
   ]
  },
  {
   "cell_type": "markdown",
   "metadata": {},
   "source": [
    "# test model and get accuracy"
   ]
  },
  {
   "cell_type": "code",
   "execution_count": 56,
   "metadata": {},
   "outputs": [
    {
     "name": "stdout",
     "output_type": "stream",
     "text": [
      "376526/376526 [==============================] - 16s    \n"
     ]
    }
   ],
   "source": [
    "test_batch = 32\n",
    "loss, accuracy = model.evaluate(test_x, test_y, batch_size=test_batch)"
   ]
  },
  {
   "cell_type": "code",
   "execution_count": 57,
   "metadata": {},
   "outputs": [
    {
     "name": "stdout",
     "output_type": "stream",
     "text": [
      "acc: 31.29%\n"
     ]
    }
   ],
   "source": [
    "print(\"%s: %.2f%%\" % (model.metrics_names[1], accuracy*100))\n"
   ]
  },
  {
   "cell_type": "markdown",
   "metadata": {},
   "source": [
    "# send mail to alert"
   ]
  },
  {
   "cell_type": "code",
   "execution_count": 58,
   "metadata": {
    "collapsed": true
   },
   "outputs": [],
   "source": [
    "model_config = []\n",
    "for index, layer in enumerate(model.get_config()):\n",
    "    model_config.append(\"layer - > %d===============\" % index)\n",
    "    model_config.append(\"class_name = \" + layer[\"class_name\"] )\n",
    "    if(str(layer[\"config\"].get(\"units\", \"None\")) != \"None\"):\n",
    "        model_config.append(\"units = \" + str(layer[\"config\"].get(\"units\", \"None\")))\n",
    "    if(str(layer[\"config\"].get(\"activation\", \"None\")) != \"None\"):\n",
    "        model_config.append(\"activation = \" + layer[\"config\"][\"activation\"])\n",
    "    if(str(layer[\"config\"].get(\"rate\", \"None\")) != \"None\"):\n",
    "        model_config.append(\"rate = \" + str(layer[\"config\"][\"rate\"]))\n",
    "model_info = '\\n'.join(model_config)"
   ]
  },
  {
   "cell_type": "code",
   "execution_count": 59,
   "metadata": {
    "collapsed": true
   },
   "outputs": [],
   "source": [
    "model_info += \"\\n\\ntrain epochs = \" + str(epochs)\n",
    "model_info += \"\\ntrain batch = \" + str(batch)\n",
    "model_info += \"\\ntest batch = \" + str(test_batch)\n",
    "model_info += \"\\ntrain time = \" + str(train_time)\n",
    "model_info += \"\\nloss = \" + str(loss)\n",
    "model_info += \"\\n\\n\\naccuracy = \" + str(accuracy)\n",
    "\n"
   ]
  },
  {
   "cell_type": "code",
   "execution_count": 60,
   "metadata": {},
   "outputs": [
    {
     "name": "stdout",
     "output_type": "stream",
     "text": [
      "Start Send Mail\n",
      "User Email : a - DONE \n",
      "User Email : a - DONE \n",
      "User Email : 2 - DONE \n",
      "User Email : 6 - DONE \n",
      "User Email : 3 - DONE \n",
      "User Email : 6 - DONE \n",
      "User Email : 5 - DONE \n",
      "User Email : 5 - DONE \n",
      "User Email : 6 - DONE \n",
      "User Email : 6 - DONE \n",
      "User Email : @ - DONE \n",
      "User Email : g - DONE \n",
      "User Email : m - DONE \n",
      "User Email : a - DONE \n",
      "User Email : i - DONE \n",
      "User Email : l - DONE \n",
      "User Email : . - DONE \n",
      "User Email : c - DONE \n",
      "User Email : o - DONE \n",
      "User Email : m - DONE \n",
      "Finish Send Mail\n"
     ]
    }
   ],
   "source": [
    "test=mail()\n",
    "test.main(\"model finished\", model_info)"
   ]
  },
  {
   "cell_type": "markdown",
   "metadata": {},
   "source": [
    "# write readme to report the model"
   ]
  },
  {
   "cell_type": "code",
   "execution_count": 61,
   "metadata": {},
   "outputs": [
    {
     "data": {
      "text/plain": [
       "True"
      ]
     },
     "execution_count": 61,
     "metadata": {},
     "output_type": "execute_result"
    }
   ],
   "source": [
    "md_info = model_info.replace(\"\\n\", \"<br>\")\n",
    "with open('readme.md', 'w+') as f:\n",
    "     f.write(md_info)\n",
    "f.closed"
   ]
  },
  {
   "cell_type": "code",
   "execution_count": 62,
   "metadata": {},
   "outputs": [
    {
     "name": "stdout",
     "output_type": "stream",
     "text": [
      "layer - > 0===============\n",
      "class_name = Dense\n",
      "units = 256\n",
      "activation = linear\n",
      "layer - > 1===============\n",
      "class_name = Activation\n",
      "activation = relu\n",
      "layer - > 2===============\n",
      "class_name = Dropout\n",
      "rate = 0.2\n",
      "layer - > 3===============\n",
      "class_name = Dense\n",
      "units = 128\n",
      "activation = linear\n",
      "layer - > 4===============\n",
      "class_name = Activation\n",
      "activation = relu\n",
      "layer - > 5===============\n",
      "class_name = Dropout\n",
      "rate = 0.2\n",
      "layer - > 6===============\n",
      "class_name = Dense\n",
      "units = 64\n",
      "activation = linear\n",
      "layer - > 7===============\n",
      "class_name = Activation\n",
      "activation = relu\n",
      "layer - > 8===============\n",
      "class_name = Dense\n",
      "units = 32\n",
      "activation = linear\n",
      "layer - > 9===============\n",
      "class_name = Activation\n",
      "activation = relu\n",
      "layer - > 10===============\n",
      "class_name = Dense\n",
      "units = 11\n",
      "activation = linear\n",
      "layer - > 11===============\n",
      "class_name = Activation\n",
      "activation = softmax\n",
      "\n",
      "train epochs = 300\n",
      "train batch = 128\n",
      "test batch = 32\n",
      "train time = 14595.877679347992\n",
      "loss = 1.95676832638\n",
      "\n",
      "\n",
      "accuracy = 0.31286020089\n"
     ]
    }
   ],
   "source": [
    "print(model_info)"
   ]
  },
  {
   "cell_type": "code",
   "execution_count": 63,
   "metadata": {
    "collapsed": true
   },
   "outputs": [],
   "source": [
    "from sklearn.metrics import confusion_matrix\n",
    "import matplotlib.pyplot as plt\n",
    "import itertools"
   ]
  },
  {
   "cell_type": "code",
   "execution_count": 64,
   "metadata": {
    "collapsed": true
   },
   "outputs": [],
   "source": [
    "def plot_confusion_matrix(cm, classes,\n",
    "                          normalize=False,\n",
    "                          title='Confusion matrix',\n",
    "                          cmap=plt.cm.Blues):\n",
    "    \"\"\"\n",
    "    This function prints and plots the confusion matrix.\n",
    "    Normalization can be applied by setting `normalize=True`.\n",
    "    \"\"\"\n",
    "    plt.imshow(cm, interpolation='nearest', cmap=cmap)\n",
    "    plt.title(title)\n",
    "    plt.colorbar()\n",
    "    tick_marks = np.arange(len(classes))\n",
    "    plt.xticks(tick_marks, classes, rotation=45)\n",
    "    plt.yticks(tick_marks, classes)\n",
    "\n",
    "    if normalize:\n",
    "        cm = cm.astype('float') / cm.sum(axis=1)[:, np.newaxis]\n",
    "#         print(\"Normalized confusion matrix\")\n",
    "#     else:\n",
    "#         print('Confusion matrix, without normalization')\n",
    "\n",
    "#     print(cm)\n",
    "\n",
    "    thresh = cm.max() / 2.\n",
    "    for i, j in itertools.product(range(cm.shape[0]), range(cm.shape[1])):\n",
    "        plt.text(j, i, \"\",\n",
    "                 horizontalalignment=\"center\",\n",
    "                 color=\"white\" if cm[i, j] > thresh else \"black\")\n",
    "\n",
    "    plt.tight_layout()\n",
    "    plt.ylabel('True label')\n",
    "    plt.xlabel('Predicted label')"
   ]
  },
  {
   "cell_type": "code",
   "execution_count": 65,
   "metadata": {
    "collapsed": true
   },
   "outputs": [],
   "source": [
    "pred = model.predict(test_x)"
   ]
  },
  {
   "cell_type": "code",
   "execution_count": 66,
   "metadata": {},
   "outputs": [
    {
     "data": {
      "text/plain": [
       "array([[    0,     0,     0,   162,  4860,  1976,     1,     0,  3618,\n",
       "          263,     0],\n",
       "       [    0,     0,     0,  1029,  9541,  3592,     0,     0,  2935,\n",
       "          194,     0],\n",
       "       [    0,     0,     0,   312,  5476,  5848,     1,     0,  3183,\n",
       "          210,     0],\n",
       "       [    0,     0,     0, 17455, 10011,   164,     0,     0,  1312,\n",
       "           23,     0],\n",
       "       [    0,     0,     0,  7065, 53749, 17256,     0,     0,  6475,\n",
       "          374,     3],\n",
       "       [    0,     0,     0,  2382, 41973, 31262,     2,     0,  9980,\n",
       "          576,     2],\n",
       "       [    0,     0,     0,   154,  7401, 13057,     0,     0,   388,\n",
       "           20,     1],\n",
       "       [    0,     0,     0,   908,  7134,  1289,     1,     0,  1981,\n",
       "           61,     0],\n",
       "       [    0,     0,     0,  2906, 24377, 10818,     2,     0, 14811,\n",
       "          490,     0],\n",
       "       [    0,     0,     0,  1424, 10578,  1255,     0,     0,  5788,\n",
       "          522,     0],\n",
       "       [    0,     0,     0,  1488, 17331,  5111,     0,     0,  3831,\n",
       "          133,     1]])"
      ]
     },
     "execution_count": 66,
     "metadata": {},
     "output_type": "execute_result"
    }
   ],
   "source": [
    "cnf_matrix = confusion_matrix(np.argmax(test_y, axis = 1), np.argmax(pred, axis = 1))\n",
    "cnf_matrix"
   ]
  },
  {
   "cell_type": "code",
   "execution_count": 67,
   "metadata": {},
   "outputs": [
    {
     "data": {
      "image/png": "[encoded data removed]",
      "text/plain": [
       "<matplotlib.figure.Figure at 0x1eb3b8265c0>"
      ]
     },
     "metadata": {},
     "output_type": "display_data"
    }
   ],
   "source": [
    "np.set_printoptions(precision=2)\n",
    "plt.figure(figsize=(6, 6), dpi = 120)\n",
    "plot_confusion_matrix(cnf_matrix, classes=encoder.classes_, normalize=True, title='confusion matrix')\n",
    "plt.show()"
   ]
  },
  {
   "cell_type": "code",
   "execution_count": 110,
   "metadata": {},
   "outputs": [
    {
     "name": "stdout",
     "output_type": "stream",
     "text": [
      "[[ 0.  0.  0. ...,  0.  1.  0.]\n",
      " [ 0.  0.  0. ...,  0.  0.  0.]\n",
      " [ 0.  0.  0. ...,  0.  0.  0.]\n",
      " ..., \n",
      " [ 0.  0.  0. ...,  0.  1.  0.]\n",
      " [ 0.  0.  0. ...,  0.  0.  0.]\n",
      " [ 0.  0.  0. ...,  0.  0.  0.]]\n",
      "[[ 0.  0.  0. ...,  0.  1.  0.]\n",
      " [ 0.  0.  0. ...,  0.  0.  0.]\n",
      " [ 0.  0.  0. ...,  0.  0.  0.]\n",
      " ..., \n",
      " [ 0.  0.  0. ...,  0.  1.  0.]\n",
      " [ 0.  0.  0. ...,  0.  0.  0.]\n",
      " [ 0.  0.  0. ...,  0.  0.  0.]]\n",
      "[[ 0.  0.  0. ...,  0.  1.  0.]\n",
      " [ 0.  0.  0. ...,  0.  0.  0.]\n",
      " [ 0.  0.  0. ...,  0.  0.  0.]\n",
      " ..., \n",
      " [ 0.  0.  0. ...,  0.  1.  0.]\n",
      " [ 0.  0.  0. ...,  0.  0.  0.]\n",
      " [ 0.  0.  0. ...,  0.  0.  0.]]\n",
      "[[ 0.  0.  0. ...,  0.  1.  0.]\n",
      " [ 0.  0.  0. ...,  0.  0.  0.]\n",
      " [ 0.  0.  0. ...,  0.  0.  0.]\n",
      " ..., \n",
      " [ 0.  0.  0. ...,  0.  1.  0.]\n",
      " [ 0.  0.  0. ...,  0.  0.  0.]\n",
      " [ 0.  0.  0. ...,  0.  0.  0.]]\n",
      "[[ 0.  0.  0. ...,  0.  1.  0.]\n",
      " [ 0.  0.  0. ...,  0.  0.  0.]\n",
      " [ 0.  0.  0. ...,  0.  0.  0.]\n",
      " ..., \n",
      " [ 0.  0.  0. ...,  0.  1.  0.]\n",
      " [ 0.  0.  0. ...,  0.  0.  0.]\n",
      " [ 0.  0.  0. ...,  0.  0.  0.]]\n",
      "[[ 0.  0.  0. ...,  0.  1.  0.]\n",
      " [ 0.  0.  0. ...,  0.  0.  0.]\n",
      " [ 0.  0.  0. ...,  0.  0.  0.]\n",
      " ..., \n",
      " [ 0.  0.  0. ...,  0.  1.  0.]\n",
      " [ 0.  0.  0. ...,  0.  0.  0.]\n",
      " [ 0.  0.  0. ...,  0.  0.  0.]]\n",
      "[[ 0.  0.  0. ...,  0.  1.  0.]\n",
      " [ 0.  0.  0. ...,  0.  0.  0.]\n",
      " [ 0.  0.  0. ...,  0.  0.  0.]\n",
      " ..., \n",
      " [ 0.  0.  0. ...,  0.  1.  0.]\n",
      " [ 0.  0.  0. ...,  0.  0.  0.]\n",
      " [ 0.  0.  0. ...,  0.  0.  0.]]\n",
      "[[ 0.  0.  0. ...,  0.  1.  0.]\n",
      " [ 0.  0.  0. ...,  0.  0.  0.]\n",
      " [ 0.  0.  0. ...,  0.  0.  0.]\n",
      " ..., \n",
      " [ 0.  0.  0. ...,  0.  1.  0.]\n",
      " [ 0.  0.  0. ...,  0.  0.  0.]\n",
      " [ 0.  0.  0. ...,  0.  0.  0.]]\n",
      "[[ 0.  0.  0. ...,  0.  1.  0.]\n",
      " [ 0.  0.  0. ...,  0.  0.  0.]\n",
      " [ 0.  0.  0. ...,  0.  0.  0.]\n",
      " ..., \n",
      " [ 0.  0.  0. ...,  0.  1.  0.]\n",
      " [ 0.  0.  0. ...,  0.  0.  0.]\n",
      " [ 0.  0.  0. ...,  0.  0.  0.]]\n",
      "[[ 0.  0.  0. ...,  0.  1.  0.]\n",
      " [ 0.  0.  0. ...,  0.  0.  0.]\n",
      " [ 0.  0.  0. ...,  0.  0.  0.]\n",
      " ..., \n",
      " [ 0.  0.  0. ...,  0.  1.  0.]\n",
      " [ 0.  0.  0. ...,  0.  0.  0.]\n",
      " [ 0.  0.  0. ...,  0.  0.  0.]]\n"
     ]
    }
   ],
   "source": [
    "# for i in range(10):\n",
    "#     probabilities = model.predict(test_x[i:i+1,:], batch_size=32, verbose=0)\n",
    "#     probabilities = model.predict(test_x[i:i+1,:])\n",
    "#     probabilities = model.predict(test_x)\n",
    "#     probabilities[probabilities>=0.5] = 1\n",
    "#     probabilities[probabilities<0.5] = 0\n",
    "#     print(probabilities)"
   ]
  }
 ],
 "metadata": {
  "kernelspec": {
   "display_name": "Python 3",
   "language": "python",
   "name": "python3"
  },
  "language_info": {
   "codemirror_mode": {
    "name": "ipython",
    "version": 3
   },
   "file_extension": ".py",
   "mimetype": "text/x-python",
   "name": "python",
   "nbconvert_exporter": "python",
   "pygments_lexer": "ipython3",
   "version": "3.5.3"
  }
 },
 "nbformat": 4,
 "nbformat_minor": 2
}
