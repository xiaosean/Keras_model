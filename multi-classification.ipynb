{
 "cells": [
  {
   "cell_type": "code",
   "execution_count": 2,
   "metadata": {},
   "outputs": [],
   "source": [
    "import time\n",
    "import numpy as np\n",
    "from keras.utils import np_utils\n",
    "import keras.callbacks as cb\n",
    "from keras.models import Sequential\n",
    "from keras.layers.core import Dense, Dropout, Activation\n",
    "from keras.optimizers import RMSprop\n",
    "import feather \n",
    "from mailerWithUtf8 import mail\n",
    "from sklearn.preprocessing import LabelEncoder\n",
    "from keras.models import model_from_json"
   ]
  },
  {
   "cell_type": "markdown",
   "metadata": {},
   "source": [
    "# preprocess load data"
   ]
  },
  {
   "cell_type": "code",
   "execution_count": 3,
   "metadata": {},
   "outputs": [
    {
     "name": "stdout",
     "output_type": "stream",
     "text": [
      "load feather %s seconds 0.14971494674682617\n"
     ]
    }
   ],
   "source": [
    "start_time = time.time()\n",
    "# path = 'C:/Users/VIPLAB/Desktop/preprocess_py/marketing_analyze/0710_marketing_train.feather' \n",
    "path = 'C:/Users/VIPLAB/Desktop/preprocess_py/marketing_analyze/0710_marketing_train_sample.feather' \n",
    "train_df = feather.read_dataframe(path)\n",
    "print('load feather %s seconds', format(time.time() - start_time))\n"
   ]
  },
  {
   "cell_type": "code",
   "execution_count": 4,
   "metadata": {},
   "outputs": [
    {
     "name": "stdout",
     "output_type": "stream",
     "text": [
      "load feather %s seconds 0.043143272399902344\n"
     ]
    }
   ],
   "source": [
    "start_time = time.time()\n",
    "# path = 'C:/Users/VIPLAB/Desktop/preprocess_py/marketing_analyze/0710_marketing_test.feather'\n",
    "path = 'C:/Users/VIPLAB/Desktop/preprocess_py/marketing_analyze/0710_marketing_test_sample.feather' \n",
    "\n",
    "test_df = feather.read_dataframe(path)\n",
    "print('load feather %s seconds', format(time.time() - start_time))"
   ]
  },
  {
   "cell_type": "code",
   "execution_count": 5,
   "metadata": {
    "collapsed": true
   },
   "outputs": [],
   "source": [
    "train_x, train_y = train_df.iloc[:, 0:-1].values, train_df.iloc[:, -1].values"
   ]
  },
  {
   "cell_type": "code",
   "execution_count": 6,
   "metadata": {
    "collapsed": true
   },
   "outputs": [],
   "source": [
    "test_x, test_y = test_df.iloc[:, 0:-1].values, test_df.iloc[:, -1].values"
   ]
  },
  {
   "cell_type": "code",
   "execution_count": 7,
   "metadata": {
    "collapsed": true
   },
   "outputs": [],
   "source": [
    "train_x = train_x.reshape(train_x.shape[0], -1)   # normalize\n",
    "test_x = test_x.reshape(test_x.shape[0], -1)   # normalize\n",
    "\n"
   ]
  },
  {
   "cell_type": "code",
   "execution_count": 8,
   "metadata": {
    "collapsed": true
   },
   "outputs": [],
   "source": [
    "# from sklearn.preprocessing import LabelBinarizer\n",
    "# encoder = LabelBinarizer()\n",
    "# y_train = encoder.fit_transform(y_train)\n",
    "# y_test = encoder.fit_transform(y_test)"
   ]
  },
  {
   "cell_type": "code",
   "execution_count": 9,
   "metadata": {
    "collapsed": true
   },
   "outputs": [],
   "source": [
    "# encode class values as integers\n",
    "encoder = LabelEncoder()\n",
    "encoder.fit(train_y)\n",
    "encoded_Y = encoder.transform(train_y)\n",
    "# convert integers to dummy variables (i.e. one hot encoded)\n",
    "train_y = np_utils.to_categorical(encoded_Y)\n",
    "\n",
    "encoded_Y = encoder.transform(test_y)\n",
    "# convert integers to dummy variables (i.e. one hot encoded)\n",
    "test_y = np_utils.to_categorical(encoded_Y)"
   ]
  },
  {
   "cell_type": "code",
   "execution_count": 10,
   "metadata": {},
   "outputs": [
    {
     "data": {
      "text/plain": [
       "array(['Adult', 'Game', 'HomeLife', 'Infrequent Internet User',\n",
       "       'InstantMessage-High', 'InstantMessage-Low', 'Map', 'News',\n",
       "       'No significant preference', 'Portal', 'Social-media'], dtype=object)"
      ]
     },
     "execution_count": 10,
     "metadata": {},
     "output_type": "execute_result"
    }
   ],
   "source": [
    "# get y unique name\n",
    "encoder.classes_"
   ]
  },
  {
   "cell_type": "code",
   "execution_count": 11,
   "metadata": {},
   "outputs": [
    {
     "data": {
      "text/plain": [
       "150610"
      ]
     },
     "execution_count": 11,
     "metadata": {},
     "output_type": "execute_result"
    }
   ],
   "source": [
    "len(train_y)"
   ]
  },
  {
   "cell_type": "code",
   "execution_count": 12,
   "metadata": {},
   "outputs": [
    {
     "data": {
      "text/plain": [
       "37653"
      ]
     },
     "execution_count": 12,
     "metadata": {},
     "output_type": "execute_result"
    }
   ],
   "source": [
    "len(test_y)"
   ]
  },
  {
   "cell_type": "markdown",
   "metadata": {},
   "source": [
    "# construct and compile model"
   ]
  },
  {
   "cell_type": "code",
   "execution_count": 13,
   "metadata": {
    "collapsed": true
   },
   "outputs": [],
   "source": [
    "classify_num = 11\n",
    "epochs = 300\n",
    "batch = 128"
   ]
  },
  {
   "cell_type": "markdown",
   "metadata": {},
   "source": [
    "# basic config"
   ]
  },
  {
   "cell_type": "code",
   "execution_count": 14,
   "metadata": {},
   "outputs": [
    {
     "name": "stdout",
     "output_type": "stream",
     "text": [
      "Compiling Model ... \n",
      "Model compield in 0.10224437713623047 seconds\n"
     ]
    }
   ],
   "source": [
    "start_time = time.time()\n",
    "print ('Compiling Model ... ')\n",
    "model = Sequential()\n",
    "model.add(Dense(256, input_shape=train_x[0].shape ))\n",
    "model.add(Activation('relu'))\n",
    "# model.add(Dropout(0.2))\n",
    "model.add(Dense(128))\n",
    "model.add(Activation('relu'))\n",
    "model.add(Dense(64))\n",
    "model.add(Activation('relu'))\n",
    "model.add(Dense(32))\n",
    "model.add(Activation('relu'))\n",
    "# model.add(Dropout(0.2))\n",
    "model.add(Dense(classify_num))\n",
    "model.add(Activation('softmax'))\n",
    "\n",
    "rms = RMSprop()\n",
    "model.compile(loss='categorical_crossentropy', optimizer=rms,\n",
    "          metrics=['accuracy'])\n",
    "print('Model compield in {0} seconds'.format(time.time() - start_time))\n"
   ]
  },
  {
   "cell_type": "markdown",
   "metadata": {},
   "source": [
    "# Train model"
   ]
  },
  {
   "cell_type": "code",
   "execution_count": 12,
   "metadata": {},
   "outputs": [
    {
     "name": "stdout",
     "output_type": "stream",
     "text": [
      "Training model...\n",
      "Train on 1355492 samples, validate on 150611 samples\n",
      "Epoch 1/300\n",
      "50s - loss: 1.9520 - acc: 0.2980 - val_loss: 1.9404 - val_acc: 0.3020\n",
      "Epoch 2/300\n",
      "48s - loss: 1.9128 - acc: 0.3090 - val_loss: 1.9146 - val_acc: 0.3084\n",
      "Epoch 3/300\n",
      "48s - loss: 1.8996 - acc: 0.3115 - val_loss: 1.8949 - val_acc: 0.3132\n",
      "Epoch 4/300\n",
      "49s - loss: 1.8933 - acc: 0.3138 - val_loss: 1.8912 - val_acc: 0.3162\n",
      "Epoch 5/300\n",
      "49s - loss: 1.8909 - acc: 0.3140 - val_loss: 1.8953 - val_acc: 0.3147\n",
      "Epoch 6/300\n",
      "50s - loss: 1.8891 - acc: 0.3151 - val_loss: 1.8932 - val_acc: 0.3129\n",
      "Epoch 7/300\n",
      "47s - loss: 1.8871 - acc: 0.3155 - val_loss: 1.8864 - val_acc: 0.3146\n",
      "Epoch 8/300\n",
      "45s - loss: 1.8849 - acc: 0.3161 - val_loss: 1.8831 - val_acc: 0.3176\n",
      "Epoch 9/300\n",
      "45s - loss: 1.8839 - acc: 0.3167 - val_loss: 1.8980 - val_acc: 0.3158\n",
      "Epoch 10/300\n",
      "46s - loss: 1.8837 - acc: 0.3167 - val_loss: 1.8812 - val_acc: 0.3199\n",
      "Epoch 11/300\n",
      "46s - loss: 1.8820 - acc: 0.3171 - val_loss: 1.8862 - val_acc: 0.3166\n",
      "Epoch 12/300\n",
      "46s - loss: 1.8812 - acc: 0.3174 - val_loss: 1.9037 - val_acc: 0.3114\n",
      "Epoch 13/300\n",
      "45s - loss: 1.8805 - acc: 0.3177 - val_loss: 1.8981 - val_acc: 0.3150\n",
      "Epoch 14/300\n",
      "45s - loss: 1.8807 - acc: 0.3178 - val_loss: 1.8815 - val_acc: 0.3175\n",
      "Epoch 15/300\n",
      "45s - loss: 1.8804 - acc: 0.3185 - val_loss: 1.8816 - val_acc: 0.3192\n",
      "Epoch 16/300\n",
      "45s - loss: 1.8813 - acc: 0.3182 - val_loss: 1.8854 - val_acc: 0.3195\n",
      "Epoch 17/300\n",
      "45s - loss: 1.8811 - acc: 0.3184 - val_loss: 1.8940 - val_acc: 0.3159\n",
      "Epoch 18/300\n",
      "46s - loss: 1.8815 - acc: 0.3182 - val_loss: 1.8976 - val_acc: 0.3169\n",
      "Epoch 19/300\n",
      "46s - loss: 1.8812 - acc: 0.3186 - val_loss: 1.8863 - val_acc: 0.3195\n",
      "Epoch 20/300\n",
      "45s - loss: 1.8811 - acc: 0.3189 - val_loss: 1.8887 - val_acc: 0.3183\n",
      "Epoch 21/300\n",
      "45s - loss: 1.8823 - acc: 0.3188 - val_loss: 1.8856 - val_acc: 0.3183\n",
      "Epoch 22/300\n",
      "50s - loss: 1.8822 - acc: 0.3189 - val_loss: 1.8886 - val_acc: 0.3192\n",
      "Epoch 23/300\n",
      "50s - loss: 1.8816 - acc: 0.3187 - val_loss: 1.8895 - val_acc: 0.3170\n",
      "Epoch 24/300\n",
      "48s - loss: 1.8823 - acc: 0.3189 - val_loss: 1.9112 - val_acc: 0.3152\n",
      "Epoch 25/300\n",
      "49s - loss: 1.8821 - acc: 0.3190 - val_loss: 1.8856 - val_acc: 0.3197\n",
      "Epoch 26/300\n",
      "48s - loss: 1.8812 - acc: 0.3193 - val_loss: 1.8978 - val_acc: 0.3174\n",
      "Epoch 27/300\n",
      "49s - loss: 1.8795 - acc: 0.3202 - val_loss: 1.8850 - val_acc: 0.3197\n",
      "Epoch 28/300\n",
      "51s - loss: 1.8778 - acc: 0.3203 - val_loss: 1.8865 - val_acc: 0.3220\n",
      "Epoch 29/300\n",
      "51s - loss: 1.8777 - acc: 0.3204 - val_loss: 1.8826 - val_acc: 0.3208\n",
      "Epoch 30/300\n",
      "52s - loss: 1.8769 - acc: 0.3204 - val_loss: 1.8890 - val_acc: 0.3177\n",
      "Epoch 31/300\n",
      "52s - loss: 1.8765 - acc: 0.3206 - val_loss: 1.8852 - val_acc: 0.3206\n",
      "Epoch 32/300\n",
      "52s - loss: 1.8758 - acc: 0.3205 - val_loss: 1.8857 - val_acc: 0.3196\n",
      "Epoch 33/300\n",
      "55s - loss: 1.8753 - acc: 0.3209 - val_loss: 1.8882 - val_acc: 0.3216\n",
      "Epoch 34/300\n",
      "53s - loss: 1.8749 - acc: 0.3210 - val_loss: 1.8831 - val_acc: 0.3209\n",
      "Epoch 35/300\n",
      "52s - loss: 1.8744 - acc: 0.3212 - val_loss: 1.8809 - val_acc: 0.3229\n",
      "Epoch 36/300\n",
      "53s - loss: 1.8751 - acc: 0.3212 - val_loss: 1.8881 - val_acc: 0.3203\n",
      "Epoch 37/300\n",
      "53s - loss: 1.8754 - acc: 0.3210 - val_loss: 1.8898 - val_acc: 0.3153\n",
      "Epoch 38/300\n",
      "54s - loss: 1.8759 - acc: 0.3211 - val_loss: 1.9048 - val_acc: 0.3129\n",
      "Epoch 39/300\n",
      "52s - loss: 1.8756 - acc: 0.3211 - val_loss: 1.8965 - val_acc: 0.3113\n",
      "Epoch 40/300\n",
      "55s - loss: 1.8752 - acc: 0.3212 - val_loss: 1.8861 - val_acc: 0.3189\n",
      "Epoch 41/300\n",
      "51s - loss: 1.8750 - acc: 0.3211 - val_loss: 1.8901 - val_acc: 0.3181\n",
      "Epoch 42/300\n",
      "50s - loss: 1.8747 - acc: 0.3215 - val_loss: 1.9002 - val_acc: 0.3204\n",
      "Epoch 43/300\n",
      "52s - loss: 1.8755 - acc: 0.3212 - val_loss: 1.8810 - val_acc: 0.3199\n",
      "Epoch 44/300\n",
      "51s - loss: 1.8759 - acc: 0.3213 - val_loss: 1.8856 - val_acc: 0.3154\n",
      "Epoch 45/300\n",
      "53s - loss: 1.8764 - acc: 0.3212 - val_loss: 1.8830 - val_acc: 0.3214\n",
      "Epoch 46/300\n",
      "51s - loss: 1.8762 - acc: 0.3211 - val_loss: 1.8849 - val_acc: 0.3220\n",
      "Epoch 47/300\n",
      "52s - loss: 1.8776 - acc: 0.3210 - val_loss: 1.8882 - val_acc: 0.3209\n",
      "Epoch 48/300\n",
      "53s - loss: 1.8772 - acc: 0.3212 - val_loss: 1.8823 - val_acc: 0.3173\n",
      "Epoch 49/300\n",
      "53s - loss: 1.8764 - acc: 0.3217 - val_loss: 1.8881 - val_acc: 0.3198\n",
      "Epoch 50/300\n",
      "50s - loss: 1.8778 - acc: 0.3213 - val_loss: 1.8814 - val_acc: 0.3202\n",
      "Epoch 51/300\n",
      "52s - loss: 1.8790 - acc: 0.3214 - val_loss: 1.8875 - val_acc: 0.3210\n",
      "Epoch 52/300\n",
      "52s - loss: 1.8787 - acc: 0.3214 - val_loss: 1.8908 - val_acc: 0.3205\n",
      "Epoch 53/300\n",
      "52s - loss: 1.8799 - acc: 0.3211 - val_loss: 1.9060 - val_acc: 0.3153\n",
      "Epoch 54/300\n",
      "54s - loss: 1.8809 - acc: 0.3212 - val_loss: 1.9030 - val_acc: 0.3196\n",
      "Epoch 55/300\n",
      "52s - loss: 1.8835 - acc: 0.3211 - val_loss: 1.8909 - val_acc: 0.3160\n",
      "Epoch 56/300\n",
      "52s - loss: 1.8844 - acc: 0.3211 - val_loss: 1.8874 - val_acc: 0.3213\n",
      "Epoch 57/300\n",
      "53s - loss: 1.8843 - acc: 0.3210 - val_loss: 1.9013 - val_acc: 0.3210\n",
      "Epoch 58/300\n",
      "52s - loss: 1.8851 - acc: 0.3210 - val_loss: 1.8938 - val_acc: 0.3211\n",
      "Epoch 59/300\n",
      "53s - loss: 1.8853 - acc: 0.3209 - val_loss: 1.8947 - val_acc: 0.3157\n",
      "Epoch 60/300\n",
      "53s - loss: 1.8847 - acc: 0.3210 - val_loss: 1.8951 - val_acc: 0.3210\n",
      "Epoch 61/300\n",
      "53s - loss: 1.8853 - acc: 0.3209 - val_loss: 1.8895 - val_acc: 0.3207\n",
      "Epoch 62/300\n",
      "52s - loss: 1.8856 - acc: 0.3208 - val_loss: 1.8912 - val_acc: 0.3213\n",
      "Epoch 63/300\n",
      "53s - loss: 1.8870 - acc: 0.3207 - val_loss: 1.8953 - val_acc: 0.3209\n",
      "Epoch 64/300\n",
      "53s - loss: 1.8892 - acc: 0.3206 - val_loss: 1.9224 - val_acc: 0.3132\n",
      "Epoch 65/300\n",
      "55s - loss: 1.8892 - acc: 0.3210 - val_loss: 1.9033 - val_acc: 0.3190\n",
      "Epoch 66/300\n",
      "50s - loss: 1.8887 - acc: 0.3203 - val_loss: 1.9139 - val_acc: 0.3140\n",
      "Epoch 67/300\n",
      "52s - loss: 1.8856 - acc: 0.3204 - val_loss: 1.8953 - val_acc: 0.3186\n",
      "Epoch 68/300\n",
      "52s - loss: 1.8827 - acc: 0.3208 - val_loss: 1.8932 - val_acc: 0.3139\n",
      "Epoch 69/300\n",
      "53s - loss: 1.8831 - acc: 0.3208 - val_loss: 1.8914 - val_acc: 0.3204\n",
      "Epoch 70/300\n",
      "51s - loss: 1.8811 - acc: 0.3212 - val_loss: 1.8870 - val_acc: 0.3192\n",
      "Epoch 71/300\n",
      "53s - loss: 1.8801 - acc: 0.3211 - val_loss: 1.8883 - val_acc: 0.3170\n",
      "Epoch 72/300\n",
      "52s - loss: 1.8789 - acc: 0.3213 - val_loss: 1.8987 - val_acc: 0.3161\n",
      "Epoch 73/300\n",
      "52s - loss: 1.8789 - acc: 0.3216 - val_loss: 1.8889 - val_acc: 0.3181\n",
      "Epoch 74/300\n",
      "52s - loss: 1.8782 - acc: 0.3221 - val_loss: 1.8834 - val_acc: 0.3217\n",
      "Epoch 75/300\n",
      "55s - loss: 1.8773 - acc: 0.3221 - val_loss: 1.8945 - val_acc: 0.3192\n",
      "Epoch 76/300\n",
      "51s - loss: 1.8765 - acc: 0.3219 - val_loss: 1.8811 - val_acc: 0.3202\n",
      "Epoch 77/300\n",
      "52s - loss: 1.8770 - acc: 0.3220 - val_loss: 1.8890 - val_acc: 0.3201\n",
      "Epoch 78/300\n",
      "53s - loss: 1.8771 - acc: 0.3219 - val_loss: 1.8999 - val_acc: 0.3156\n",
      "Epoch 79/300\n",
      "53s - loss: 1.8760 - acc: 0.3220 - val_loss: 1.8881 - val_acc: 0.3198\n",
      "Epoch 80/300\n",
      "53s - loss: 1.8759 - acc: 0.3219 - val_loss: 1.8821 - val_acc: 0.3217\n",
      "Epoch 81/300\n",
      "54s - loss: 1.8765 - acc: 0.3218 - val_loss: 1.8932 - val_acc: 0.3160\n",
      "Epoch 82/300\n",
      "53s - loss: 1.8769 - acc: 0.3220 - val_loss: 1.8941 - val_acc: 0.3187\n",
      "Epoch 83/300\n",
      "54s - loss: 1.8766 - acc: 0.3220 - val_loss: 1.8919 - val_acc: 0.3202\n",
      "Epoch 84/300\n",
      "53s - loss: 1.8768 - acc: 0.3219 - val_loss: 1.8906 - val_acc: 0.3191\n",
      "Epoch 85/300\n",
      "52s - loss: 1.8763 - acc: 0.3222 - val_loss: 1.8909 - val_acc: 0.3209\n",
      "Epoch 86/300\n",
      "55s - loss: 1.8777 - acc: 0.3221 - val_loss: 1.8888 - val_acc: 0.3217\n",
      "Epoch 87/300\n",
      "51s - loss: 1.8776 - acc: 0.3224 - val_loss: 1.8930 - val_acc: 0.3184\n",
      "Epoch 88/300\n",
      "52s - loss: 1.8767 - acc: 0.3221 - val_loss: 1.8924 - val_acc: 0.3179\n",
      "Epoch 89/300\n",
      "52s - loss: 1.8773 - acc: 0.3220 - val_loss: 1.9017 - val_acc: 0.3151\n",
      "Epoch 90/300\n",
      "52s - loss: 1.8762 - acc: 0.3225 - val_loss: 1.8922 - val_acc: 0.3201\n",
      "Epoch 91/300\n",
      "52s - loss: 1.8771 - acc: 0.3220 - val_loss: 1.8971 - val_acc: 0.3201\n",
      "Epoch 92/300\n",
      "54s - loss: 1.8774 - acc: 0.3223 - val_loss: 1.8939 - val_acc: 0.3174\n",
      "Epoch 93/300\n",
      "52s - loss: 1.8772 - acc: 0.3224 - val_loss: 1.8919 - val_acc: 0.3176\n",
      "Epoch 94/300\n",
      "52s - loss: 1.8774 - acc: 0.3223 - val_loss: 1.8897 - val_acc: 0.3203\n",
      "Epoch 95/300\n",
      "50s - loss: 1.8785 - acc: 0.3219 - val_loss: 1.8946 - val_acc: 0.3191\n",
      "Epoch 96/300\n",
      "56s - loss: 1.8785 - acc: 0.3222 - val_loss: 1.8912 - val_acc: 0.3201\n",
      "Epoch 97/300\n",
      "53s - loss: 1.8794 - acc: 0.3220 - val_loss: 1.9087 - val_acc: 0.3103\n",
      "Epoch 98/300\n",
      "52s - loss: 1.8795 - acc: 0.3221 - val_loss: 1.8916 - val_acc: 0.3209\n",
      "Epoch 99/300\n"
     ]
    },
    {
     "name": "stdout",
     "output_type": "stream",
     "text": [
      "51s - loss: 1.8791 - acc: 0.3220 - val_loss: 1.8976 - val_acc: 0.3177\n",
      "Epoch 100/300\n",
      "53s - loss: 1.8796 - acc: 0.3221 - val_loss: 1.9018 - val_acc: 0.3171\n",
      "Epoch 101/300\n",
      "52s - loss: 1.8807 - acc: 0.3220 - val_loss: 1.8958 - val_acc: 0.3170\n",
      "Epoch 102/300\n",
      "52s - loss: 1.8817 - acc: 0.3218 - val_loss: 1.9046 - val_acc: 0.3184\n",
      "Epoch 103/300\n",
      "52s - loss: 1.8808 - acc: 0.3218 - val_loss: 1.8917 - val_acc: 0.3173\n",
      "Epoch 104/300\n",
      "54s - loss: 1.8779 - acc: 0.3222 - val_loss: 1.8948 - val_acc: 0.3182\n",
      "Epoch 105/300\n",
      "53s - loss: 1.8788 - acc: 0.3222 - val_loss: 1.8883 - val_acc: 0.3217\n",
      "Epoch 106/300\n",
      "53s - loss: 1.8782 - acc: 0.3226 - val_loss: 1.8984 - val_acc: 0.3200\n",
      "Epoch 107/300\n",
      "50s - loss: 1.8792 - acc: 0.3224 - val_loss: 1.9073 - val_acc: 0.3138\n",
      "Epoch 108/300\n",
      "55s - loss: 1.8783 - acc: 0.3223 - val_loss: 1.9093 - val_acc: 0.3111\n",
      "Epoch 109/300\n",
      "52s - loss: 1.8788 - acc: 0.3222 - val_loss: 1.8931 - val_acc: 0.3170\n",
      "Epoch 110/300\n",
      "53s - loss: 1.8786 - acc: 0.3223 - val_loss: 1.8878 - val_acc: 0.3215\n",
      "Epoch 111/300\n",
      "53s - loss: 1.8800 - acc: 0.3224 - val_loss: 1.9047 - val_acc: 0.3196\n",
      "Epoch 112/300\n",
      "51s - loss: 1.8808 - acc: 0.3223 - val_loss: 1.8990 - val_acc: 0.3160\n",
      "Epoch 113/300\n",
      "51s - loss: 1.8807 - acc: 0.3226 - val_loss: 1.9012 - val_acc: 0.3166\n",
      "Epoch 114/300\n",
      "52s - loss: 1.8802 - acc: 0.3227 - val_loss: 1.8939 - val_acc: 0.3169\n",
      "Epoch 115/300\n",
      "51s - loss: 1.8804 - acc: 0.3225 - val_loss: 1.8995 - val_acc: 0.3151\n",
      "Epoch 116/300\n",
      "52s - loss: 1.8819 - acc: 0.3222 - val_loss: 1.9051 - val_acc: 0.3163\n",
      "Epoch 117/300\n",
      "53s - loss: 1.8807 - acc: 0.3224 - val_loss: 1.8938 - val_acc: 0.3200\n",
      "Epoch 118/300\n",
      "54s - loss: 1.8820 - acc: 0.3224 - val_loss: 1.8913 - val_acc: 0.3207\n",
      "Epoch 119/300\n",
      "53s - loss: 1.8806 - acc: 0.3227 - val_loss: 1.8969 - val_acc: 0.3196\n",
      "Epoch 120/300\n",
      "52s - loss: 1.8829 - acc: 0.3224 - val_loss: 1.9035 - val_acc: 0.3169\n",
      "Epoch 121/300\n",
      "54s - loss: 1.8833 - acc: 0.3223 - val_loss: 1.9044 - val_acc: 0.3149\n",
      "Epoch 122/300\n",
      "50s - loss: 1.8841 - acc: 0.3223 - val_loss: 1.8991 - val_acc: 0.3185\n",
      "Epoch 123/300\n",
      "50s - loss: 1.8830 - acc: 0.3222 - val_loss: 1.8950 - val_acc: 0.3189\n",
      "Epoch 124/300\n",
      "52s - loss: 1.8828 - acc: 0.3224 - val_loss: 1.9105 - val_acc: 0.3112\n",
      "Epoch 125/300\n",
      "52s - loss: 1.8852 - acc: 0.3223 - val_loss: 1.9059 - val_acc: 0.3211\n",
      "Epoch 126/300\n",
      "54s - loss: 1.8874 - acc: 0.3221 - val_loss: 1.9108 - val_acc: 0.3172\n",
      "Epoch 127/300\n",
      "52s - loss: 1.8846 - acc: 0.3221 - val_loss: 1.9049 - val_acc: 0.3183\n",
      "Epoch 128/300\n",
      "53s - loss: 1.8857 - acc: 0.3221 - val_loss: 1.9042 - val_acc: 0.3157\n",
      "Epoch 129/300\n",
      "54s - loss: 1.8840 - acc: 0.3219 - val_loss: 1.9116 - val_acc: 0.3191\n",
      "Epoch 130/300\n",
      "54s - loss: 1.8873 - acc: 0.3221 - val_loss: 1.9034 - val_acc: 0.3206\n",
      "Epoch 131/300\n",
      "53s - loss: 1.8915 - acc: 0.3220 - val_loss: 1.9086 - val_acc: 0.3180\n",
      "Epoch 132/300\n",
      "54s - loss: 1.8882 - acc: 0.3220 - val_loss: 1.8982 - val_acc: 0.3193\n",
      "Epoch 133/300\n",
      "52s - loss: 1.8869 - acc: 0.3223 - val_loss: 1.9013 - val_acc: 0.3152\n",
      "Epoch 134/300\n",
      "53s - loss: 1.8858 - acc: 0.3222 - val_loss: 1.9153 - val_acc: 0.3165\n",
      "Epoch 135/300\n",
      "53s - loss: 1.8857 - acc: 0.3219 - val_loss: 1.8960 - val_acc: 0.3202\n",
      "Epoch 136/300\n",
      "54s - loss: 1.8853 - acc: 0.3218 - val_loss: 1.9032 - val_acc: 0.3203\n",
      "Epoch 137/300\n",
      "50s - loss: 1.8861 - acc: 0.3224 - val_loss: 1.9002 - val_acc: 0.3186\n",
      "Epoch 138/300\n",
      "53s - loss: 1.8861 - acc: 0.3219 - val_loss: 1.8987 - val_acc: 0.3177\n",
      "Epoch 139/300\n",
      "51s - loss: 1.8864 - acc: 0.3220 - val_loss: 1.9068 - val_acc: 0.3167\n",
      "Epoch 140/300\n",
      "52s - loss: 1.8877 - acc: 0.3220 - val_loss: 1.9126 - val_acc: 0.3179\n",
      "Epoch 141/300\n",
      "52s - loss: 1.8876 - acc: 0.3220 - val_loss: 1.9024 - val_acc: 0.3197\n",
      "Epoch 142/300\n",
      "52s - loss: 1.8876 - acc: 0.3222 - val_loss: 1.9036 - val_acc: 0.3200\n",
      "Epoch 143/300\n",
      "53s - loss: 1.8839 - acc: 0.3225 - val_loss: 1.9003 - val_acc: 0.3186\n",
      "Epoch 144/300\n",
      "52s - loss: 1.8857 - acc: 0.3225 - val_loss: 1.9002 - val_acc: 0.3199\n",
      "Epoch 145/300\n",
      "51s - loss: 1.8858 - acc: 0.3224 - val_loss: 1.9018 - val_acc: 0.3180\n",
      "Epoch 146/300\n",
      "54s - loss: 1.8850 - acc: 0.3225 - val_loss: 1.8999 - val_acc: 0.3216\n",
      "Epoch 147/300\n",
      "52s - loss: 1.8837 - acc: 0.3225 - val_loss: 1.8989 - val_acc: 0.3203\n",
      "Epoch 148/300\n",
      "53s - loss: 1.8843 - acc: 0.3227 - val_loss: 1.9070 - val_acc: 0.3188\n",
      "Epoch 149/300\n",
      "52s - loss: 1.8844 - acc: 0.3226 - val_loss: 1.8951 - val_acc: 0.3183\n",
      "Epoch 150/300\n",
      "51s - loss: 1.8831 - acc: 0.3226 - val_loss: 1.8978 - val_acc: 0.3210\n",
      "Epoch 151/300\n",
      "52s - loss: 1.8830 - acc: 0.3227 - val_loss: 1.9031 - val_acc: 0.3129\n",
      "Epoch 152/300\n",
      "53s - loss: 1.8842 - acc: 0.3221 - val_loss: 1.9139 - val_acc: 0.3141\n",
      "Epoch 153/300\n",
      "52s - loss: 1.8838 - acc: 0.3224 - val_loss: 1.8979 - val_acc: 0.3193\n",
      "Epoch 154/300\n",
      "51s - loss: 1.8838 - acc: 0.3225 - val_loss: 1.9191 - val_acc: 0.3101\n",
      "Epoch 155/300\n",
      "51s - loss: 1.8848 - acc: 0.3224 - val_loss: 1.8953 - val_acc: 0.3217\n",
      "Epoch 156/300\n",
      "51s - loss: 1.8825 - acc: 0.3226 - val_loss: 1.8988 - val_acc: 0.3202\n",
      "Epoch 157/300\n",
      "51s - loss: 1.8842 - acc: 0.3227 - val_loss: 1.8994 - val_acc: 0.3190\n",
      "Epoch 158/300\n",
      "52s - loss: 1.8833 - acc: 0.3228 - val_loss: 1.9079 - val_acc: 0.3153\n",
      "Epoch 159/300\n",
      "52s - loss: 1.8841 - acc: 0.3226 - val_loss: 1.9013 - val_acc: 0.3187\n",
      "Epoch 160/300\n",
      "53s - loss: 1.8828 - acc: 0.3225 - val_loss: 1.8970 - val_acc: 0.3201\n",
      "Epoch 161/300\n",
      "53s - loss: 1.8821 - acc: 0.3228 - val_loss: 1.9008 - val_acc: 0.3197\n",
      "Epoch 162/300\n",
      "53s - loss: 1.8838 - acc: 0.3226 - val_loss: 1.8991 - val_acc: 0.3196\n",
      "Epoch 163/300\n",
      "53s - loss: 1.8829 - acc: 0.3226 - val_loss: 1.9013 - val_acc: 0.3191\n",
      "Epoch 164/300\n",
      "53s - loss: 1.8844 - acc: 0.3225 - val_loss: 1.8986 - val_acc: 0.3206\n",
      "Epoch 165/300\n",
      "51s - loss: 1.8850 - acc: 0.3225 - val_loss: 1.9181 - val_acc: 0.3158\n",
      "Epoch 166/300\n",
      "52s - loss: 1.8848 - acc: 0.3228 - val_loss: 1.9005 - val_acc: 0.3206\n",
      "Epoch 167/300\n",
      "53s - loss: 1.8848 - acc: 0.3223 - val_loss: 1.9055 - val_acc: 0.3189\n",
      "Epoch 168/300\n",
      "51s - loss: 1.8842 - acc: 0.3224 - val_loss: 1.8995 - val_acc: 0.3191\n",
      "Epoch 169/300\n",
      "52s - loss: 1.8847 - acc: 0.3225 - val_loss: 1.8998 - val_acc: 0.3176\n",
      "Epoch 170/300\n",
      "53s - loss: 1.8850 - acc: 0.3224 - val_loss: 1.9065 - val_acc: 0.3153\n",
      "Epoch 171/300\n",
      "52s - loss: 1.8858 - acc: 0.3226 - val_loss: 1.9108 - val_acc: 0.3166\n",
      "Epoch 172/300\n",
      "53s - loss: 1.8846 - acc: 0.3221 - val_loss: 1.9036 - val_acc: 0.3182\n",
      "Epoch 173/300\n",
      "54s - loss: 1.8848 - acc: 0.3222 - val_loss: 1.9094 - val_acc: 0.3184\n",
      "Epoch 174/300\n",
      "51s - loss: 1.8847 - acc: 0.3223 - val_loss: 1.9071 - val_acc: 0.3207\n",
      "Epoch 175/300\n",
      "54s - loss: 1.8858 - acc: 0.3226 - val_loss: 1.9038 - val_acc: 0.3189\n",
      "Epoch 176/300\n",
      "54s - loss: 1.8853 - acc: 0.3223 - val_loss: 1.9039 - val_acc: 0.3188\n",
      "Epoch 177/300\n",
      "50s - loss: 1.8852 - acc: 0.3223 - val_loss: 1.9060 - val_acc: 0.3187\n",
      "Epoch 178/300\n",
      "54s - loss: 1.8846 - acc: 0.3228 - val_loss: 1.9008 - val_acc: 0.3174\n",
      "Epoch 179/300\n",
      "51s - loss: 1.8844 - acc: 0.3225 - val_loss: 1.9132 - val_acc: 0.3154\n",
      "Epoch 180/300\n",
      "52s - loss: 1.8841 - acc: 0.3224 - val_loss: 1.9110 - val_acc: 0.3189\n",
      "Epoch 181/300\n",
      "52s - loss: 1.8845 - acc: 0.3226 - val_loss: 1.8983 - val_acc: 0.3209\n",
      "Epoch 182/300\n",
      "54s - loss: 1.8849 - acc: 0.3225 - val_loss: 1.9184 - val_acc: 0.3144\n",
      "Epoch 183/300\n",
      "54s - loss: 1.8848 - acc: 0.3223 - val_loss: 1.9031 - val_acc: 0.3171\n",
      "Epoch 184/300\n",
      "53s - loss: 1.8856 - acc: 0.3225 - val_loss: 1.9034 - val_acc: 0.3199\n",
      "Epoch 185/300\n",
      "52s - loss: 1.8849 - acc: 0.3223 - val_loss: 1.9006 - val_acc: 0.3188\n",
      "Epoch 186/300\n",
      "51s - loss: 1.8848 - acc: 0.3224 - val_loss: 1.9033 - val_acc: 0.3173\n",
      "Epoch 187/300\n",
      "52s - loss: 1.8845 - acc: 0.3224 - val_loss: 1.9029 - val_acc: 0.3197\n",
      "Epoch 188/300\n",
      "51s - loss: 1.8854 - acc: 0.3229 - val_loss: 1.9004 - val_acc: 0.3189\n",
      "Epoch 189/300\n",
      "54s - loss: 1.8853 - acc: 0.3227 - val_loss: 1.9159 - val_acc: 0.3109\n",
      "Epoch 190/300\n",
      "49s - loss: 1.8838 - acc: 0.3225 - val_loss: 1.9196 - val_acc: 0.3129\n",
      "Epoch 191/300\n",
      "53s - loss: 1.8848 - acc: 0.3224 - val_loss: 1.9092 - val_acc: 0.3188\n",
      "Epoch 192/300\n",
      "55s - loss: 1.8842 - acc: 0.3223 - val_loss: 1.9046 - val_acc: 0.3164\n",
      "Epoch 193/300\n",
      "51s - loss: 1.8859 - acc: 0.3222 - val_loss: 1.9002 - val_acc: 0.3183\n",
      "Epoch 194/300\n",
      "54s - loss: 1.8852 - acc: 0.3225 - val_loss: 1.9056 - val_acc: 0.3159\n",
      "Epoch 195/300\n",
      "51s - loss: 1.8854 - acc: 0.3225 - val_loss: 1.9028 - val_acc: 0.3158\n",
      "Epoch 196/300\n",
      "52s - loss: 1.8863 - acc: 0.3225 - val_loss: 1.9069 - val_acc: 0.3152\n",
      "Epoch 197/300\n"
     ]
    },
    {
     "name": "stdout",
     "output_type": "stream",
     "text": [
      "51s - loss: 1.8858 - acc: 0.3221 - val_loss: 1.9223 - val_acc: 0.3187\n",
      "Epoch 198/300\n",
      "50s - loss: 1.8875 - acc: 0.3226 - val_loss: 1.9046 - val_acc: 0.3179\n",
      "Epoch 199/300\n",
      "54s - loss: 1.8870 - acc: 0.3224 - val_loss: 1.9076 - val_acc: 0.3187\n",
      "Epoch 200/300\n",
      "52s - loss: 1.8861 - acc: 0.3223 - val_loss: 1.9252 - val_acc: 0.3077\n",
      "Epoch 201/300\n",
      "51s - loss: 1.8857 - acc: 0.3225 - val_loss: 1.9005 - val_acc: 0.3191\n",
      "Epoch 202/300\n",
      "49s - loss: 1.8863 - acc: 0.3224 - val_loss: 1.9002 - val_acc: 0.3205\n",
      "Epoch 203/300\n",
      "53s - loss: 1.8852 - acc: 0.3219 - val_loss: 1.9038 - val_acc: 0.3147\n",
      "Epoch 204/300\n",
      "54s - loss: 1.8851 - acc: 0.3223 - val_loss: 1.9155 - val_acc: 0.3165\n",
      "Epoch 205/300\n",
      "56s - loss: 1.8853 - acc: 0.3226 - val_loss: 1.9117 - val_acc: 0.3154\n",
      "Epoch 206/300\n",
      "53s - loss: 1.8857 - acc: 0.3228 - val_loss: 1.9031 - val_acc: 0.3183\n",
      "Epoch 207/300\n",
      "54s - loss: 1.8884 - acc: 0.3225 - val_loss: 1.9116 - val_acc: 0.3142\n",
      "Epoch 208/300\n",
      "51s - loss: 1.8864 - acc: 0.3224 - val_loss: 1.9129 - val_acc: 0.3154\n",
      "Epoch 209/300\n",
      "51s - loss: 1.8871 - acc: 0.3223 - val_loss: 1.9041 - val_acc: 0.3191\n",
      "Epoch 210/300\n",
      "53s - loss: 1.8879 - acc: 0.3225 - val_loss: 1.9071 - val_acc: 0.3189\n",
      "Epoch 211/300\n",
      "50s - loss: 1.8883 - acc: 0.3226 - val_loss: 1.9066 - val_acc: 0.3156\n",
      "Epoch 212/300\n",
      "53s - loss: 1.8875 - acc: 0.3227 - val_loss: 1.9067 - val_acc: 0.3156\n",
      "Epoch 213/300\n",
      "52s - loss: 1.8879 - acc: 0.3225 - val_loss: 1.9083 - val_acc: 0.3197\n",
      "Epoch 214/300\n",
      "53s - loss: 1.8879 - acc: 0.3224 - val_loss: 1.9102 - val_acc: 0.3176\n",
      "Epoch 215/300\n",
      "52s - loss: 1.8886 - acc: 0.3224 - val_loss: 1.9033 - val_acc: 0.3193\n",
      "Epoch 216/300\n",
      "52s - loss: 1.8890 - acc: 0.3223 - val_loss: 1.9036 - val_acc: 0.3188\n",
      "Epoch 217/300\n",
      "53s - loss: 1.8890 - acc: 0.3223 - val_loss: 1.9077 - val_acc: 0.3196\n",
      "Epoch 218/300\n",
      "50s - loss: 1.8911 - acc: 0.3225 - val_loss: 1.9073 - val_acc: 0.3185\n",
      "Epoch 219/300\n",
      "52s - loss: 1.8894 - acc: 0.3224 - val_loss: 1.9110 - val_acc: 0.3182\n",
      "Epoch 220/300\n",
      "51s - loss: 1.8905 - acc: 0.3222 - val_loss: 1.9157 - val_acc: 0.3155\n",
      "Epoch 221/300\n",
      "56s - loss: 1.8906 - acc: 0.3223 - val_loss: 1.9087 - val_acc: 0.3192\n",
      "Epoch 222/300\n",
      "51s - loss: 1.8917 - acc: 0.3223 - val_loss: 1.9095 - val_acc: 0.3180\n",
      "Epoch 223/300\n",
      "51s - loss: 1.8915 - acc: 0.3221 - val_loss: 1.9069 - val_acc: 0.3181\n",
      "Epoch 224/300\n",
      "54s - loss: 1.8903 - acc: 0.3219 - val_loss: 1.9063 - val_acc: 0.3198\n",
      "Epoch 225/300\n",
      "52s - loss: 1.8908 - acc: 0.3220 - val_loss: 1.9099 - val_acc: 0.3190\n",
      "Epoch 226/300\n",
      "54s - loss: 1.8906 - acc: 0.3224 - val_loss: 1.9117 - val_acc: 0.3192\n",
      "Epoch 227/300\n",
      "54s - loss: 1.8918 - acc: 0.3224 - val_loss: 1.9101 - val_acc: 0.3197\n",
      "Epoch 228/300\n",
      "54s - loss: 1.8957 - acc: 0.3222 - val_loss: 1.9144 - val_acc: 0.3181\n",
      "Epoch 229/300\n",
      "52s - loss: 1.8965 - acc: 0.3220 - val_loss: 1.9283 - val_acc: 0.3101\n",
      "Epoch 230/300\n",
      "53s - loss: 1.8918 - acc: 0.3225 - val_loss: 1.9123 - val_acc: 0.3178\n",
      "Epoch 231/300\n",
      "51s - loss: 1.8953 - acc: 0.3222 - val_loss: 1.9314 - val_acc: 0.3091\n",
      "Epoch 232/300\n",
      "54s - loss: 1.9013 - acc: 0.3219 - val_loss: 1.9137 - val_acc: 0.3139\n",
      "Epoch 233/300\n",
      "52s - loss: 1.8939 - acc: 0.3220 - val_loss: 1.9214 - val_acc: 0.3114\n",
      "Epoch 234/300\n",
      "52s - loss: 1.8957 - acc: 0.3221 - val_loss: 1.9078 - val_acc: 0.3187\n",
      "Epoch 235/300\n",
      "54s - loss: 1.8904 - acc: 0.3220 - val_loss: 1.9210 - val_acc: 0.3149\n",
      "Epoch 236/300\n",
      "52s - loss: 1.8894 - acc: 0.3220 - val_loss: 1.9043 - val_acc: 0.3185\n",
      "Epoch 237/300\n",
      "52s - loss: 1.8952 - acc: 0.3222 - val_loss: 1.9133 - val_acc: 0.3193\n",
      "Epoch 238/300\n",
      "53s - loss: 1.8937 - acc: 0.3219 - val_loss: 1.9137 - val_acc: 0.3171\n",
      "Epoch 239/300\n",
      "52s - loss: 1.8944 - acc: 0.3219 - val_loss: 1.9699 - val_acc: 0.3038\n",
      "Epoch 240/300\n",
      "54s - loss: 1.8977 - acc: 0.3219 - val_loss: 1.9342 - val_acc: 0.3108\n",
      "Epoch 241/300\n",
      "51s - loss: 1.8991 - acc: 0.3218 - val_loss: 1.9234 - val_acc: 0.3158\n",
      "Epoch 242/300\n",
      "57s - loss: 1.8972 - acc: 0.3218 - val_loss: 1.9136 - val_acc: 0.3190\n",
      "Epoch 243/300\n",
      "51s - loss: 1.8981 - acc: 0.3219 - val_loss: 1.9110 - val_acc: 0.3195\n",
      "Epoch 244/300\n",
      "53s - loss: 1.9023 - acc: 0.3217 - val_loss: 1.9496 - val_acc: 0.3148\n",
      "Epoch 245/300\n",
      "53s - loss: 1.9136 - acc: 0.3220 - val_loss: 1.9685 - val_acc: 0.3120\n",
      "Epoch 246/300\n",
      "54s - loss: 1.8998 - acc: 0.3218 - val_loss: 1.9161 - val_acc: 0.3186\n",
      "Epoch 247/300\n",
      "52s - loss: 1.9014 - acc: 0.3220 - val_loss: 1.9151 - val_acc: 0.3139\n",
      "Epoch 248/300\n",
      "53s - loss: 1.9017 - acc: 0.3220 - val_loss: 1.9266 - val_acc: 0.3155\n",
      "Epoch 249/300\n",
      "52s - loss: 1.9042 - acc: 0.3217 - val_loss: 1.9147 - val_acc: 0.3176\n",
      "Epoch 250/300\n",
      "54s - loss: 1.9115 - acc: 0.3217 - val_loss: 1.9950 - val_acc: 0.3159\n",
      "Epoch 251/300\n",
      "54s - loss: 1.9181 - acc: 0.3216 - val_loss: 1.9151 - val_acc: 0.3178\n",
      "Epoch 252/300\n",
      "51s - loss: 1.9212 - acc: 0.3221 - val_loss: 1.9259 - val_acc: 0.3177\n",
      "Epoch 253/300\n",
      "52s - loss: 1.9172 - acc: 0.3218 - val_loss: 1.9215 - val_acc: 0.3174\n",
      "Epoch 254/300\n",
      "52s - loss: 1.9039 - acc: 0.3218 - val_loss: 1.9112 - val_acc: 0.3189\n",
      "Epoch 255/300\n",
      "51s - loss: 1.9061 - acc: 0.3221 - val_loss: 1.9158 - val_acc: 0.3173\n",
      "Epoch 256/300\n",
      "55s - loss: 1.9023 - acc: 0.3217 - val_loss: 1.9306 - val_acc: 0.3180\n",
      "Epoch 257/300\n",
      "53s - loss: 1.9111 - acc: 0.3221 - val_loss: 1.9623 - val_acc: 0.3116\n",
      "Epoch 258/300\n",
      "53s - loss: 1.8986 - acc: 0.3218 - val_loss: 1.9291 - val_acc: 0.3097\n",
      "Epoch 259/300\n",
      "53s - loss: 1.9081 - acc: 0.3218 - val_loss: 1.9215 - val_acc: 0.3162\n",
      "Epoch 260/300\n",
      "52s - loss: 1.9011 - acc: 0.3218 - val_loss: 1.9256 - val_acc: 0.3162\n",
      "Epoch 261/300\n",
      "51s - loss: 1.9042 - acc: 0.3219 - val_loss: 2.0431 - val_acc: 0.3169\n",
      "Epoch 262/300\n",
      "52s - loss: 1.9171 - acc: 0.3214 - val_loss: 1.9297 - val_acc: 0.3124\n",
      "Epoch 263/300\n",
      "54s - loss: 1.8987 - acc: 0.3218 - val_loss: 1.9165 - val_acc: 0.3181\n",
      "Epoch 264/300\n",
      "53s - loss: 1.9023 - acc: 0.3215 - val_loss: 1.9255 - val_acc: 0.3156\n",
      "Epoch 265/300\n",
      "54s - loss: 1.8943 - acc: 0.3220 - val_loss: 1.9096 - val_acc: 0.3183\n",
      "Epoch 266/300\n",
      "52s - loss: 1.8950 - acc: 0.3220 - val_loss: 1.9180 - val_acc: 0.3169\n",
      "Epoch 267/300\n",
      "52s - loss: 1.9221 - acc: 0.3219 - val_loss: 1.9250 - val_acc: 0.3073\n",
      "Epoch 268/300\n",
      "54s - loss: 1.9084 - acc: 0.3213 - val_loss: 1.9268 - val_acc: 0.3166\n",
      "Epoch 269/300\n",
      "50s - loss: 1.9067 - acc: 0.3216 - val_loss: 1.9251 - val_acc: 0.3147\n",
      "Epoch 270/300\n",
      "54s - loss: 1.8997 - acc: 0.3218 - val_loss: 1.9225 - val_acc: 0.3150\n",
      "Epoch 271/300\n",
      "53s - loss: 1.9169 - acc: 0.3214 - val_loss: 1.9162 - val_acc: 0.3160\n",
      "Epoch 272/300\n",
      "51s - loss: 1.9161 - acc: 0.3213 - val_loss: 1.9326 - val_acc: 0.3150\n",
      "Epoch 273/300\n",
      "51s - loss: 1.9145 - acc: 0.3216 - val_loss: 1.9224 - val_acc: 0.3178\n",
      "Epoch 274/300\n",
      "55s - loss: 1.9153 - acc: 0.3215 - val_loss: 1.9163 - val_acc: 0.3193\n",
      "Epoch 275/300\n",
      "51s - loss: 1.9025 - acc: 0.3215 - val_loss: 1.9197 - val_acc: 0.3183\n",
      "Epoch 276/300\n",
      "52s - loss: 1.9168 - acc: 0.3216 - val_loss: 1.9124 - val_acc: 0.3182\n",
      "Epoch 277/300\n",
      "54s - loss: 1.8948 - acc: 0.3217 - val_loss: 1.9165 - val_acc: 0.3166\n",
      "Epoch 278/300\n",
      "51s - loss: 1.9008 - acc: 0.3215 - val_loss: 1.9179 - val_acc: 0.3178\n",
      "Epoch 279/300\n",
      "53s - loss: 1.9119 - acc: 0.3217 - val_loss: 1.9155 - val_acc: 0.3185\n",
      "Epoch 280/300\n",
      "54s - loss: 1.9138 - acc: 0.3213 - val_loss: 1.9258 - val_acc: 0.3175\n",
      "Epoch 281/300\n",
      "51s - loss: 1.9165 - acc: 0.3213 - val_loss: 1.9236 - val_acc: 0.3172\n",
      "Epoch 282/300\n",
      "48s - loss: 1.9077 - acc: 0.3216 - val_loss: 1.9250 - val_acc: 0.3174\n",
      "Epoch 283/300\n",
      "50s - loss: 1.9139 - acc: 0.3216 - val_loss: 1.9190 - val_acc: 0.3185\n",
      "Epoch 284/300\n",
      "53s - loss: 1.9176 - acc: 0.3217 - val_loss: 1.9256 - val_acc: 0.3177\n",
      "Epoch 285/300\n",
      "49s - loss: 1.9136 - acc: 0.3214 - val_loss: 1.9197 - val_acc: 0.3174\n",
      "Epoch 286/300\n",
      "49s - loss: 1.9006 - acc: 0.3215 - val_loss: 1.9194 - val_acc: 0.3167\n",
      "Epoch 287/300\n",
      "49s - loss: 1.9028 - acc: 0.3210 - val_loss: 1.9284 - val_acc: 0.3176\n",
      "Epoch 288/300\n",
      "48s - loss: 1.9282 - acc: 0.3214 - val_loss: 1.9374 - val_acc: 0.3167\n",
      "Epoch 289/300\n",
      "48s - loss: 1.9136 - acc: 0.3210 - val_loss: 1.9459 - val_acc: 0.3143\n",
      "Epoch 290/300\n",
      "49s - loss: 1.9361 - acc: 0.3215 - val_loss: 1.9583 - val_acc: 0.3151\n",
      "Epoch 291/300\n",
      "48s - loss: 1.9568 - acc: 0.3209 - val_loss: 1.9873 - val_acc: 0.3190\n",
      "Epoch 292/300\n",
      "49s - loss: 1.9179 - acc: 0.3211 - val_loss: 1.9368 - val_acc: 0.3169\n",
      "Epoch 293/300\n",
      "50s - loss: 1.9286 - acc: 0.3215 - val_loss: 1.9285 - val_acc: 0.3168\n",
      "Epoch 294/300\n",
      "49s - loss: 1.9319 - acc: 0.3210 - val_loss: 1.9403 - val_acc: 0.3175\n",
      "Epoch 295/300\n"
     ]
    },
    {
     "name": "stdout",
     "output_type": "stream",
     "text": [
      "49s - loss: 1.9142 - acc: 0.3213 - val_loss: 1.9368 - val_acc: 0.3146\n",
      "Epoch 296/300\n",
      "47s - loss: 1.9290 - acc: 0.3214 - val_loss: 1.9253 - val_acc: 0.3180\n",
      "Epoch 297/300\n",
      "47s - loss: 1.9478 - acc: 0.3211 - val_loss: 2.0272 - val_acc: 0.3166\n",
      "Epoch 298/300\n",
      "48s - loss: 1.9354 - acc: 0.3210 - val_loss: 1.9297 - val_acc: 0.3188\n",
      "Epoch 299/300\n",
      "48s - loss: 1.9192 - acc: 0.3213 - val_loss: 1.9303 - val_acc: 0.3169\n",
      "Epoch 300/300\n",
      "48s - loss: 1.9346 - acc: 0.3210 - val_loss: 1.9317 - val_acc: 0.3158\n",
      "Training duration : 15664.750354290009\n"
     ]
    }
   ],
   "source": [
    "start_time = time.time()\n",
    "print('Training model...')\n",
    "model.fit(train_x, train_y , epochs=epochs, batch_size=batch,\n",
    "          shuffle=True,validation_split=0.1, verbose=2)\n",
    "print(\"Training duration : {0}\".format(time.time() - start_time))\n"
   ]
  },
  {
   "cell_type": "code",
   "execution_count": 13,
   "metadata": {
    "collapsed": true
   },
   "outputs": [],
   "source": [
    "train_time = time.time() - start_time"
   ]
  },
  {
   "cell_type": "markdown",
   "metadata": {},
   "source": [
    "# save model"
   ]
  },
  {
   "cell_type": "code",
   "execution_count": 14,
   "metadata": {},
   "outputs": [
    {
     "name": "stdout",
     "output_type": "stream",
     "text": [
      "Saved model to disk\n"
     ]
    }
   ],
   "source": [
    "# serialize model to JSON\n",
    "model_json = model.to_json()\n",
    "with open(\"model.json\", \"w\") as json_file:\n",
    "    json_file.write(model_json)\n",
    "# serialize weights to HDF5\n",
    "model.save_weights(\"model.h5\")\n",
    "print(\"Saved model to disk\")\n",
    " \n"
   ]
  },
  {
   "cell_type": "markdown",
   "metadata": {},
   "source": [
    "# test model and get accuracy"
   ]
  },
  {
   "cell_type": "code",
   "execution_count": 15,
   "metadata": {},
   "outputs": [
    {
     "name": "stdout",
     "output_type": "stream",
     "text": [
      "376064/376526 [============================>.] - ETA: 0s"
     ]
    }
   ],
   "source": [
    "test_batch = 32\n",
    "loss, accuracy = model.evaluate(test_x, test_y, batch_size=test_batch)"
   ]
  },
  {
   "cell_type": "code",
   "execution_count": 16,
   "metadata": {},
   "outputs": [
    {
     "name": "stdout",
     "output_type": "stream",
     "text": [
      "acc: 31.46%\n"
     ]
    }
   ],
   "source": [
    "print(\"%s: %.2f%%\" % (model.metrics_names[1], accuracy*100))\n"
   ]
  },
  {
   "cell_type": "markdown",
   "metadata": {},
   "source": [
    "# send mail to alert"
   ]
  },
  {
   "cell_type": "code",
   "execution_count": 17,
   "metadata": {
    "collapsed": true
   },
   "outputs": [],
   "source": [
    "model_config = []\n",
    "for index, layer in enumerate(model.get_config()):\n",
    "    model_config.append(\"layer - > %d===============\" % index)\n",
    "    model_config.append(\"class_name = \" + layer[\"class_name\"] )\n",
    "    if(str(layer[\"config\"].get(\"units\", \"None\")) != \"None\"):\n",
    "        model_config.append(\"units = \" + str(layer[\"config\"].get(\"units\", \"None\")))\n",
    "    if(str(layer[\"config\"].get(\"activation\", \"None\")) != \"None\"):\n",
    "        model_config.append(\"activation = \" + layer[\"config\"][\"activation\"])\n",
    "    if(str(layer[\"config\"].get(\"rate\", \"None\")) != \"None\"):\n",
    "        model_config.append(\"rate = \" + str(layer[\"config\"][\"rate\"]))\n",
    "model_info = '\\n'.join(model_config)"
   ]
  },
  {
   "cell_type": "code",
   "execution_count": 18,
   "metadata": {
    "collapsed": true
   },
   "outputs": [],
   "source": [
    "model_info += \"\\n\\ntrain epochs = \" + str(epochs)\n",
    "model_info += \"\\ntrain batch = \" + str(batch)\n",
    "model_info += \"\\ntest batch = \" + str(test_batch)\n",
    "model_info += \"\\ntrain time = \" + str(train_time)\n",
    "model_info += \"\\nloss = \" + str(loss)\n",
    "model_info += \"\\n\\n\\naccuracy = \" + str(accuracy)\n",
    "\n"
   ]
  },
  {
   "cell_type": "code",
   "execution_count": 19,
   "metadata": {},
   "outputs": [
    {
     "name": "stdout",
     "output_type": "stream",
     "text": [
      "Start Send Mail\n",
      "User Email : a - DONE \n",
      "User Email : a - DONE \n",
      "User Email : 2 - DONE \n",
      "User Email : 6 - DONE \n",
      "User Email : 3 - DONE \n",
      "User Email : 6 - DONE \n",
      "User Email : 5 - DONE \n",
      "User Email : 5 - DONE \n",
      "User Email : 6 - DONE \n",
      "User Email : 6 - DONE \n",
      "User Email : @ - DONE \n",
      "User Email : g - DONE \n",
      "User Email : m - DONE \n",
      "User Email : a - DONE \n",
      "User Email : i - DONE \n",
      "User Email : l - DONE \n",
      "User Email : . - DONE \n",
      "User Email : c - DONE \n",
      "User Email : o - DONE \n",
      "User Email : m - DONE \n",
      "Finish Send Mail\n"
     ]
    }
   ],
   "source": [
    "test=mail()\n",
    "test.main(\"model finished\", model_info)"
   ]
  },
  {
   "cell_type": "markdown",
   "metadata": {},
   "source": [
    "# write readme to report the model"
   ]
  },
  {
   "cell_type": "code",
   "execution_count": 20,
   "metadata": {},
   "outputs": [
    {
     "data": {
      "text/plain": [
       "True"
      ]
     },
     "execution_count": 20,
     "metadata": {},
     "output_type": "execute_result"
    }
   ],
   "source": [
    "md_info = model_info.replace(\"\\n\", \"<br>\")\n",
    "with open('readme.md', 'w+') as f:\n",
    "     f.write(md_info)\n",
    "f.closed"
   ]
  },
  {
   "cell_type": "code",
   "execution_count": 21,
   "metadata": {},
   "outputs": [
    {
     "name": "stdout",
     "output_type": "stream",
     "text": [
      "layer - > 0===============\n",
      "class_name = Dense\n",
      "units = 256\n",
      "activation = linear\n",
      "layer - > 1===============\n",
      "class_name = Activation\n",
      "activation = relu\n",
      "layer - > 2===============\n",
      "class_name = Dense\n",
      "units = 128\n",
      "activation = linear\n",
      "layer - > 3===============\n",
      "class_name = Activation\n",
      "activation = relu\n",
      "layer - > 4===============\n",
      "class_name = Dense\n",
      "units = 64\n",
      "activation = linear\n",
      "layer - > 5===============\n",
      "class_name = Activation\n",
      "activation = relu\n",
      "layer - > 6===============\n",
      "class_name = Dense\n",
      "units = 32\n",
      "activation = linear\n",
      "layer - > 7===============\n",
      "class_name = Activation\n",
      "activation = relu\n",
      "layer - > 8===============\n",
      "class_name = Dense\n",
      "units = 11\n",
      "activation = linear\n",
      "layer - > 9===============\n",
      "class_name = Activation\n",
      "activation = softmax\n",
      "\n",
      "train epochs = 300\n",
      "train batch = 128\n",
      "test batch = 32\n",
      "train time = 15664.768165111542\n",
      "loss = 1.93175412251\n",
      "\n",
      "\n",
      "accuracy = 0.314644938199\n"
     ]
    }
   ],
   "source": [
    "print(model_info)"
   ]
  },
  {
   "cell_type": "code",
   "execution_count": 22,
   "metadata": {
    "collapsed": true
   },
   "outputs": [],
   "source": [
    "from sklearn.metrics import confusion_matrix\n",
    "import matplotlib.pyplot as plt\n",
    "import itertools"
   ]
  },
  {
   "cell_type": "code",
   "execution_count": 23,
   "metadata": {
    "collapsed": true
   },
   "outputs": [],
   "source": [
    "def plot_confusion_matrix(cm, classes,\n",
    "                          normalize=False,\n",
    "                          title='Confusion matrix',\n",
    "                          cmap=plt.cm.Blues):\n",
    "    \"\"\"\n",
    "    This function prints and plots the confusion matrix.\n",
    "    Normalization can be applied by setting `normalize=True`.\n",
    "    \"\"\"\n",
    "    plt.imshow(cm, interpolation='nearest', cmap=cmap)\n",
    "    plt.title(title)\n",
    "    plt.colorbar()\n",
    "    tick_marks = np.arange(len(classes))\n",
    "    plt.xticks(tick_marks, classes, rotation=45)\n",
    "    plt.yticks(tick_marks, classes)\n",
    "\n",
    "    if normalize:\n",
    "        cm = cm.astype('float') / cm.sum(axis=1)[:, np.newaxis]\n",
    "#         print(\"Normalized confusion matrix\")\n",
    "#     else:\n",
    "#         print('Confusion matrix, without normalization')\n",
    "\n",
    "#     print(cm)\n",
    "\n",
    "    thresh = cm.max() / 2.\n",
    "    for i, j in itertools.product(range(cm.shape[0]), range(cm.shape[1])):\n",
    "        plt.text(j, i, \"\",\n",
    "                 horizontalalignment=\"center\",\n",
    "                 color=\"white\" if cm[i, j] > thresh else \"black\")\n",
    "\n",
    "    plt.tight_layout()\n",
    "    plt.ylabel('True label')\n",
    "    plt.xlabel('Predicted label')"
   ]
  },
  {
   "cell_type": "code",
   "execution_count": 26,
   "metadata": {
    "collapsed": true
   },
   "outputs": [],
   "source": [
    "pred = model.predict(test_x)"
   ]
  },
  {
   "cell_type": "code",
   "execution_count": 27,
   "metadata": {},
   "outputs": [
    {
     "data": {
      "text/plain": [
       "array([[    0,     0,     0,   296,  2723,  1968,     0,     0,  5371,\n",
       "          522,     0],\n",
       "       [    0,     0,     0,  1544,  6443,  3787,     1,     0,  5039,\n",
       "          477,     0],\n",
       "       [    0,     0,     1,   488,  3346,  5943,     1,     0,  4750,\n",
       "          501,     0],\n",
       "       [    0,     0,     0, 20547,  5729,   317,     0,     0,  2327,\n",
       "           45,     0],\n",
       "       [    0,     0,     2, 10806, 40654, 19170,     9,     0, 13118,\n",
       "         1163,     0],\n",
       "       [    0,     0,     2,  4129, 29556, 33319,    10,     0, 17645,\n",
       "         1516,     0],\n",
       "       [    0,     0,     0,   229,  6794, 13455,     5,     0,   509,\n",
       "           29,     0],\n",
       "       [    0,     0,     0,  1397,  4521,  1520,     1,     0,  3772,\n",
       "          163,     0],\n",
       "       [    0,     0,     0,  4508, 13780, 11073,     4,     0, 22658,\n",
       "         1381,     0],\n",
       "       [    0,     0,     1,  2193,  5753,  1248,     0,     0,  9084,\n",
       "         1288,     0],\n",
       "       [    0,     0,     0,  2431, 11515,  6095,     1,     0,  7522,\n",
       "          331,     0]])"
      ]
     },
     "execution_count": 27,
     "metadata": {},
     "output_type": "execute_result"
    }
   ],
   "source": [
    "cnf_matrix = confusion_matrix(np.argmax(test_y, axis = 1), np.argmax(pred, axis = 1))\n",
    "cnf_matrix"
   ]
  },
  {
   "cell_type": "code",
   "execution_count": 36,
   "metadata": {},
   "outputs": [
    {
     "data": {
      "image/png": "[encoded data removed]",
      "text/plain": [
       "<matplotlib.figure.Figure at 0x1b4e74fbb00>"
      ]
     },
     "metadata": {},
     "output_type": "display_data"
    }
   ],
   "source": [
    "np.set_printoptions(precision=2)\n",
    "plt.figure(figsize=(6, 6), dpi = 120)\n",
    "plot_confusion_matrix(cnf_matrix, classes=encoder.classes_, normalize=True, title='confusion matrix')\n",
    "plt.show()"
   ]
  },
  {
   "cell_type": "code",
   "execution_count": 110,
   "metadata": {},
   "outputs": [
    {
     "name": "stdout",
     "output_type": "stream",
     "text": [
      "[[ 0.  0.  0. ...,  0.  1.  0.]\n",
      " [ 0.  0.  0. ...,  0.  0.  0.]\n",
      " [ 0.  0.  0. ...,  0.  0.  0.]\n",
      " ..., \n",
      " [ 0.  0.  0. ...,  0.  1.  0.]\n",
      " [ 0.  0.  0. ...,  0.  0.  0.]\n",
      " [ 0.  0.  0. ...,  0.  0.  0.]]\n",
      "[[ 0.  0.  0. ...,  0.  1.  0.]\n",
      " [ 0.  0.  0. ...,  0.  0.  0.]\n",
      " [ 0.  0.  0. ...,  0.  0.  0.]\n",
      " ..., \n",
      " [ 0.  0.  0. ...,  0.  1.  0.]\n",
      " [ 0.  0.  0. ...,  0.  0.  0.]\n",
      " [ 0.  0.  0. ...,  0.  0.  0.]]\n",
      "[[ 0.  0.  0. ...,  0.  1.  0.]\n",
      " [ 0.  0.  0. ...,  0.  0.  0.]\n",
      " [ 0.  0.  0. ...,  0.  0.  0.]\n",
      " ..., \n",
      " [ 0.  0.  0. ...,  0.  1.  0.]\n",
      " [ 0.  0.  0. ...,  0.  0.  0.]\n",
      " [ 0.  0.  0. ...,  0.  0.  0.]]\n",
      "[[ 0.  0.  0. ...,  0.  1.  0.]\n",
      " [ 0.  0.  0. ...,  0.  0.  0.]\n",
      " [ 0.  0.  0. ...,  0.  0.  0.]\n",
      " ..., \n",
      " [ 0.  0.  0. ...,  0.  1.  0.]\n",
      " [ 0.  0.  0. ...,  0.  0.  0.]\n",
      " [ 0.  0.  0. ...,  0.  0.  0.]]\n",
      "[[ 0.  0.  0. ...,  0.  1.  0.]\n",
      " [ 0.  0.  0. ...,  0.  0.  0.]\n",
      " [ 0.  0.  0. ...,  0.  0.  0.]\n",
      " ..., \n",
      " [ 0.  0.  0. ...,  0.  1.  0.]\n",
      " [ 0.  0.  0. ...,  0.  0.  0.]\n",
      " [ 0.  0.  0. ...,  0.  0.  0.]]\n",
      "[[ 0.  0.  0. ...,  0.  1.  0.]\n",
      " [ 0.  0.  0. ...,  0.  0.  0.]\n",
      " [ 0.  0.  0. ...,  0.  0.  0.]\n",
      " ..., \n",
      " [ 0.  0.  0. ...,  0.  1.  0.]\n",
      " [ 0.  0.  0. ...,  0.  0.  0.]\n",
      " [ 0.  0.  0. ...,  0.  0.  0.]]\n",
      "[[ 0.  0.  0. ...,  0.  1.  0.]\n",
      " [ 0.  0.  0. ...,  0.  0.  0.]\n",
      " [ 0.  0.  0. ...,  0.  0.  0.]\n",
      " ..., \n",
      " [ 0.  0.  0. ...,  0.  1.  0.]\n",
      " [ 0.  0.  0. ...,  0.  0.  0.]\n",
      " [ 0.  0.  0. ...,  0.  0.  0.]]\n",
      "[[ 0.  0.  0. ...,  0.  1.  0.]\n",
      " [ 0.  0.  0. ...,  0.  0.  0.]\n",
      " [ 0.  0.  0. ...,  0.  0.  0.]\n",
      " ..., \n",
      " [ 0.  0.  0. ...,  0.  1.  0.]\n",
      " [ 0.  0.  0. ...,  0.  0.  0.]\n",
      " [ 0.  0.  0. ...,  0.  0.  0.]]\n",
      "[[ 0.  0.  0. ...,  0.  1.  0.]\n",
      " [ 0.  0.  0. ...,  0.  0.  0.]\n",
      " [ 0.  0.  0. ...,  0.  0.  0.]\n",
      " ..., \n",
      " [ 0.  0.  0. ...,  0.  1.  0.]\n",
      " [ 0.  0.  0. ...,  0.  0.  0.]\n",
      " [ 0.  0.  0. ...,  0.  0.  0.]]\n",
      "[[ 0.  0.  0. ...,  0.  1.  0.]\n",
      " [ 0.  0.  0. ...,  0.  0.  0.]\n",
      " [ 0.  0.  0. ...,  0.  0.  0.]\n",
      " ..., \n",
      " [ 0.  0.  0. ...,  0.  1.  0.]\n",
      " [ 0.  0.  0. ...,  0.  0.  0.]\n",
      " [ 0.  0.  0. ...,  0.  0.  0.]]\n"
     ]
    }
   ],
   "source": [
    "# for i in range(10):\n",
    "#     probabilities = model.predict(test_x[i:i+1,:], batch_size=32, verbose=0)\n",
    "#     probabilities = model.predict(test_x[i:i+1,:])\n",
    "#     probabilities = model.predict(test_x)\n",
    "#     probabilities[probabilities>=0.5] = 1\n",
    "#     probabilities[probabilities<0.5] = 0\n",
    "#     print(probabilities)"
   ]
  }
 ],
 "metadata": {
  "kernelspec": {
   "display_name": "Python 3",
   "language": "python",
   "name": "python3"
  },
  "language_info": {
   "codemirror_mode": {
    "name": "ipython",
    "version": 3
   },
   "file_extension": ".py",
   "mimetype": "text/x-python",
   "name": "python",
   "nbconvert_exporter": "python",
   "pygments_lexer": "ipython3",
   "version": "3.5.3"
  }
 },
 "nbformat": 4,
 "nbformat_minor": 2
}
