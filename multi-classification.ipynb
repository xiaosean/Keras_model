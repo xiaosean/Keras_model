{
 "cells": [
  {
   "cell_type": "code",
   "execution_count": 40,
   "metadata": {},
   "outputs": [],
   "source": [
    "import time\n",
    "import numpy as np\n",
    "from keras.utils import np_utils\n",
    "import keras.callbacks as cb\n",
    "from keras.models import Sequential\n",
    "from keras.layers.core import Dense, Dropout, Activation\n",
    "from keras.optimizers import RMSprop\n",
    "import feather \n",
    "from mailerWithUtf8 import mail\n",
    "from sklearn.preprocessing import LabelEncoder\n",
    "from keras.models import model_from_json"
   ]
  },
  {
   "cell_type": "markdown",
   "metadata": {},
   "source": [
    "# basic config"
   ]
  },
  {
   "cell_type": "code",
   "execution_count": 41,
   "metadata": {
    "collapsed": true
   },
   "outputs": [],
   "source": [
    "classify_num = 12\n",
    "epochs = 300\n",
    "batch = 128"
   ]
  },
  {
   "cell_type": "markdown",
   "metadata": {},
   "source": [
    "# preprocess load data"
   ]
  },
  {
   "cell_type": "code",
   "execution_count": 42,
   "metadata": {},
   "outputs": [
    {
     "name": "stdout",
     "output_type": "stream",
     "text": [
      "load feather %s seconds 0.8458900451660156\n"
     ]
    }
   ],
   "source": [
    "start_time = time.time()\n",
    "path = 'C:/Users/VIPLAB/Desktop/preprocess_py/marketing_analyze/april_marketing_anylze_numeric_and_bool_group11_max_min_train.feather' \n",
    "train_df = feather.read_dataframe(path)\n",
    "print('load feather %s seconds', format(time.time() - start_time))\n"
   ]
  },
  {
   "cell_type": "code",
   "execution_count": 43,
   "metadata": {},
   "outputs": [
    {
     "name": "stdout",
     "output_type": "stream",
     "text": [
      "load feather %s seconds 0.4078183174133301\n"
     ]
    }
   ],
   "source": [
    "start_time = time.time()\n",
    "path = 'C:/Users/VIPLAB/Desktop/preprocess_py/marketing_analyze/april_marketing_anylze_numeric_and_bool_group11_max_min_test.feather' \n",
    "test_df = feather.read_dataframe(path)\n",
    "print('load feather %s seconds', format(time.time() - start_time))"
   ]
  },
  {
   "cell_type": "code",
   "execution_count": 44,
   "metadata": {
    "collapsed": true
   },
   "outputs": [],
   "source": [
    "train_x, train_y = train_df.iloc[:, 0:-1].values, train_df.iloc[:, -1].values"
   ]
  },
  {
   "cell_type": "code",
   "execution_count": 45,
   "metadata": {
    "collapsed": true
   },
   "outputs": [],
   "source": [
    "test_x, test_y = test_df.iloc[:, 0:-1].values, test_df.iloc[:, -1].values"
   ]
  },
  {
   "cell_type": "code",
   "execution_count": 46,
   "metadata": {
    "collapsed": true
   },
   "outputs": [],
   "source": [
    "train_x = train_x.reshape(train_x.shape[0], -1)   # normalize\n",
    "test_x = test_x.reshape(test_x.shape[0], -1)   # normalize\n",
    "\n"
   ]
  },
  {
   "cell_type": "code",
   "execution_count": 47,
   "metadata": {
    "collapsed": true
   },
   "outputs": [],
   "source": [
    "# encode class values as integers\n",
    "encoder = LabelEncoder()\n",
    "encoder.fit(train_y)\n",
    "encoded_Y = encoder.transform(train_y)\n",
    "# convert integers to dummy variables (i.e. one hot encoded)\n",
    "train_y = np_utils.to_categorical(encoded_Y)\n",
    "\n",
    "encoded_Y = encoder.transform(test_y)\n",
    "# convert integers to dummy variables (i.e. one hot encoded)\n",
    "test_y = np_utils.to_categorical(encoded_Y)"
   ]
  },
  {
   "cell_type": "code",
   "execution_count": 48,
   "metadata": {},
   "outputs": [
    {
     "data": {
      "text/plain": [
       "1569788"
      ]
     },
     "execution_count": 48,
     "metadata": {},
     "output_type": "execute_result"
    }
   ],
   "source": [
    "len(train_y)"
   ]
  },
  {
   "cell_type": "code",
   "execution_count": 49,
   "metadata": {},
   "outputs": [
    {
     "data": {
      "text/plain": [
       "773180"
      ]
     },
     "execution_count": 49,
     "metadata": {},
     "output_type": "execute_result"
    }
   ],
   "source": [
    "len(test_y)"
   ]
  },
  {
   "cell_type": "markdown",
   "metadata": {},
   "source": [
    "# construct and compile model"
   ]
  },
  {
   "cell_type": "code",
   "execution_count": 50,
   "metadata": {},
   "outputs": [
    {
     "name": "stdout",
     "output_type": "stream",
     "text": [
      "Compiling Model ... \n",
      "Model compield in 0.08525252342224121 seconds\n"
     ]
    }
   ],
   "source": [
    "start_time = time.time()\n",
    "print ('Compiling Model ... ')\n",
    "model = Sequential()\n",
    "model.add(Dense(100, input_shape=train_x[0].shape ))\n",
    "model.add(Activation('relu'))\n",
    "# model.add(Dropout(0.2))\n",
    "model.add(Dense(70))\n",
    "model.add(Activation('relu'))\n",
    "model.add(Dense(30))\n",
    "model.add(Activation('relu'))\n",
    "# model.add(Dropout(0.2))\n",
    "model.add(Dense(12))\n",
    "model.add(Activation('softmax'))\n",
    "\n",
    "rms = RMSprop()\n",
    "model.compile(loss='categorical_crossentropy', optimizer=rms,\n",
    "          metrics=['accuracy'])\n",
    "print('Model compield in {0} seconds'.format(time.time() - start_time))\n"
   ]
  },
  {
   "cell_type": "markdown",
   "metadata": {},
   "source": [
    "# Train model"
   ]
  },
  {
   "cell_type": "code",
   "execution_count": null,
   "metadata": {},
   "outputs": [
    {
     "name": "stdout",
     "output_type": "stream",
     "text": [
      "Training model...\n",
      "Train on 1412809 samples, validate on 156979 samples\n",
      "Epoch 1/300\n",
      "43s - loss: 1.7780 - acc: 0.3814 - val_loss: 1.7478 - val_acc: 0.3872\n",
      "Epoch 2/300\n",
      "46s - loss: 1.7461 - acc: 0.3924 - val_loss: 1.7405 - val_acc: 0.3955\n",
      "Epoch 3/300\n",
      "48s - loss: 1.7406 - acc: 0.3952 - val_loss: 1.7393 - val_acc: 0.3954\n",
      "Epoch 4/300\n",
      "45s - loss: 1.7384 - acc: 0.3974 - val_loss: 1.7415 - val_acc: 0.3967\n",
      "Epoch 5/300\n",
      "46s - loss: 1.7361 - acc: 0.3990 - val_loss: 1.7336 - val_acc: 0.4015\n",
      "Epoch 6/300\n",
      "46s - loss: 1.7325 - acc: 0.4003 - val_loss: 1.7390 - val_acc: 0.3981\n",
      "Epoch 7/300\n",
      "47s - loss: 1.7315 - acc: 0.4015 - val_loss: 1.7195 - val_acc: 0.4032\n",
      "Epoch 8/300\n",
      "45s - loss: 1.7318 - acc: 0.4021 - val_loss: 1.7697 - val_acc: 0.3899\n",
      "Epoch 9/300\n",
      "44s - loss: 1.7324 - acc: 0.4030 - val_loss: 1.7217 - val_acc: 0.4049\n",
      "Epoch 10/300\n",
      "46s - loss: 1.7299 - acc: 0.4038 - val_loss: 1.7293 - val_acc: 0.4047\n",
      "Epoch 11/300\n",
      "45s - loss: 1.7306 - acc: 0.4040 - val_loss: 1.7206 - val_acc: 0.4048\n",
      "Epoch 12/300\n",
      "46s - loss: 1.7310 - acc: 0.4040 - val_loss: 1.7432 - val_acc: 0.3985\n",
      "Epoch 13/300\n",
      "44s - loss: 1.7316 - acc: 0.4044 - val_loss: 1.7286 - val_acc: 0.4027\n",
      "Epoch 14/300\n",
      "44s - loss: 1.7347 - acc: 0.4048 - val_loss: 1.7269 - val_acc: 0.4070\n",
      "Epoch 15/300\n",
      "45s - loss: 1.7324 - acc: 0.4053 - val_loss: 1.7275 - val_acc: 0.4073\n",
      "Epoch 16/300\n",
      "46s - loss: 1.7344 - acc: 0.4050 - val_loss: 1.7245 - val_acc: 0.4068\n",
      "Epoch 17/300\n",
      "46s - loss: 1.7336 - acc: 0.4050 - val_loss: 1.7288 - val_acc: 0.4047\n",
      "Epoch 18/300\n",
      "48s - loss: 1.7318 - acc: 0.4054 - val_loss: 1.7538 - val_acc: 0.3935\n",
      "Epoch 19/300\n",
      "46s - loss: 1.7256 - acc: 0.4064 - val_loss: 1.7182 - val_acc: 0.4051\n",
      "Epoch 20/300\n",
      "47s - loss: 1.7244 - acc: 0.4069 - val_loss: 1.7394 - val_acc: 0.4005\n",
      "Epoch 21/300\n",
      "46s - loss: 1.7235 - acc: 0.4073 - val_loss: 1.7260 - val_acc: 0.4058\n",
      "Epoch 22/300\n",
      "46s - loss: 1.7236 - acc: 0.4075 - val_loss: 1.7171 - val_acc: 0.4103\n",
      "Epoch 23/300\n",
      "44s - loss: 1.7227 - acc: 0.4076 - val_loss: 1.7298 - val_acc: 0.4010\n",
      "Epoch 24/300\n",
      "45s - loss: 1.7236 - acc: 0.4078 - val_loss: 1.7200 - val_acc: 0.4061\n",
      "Epoch 25/300\n",
      "46s - loss: 1.7254 - acc: 0.4080 - val_loss: 1.7244 - val_acc: 0.4061\n",
      "Epoch 26/300\n",
      "45s - loss: 1.7245 - acc: 0.4077 - val_loss: 1.7187 - val_acc: 0.4086\n",
      "Epoch 27/300\n",
      "45s - loss: 1.7278 - acc: 0.4078 - val_loss: 1.7177 - val_acc: 0.4086\n",
      "Epoch 28/300\n",
      "45s - loss: 1.7268 - acc: 0.4076 - val_loss: 1.7354 - val_acc: 0.4057\n",
      "Epoch 29/300\n",
      "44s - loss: 1.7270 - acc: 0.4078 - val_loss: 1.7173 - val_acc: 0.4087\n",
      "Epoch 30/300\n",
      "45s - loss: 1.7261 - acc: 0.4081 - val_loss: 1.7375 - val_acc: 0.4088\n",
      "Epoch 31/300\n",
      "45s - loss: 1.7258 - acc: 0.4084 - val_loss: 1.7188 - val_acc: 0.4079\n",
      "Epoch 32/300\n",
      "45s - loss: 1.7251 - acc: 0.4085 - val_loss: 1.7357 - val_acc: 0.4059\n",
      "Epoch 33/300\n",
      "47s - loss: 1.7273 - acc: 0.4082 - val_loss: 1.7467 - val_acc: 0.3979\n",
      "Epoch 34/300\n",
      "45s - loss: 1.7271 - acc: 0.4084 - val_loss: 1.7300 - val_acc: 0.4095\n",
      "Epoch 35/300\n",
      "47s - loss: 1.7286 - acc: 0.4085 - val_loss: 1.7501 - val_acc: 0.4049\n",
      "Epoch 36/300\n",
      "46s - loss: 1.7272 - acc: 0.4089 - val_loss: 1.7197 - val_acc: 0.4086\n",
      "Epoch 37/300\n",
      "46s - loss: 1.7290 - acc: 0.4090 - val_loss: 1.7488 - val_acc: 0.4010\n",
      "Epoch 38/300\n",
      "45s - loss: 1.7240 - acc: 0.4092 - val_loss: 1.7331 - val_acc: 0.4060\n",
      "Epoch 39/300\n",
      "45s - loss: 1.7304 - acc: 0.4091 - val_loss: 1.7306 - val_acc: 0.4074\n",
      "Epoch 40/300\n",
      "45s - loss: 1.7238 - acc: 0.4092 - val_loss: 1.7387 - val_acc: 0.4005\n",
      "Epoch 41/300\n",
      "47s - loss: 1.7262 - acc: 0.4093 - val_loss: 1.7288 - val_acc: 0.4106\n",
      "Epoch 42/300\n",
      "47s - loss: 1.7306 - acc: 0.4090 - val_loss: 1.7304 - val_acc: 0.4072\n",
      "Epoch 43/300\n",
      "47s - loss: 1.7310 - acc: 0.4091 - val_loss: 1.7333 - val_acc: 0.4068\n",
      "Epoch 44/300\n",
      "44s - loss: 1.7320 - acc: 0.4091 - val_loss: 1.7150 - val_acc: 0.4127\n",
      "Epoch 45/300\n",
      "46s - loss: 1.7293 - acc: 0.4091 - val_loss: 1.7236 - val_acc: 0.4110\n",
      "Epoch 46/300\n",
      "46s - loss: 1.7311 - acc: 0.4090 - val_loss: 1.7586 - val_acc: 0.3984\n",
      "Epoch 47/300\n",
      "45s - loss: 1.7357 - acc: 0.4078 - val_loss: 1.7768 - val_acc: 0.4058\n",
      "Epoch 48/300\n",
      "44s - loss: 1.7352 - acc: 0.4079 - val_loss: 1.7686 - val_acc: 0.4069\n",
      "Epoch 49/300\n",
      "44s - loss: 1.7294 - acc: 0.4087 - val_loss: 1.7339 - val_acc: 0.4076\n",
      "Epoch 50/300\n",
      "48s - loss: 1.7247 - acc: 0.4093 - val_loss: 1.7130 - val_acc: 0.4109\n",
      "Epoch 51/300\n",
      "46s - loss: 1.7218 - acc: 0.4094 - val_loss: 1.7120 - val_acc: 0.4096\n",
      "Epoch 52/300\n",
      "45s - loss: 1.7260 - acc: 0.4092 - val_loss: 1.7171 - val_acc: 0.4108\n",
      "Epoch 53/300\n",
      "45s - loss: 1.7231 - acc: 0.4093 - val_loss: 1.7162 - val_acc: 0.4098\n",
      "Epoch 54/300\n",
      "47s - loss: 1.7221 - acc: 0.4090 - val_loss: 1.7244 - val_acc: 0.4100\n",
      "Epoch 55/300\n",
      "44s - loss: 1.7223 - acc: 0.4095 - val_loss: 1.7228 - val_acc: 0.4089\n",
      "Epoch 56/300\n"
     ]
    }
   ],
   "source": [
    "start_time = time.time()\n",
    "print('Training model...')\n",
    "model.fit(train_x, train_y , epochs=epochs, batch_size=batch,\n",
    "          shuffle=True,validation_split=0.1, verbose=2)\n",
    "print(\"Training duration : {0}\".format(time.time() - start_time))\n"
   ]
  },
  {
   "cell_type": "code",
   "execution_count": null,
   "metadata": {},
   "outputs": [],
   "source": [
    "train_time = time.time() - start_time"
   ]
  },
  {
   "cell_type": "markdown",
   "metadata": {},
   "source": [
    "# save model"
   ]
  },
  {
   "cell_type": "code",
   "execution_count": null,
   "metadata": {},
   "outputs": [],
   "source": [
    "# serialize model to JSON\n",
    "model_json = model.to_json()\n",
    "with open(\"model.json\", \"w\") as json_file:\n",
    "    json_file.write(model_json)\n",
    "# serialize weights to HDF5\n",
    "model.save_weights(\"model.h5\")\n",
    "print(\"Saved model to disk\")\n",
    " \n"
   ]
  },
  {
   "cell_type": "markdown",
   "metadata": {},
   "source": [
    "# test model and get accuracy"
   ]
  },
  {
   "cell_type": "code",
   "execution_count": null,
   "metadata": {},
   "outputs": [],
   "source": [
    "test_batch = 32\n",
    "loss, accuracy = model.evaluate(test_x, test_y, batch_size=test_batch)"
   ]
  },
  {
   "cell_type": "code",
   "execution_count": null,
   "metadata": {},
   "outputs": [],
   "source": [
    "print(\"%s: %.2f%%\" % (model.metrics_names[1], accuracy*100))\n"
   ]
  },
  {
   "cell_type": "markdown",
   "metadata": {},
   "source": [
    "# send mail to alert"
   ]
  },
  {
   "cell_type": "code",
   "execution_count": null,
   "metadata": {},
   "outputs": [],
   "source": [
    "model_config = []\n",
    "for index, layer in enumerate(model.get_config()):\n",
    "    model_config.append(\"layer - > %d===============\" % index)\n",
    "    model_config.append(\"class_name = \" + layer[\"class_name\"] )\n",
    "    if(str(layer[\"config\"].get(\"units\", \"None\")) != \"None\"):\n",
    "        model_config.append(\"units = \" + str(layer[\"config\"].get(\"units\", \"None\")))\n",
    "    if(str(layer[\"config\"].get(\"activation\", \"None\")) != \"None\"):\n",
    "        model_config.append(\"activation = \" + layer[\"config\"][\"activation\"])\n",
    "    if(str(layer[\"config\"].get(\"rate\", \"None\")) != \"None\"):\n",
    "        model_config.append(\"rate = \" + str(layer[\"config\"][\"rate\"]))\n",
    "model_info = '\\n'.join(model_config)"
   ]
  },
  {
   "cell_type": "code",
   "execution_count": null,
   "metadata": {
    "collapsed": true
   },
   "outputs": [],
   "source": [
    "model_info += \"\\n\\ntrain epochs = \" + str(epochs)\n",
    "model_info += \"\\ntrain batch = \" + str(batch)\n",
    "model_info += \"\\ntest batch = \" + str(test_batch)\n",
    "model_info += \"\\ntrain time = \" + str(train_time)\n",
    "model_info += \"\\nloss = \" + str(loss)\n",
    "model_info += \"\\n\\n\\naccuracy = \" + str(accuracy)\n",
    "\n"
   ]
  },
  {
   "cell_type": "code",
   "execution_count": null,
   "metadata": {},
   "outputs": [],
   "source": [
    "test=mail()\n",
    "test.main(\"model finished\", model_info)"
   ]
  },
  {
   "cell_type": "markdown",
   "metadata": {},
   "source": [
    "# write readme to report the model"
   ]
  },
  {
   "cell_type": "code",
   "execution_count": null,
   "metadata": {},
   "outputs": [],
   "source": [
    "with open('readme.md', 'w+') as f:\n",
    "     f.write(model_info)\n",
    "f.closed"
   ]
  },
  {
   "cell_type": "code",
   "execution_count": 110,
   "metadata": {},
   "outputs": [
    {
     "name": "stdout",
     "output_type": "stream",
     "text": [
      "[[ 0.  0.  0. ...,  0.  1.  0.]\n",
      " [ 0.  0.  0. ...,  0.  0.  0.]\n",
      " [ 0.  0.  0. ...,  0.  0.  0.]\n",
      " ..., \n",
      " [ 0.  0.  0. ...,  0.  1.  0.]\n",
      " [ 0.  0.  0. ...,  0.  0.  0.]\n",
      " [ 0.  0.  0. ...,  0.  0.  0.]]\n",
      "[[ 0.  0.  0. ...,  0.  1.  0.]\n",
      " [ 0.  0.  0. ...,  0.  0.  0.]\n",
      " [ 0.  0.  0. ...,  0.  0.  0.]\n",
      " ..., \n",
      " [ 0.  0.  0. ...,  0.  1.  0.]\n",
      " [ 0.  0.  0. ...,  0.  0.  0.]\n",
      " [ 0.  0.  0. ...,  0.  0.  0.]]\n",
      "[[ 0.  0.  0. ...,  0.  1.  0.]\n",
      " [ 0.  0.  0. ...,  0.  0.  0.]\n",
      " [ 0.  0.  0. ...,  0.  0.  0.]\n",
      " ..., \n",
      " [ 0.  0.  0. ...,  0.  1.  0.]\n",
      " [ 0.  0.  0. ...,  0.  0.  0.]\n",
      " [ 0.  0.  0. ...,  0.  0.  0.]]\n",
      "[[ 0.  0.  0. ...,  0.  1.  0.]\n",
      " [ 0.  0.  0. ...,  0.  0.  0.]\n",
      " [ 0.  0.  0. ...,  0.  0.  0.]\n",
      " ..., \n",
      " [ 0.  0.  0. ...,  0.  1.  0.]\n",
      " [ 0.  0.  0. ...,  0.  0.  0.]\n",
      " [ 0.  0.  0. ...,  0.  0.  0.]]\n",
      "[[ 0.  0.  0. ...,  0.  1.  0.]\n",
      " [ 0.  0.  0. ...,  0.  0.  0.]\n",
      " [ 0.  0.  0. ...,  0.  0.  0.]\n",
      " ..., \n",
      " [ 0.  0.  0. ...,  0.  1.  0.]\n",
      " [ 0.  0.  0. ...,  0.  0.  0.]\n",
      " [ 0.  0.  0. ...,  0.  0.  0.]]\n",
      "[[ 0.  0.  0. ...,  0.  1.  0.]\n",
      " [ 0.  0.  0. ...,  0.  0.  0.]\n",
      " [ 0.  0.  0. ...,  0.  0.  0.]\n",
      " ..., \n",
      " [ 0.  0.  0. ...,  0.  1.  0.]\n",
      " [ 0.  0.  0. ...,  0.  0.  0.]\n",
      " [ 0.  0.  0. ...,  0.  0.  0.]]\n",
      "[[ 0.  0.  0. ...,  0.  1.  0.]\n",
      " [ 0.  0.  0. ...,  0.  0.  0.]\n",
      " [ 0.  0.  0. ...,  0.  0.  0.]\n",
      " ..., \n",
      " [ 0.  0.  0. ...,  0.  1.  0.]\n",
      " [ 0.  0.  0. ...,  0.  0.  0.]\n",
      " [ 0.  0.  0. ...,  0.  0.  0.]]\n",
      "[[ 0.  0.  0. ...,  0.  1.  0.]\n",
      " [ 0.  0.  0. ...,  0.  0.  0.]\n",
      " [ 0.  0.  0. ...,  0.  0.  0.]\n",
      " ..., \n",
      " [ 0.  0.  0. ...,  0.  1.  0.]\n",
      " [ 0.  0.  0. ...,  0.  0.  0.]\n",
      " [ 0.  0.  0. ...,  0.  0.  0.]]\n",
      "[[ 0.  0.  0. ...,  0.  1.  0.]\n",
      " [ 0.  0.  0. ...,  0.  0.  0.]\n",
      " [ 0.  0.  0. ...,  0.  0.  0.]\n",
      " ..., \n",
      " [ 0.  0.  0. ...,  0.  1.  0.]\n",
      " [ 0.  0.  0. ...,  0.  0.  0.]\n",
      " [ 0.  0.  0. ...,  0.  0.  0.]]\n",
      "[[ 0.  0.  0. ...,  0.  1.  0.]\n",
      " [ 0.  0.  0. ...,  0.  0.  0.]\n",
      " [ 0.  0.  0. ...,  0.  0.  0.]\n",
      " ..., \n",
      " [ 0.  0.  0. ...,  0.  1.  0.]\n",
      " [ 0.  0.  0. ...,  0.  0.  0.]\n",
      " [ 0.  0.  0. ...,  0.  0.  0.]]\n"
     ]
    }
   ],
   "source": [
    "# for i in range(10):\n",
    "#     probabilities = model.predict(test_x[i:i+1,:], batch_size=32, verbose=0)\n",
    "#     probabilities = model.predict(test_x[i:i+1,:])\n",
    "#     probabilities = model.predict(test_x)\n",
    "#     probabilities[probabilities>=0.5] = 1\n",
    "#     probabilities[probabilities<0.5] = 0\n",
    "#     print(probabilities)"
   ]
  }
 ],
 "metadata": {
  "kernelspec": {
   "display_name": "Python 3",
   "language": "python",
   "name": "python3"
  },
  "language_info": {
   "codemirror_mode": {
    "name": "ipython",
    "version": 3
   },
   "file_extension": ".py",
   "mimetype": "text/x-python",
   "name": "python",
   "nbconvert_exporter": "python",
   "pygments_lexer": "ipython3",
   "version": "3.5.3"
  }
 },
 "nbformat": 4,
 "nbformat_minor": 2
}
