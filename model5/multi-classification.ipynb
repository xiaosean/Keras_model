{
 "cells": [
  {
   "cell_type": "code",
   "execution_count": 118,
   "metadata": {},
   "outputs": [],
   "source": [
    "import time\n",
    "import numpy as np\n",
    "from keras.utils import np_utils\n",
    "import keras.callbacks as cb\n",
    "from keras.models import Sequential\n",
    "from keras.layers.core import Dense, Dropout, Activation\n",
    "from keras.optimizers import RMSprop\n",
    "import feather \n",
    "from mailerWithUtf8 import mail\n",
    "from sklearn.preprocessing import LabelEncoder\n",
    "from keras.models import model_from_json\n",
    "from keras.optimizers import SGD"
   ]
  },
  {
   "cell_type": "code",
   "execution_count": 105,
   "metadata": {
    "collapsed": true
   },
   "outputs": [],
   "source": [
    "def plot_confusion_matrix(cm, classes,\n",
    "                          normalize=False,\n",
    "                          title='Confusion matrix',\n",
    "                          cmap=plt.cm.Blues):\n",
    "    \"\"\"\n",
    "    This function prints and plots the confusion matrix.\n",
    "    Normalization can be applied by setting `normalize=True`.\n",
    "    \"\"\"\n",
    "    plt.imshow(cm, interpolation='nearest', cmap=cmap)\n",
    "    plt.title(title)\n",
    "    plt.colorbar()\n",
    "    tick_marks = np.arange(len(classes))\n",
    "    plt.xticks(tick_marks, classes, rotation=45)\n",
    "    plt.yticks(tick_marks, classes)\n",
    "\n",
    "    if normalize:\n",
    "        cm = cm.astype('float') / cm.sum(axis=1)[:, np.newaxis]\n",
    "#         print(\"Normalized confusion matrix\")\n",
    "#     else:\n",
    "#         print('Confusion matrix, without normalization')\n",
    "\n",
    "#     print(cm)\n",
    "\n",
    "    thresh = cm.max() / 2.\n",
    "    for i, j in itertools.product(range(cm.shape[0]), range(cm.shape[1])):\n",
    "        plt.text(j, i, \"\",\n",
    "                 horizontalalignment=\"center\",\n",
    "                 color=\"white\" if cm[i, j] > thresh else \"black\")\n",
    "\n",
    "    plt.tight_layout()\n",
    "    plt.ylabel('True label')\n",
    "    plt.xlabel('Predicted label')"
   ]
  },
  {
   "cell_type": "markdown",
   "metadata": {},
   "source": [
    "# preprocess load data"
   ]
  },
  {
   "cell_type": "code",
   "execution_count": 106,
   "metadata": {},
   "outputs": [
    {
     "name": "stdout",
     "output_type": "stream",
     "text": [
      "load feather %s seconds 1.4539523124694824\n"
     ]
    }
   ],
   "source": [
    "start_time = time.time()\n",
    "path = 'C:/Users/VIPLAB/Desktop/preprocess_py/marketing_analyze/0710_marketing_train.feather' \n",
    "# path = 'C:/Users/VIPLAB/Desktop/preprocess_py/marketing_analyze/0710_marketing_train_sample.feather' \n",
    "train_df = feather.read_dataframe(path)\n",
    "print('load feather %s seconds', format(time.time() - start_time))\n"
   ]
  },
  {
   "cell_type": "code",
   "execution_count": 107,
   "metadata": {},
   "outputs": [
    {
     "name": "stdout",
     "output_type": "stream",
     "text": [
      "load feather %s seconds 0.36011457443237305\n"
     ]
    }
   ],
   "source": [
    "start_time = time.time()\n",
    "path = 'C:/Users/VIPLAB/Desktop/preprocess_py/marketing_analyze/0710_marketing_test.feather'\n",
    "# path = 'C:/Users/VIPLAB/Desktop/preprocess_py/marketing_analyze/0710_marketing_test_sample.feather' \n",
    "\n",
    "test_df = feather.read_dataframe(path)\n",
    "print('load feather %s seconds', format(time.time() - start_time))"
   ]
  },
  {
   "cell_type": "code",
   "execution_count": 108,
   "metadata": {
    "collapsed": true
   },
   "outputs": [],
   "source": [
    "train_x, train_y = train_df.iloc[:, 0:-1].values, train_df.iloc[:, -1].values"
   ]
  },
  {
   "cell_type": "code",
   "execution_count": 109,
   "metadata": {
    "collapsed": true
   },
   "outputs": [],
   "source": [
    "test_x, test_y = test_df.iloc[:, 0:-1].values, test_df.iloc[:, -1].values"
   ]
  },
  {
   "cell_type": "code",
   "execution_count": 110,
   "metadata": {
    "collapsed": true
   },
   "outputs": [],
   "source": [
    "train_x = train_x.reshape(train_x.shape[0], -1)   # normalize\n",
    "test_x = test_x.reshape(test_x.shape[0], -1)   # normalize\n",
    "\n"
   ]
  },
  {
   "cell_type": "code",
   "execution_count": 111,
   "metadata": {
    "collapsed": true
   },
   "outputs": [],
   "source": [
    "# from sklearn.preprocessing import LabelBinarizer\n",
    "# encoder = LabelBinarizer()\n",
    "# y_train = encoder.fit_transform(y_train)\n",
    "# y_test = encoder.fit_transform(y_test)"
   ]
  },
  {
   "cell_type": "code",
   "execution_count": 112,
   "metadata": {
    "collapsed": true
   },
   "outputs": [],
   "source": [
    "# encode class values as integers\n",
    "encoder = LabelEncoder()\n",
    "encoder.fit(train_y)\n",
    "encoded_Y = encoder.transform(train_y)\n",
    "# convert integers to dummy variables (i.e. one hot encoded)\n",
    "train_y = np_utils.to_categorical(encoded_Y)\n",
    "\n",
    "encoded_Y = encoder.transform(test_y)\n",
    "# convert integers to dummy variables (i.e. one hot encoded)\n",
    "test_y = np_utils.to_categorical(encoded_Y)"
   ]
  },
  {
   "cell_type": "code",
   "execution_count": 113,
   "metadata": {},
   "outputs": [
    {
     "data": {
      "text/plain": [
       "array(['Adult', 'Game', 'HomeLife', 'Infrequent Internet User',\n",
       "       'InstantMessage-High', 'InstantMessage-Low', 'Map', 'News',\n",
       "       'No significant preference', 'Portal', 'Social-media'], dtype=object)"
      ]
     },
     "execution_count": 113,
     "metadata": {},
     "output_type": "execute_result"
    }
   ],
   "source": [
    "# get y unique name\n",
    "encoder.classes_"
   ]
  },
  {
   "cell_type": "code",
   "execution_count": 114,
   "metadata": {},
   "outputs": [
    {
     "data": {
      "text/plain": [
       "1506103"
      ]
     },
     "execution_count": 114,
     "metadata": {},
     "output_type": "execute_result"
    }
   ],
   "source": [
    "len(train_y)"
   ]
  },
  {
   "cell_type": "code",
   "execution_count": 115,
   "metadata": {},
   "outputs": [
    {
     "data": {
      "text/plain": [
       "376526"
      ]
     },
     "execution_count": 115,
     "metadata": {},
     "output_type": "execute_result"
    }
   ],
   "source": [
    "len(test_y)"
   ]
  },
  {
   "cell_type": "markdown",
   "metadata": {},
   "source": [
    "# construct and compile model"
   ]
  },
  {
   "cell_type": "code",
   "execution_count": 116,
   "metadata": {
    "collapsed": true
   },
   "outputs": [],
   "source": [
    "classify_num = 11\n",
    "epochs = 300\n",
    "batch = 128"
   ]
  },
  {
   "cell_type": "markdown",
   "metadata": {},
   "source": [
    "# basic config"
   ]
  },
  {
   "cell_type": "code",
   "execution_count": 119,
   "metadata": {},
   "outputs": [
    {
     "name": "stdout",
     "output_type": "stream",
     "text": [
      "Compiling Model ... \n",
      "Model compield in 0.12235522270202637 seconds\n"
     ]
    }
   ],
   "source": [
    "start_time = time.time()\n",
    "print ('Compiling Model ... ')\n",
    "model = Sequential()\n",
    "model.add(Dense(1024, input_shape=train_x[0].shape ))\n",
    "# model.add(Activation('relu'))\n",
    "# model.add(Dropout(0.2))\n",
    "model.add(Dense(512))\n",
    "model.add(Activation('relu'))\n",
    "model.add(Dense(256))\n",
    "model.add(Activation('relu'))\n",
    "model.add(Dense(128))\n",
    "model.add(Activation('relu'))\n",
    "# model.add(Dropout(0.2))\n",
    "model.add(Dense(64))\n",
    "model.add(Activation('relu'))\n",
    "model.add(Dense(32))\n",
    "model.add(Activation('relu'))\n",
    "model.add(Dense(classify_num))\n",
    "model.add(Activation('softmax'))\n",
    "\n",
    "# rms = RMSprop()\n",
    "sgd = SGD(lr=0.01, decay=1e-6, momentum=0.9, nesterov=True)\n",
    "model.compile(loss='categorical_crossentropy', optimizer=sgd, metrics=['accuracy'])\n",
    "\n",
    "# model.compile(loss='categorical_crossentropy', optimizer=rms, metrics=['accuracy'])\n",
    "\n",
    "\n",
    "print('Model compield in {0} seconds'.format(time.time() - start_time))\n"
   ]
  },
  {
   "cell_type": "markdown",
   "metadata": {},
   "source": [
    "# Train model"
   ]
  },
  {
   "cell_type": "code",
   "execution_count": 120,
   "metadata": {
    "scrolled": true
   },
   "outputs": [
    {
     "name": "stdout",
     "output_type": "stream",
     "text": [
      "Training model...\n",
      "Train on 1355492 samples, validate on 150611 samples\n",
      "Epoch 1/300\n",
      "53s - loss: 1.9794 - acc: 0.2882 - val_loss: 1.9575 - val_acc: 0.2925\n",
      "Epoch 2/300\n",
      "54s - loss: 1.9482 - acc: 0.2959 - val_loss: 1.9410 - val_acc: 0.3000\n",
      "Epoch 3/300\n",
      "54s - loss: 1.9324 - acc: 0.2987 - val_loss: 1.9274 - val_acc: 0.2969\n",
      "Epoch 4/300\n",
      "57s - loss: 1.9175 - acc: 0.3018 - val_loss: 1.9136 - val_acc: 0.3039\n",
      "Epoch 5/300\n",
      "55s - loss: 1.9104 - acc: 0.3032 - val_loss: 1.9157 - val_acc: 0.3025\n",
      "Epoch 6/300\n",
      "54s - loss: 1.9050 - acc: 0.3048 - val_loss: 1.9138 - val_acc: 0.3035\n",
      "Epoch 7/300\n",
      "55s - loss: 1.8997 - acc: 0.3064 - val_loss: 1.9170 - val_acc: 0.3023\n",
      "Epoch 8/300\n",
      "55s - loss: 1.8951 - acc: 0.3075 - val_loss: 1.8999 - val_acc: 0.3097\n",
      "Epoch 9/300\n",
      "54s - loss: 1.8909 - acc: 0.3090 - val_loss: 1.8949 - val_acc: 0.3081\n",
      "Epoch 10/300\n",
      "55s - loss: 1.8876 - acc: 0.3098 - val_loss: 1.8955 - val_acc: 0.3077\n",
      "Epoch 11/300\n",
      "55s - loss: 1.8844 - acc: 0.3109 - val_loss: 1.8954 - val_acc: 0.3105\n",
      "Epoch 12/300\n",
      "55s - loss: 1.8814 - acc: 0.3119 - val_loss: 1.8964 - val_acc: 0.3079\n",
      "Epoch 13/300\n",
      "54s - loss: 1.8790 - acc: 0.3127 - val_loss: 1.8894 - val_acc: 0.3108\n",
      "Epoch 14/300\n",
      "54s - loss: 1.8764 - acc: 0.3136 - val_loss: 1.8917 - val_acc: 0.3107\n",
      "Epoch 15/300\n",
      "55s - loss: 1.8741 - acc: 0.3143 - val_loss: 1.9041 - val_acc: 0.3079\n",
      "Epoch 16/300\n",
      "54s - loss: 1.8716 - acc: 0.3152 - val_loss: 1.9019 - val_acc: 0.3094\n",
      "Epoch 17/300\n",
      "55s - loss: 1.8695 - acc: 0.3158 - val_loss: 1.8948 - val_acc: 0.3087\n",
      "Epoch 18/300\n",
      "55s - loss: 1.8671 - acc: 0.3166 - val_loss: 1.8896 - val_acc: 0.3096\n",
      "Epoch 19/300\n",
      "55s - loss: 1.8650 - acc: 0.3176 - val_loss: 1.8947 - val_acc: 0.3083\n",
      "Epoch 20/300\n",
      "55s - loss: 1.8633 - acc: 0.3178 - val_loss: 1.8890 - val_acc: 0.3102\n",
      "Epoch 21/300\n",
      "54s - loss: 1.8614 - acc: 0.3183 - val_loss: 1.8974 - val_acc: 0.3063\n",
      "Epoch 22/300\n",
      "55s - loss: 1.8589 - acc: 0.3191 - val_loss: 1.8961 - val_acc: 0.3076\n",
      "Epoch 23/300\n",
      "55s - loss: 1.8569 - acc: 0.3197 - val_loss: 1.8888 - val_acc: 0.3119\n",
      "Epoch 24/300\n",
      "55s - loss: 1.8548 - acc: 0.3207 - val_loss: 1.8918 - val_acc: 0.3124\n",
      "Epoch 25/300\n",
      "54s - loss: 1.8529 - acc: 0.3213 - val_loss: 1.8967 - val_acc: 0.3078\n",
      "Epoch 26/300\n",
      "55s - loss: 1.8507 - acc: 0.3218 - val_loss: 1.8931 - val_acc: 0.3118\n",
      "Epoch 27/300\n",
      "54s - loss: 1.8485 - acc: 0.3225 - val_loss: 1.8971 - val_acc: 0.3114\n",
      "Epoch 28/300\n",
      "54s - loss: 1.8465 - acc: 0.3233 - val_loss: 1.8979 - val_acc: 0.3097\n",
      "Epoch 29/300\n",
      "55s - loss: 1.8444 - acc: 0.3237 - val_loss: 1.9001 - val_acc: 0.3089\n",
      "Epoch 30/300\n",
      "55s - loss: 1.8423 - acc: 0.3245 - val_loss: 1.9037 - val_acc: 0.3093\n",
      "Epoch 31/300\n",
      "54s - loss: 1.8398 - acc: 0.3254 - val_loss: 1.9015 - val_acc: 0.3076\n",
      "Epoch 32/300\n",
      "54s - loss: 1.8378 - acc: 0.3261 - val_loss: 1.9034 - val_acc: 0.3077\n",
      "Epoch 33/300\n",
      "55s - loss: 1.8358 - acc: 0.3266 - val_loss: 1.9045 - val_acc: 0.3067\n",
      "Epoch 34/300\n",
      "54s - loss: 1.8334 - acc: 0.3274 - val_loss: 1.9107 - val_acc: 0.3040\n",
      "Epoch 35/300\n",
      "54s - loss: 1.8313 - acc: 0.3278 - val_loss: 1.9097 - val_acc: 0.3059\n",
      "Epoch 36/300\n",
      "55s - loss: 1.8289 - acc: 0.3289 - val_loss: 1.9133 - val_acc: 0.3044\n",
      "Epoch 37/300\n",
      "54s - loss: 1.8271 - acc: 0.3292 - val_loss: 1.9096 - val_acc: 0.3061\n",
      "Epoch 38/300\n",
      "54s - loss: 1.8247 - acc: 0.3301 - val_loss: 1.9113 - val_acc: 0.3068\n",
      "Epoch 39/300\n",
      "54s - loss: 1.8222 - acc: 0.3308 - val_loss: 1.9227 - val_acc: 0.3016\n",
      "Epoch 40/300\n",
      "55s - loss: 1.8200 - acc: 0.3315 - val_loss: 1.9243 - val_acc: 0.3019\n",
      "Epoch 41/300\n",
      "54s - loss: 1.8184 - acc: 0.3321 - val_loss: 1.9214 - val_acc: 0.3063\n",
      "Epoch 42/300\n",
      "55s - loss: 1.8159 - acc: 0.3327 - val_loss: 1.9250 - val_acc: 0.3047\n",
      "Epoch 43/300\n",
      "54s - loss: 1.8138 - acc: 0.3337 - val_loss: 1.9266 - val_acc: 0.3037\n",
      "Epoch 44/300\n",
      "54s - loss: 1.8113 - acc: 0.3344 - val_loss: 1.9241 - val_acc: 0.3033\n",
      "Epoch 45/300\n",
      "55s - loss: 1.8094 - acc: 0.3348 - val_loss: 1.9309 - val_acc: 0.3024\n",
      "Epoch 46/300\n",
      "54s - loss: 1.8073 - acc: 0.3353 - val_loss: 1.9316 - val_acc: 0.2983\n",
      "Epoch 47/300\n",
      "54s - loss: 1.8050 - acc: 0.3363 - val_loss: 1.9281 - val_acc: 0.2996\n",
      "Epoch 48/300\n",
      "55s - loss: 1.8029 - acc: 0.3371 - val_loss: 1.9293 - val_acc: 0.3019\n",
      "Epoch 49/300\n",
      "55s - loss: 1.8010 - acc: 0.3377 - val_loss: 1.9350 - val_acc: 0.3018\n",
      "Epoch 50/300\n",
      "54s - loss: 1.7990 - acc: 0.3382 - val_loss: 1.9384 - val_acc: 0.3014\n",
      "Epoch 51/300\n",
      "54s - loss: 1.7970 - acc: 0.3394 - val_loss: 1.9418 - val_acc: 0.2991\n",
      "Epoch 52/300\n",
      "54s - loss: 1.7948 - acc: 0.3397 - val_loss: 1.9419 - val_acc: 0.2972\n",
      "Epoch 53/300\n",
      "54s - loss: 1.7933 - acc: 0.3403 - val_loss: 1.9368 - val_acc: 0.3015\n",
      "Epoch 54/300\n",
      "54s - loss: 1.7909 - acc: 0.3413 - val_loss: 1.9392 - val_acc: 0.2993\n",
      "Epoch 55/300\n",
      "54s - loss: 1.7891 - acc: 0.3419 - val_loss: 1.9472 - val_acc: 0.3002\n",
      "Epoch 56/300\n",
      "55s - loss: 1.7871 - acc: 0.3421 - val_loss: 1.9588 - val_acc: 0.2933\n",
      "Epoch 57/300\n",
      "54s - loss: 1.7854 - acc: 0.3426 - val_loss: 1.9502 - val_acc: 0.3000\n",
      "Epoch 58/300\n",
      "54s - loss: 1.7835 - acc: 0.3438 - val_loss: 1.9555 - val_acc: 0.2963\n",
      "Epoch 59/300\n",
      "55s - loss: 1.7812 - acc: 0.3445 - val_loss: 1.9500 - val_acc: 0.2994\n",
      "Epoch 60/300\n",
      "55s - loss: 1.7794 - acc: 0.3450 - val_loss: 1.9619 - val_acc: 0.2962\n",
      "Epoch 61/300\n",
      "55s - loss: 1.7774 - acc: 0.3454 - val_loss: 1.9594 - val_acc: 0.2989\n",
      "Epoch 62/300\n",
      "54s - loss: 1.7763 - acc: 0.3458 - val_loss: 1.9617 - val_acc: 0.2962\n",
      "Epoch 63/300\n",
      "55s - loss: 1.7743 - acc: 0.3463 - val_loss: 1.9614 - val_acc: 0.2967\n",
      "Epoch 64/300\n",
      "55s - loss: 1.7727 - acc: 0.3471 - val_loss: 1.9641 - val_acc: 0.2964\n",
      "Epoch 65/300\n",
      "54s - loss: 1.7710 - acc: 0.3476 - val_loss: 1.9630 - val_acc: 0.2957\n",
      "Epoch 66/300\n",
      "54s - loss: 1.7692 - acc: 0.3480 - val_loss: 1.9697 - val_acc: 0.2930\n",
      "Epoch 67/300\n",
      "54s - loss: 1.7676 - acc: 0.3488 - val_loss: 1.9693 - val_acc: 0.2961\n",
      "Epoch 68/300\n",
      "54s - loss: 1.7660 - acc: 0.3491 - val_loss: 1.9712 - val_acc: 0.2943\n",
      "Epoch 69/300\n",
      "54s - loss: 1.7642 - acc: 0.3500 - val_loss: 1.9723 - val_acc: 0.2915\n",
      "Epoch 70/300\n",
      "56s - loss: 1.7627 - acc: 0.3506 - val_loss: 1.9761 - val_acc: 0.2940\n",
      "Epoch 71/300\n",
      "55s - loss: 1.7611 - acc: 0.3507 - val_loss: 1.9756 - val_acc: 0.2924\n",
      "Epoch 72/300\n",
      "57s - loss: 1.7597 - acc: 0.3511 - val_loss: 1.9933 - val_acc: 0.2959\n",
      "Epoch 73/300\n",
      "55s - loss: 1.7576 - acc: 0.3522 - val_loss: 1.9891 - val_acc: 0.2918\n",
      "Epoch 74/300\n",
      "56s - loss: 1.7563 - acc: 0.3526 - val_loss: 1.9807 - val_acc: 0.2943\n",
      "Epoch 75/300\n",
      "55s - loss: 1.7547 - acc: 0.3531 - val_loss: 1.9863 - val_acc: 0.2918\n",
      "Epoch 76/300\n",
      "56s - loss: 1.7532 - acc: 0.3532 - val_loss: 1.9808 - val_acc: 0.2915\n",
      "Epoch 77/300\n",
      "56s - loss: 1.7518 - acc: 0.3537 - val_loss: 1.9832 - val_acc: 0.2933\n",
      "Epoch 78/300\n",
      "55s - loss: 1.7505 - acc: 0.3543 - val_loss: 1.9878 - val_acc: 0.2931\n",
      "Epoch 79/300\n",
      "55s - loss: 1.7492 - acc: 0.3545 - val_loss: 1.9944 - val_acc: 0.2923\n",
      "Epoch 80/300\n",
      "54s - loss: 1.7475 - acc: 0.3549 - val_loss: 1.9932 - val_acc: 0.2888\n",
      "Epoch 81/300\n",
      "57s - loss: 1.7462 - acc: 0.3556 - val_loss: 1.9912 - val_acc: 0.2923\n",
      "Epoch 82/300\n",
      "55s - loss: 1.7448 - acc: 0.3560 - val_loss: 1.9982 - val_acc: 0.2889\n",
      "Epoch 83/300\n",
      "54s - loss: 1.7436 - acc: 0.3565 - val_loss: 1.9981 - val_acc: 0.2889\n",
      "Epoch 84/300\n",
      "57s - loss: 1.7422 - acc: 0.3569 - val_loss: 1.9958 - val_acc: 0.2916\n",
      "Epoch 85/300\n",
      "55s - loss: 1.7409 - acc: 0.3576 - val_loss: 1.9991 - val_acc: 0.2892\n",
      "Epoch 86/300\n",
      "56s - loss: 1.7392 - acc: 0.3580 - val_loss: 2.0039 - val_acc: 0.2904\n",
      "Epoch 87/300\n",
      "55s - loss: 1.7379 - acc: 0.3587 - val_loss: 2.0060 - val_acc: 0.2911\n",
      "Epoch 88/300\n",
      "54s - loss: 1.7366 - acc: 0.3588 - val_loss: 2.0131 - val_acc: 0.2885\n",
      "Epoch 89/300\n",
      "56s - loss: 1.7351 - acc: 0.3593 - val_loss: 2.0088 - val_acc: 0.2905\n",
      "Epoch 90/300\n",
      "53s - loss: 1.7344 - acc: 0.3598 - val_loss: 2.0120 - val_acc: 0.2854\n",
      "Epoch 91/300\n",
      "56s - loss: 1.7326 - acc: 0.3603 - val_loss: 2.0127 - val_acc: 0.2877\n",
      "Epoch 92/300\n",
      "54s - loss: 1.7316 - acc: 0.3607 - val_loss: 2.0586 - val_acc: 0.2802\n",
      "Epoch 93/300\n",
      "56s - loss: 1.7302 - acc: 0.3612 - val_loss: 2.0175 - val_acc: 0.2875\n",
      "Epoch 94/300\n",
      "56s - loss: 1.7291 - acc: 0.3614 - val_loss: 2.0090 - val_acc: 0.2892\n",
      "Epoch 95/300\n",
      "54s - loss: 1.7282 - acc: 0.3617 - val_loss: 2.0218 - val_acc: 0.2922\n",
      "Epoch 96/300\n",
      "56s - loss: 1.7269 - acc: 0.3621 - val_loss: 2.0133 - val_acc: 0.2885\n",
      "Epoch 97/300\n",
      "57s - loss: 1.7256 - acc: 0.3623 - val_loss: 2.0232 - val_acc: 0.2856\n",
      "Epoch 98/300\n",
      "54s - loss: 1.7244 - acc: 0.3628 - val_loss: 2.0306 - val_acc: 0.2841\n",
      "Epoch 99/300\n"
     ]
    },
    {
     "name": "stdout",
     "output_type": "stream",
     "text": [
      "58s - loss: 1.7237 - acc: 0.3633 - val_loss: 2.0244 - val_acc: 0.2882\n",
      "Epoch 100/300\n",
      "58s - loss: 1.7226 - acc: 0.3635 - val_loss: 2.0265 - val_acc: 0.2869\n",
      "Epoch 101/300\n",
      "57s - loss: 1.7209 - acc: 0.3642 - val_loss: 2.0241 - val_acc: 0.2882\n",
      "Epoch 102/300\n",
      "57s - loss: 1.7203 - acc: 0.3645 - val_loss: 2.0249 - val_acc: 0.2883\n",
      "Epoch 103/300\n",
      "55s - loss: 1.7190 - acc: 0.3651 - val_loss: 2.0324 - val_acc: 0.2828\n",
      "Epoch 104/300\n",
      "56s - loss: 1.7178 - acc: 0.3654 - val_loss: 2.0382 - val_acc: 0.2873\n",
      "Epoch 105/300\n",
      "55s - loss: 1.7170 - acc: 0.3657 - val_loss: 2.0300 - val_acc: 0.2877\n",
      "Epoch 106/300\n",
      "56s - loss: 1.7157 - acc: 0.3660 - val_loss: 2.0343 - val_acc: 0.2849\n",
      "Epoch 107/300\n",
      "57s - loss: 1.7145 - acc: 0.3663 - val_loss: 2.0436 - val_acc: 0.2858\n",
      "Epoch 108/300\n",
      "56s - loss: 1.7136 - acc: 0.3666 - val_loss: 2.0474 - val_acc: 0.2862\n",
      "Epoch 109/300\n",
      "55s - loss: 1.7126 - acc: 0.3670 - val_loss: 2.0467 - val_acc: 0.2861\n",
      "Epoch 110/300\n",
      "54s - loss: 1.7115 - acc: 0.3672 - val_loss: 2.0536 - val_acc: 0.2851\n",
      "Epoch 111/300\n",
      "54s - loss: 1.7106 - acc: 0.3676 - val_loss: 2.0418 - val_acc: 0.2859\n",
      "Epoch 112/300\n",
      "54s - loss: 1.7097 - acc: 0.3680 - val_loss: 2.0515 - val_acc: 0.2838\n",
      "Epoch 113/300\n",
      "55s - loss: 1.7087 - acc: 0.3684 - val_loss: 2.0435 - val_acc: 0.2839\n",
      "Epoch 114/300\n",
      "56s - loss: 1.7077 - acc: 0.3687 - val_loss: 2.0503 - val_acc: 0.2810\n",
      "Epoch 115/300\n",
      "56s - loss: 1.7071 - acc: 0.3689 - val_loss: 2.0414 - val_acc: 0.2831\n",
      "Epoch 116/300\n",
      "53s - loss: 1.7056 - acc: 0.3698 - val_loss: 2.0570 - val_acc: 0.2791\n",
      "Epoch 117/300\n",
      "53s - loss: 1.7047 - acc: 0.3693 - val_loss: 2.0581 - val_acc: 0.2826\n",
      "Epoch 118/300\n",
      "54s - loss: 1.7039 - acc: 0.3699 - val_loss: 2.0609 - val_acc: 0.2826\n",
      "Epoch 119/300\n",
      "55s - loss: 1.7031 - acc: 0.3704 - val_loss: 2.0583 - val_acc: 0.2822\n",
      "Epoch 120/300\n",
      "56s - loss: 1.7019 - acc: 0.3709 - val_loss: 2.0522 - val_acc: 0.2816\n",
      "Epoch 121/300\n",
      "55s - loss: 1.7009 - acc: 0.3707 - val_loss: 2.0602 - val_acc: 0.2790\n",
      "Epoch 122/300\n",
      "54s - loss: 1.7001 - acc: 0.3716 - val_loss: 2.0510 - val_acc: 0.2842\n",
      "Epoch 123/300\n",
      "55s - loss: 1.6991 - acc: 0.3719 - val_loss: 2.0710 - val_acc: 0.2847\n",
      "Epoch 124/300\n",
      "56s - loss: 1.6986 - acc: 0.3721 - val_loss: 2.0676 - val_acc: 0.2811\n",
      "Epoch 125/300\n",
      "56s - loss: 1.6976 - acc: 0.3723 - val_loss: 2.0637 - val_acc: 0.2841\n",
      "Epoch 126/300\n",
      "59s - loss: 1.6965 - acc: 0.3726 - val_loss: 2.0628 - val_acc: 0.2821\n",
      "Epoch 127/300\n",
      "56s - loss: 1.6958 - acc: 0.3729 - val_loss: 2.0728 - val_acc: 0.2817\n",
      "Epoch 128/300\n",
      "57s - loss: 1.6948 - acc: 0.3732 - val_loss: 2.0617 - val_acc: 0.2817\n",
      "Epoch 129/300\n",
      "56s - loss: 1.6943 - acc: 0.3734 - val_loss: 2.0697 - val_acc: 0.2845\n",
      "Epoch 130/300\n",
      "55s - loss: 1.6934 - acc: 0.3735 - val_loss: 2.0733 - val_acc: 0.2853\n",
      "Epoch 131/300\n",
      "57s - loss: 1.6923 - acc: 0.3741 - val_loss: 2.0629 - val_acc: 0.2813\n",
      "Epoch 132/300\n",
      "54s - loss: 1.6915 - acc: 0.3745 - val_loss: 2.0672 - val_acc: 0.2814\n",
      "Epoch 133/300\n",
      "55s - loss: 1.6910 - acc: 0.3745 - val_loss: 2.0824 - val_acc: 0.2841\n",
      "Epoch 134/300\n",
      "56s - loss: 1.6898 - acc: 0.3748 - val_loss: 2.0834 - val_acc: 0.2818\n",
      "Epoch 135/300\n",
      "55s - loss: 1.6892 - acc: 0.3750 - val_loss: 2.0723 - val_acc: 0.2799\n",
      "Epoch 136/300\n",
      "56s - loss: 1.6881 - acc: 0.3752 - val_loss: 2.0776 - val_acc: 0.2822\n",
      "Epoch 137/300\n",
      "56s - loss: 1.6874 - acc: 0.3751 - val_loss: 2.0800 - val_acc: 0.2814\n",
      "Epoch 138/300\n",
      "58s - loss: 1.6867 - acc: 0.3759 - val_loss: 2.0831 - val_acc: 0.2804\n",
      "Epoch 139/300\n",
      "57s - loss: 1.6858 - acc: 0.3760 - val_loss: 2.0847 - val_acc: 0.2750\n",
      "Epoch 140/300\n",
      "56s - loss: 1.6852 - acc: 0.3762 - val_loss: 2.0973 - val_acc: 0.2780\n",
      "Epoch 141/300\n",
      "55s - loss: 1.6844 - acc: 0.3766 - val_loss: 2.0847 - val_acc: 0.2799\n",
      "Epoch 142/300\n",
      "56s - loss: 1.6836 - acc: 0.3771 - val_loss: 2.0886 - val_acc: 0.2806\n",
      "Epoch 143/300\n",
      "55s - loss: 1.6828 - acc: 0.3773 - val_loss: 2.0891 - val_acc: 0.2782\n",
      "Epoch 144/300\n",
      "56s - loss: 1.6824 - acc: 0.3772 - val_loss: 2.0897 - val_acc: 0.2806\n",
      "Epoch 145/300\n",
      "55s - loss: 1.6815 - acc: 0.3777 - val_loss: 2.1018 - val_acc: 0.2802\n",
      "Epoch 146/300\n",
      "55s - loss: 1.6803 - acc: 0.3781 - val_loss: 2.0859 - val_acc: 0.2805\n",
      "Epoch 147/300\n",
      "54s - loss: 1.6799 - acc: 0.3781 - val_loss: 2.1015 - val_acc: 0.2784\n",
      "Epoch 148/300\n",
      "56s - loss: 1.6792 - acc: 0.3784 - val_loss: 2.0912 - val_acc: 0.2789\n",
      "Epoch 149/300\n",
      "56s - loss: 1.6787 - acc: 0.3785 - val_loss: 2.0875 - val_acc: 0.2769\n",
      "Epoch 150/300\n",
      "57s - loss: 1.6780 - acc: 0.3785 - val_loss: 2.1039 - val_acc: 0.2762\n",
      "Epoch 151/300\n",
      "56s - loss: 1.6771 - acc: 0.3792 - val_loss: 2.1035 - val_acc: 0.2759\n",
      "Epoch 152/300\n",
      "56s - loss: 1.6761 - acc: 0.3793 - val_loss: 2.0969 - val_acc: 0.2787\n",
      "Epoch 153/300\n",
      "56s - loss: 1.6759 - acc: 0.3795 - val_loss: 2.1066 - val_acc: 0.2789\n",
      "Epoch 154/300\n",
      "55s - loss: 1.6750 - acc: 0.3800 - val_loss: 2.1164 - val_acc: 0.2774\n",
      "Epoch 155/300\n",
      "56s - loss: 1.6745 - acc: 0.3798 - val_loss: 2.0993 - val_acc: 0.2772\n",
      "Epoch 156/300\n",
      "56s - loss: 1.6737 - acc: 0.3803 - val_loss: 2.0915 - val_acc: 0.2779\n",
      "Epoch 157/300\n",
      "54s - loss: 1.6732 - acc: 0.3809 - val_loss: 2.0999 - val_acc: 0.2768\n",
      "Epoch 158/300\n",
      "56s - loss: 1.6724 - acc: 0.3805 - val_loss: 2.1051 - val_acc: 0.2787\n",
      "Epoch 159/300\n",
      "55s - loss: 1.6714 - acc: 0.3812 - val_loss: 2.1187 - val_acc: 0.2741\n",
      "Epoch 160/300\n",
      "55s - loss: 1.6712 - acc: 0.3813 - val_loss: 2.1146 - val_acc: 0.2767\n",
      "Epoch 161/300\n",
      "55s - loss: 1.6703 - acc: 0.3814 - val_loss: 2.1123 - val_acc: 0.2769\n",
      "Epoch 162/300\n",
      "54s - loss: 1.6695 - acc: 0.3817 - val_loss: 2.1159 - val_acc: 0.2804\n",
      "Epoch 163/300\n",
      "54s - loss: 1.6695 - acc: 0.3818 - val_loss: 2.1113 - val_acc: 0.2785\n",
      "Epoch 164/300\n",
      "57s - loss: 1.6685 - acc: 0.3823 - val_loss: 2.1216 - val_acc: 0.2809\n",
      "Epoch 165/300\n",
      "55s - loss: 1.6677 - acc: 0.3824 - val_loss: 2.1164 - val_acc: 0.2743\n",
      "Epoch 166/300\n",
      "55s - loss: 1.6672 - acc: 0.3828 - val_loss: 2.1121 - val_acc: 0.2813\n",
      "Epoch 167/300\n",
      "56s - loss: 1.6667 - acc: 0.3829 - val_loss: 2.1131 - val_acc: 0.2765\n",
      "Epoch 168/300\n",
      "56s - loss: 1.6659 - acc: 0.3829 - val_loss: 2.1301 - val_acc: 0.2779\n",
      "Epoch 169/300\n",
      "55s - loss: 1.6652 - acc: 0.3830 - val_loss: 2.1169 - val_acc: 0.2760\n",
      "Epoch 170/300\n",
      "55s - loss: 1.6649 - acc: 0.3832 - val_loss: 2.1175 - val_acc: 0.2781\n",
      "Epoch 171/300\n",
      "58s - loss: 1.6644 - acc: 0.3837 - val_loss: 2.1230 - val_acc: 0.2745\n",
      "Epoch 172/300\n",
      "56s - loss: 1.6633 - acc: 0.3839 - val_loss: 2.1437 - val_acc: 0.2749\n",
      "Epoch 173/300\n",
      "57s - loss: 1.6626 - acc: 0.3840 - val_loss: 2.1234 - val_acc: 0.2781\n",
      "Epoch 174/300\n",
      "56s - loss: 1.6623 - acc: 0.3841 - val_loss: 2.1210 - val_acc: 0.2767\n",
      "Epoch 175/300\n",
      "56s - loss: 1.6615 - acc: 0.3848 - val_loss: 2.1214 - val_acc: 0.2766\n",
      "Epoch 176/300\n",
      "55s - loss: 1.6610 - acc: 0.3846 - val_loss: 2.1291 - val_acc: 0.2783\n",
      "Epoch 177/300\n",
      "58s - loss: 1.6607 - acc: 0.3848 - val_loss: 2.1251 - val_acc: 0.2792\n",
      "Epoch 178/300\n",
      "54s - loss: 1.6602 - acc: 0.3850 - val_loss: 2.1158 - val_acc: 0.2760\n",
      "Epoch 179/300\n",
      "57s - loss: 1.6595 - acc: 0.3855 - val_loss: 2.1346 - val_acc: 0.2739\n",
      "Epoch 180/300\n",
      "55s - loss: 1.6590 - acc: 0.3857 - val_loss: 2.1347 - val_acc: 0.2774\n",
      "Epoch 181/300\n",
      "55s - loss: 1.6580 - acc: 0.3859 - val_loss: 2.1379 - val_acc: 0.2786\n",
      "Epoch 182/300\n",
      "56s - loss: 1.6575 - acc: 0.3859 - val_loss: 2.1423 - val_acc: 0.2763\n",
      "Epoch 183/300\n",
      "57s - loss: 1.6569 - acc: 0.3860 - val_loss: 2.1310 - val_acc: 0.2788\n",
      "Epoch 184/300\n",
      "54s - loss: 1.6569 - acc: 0.3865 - val_loss: 2.1388 - val_acc: 0.2755\n",
      "Epoch 185/300\n",
      "56s - loss: 1.6560 - acc: 0.3868 - val_loss: 2.1339 - val_acc: 0.2744\n",
      "Epoch 186/300\n",
      "54s - loss: 1.6556 - acc: 0.3870 - val_loss: 2.1373 - val_acc: 0.2764\n",
      "Epoch 187/300\n",
      "54s - loss: 1.6550 - acc: 0.3867 - val_loss: 2.1342 - val_acc: 0.2766\n",
      "Epoch 188/300\n",
      "59s - loss: 1.6545 - acc: 0.3866 - val_loss: 2.1431 - val_acc: 0.2764\n",
      "Epoch 189/300\n",
      "58s - loss: 1.6538 - acc: 0.3876 - val_loss: 2.1361 - val_acc: 0.2747\n",
      "Epoch 190/300\n",
      "56s - loss: 1.6533 - acc: 0.3876 - val_loss: 2.1417 - val_acc: 0.2736\n",
      "Epoch 191/300\n",
      "55s - loss: 1.6532 - acc: 0.3877 - val_loss: 2.1329 - val_acc: 0.2754\n",
      "Epoch 192/300\n",
      "55s - loss: 1.6523 - acc: 0.3880 - val_loss: 2.1508 - val_acc: 0.2728\n",
      "Epoch 193/300\n",
      "57s - loss: 1.6517 - acc: 0.3880 - val_loss: 2.1481 - val_acc: 0.2730\n",
      "Epoch 194/300\n",
      "55s - loss: 1.6514 - acc: 0.3880 - val_loss: 2.1474 - val_acc: 0.2768\n",
      "Epoch 195/300\n",
      "54s - loss: 1.6506 - acc: 0.3883 - val_loss: 2.1469 - val_acc: 0.2775\n",
      "Epoch 196/300\n",
      "55s - loss: 1.6502 - acc: 0.3883 - val_loss: 2.1582 - val_acc: 0.2738\n",
      "Epoch 197/300\n"
     ]
    },
    {
     "name": "stdout",
     "output_type": "stream",
     "text": [
      "55s - loss: 1.6497 - acc: 0.3888 - val_loss: 2.1452 - val_acc: 0.2770\n",
      "Epoch 198/300\n",
      "56s - loss: 1.6490 - acc: 0.3891 - val_loss: 2.1449 - val_acc: 0.2754\n",
      "Epoch 199/300\n",
      "58s - loss: 1.6484 - acc: 0.3894 - val_loss: 2.1482 - val_acc: 0.2763\n",
      "Epoch 200/300\n",
      "56s - loss: 1.6481 - acc: 0.3895 - val_loss: 2.1670 - val_acc: 0.2739\n",
      "Epoch 201/300\n",
      "55s - loss: 1.6475 - acc: 0.3891 - val_loss: 2.1590 - val_acc: 0.2728\n",
      "Epoch 202/300\n",
      "54s - loss: 1.6471 - acc: 0.3897 - val_loss: 2.1682 - val_acc: 0.2770\n",
      "Epoch 203/300\n",
      "57s - loss: 1.6467 - acc: 0.3903 - val_loss: 2.1561 - val_acc: 0.2763\n",
      "Epoch 204/300\n",
      "57s - loss: 1.6464 - acc: 0.3901 - val_loss: 2.1620 - val_acc: 0.2733\n",
      "Epoch 205/300\n",
      "54s - loss: 1.6457 - acc: 0.3903 - val_loss: 2.1559 - val_acc: 0.2753\n",
      "Epoch 206/300\n",
      "55s - loss: 1.6455 - acc: 0.3900 - val_loss: 2.1642 - val_acc: 0.2760\n",
      "Epoch 207/300\n",
      "55s - loss: 1.6445 - acc: 0.3911 - val_loss: 2.1679 - val_acc: 0.2729\n",
      "Epoch 208/300\n",
      "54s - loss: 1.6442 - acc: 0.3909 - val_loss: 2.1580 - val_acc: 0.2717\n",
      "Epoch 209/300\n",
      "56s - loss: 1.6439 - acc: 0.3908 - val_loss: 2.1676 - val_acc: 0.2735\n",
      "Epoch 210/300\n",
      "56s - loss: 1.6431 - acc: 0.3913 - val_loss: 2.1701 - val_acc: 0.2744\n",
      "Epoch 211/300\n",
      "55s - loss: 1.6430 - acc: 0.3908 - val_loss: 2.1664 - val_acc: 0.2709\n",
      "Epoch 212/300\n",
      "55s - loss: 1.6425 - acc: 0.3912 - val_loss: 2.1685 - val_acc: 0.2711\n",
      "Epoch 213/300\n",
      "56s - loss: 1.6422 - acc: 0.3917 - val_loss: 2.1704 - val_acc: 0.2769\n",
      "Epoch 214/300\n",
      "56s - loss: 1.6413 - acc: 0.3919 - val_loss: 2.1679 - val_acc: 0.2753\n",
      "Epoch 215/300\n",
      "56s - loss: 1.6411 - acc: 0.3922 - val_loss: 2.1608 - val_acc: 0.2737\n",
      "Epoch 216/300\n",
      "54s - loss: 1.6404 - acc: 0.3924 - val_loss: 2.1770 - val_acc: 0.2748\n",
      "Epoch 217/300\n",
      "57s - loss: 1.6401 - acc: 0.3922 - val_loss: 2.1764 - val_acc: 0.2743\n",
      "Epoch 218/300\n",
      "54s - loss: 1.6394 - acc: 0.3922 - val_loss: 2.1818 - val_acc: 0.2708\n",
      "Epoch 219/300\n",
      "56s - loss: 1.6392 - acc: 0.3927 - val_loss: 2.1761 - val_acc: 0.2739\n",
      "Epoch 220/300\n",
      "54s - loss: 1.6389 - acc: 0.3925 - val_loss: 2.1736 - val_acc: 0.2743\n",
      "Epoch 221/300\n",
      "55s - loss: 1.6384 - acc: 0.3929 - val_loss: 2.1877 - val_acc: 0.2690\n",
      "Epoch 222/300\n",
      "54s - loss: 1.6379 - acc: 0.3934 - val_loss: 2.1623 - val_acc: 0.2697\n",
      "Epoch 223/300\n",
      "55s - loss: 1.6376 - acc: 0.3929 - val_loss: 2.1766 - val_acc: 0.2682\n",
      "Epoch 224/300\n",
      "54s - loss: 1.6371 - acc: 0.3933 - val_loss: 2.1867 - val_acc: 0.2716\n",
      "Epoch 225/300\n",
      "54s - loss: 1.6363 - acc: 0.3939 - val_loss: 2.1704 - val_acc: 0.2738\n",
      "Epoch 226/300\n",
      "55s - loss: 1.6360 - acc: 0.3942 - val_loss: 2.1920 - val_acc: 0.2728\n",
      "Epoch 227/300\n",
      "55s - loss: 1.6354 - acc: 0.3940 - val_loss: 2.1803 - val_acc: 0.2729\n",
      "Epoch 228/300\n",
      "56s - loss: 1.6353 - acc: 0.3937 - val_loss: 2.1768 - val_acc: 0.2716\n",
      "Epoch 229/300\n",
      "56s - loss: 1.6347 - acc: 0.3941 - val_loss: 2.1740 - val_acc: 0.2702\n",
      "Epoch 230/300\n",
      "56s - loss: 1.6341 - acc: 0.3944 - val_loss: 2.1818 - val_acc: 0.2728\n",
      "Epoch 231/300\n",
      "55s - loss: 1.6339 - acc: 0.3942 - val_loss: 2.1709 - val_acc: 0.2716\n",
      "Epoch 232/300\n",
      "55s - loss: 1.6335 - acc: 0.3946 - val_loss: 2.1867 - val_acc: 0.2743\n",
      "Epoch 233/300\n",
      "55s - loss: 1.6330 - acc: 0.3948 - val_loss: 2.1868 - val_acc: 0.2752\n",
      "Epoch 234/300\n",
      "55s - loss: 1.6325 - acc: 0.3955 - val_loss: 2.1867 - val_acc: 0.2668\n",
      "Epoch 235/300\n",
      "56s - loss: 1.6322 - acc: 0.3951 - val_loss: 2.1764 - val_acc: 0.2709\n",
      "Epoch 236/300\n",
      "54s - loss: 1.6320 - acc: 0.3953 - val_loss: 2.1841 - val_acc: 0.2702\n",
      "Epoch 237/300\n",
      "56s - loss: 1.6314 - acc: 0.3953 - val_loss: 2.1935 - val_acc: 0.2708\n",
      "Epoch 238/300\n",
      "55s - loss: 1.6309 - acc: 0.3955 - val_loss: 2.1829 - val_acc: 0.2727\n",
      "Epoch 239/300\n",
      "54s - loss: 1.6307 - acc: 0.3955 - val_loss: 2.1957 - val_acc: 0.2720\n",
      "Epoch 240/300\n",
      "57s - loss: 1.6301 - acc: 0.3957 - val_loss: 2.1838 - val_acc: 0.2735\n",
      "Epoch 241/300\n",
      "57s - loss: 1.6297 - acc: 0.3959 - val_loss: 2.1859 - val_acc: 0.2691\n",
      "Epoch 242/300\n",
      "56s - loss: 1.6293 - acc: 0.3964 - val_loss: 2.1916 - val_acc: 0.2726\n",
      "Epoch 243/300\n",
      "55s - loss: 1.6293 - acc: 0.3957 - val_loss: 2.2009 - val_acc: 0.2702\n",
      "Epoch 244/300\n",
      "57s - loss: 1.6285 - acc: 0.3958 - val_loss: 2.1950 - val_acc: 0.2731\n",
      "Epoch 245/300\n",
      "54s - loss: 1.6282 - acc: 0.3966 - val_loss: 2.1922 - val_acc: 0.2726\n",
      "Epoch 246/300\n",
      "54s - loss: 1.6279 - acc: 0.3964 - val_loss: 2.1999 - val_acc: 0.2714\n",
      "Epoch 247/300\n",
      "56s - loss: 1.6276 - acc: 0.3970 - val_loss: 2.1790 - val_acc: 0.2715\n",
      "Epoch 248/300\n",
      "57s - loss: 1.6270 - acc: 0.3968 - val_loss: 2.2022 - val_acc: 0.2744\n",
      "Epoch 249/300\n",
      "55s - loss: 1.6263 - acc: 0.3976 - val_loss: 2.2025 - val_acc: 0.2700\n",
      "Epoch 250/300\n",
      "57s - loss: 1.6264 - acc: 0.3971 - val_loss: 2.1998 - val_acc: 0.2736\n",
      "Epoch 251/300\n",
      "55s - loss: 1.6257 - acc: 0.3974 - val_loss: 2.1919 - val_acc: 0.2709\n",
      "Epoch 252/300\n",
      "56s - loss: 1.6253 - acc: 0.3974 - val_loss: 2.1972 - val_acc: 0.2725\n",
      "Epoch 253/300\n",
      "56s - loss: 1.6250 - acc: 0.3977 - val_loss: 2.1988 - val_acc: 0.2704\n",
      "Epoch 254/300\n",
      "57s - loss: 1.6245 - acc: 0.3978 - val_loss: 2.2059 - val_acc: 0.2711\n",
      "Epoch 255/300\n",
      "55s - loss: 1.6245 - acc: 0.3976 - val_loss: 2.2023 - val_acc: 0.2713\n",
      "Epoch 256/300\n",
      "56s - loss: 1.6242 - acc: 0.3980 - val_loss: 2.2047 - val_acc: 0.2682\n",
      "Epoch 257/300\n",
      "56s - loss: 1.6238 - acc: 0.3979 - val_loss: 2.1974 - val_acc: 0.2713\n",
      "Epoch 258/300\n",
      "56s - loss: 1.6231 - acc: 0.3986 - val_loss: 2.2250 - val_acc: 0.2683\n",
      "Epoch 259/300\n",
      "56s - loss: 1.6231 - acc: 0.3982 - val_loss: 2.2122 - val_acc: 0.2678\n",
      "Epoch 260/300\n",
      "54s - loss: 1.6226 - acc: 0.3984 - val_loss: 2.2079 - val_acc: 0.2724\n",
      "Epoch 261/300\n",
      "56s - loss: 1.6222 - acc: 0.3985 - val_loss: 2.2025 - val_acc: 0.2710\n",
      "Epoch 262/300\n",
      "56s - loss: 1.6218 - acc: 0.3986 - val_loss: 2.1971 - val_acc: 0.2702\n",
      "Epoch 263/300\n",
      "54s - loss: 1.6213 - acc: 0.3988 - val_loss: 2.2071 - val_acc: 0.2735\n",
      "Epoch 264/300\n",
      "55s - loss: 1.6210 - acc: 0.3988 - val_loss: 2.2100 - val_acc: 0.2725\n",
      "Epoch 265/300\n",
      "55s - loss: 1.6206 - acc: 0.3992 - val_loss: 2.2128 - val_acc: 0.2711\n",
      "Epoch 266/300\n",
      "55s - loss: 1.6203 - acc: 0.3990 - val_loss: 2.2042 - val_acc: 0.2705\n",
      "Epoch 267/300\n",
      "54s - loss: 1.6199 - acc: 0.3997 - val_loss: 2.2099 - val_acc: 0.2717\n",
      "Epoch 268/300\n",
      "55s - loss: 1.6195 - acc: 0.3994 - val_loss: 2.2107 - val_acc: 0.2707\n",
      "Epoch 269/300\n",
      "56s - loss: 1.6194 - acc: 0.3996 - val_loss: 2.2178 - val_acc: 0.2716\n",
      "Epoch 270/300\n",
      "55s - loss: 1.6193 - acc: 0.3995 - val_loss: 2.2068 - val_acc: 0.2725\n",
      "Epoch 271/300\n",
      "55s - loss: 1.6189 - acc: 0.3993 - val_loss: 2.2189 - val_acc: 0.2726\n",
      "Epoch 272/300\n",
      "56s - loss: 1.6185 - acc: 0.3996 - val_loss: 2.2329 - val_acc: 0.2737\n",
      "Epoch 273/300\n",
      "57s - loss: 1.6181 - acc: 0.4003 - val_loss: 2.2151 - val_acc: 0.2732\n",
      "Epoch 274/300\n",
      "56s - loss: 1.6174 - acc: 0.4002 - val_loss: 2.2165 - val_acc: 0.2716\n",
      "Epoch 275/300\n",
      "56s - loss: 1.6176 - acc: 0.4000 - val_loss: 2.2225 - val_acc: 0.2708\n",
      "Epoch 276/300\n",
      "55s - loss: 1.6171 - acc: 0.4005 - val_loss: 2.2143 - val_acc: 0.2691\n",
      "Epoch 277/300\n",
      "54s - loss: 1.6167 - acc: 0.4007 - val_loss: 2.2282 - val_acc: 0.2685\n",
      "Epoch 278/300\n",
      "58s - loss: 1.6162 - acc: 0.4007 - val_loss: 2.2254 - val_acc: 0.2705\n",
      "Epoch 279/300\n",
      "56s - loss: 1.6159 - acc: 0.4009 - val_loss: 2.2326 - val_acc: 0.2671\n",
      "Epoch 280/300\n",
      "55s - loss: 1.6157 - acc: 0.4009 - val_loss: 2.2186 - val_acc: 0.2696\n",
      "Epoch 281/300\n",
      "56s - loss: 1.6152 - acc: 0.4011 - val_loss: 2.2258 - val_acc: 0.2699\n",
      "Epoch 282/300\n",
      "56s - loss: 1.6150 - acc: 0.4012 - val_loss: 2.2398 - val_acc: 0.2709\n",
      "Epoch 283/300\n",
      "57s - loss: 1.6146 - acc: 0.4011 - val_loss: 2.2215 - val_acc: 0.2709\n",
      "Epoch 284/300\n",
      "57s - loss: 1.6142 - acc: 0.4013 - val_loss: 2.2306 - val_acc: 0.2664\n",
      "Epoch 285/300\n",
      "55s - loss: 1.6135 - acc: 0.4019 - val_loss: 2.2326 - val_acc: 0.2698\n",
      "Epoch 286/300\n",
      "55s - loss: 1.6138 - acc: 0.4013 - val_loss: 2.2315 - val_acc: 0.2724\n",
      "Epoch 287/300\n",
      "57s - loss: 1.6135 - acc: 0.4016 - val_loss: 2.2455 - val_acc: 0.2673\n",
      "Epoch 288/300\n",
      "54s - loss: 1.6131 - acc: 0.4021 - val_loss: 2.2204 - val_acc: 0.2669\n",
      "Epoch 289/300\n",
      "56s - loss: 1.6128 - acc: 0.4022 - val_loss: 2.2395 - val_acc: 0.2712\n",
      "Epoch 290/300\n",
      "53s - loss: 1.6124 - acc: 0.4024 - val_loss: 2.2407 - val_acc: 0.2673\n",
      "Epoch 291/300\n",
      "55s - loss: 1.6121 - acc: 0.4022 - val_loss: 2.2276 - val_acc: 0.2688\n",
      "Epoch 292/300\n",
      "58s - loss: 1.6118 - acc: 0.4024 - val_loss: 2.2383 - val_acc: 0.2664\n",
      "Epoch 293/300\n",
      "55s - loss: 1.6114 - acc: 0.4025 - val_loss: 2.2314 - val_acc: 0.2680\n",
      "Epoch 294/300\n",
      "54s - loss: 1.6111 - acc: 0.4029 - val_loss: 2.2358 - val_acc: 0.2715\n",
      "Epoch 295/300\n"
     ]
    },
    {
     "name": "stdout",
     "output_type": "stream",
     "text": [
      "56s - loss: 1.6109 - acc: 0.4029 - val_loss: 2.2322 - val_acc: 0.2718\n",
      "Epoch 296/300\n",
      "57s - loss: 1.6104 - acc: 0.4029 - val_loss: 2.2303 - val_acc: 0.2686\n",
      "Epoch 297/300\n",
      "56s - loss: 1.6100 - acc: 0.4028 - val_loss: 2.2417 - val_acc: 0.2677\n",
      "Epoch 298/300\n",
      "56s - loss: 1.6097 - acc: 0.4032 - val_loss: 2.2393 - val_acc: 0.2671\n",
      "Epoch 299/300\n",
      "55s - loss: 1.6094 - acc: 0.4032 - val_loss: 2.2418 - val_acc: 0.2727\n",
      "Epoch 300/300\n",
      "55s - loss: 1.6093 - acc: 0.4032 - val_loss: 2.2554 - val_acc: 0.2657\n",
      "Training duration : 16732.532415628433\n"
     ]
    }
   ],
   "source": [
    "start_time = time.time()\n",
    "print('Training model...')\n",
    "model.fit(train_x, train_y , epochs=epochs, batch_size=batch,\n",
    "          shuffle=True,validation_split=0.1, verbose=2)\n",
    "print(\"Training duration : {0}\".format(time.time() - start_time))\n"
   ]
  },
  {
   "cell_type": "code",
   "execution_count": 121,
   "metadata": {
    "collapsed": true
   },
   "outputs": [],
   "source": [
    "train_time = time.time() - start_time"
   ]
  },
  {
   "cell_type": "markdown",
   "metadata": {},
   "source": [
    "# save model"
   ]
  },
  {
   "cell_type": "code",
   "execution_count": 122,
   "metadata": {},
   "outputs": [
    {
     "name": "stdout",
     "output_type": "stream",
     "text": [
      "Saved model to disk\n"
     ]
    }
   ],
   "source": [
    "# serialize model to JSON\n",
    "model_json = model.to_json()\n",
    "with open(\"model.json\", \"w\") as json_file:\n",
    "    json_file.write(model_json)\n",
    "# serialize weights to HDF5\n",
    "model.save_weights(\"model.h5\")\n",
    "print(\"Saved model to disk\")\n",
    " \n"
   ]
  },
  {
   "cell_type": "markdown",
   "metadata": {},
   "source": [
    "# test model and get accuracy"
   ]
  },
  {
   "cell_type": "code",
   "execution_count": 123,
   "metadata": {},
   "outputs": [
    {
     "name": "stdout",
     "output_type": "stream",
     "text": [
      "376512/376526 [============================>.] - ETA: 0s"
     ]
    }
   ],
   "source": [
    "test_batch = 32\n",
    "loss, accuracy = model.evaluate(test_x, test_y, batch_size=test_batch)"
   ]
  },
  {
   "cell_type": "code",
   "execution_count": 124,
   "metadata": {},
   "outputs": [
    {
     "name": "stdout",
     "output_type": "stream",
     "text": [
      "acc: 26.45%\n"
     ]
    }
   ],
   "source": [
    "print(\"%s: %.2f%%\" % (model.metrics_names[1], accuracy*100))\n"
   ]
  },
  {
   "cell_type": "markdown",
   "metadata": {},
   "source": [
    "# send mail to alert"
   ]
  },
  {
   "cell_type": "code",
   "execution_count": 125,
   "metadata": {
    "collapsed": true
   },
   "outputs": [],
   "source": [
    "model_config = []\n",
    "for index, layer in enumerate(model.get_config()):\n",
    "    model_config.append(\"layer - > %d===============\" % index)\n",
    "    model_config.append(\"class_name = \" + layer[\"class_name\"] )\n",
    "    if(str(layer[\"config\"].get(\"units\", \"None\")) != \"None\"):\n",
    "        model_config.append(\"units = \" + str(layer[\"config\"].get(\"units\", \"None\")))\n",
    "    if(str(layer[\"config\"].get(\"activation\", \"None\")) != \"None\"):\n",
    "        model_config.append(\"activation = \" + layer[\"config\"][\"activation\"])\n",
    "    if(str(layer[\"config\"].get(\"rate\", \"None\")) != \"None\"):\n",
    "        model_config.append(\"rate = \" + str(layer[\"config\"][\"rate\"]))\n",
    "model_info = '\\n'.join(model_config)"
   ]
  },
  {
   "cell_type": "code",
   "execution_count": 126,
   "metadata": {
    "collapsed": true
   },
   "outputs": [],
   "source": [
    "model_info += \"\\n\\ntrain epochs = \" + str(epochs)\n",
    "model_info += \"\\ntrain batch = \" + str(batch)\n",
    "model_info += \"\\ntest batch = \" + str(test_batch)\n",
    "model_info += \"\\ntrain time = \" + str(train_time)\n",
    "model_info += \"\\nloss = \" + str(loss)\n",
    "model_info += \"\\n\\n\\naccuracy = \" + str(accuracy)\n",
    "\n"
   ]
  },
  {
   "cell_type": "code",
   "execution_count": 127,
   "metadata": {},
   "outputs": [
    {
     "name": "stdout",
     "output_type": "stream",
     "text": [
      "Start Send Mail\n",
      "User Email : a - DONE \n",
      "User Email : a - DONE \n",
      "User Email : 2 - DONE \n",
      "User Email : 6 - DONE \n",
      "User Email : 3 - DONE \n",
      "User Email : 6 - DONE \n",
      "User Email : 5 - DONE \n",
      "User Email : 5 - DONE \n",
      "User Email : 6 - DONE \n",
      "User Email : 6 - DONE \n",
      "User Email : @ - DONE \n",
      "User Email : g - DONE \n",
      "User Email : m - DONE \n",
      "User Email : a - DONE \n",
      "User Email : i - DONE \n",
      "User Email : l - DONE \n",
      "User Email : . - DONE \n",
      "User Email : c - DONE \n",
      "User Email : o - DONE \n",
      "User Email : m - DONE \n",
      "Finish Send Mail\n"
     ]
    }
   ],
   "source": [
    "test=mail()\n",
    "test.main(\"model finished\", model_info)"
   ]
  },
  {
   "cell_type": "markdown",
   "metadata": {},
   "source": [
    "# write readme to report the model"
   ]
  },
  {
   "cell_type": "code",
   "execution_count": 128,
   "metadata": {},
   "outputs": [
    {
     "data": {
      "text/plain": [
       "True"
      ]
     },
     "execution_count": 128,
     "metadata": {},
     "output_type": "execute_result"
    }
   ],
   "source": [
    "md_info = model_info.replace(\"\\n\", \"<br>\")\n",
    "with open('readme.md', 'w+') as f:\n",
    "     f.write(md_info)\n",
    "f.closed"
   ]
  },
  {
   "cell_type": "code",
   "execution_count": 129,
   "metadata": {},
   "outputs": [
    {
     "name": "stdout",
     "output_type": "stream",
     "text": [
      "layer - > 0===============\n",
      "class_name = Dense\n",
      "units = 1024\n",
      "activation = linear\n",
      "layer - > 1===============\n",
      "class_name = Dense\n",
      "units = 512\n",
      "activation = linear\n",
      "layer - > 2===============\n",
      "class_name = Activation\n",
      "activation = relu\n",
      "layer - > 3===============\n",
      "class_name = Dense\n",
      "units = 256\n",
      "activation = linear\n",
      "layer - > 4===============\n",
      "class_name = Activation\n",
      "activation = relu\n",
      "layer - > 5===============\n",
      "class_name = Dense\n",
      "units = 128\n",
      "activation = linear\n",
      "layer - > 6===============\n",
      "class_name = Activation\n",
      "activation = relu\n",
      "layer - > 7===============\n",
      "class_name = Dense\n",
      "units = 64\n",
      "activation = linear\n",
      "layer - > 8===============\n",
      "class_name = Activation\n",
      "activation = relu\n",
      "layer - > 9===============\n",
      "class_name = Dense\n",
      "units = 32\n",
      "activation = linear\n",
      "layer - > 10===============\n",
      "class_name = Activation\n",
      "activation = relu\n",
      "layer - > 11===============\n",
      "class_name = Dense\n",
      "units = 11\n",
      "activation = linear\n",
      "layer - > 12===============\n",
      "class_name = Activation\n",
      "activation = softmax\n",
      "\n",
      "train epochs = 300\n",
      "train batch = 128\n",
      "test batch = 32\n",
      "train time = 16732.53845667839\n",
      "loss = 2.25451076395\n",
      "\n",
      "\n",
      "accuracy = 0.264520909579\n"
     ]
    }
   ],
   "source": [
    "print(model_info)"
   ]
  },
  {
   "cell_type": "code",
   "execution_count": 130,
   "metadata": {
    "collapsed": true
   },
   "outputs": [],
   "source": [
    "from sklearn.metrics import confusion_matrix\n",
    "import matplotlib.pyplot as plt\n",
    "import itertools"
   ]
  },
  {
   "cell_type": "code",
   "execution_count": 131,
   "metadata": {
    "collapsed": true
   },
   "outputs": [],
   "source": [
    "pred = model.predict(test_x)"
   ]
  },
  {
   "cell_type": "code",
   "execution_count": 132,
   "metadata": {},
   "outputs": [
    {
     "data": {
      "text/plain": [
       "array([[  649,   194,   131,   428,  1834,  3171,   204,   135,  3037,\n",
       "          747,   350],\n",
       "       [  452,   424,   190,  1308,  4160,  5432,   564,   181,  3133,\n",
       "          812,   635],\n",
       "       [  315,   221,   268,   499,  2597,  6484,   664,    88,  2807,\n",
       "          694,   393],\n",
       "       [  339,   407,    72, 13138,  7254,  2429,   114,   460,  2709,\n",
       "          822,  1221],\n",
       "       [ 1224,  1263,   686,  7325, 27242, 28388,  3343,  1001,  9233,\n",
       "         2333,  2884],\n",
       "       [ 1372,  1197,  1006,  3554, 20427, 37620,  4220,   822, 11306,\n",
       "         2263,  2390],\n",
       "       [  135,   270,   362,   149,  5176, 11871,  2212,    89,   586,\n",
       "           63,   108],\n",
       "       [  321,   186,    66,  1115,  2648,  3150,   157,   344,  2350,\n",
       "          464,   573],\n",
       "       [ 1329,   776,   530,  3814,  9712, 17110,  1010,   616, 14181,\n",
       "         2512,  1814],\n",
       "       [  630,   338,   179,  1747,  3901,  4599,    68,   227,  5203,\n",
       "         1833,   842],\n",
       "       [  607,   366,   231,  2289,  6706,  9169,   715,   362,  4778,\n",
       "          984,  1688]])"
      ]
     },
     "execution_count": 132,
     "metadata": {},
     "output_type": "execute_result"
    }
   ],
   "source": [
    "cnf_matrix = confusion_matrix(np.argmax(test_y, axis = 1), np.argmax(pred, axis = 1))\n",
    "cnf_matrix"
   ]
  },
  {
   "cell_type": "code",
   "execution_count": 133,
   "metadata": {},
   "outputs": [
    {
     "data": {
      "image/png": "[encoded data removed]",
      "text/plain": [
       "<matplotlib.figure.Figure at 0x1eb1c96d2b0>"
      ]
     },
     "metadata": {},
     "output_type": "display_data"
    }
   ],
   "source": [
    "np.set_printoptions(precision=2)\n",
    "plt.figure(figsize=(6, 6), dpi = 120)\n",
    "plot_confusion_matrix(cnf_matrix, classes=encoder.classes_, normalize=True, title='confusion matrix')\n",
    "plt.show()"
   ]
  },
  {
   "cell_type": "code",
   "execution_count": 134,
   "metadata": {},
   "outputs": [],
   "source": [
    "# for i in range(10):\n",
    "#     probabilities = model.predict(test_x[i:i+1,:], batch_size=32, verbose=0)\n",
    "#     probabilities = model.predict(test_x[i:i+1,:])\n",
    "#     probabilities = model.predict(test_x)\n",
    "#     probabilities[probabilities>=0.5] = 1\n",
    "#     probabilities[probabilities<0.5] = 0\n",
    "#     print(probabilities)"
   ]
  },
  {
   "cell_type": "code",
   "execution_count": null,
   "metadata": {
    "collapsed": true
   },
   "outputs": [],
   "source": []
  }
 ],
 "metadata": {
  "kernelspec": {
   "display_name": "Python 3",
   "language": "python",
   "name": "python3"
  },
  "language_info": {
   "codemirror_mode": {
    "name": "ipython",
    "version": 3
   },
   "file_extension": ".py",
   "mimetype": "text/x-python",
   "name": "python",
   "nbconvert_exporter": "python",
   "pygments_lexer": "ipython3",
   "version": "3.5.3"
  }
 },
 "nbformat": 4,
 "nbformat_minor": 2
}
