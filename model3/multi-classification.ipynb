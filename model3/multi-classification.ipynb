{
 "cells": [
  {
   "cell_type": "code",
   "execution_count": 38,
   "metadata": {},
   "outputs": [],
   "source": [
    "import time\n",
    "import numpy as np\n",
    "from keras.utils import np_utils\n",
    "import keras.callbacks as cb\n",
    "from keras.models import Sequential\n",
    "from keras.layers.core import Dense, Dropout, Activation\n",
    "from keras.optimizers import RMSprop\n",
    "import feather \n",
    "from mailerWithUtf8 import mail\n",
    "from sklearn.preprocessing import LabelEncoder\n",
    "from keras.models import model_from_json"
   ]
  },
  {
   "cell_type": "markdown",
   "metadata": {},
   "source": [
    "# preprocess load data"
   ]
  },
  {
   "cell_type": "code",
   "execution_count": 39,
   "metadata": {},
   "outputs": [
    {
     "name": "stdout",
     "output_type": "stream",
     "text": [
      "load feather %s seconds 1.5008654594421387\n"
     ]
    }
   ],
   "source": [
    "start_time = time.time()\n",
    "path = 'C:/Users/VIPLAB/Desktop/preprocess_py/marketing_analyze/0710_marketing_train.feather' \n",
    "# path = 'C:/Users/VIPLAB/Desktop/preprocess_py/marketing_analyze/0710_marketing_train_sample.feather' \n",
    "train_df = feather.read_dataframe(path)\n",
    "print('load feather %s seconds', format(time.time() - start_time))\n"
   ]
  },
  {
   "cell_type": "code",
   "execution_count": 40,
   "metadata": {},
   "outputs": [
    {
     "name": "stdout",
     "output_type": "stream",
     "text": [
      "load feather %s seconds 0.3840045928955078\n"
     ]
    }
   ],
   "source": [
    "start_time = time.time()\n",
    "path = 'C:/Users/VIPLAB/Desktop/preprocess_py/marketing_analyze/0710_marketing_test.feather'\n",
    "# path = 'C:/Users/VIPLAB/Desktop/preprocess_py/marketing_analyze/0710_marketing_test_sample.feather' \n",
    "\n",
    "test_df = feather.read_dataframe(path)\n",
    "print('load feather %s seconds', format(time.time() - start_time))"
   ]
  },
  {
   "cell_type": "code",
   "execution_count": 42,
   "metadata": {
    "collapsed": true
   },
   "outputs": [],
   "source": [
    "train_x, train_y = train_df.iloc[:, 0:-1].values, train_df.iloc[:, -1].values"
   ]
  },
  {
   "cell_type": "code",
   "execution_count": 43,
   "metadata": {
    "collapsed": true
   },
   "outputs": [],
   "source": [
    "test_x, test_y = test_df.iloc[:, 0:-1].values, test_df.iloc[:, -1].values"
   ]
  },
  {
   "cell_type": "code",
   "execution_count": 44,
   "metadata": {
    "collapsed": true
   },
   "outputs": [],
   "source": [
    "train_x = train_x.reshape(train_x.shape[0], -1)   # normalize\n",
    "test_x = test_x.reshape(test_x.shape[0], -1)   # normalize\n",
    "\n"
   ]
  },
  {
   "cell_type": "code",
   "execution_count": 45,
   "metadata": {
    "collapsed": true
   },
   "outputs": [],
   "source": [
    "# from sklearn.preprocessing import LabelBinarizer\n",
    "# encoder = LabelBinarizer()\n",
    "# y_train = encoder.fit_transform(y_train)\n",
    "# y_test = encoder.fit_transform(y_test)"
   ]
  },
  {
   "cell_type": "code",
   "execution_count": 46,
   "metadata": {
    "collapsed": true
   },
   "outputs": [],
   "source": [
    "# encode class values as integers\n",
    "encoder = LabelEncoder()\n",
    "encoder.fit(train_y)\n",
    "encoded_Y = encoder.transform(train_y)\n",
    "# convert integers to dummy variables (i.e. one hot encoded)\n",
    "train_y = np_utils.to_categorical(encoded_Y)\n",
    "\n",
    "encoded_Y = encoder.transform(test_y)\n",
    "# convert integers to dummy variables (i.e. one hot encoded)\n",
    "test_y = np_utils.to_categorical(encoded_Y)"
   ]
  },
  {
   "cell_type": "code",
   "execution_count": 47,
   "metadata": {},
   "outputs": [
    {
     "data": {
      "text/plain": [
       "array(['Adult', 'Game', 'HomeLife', 'Infrequent Internet User',\n",
       "       'InstantMessage-High', 'InstantMessage-Low', 'Map', 'News',\n",
       "       'No significant preference', 'Portal', 'Social-media'], dtype=object)"
      ]
     },
     "execution_count": 47,
     "metadata": {},
     "output_type": "execute_result"
    }
   ],
   "source": [
    "# get y unique name\n",
    "encoder.classes_"
   ]
  },
  {
   "cell_type": "code",
   "execution_count": 48,
   "metadata": {},
   "outputs": [
    {
     "data": {
      "text/plain": [
       "1506103"
      ]
     },
     "execution_count": 48,
     "metadata": {},
     "output_type": "execute_result"
    }
   ],
   "source": [
    "len(train_y)"
   ]
  },
  {
   "cell_type": "code",
   "execution_count": 49,
   "metadata": {},
   "outputs": [
    {
     "data": {
      "text/plain": [
       "376526"
      ]
     },
     "execution_count": 49,
     "metadata": {},
     "output_type": "execute_result"
    }
   ],
   "source": [
    "len(test_y)"
   ]
  },
  {
   "cell_type": "markdown",
   "metadata": {},
   "source": [
    "# construct and compile model"
   ]
  },
  {
   "cell_type": "code",
   "execution_count": 68,
   "metadata": {
    "collapsed": true
   },
   "outputs": [],
   "source": [
    "classify_num = 11\n",
    "epochs = 300\n",
    "batch = 64"
   ]
  },
  {
   "cell_type": "markdown",
   "metadata": {},
   "source": [
    "# basic config"
   ]
  },
  {
   "cell_type": "code",
   "execution_count": 70,
   "metadata": {},
   "outputs": [
    {
     "name": "stdout",
     "output_type": "stream",
     "text": [
      "Compiling Model ... \n",
      "Model compield in 0.09327483177185059 seconds\n"
     ]
    }
   ],
   "source": [
    "start_time = time.time()\n",
    "print ('Compiling Model ... ')\n",
    "model = Sequential()\n",
    "model.add(Dense(128, input_shape=train_x[0].shape ))\n",
    "# model.add(Activation('relu'))\n",
    "# model.add(Dropout(0.2))\n",
    "# model.add(Dense(128))\n",
    "model.add(Activation('relu'))\n",
    "# model.add(Dropout(0.2))\n",
    "model.add(Dense(64))\n",
    "model.add(Activation('relu'))\n",
    "model.add(Dense(32))\n",
    "model.add(Activation('relu'))\n",
    "model.add(Dense(classify_num))\n",
    "model.add(Activation('softmax'))\n",
    "\n",
    "rms = RMSprop()\n",
    "model.compile(loss='categorical_crossentropy', optimizer=rms, metrics=['accuracy'])\n",
    "\n",
    "print('Model compield in {0} seconds'.format(time.time() - start_time))\n"
   ]
  },
  {
   "cell_type": "markdown",
   "metadata": {},
   "source": [
    "# Train model"
   ]
  },
  {
   "cell_type": "code",
   "execution_count": 72,
   "metadata": {
    "scrolled": false
   },
   "outputs": [
    {
     "name": "stdout",
     "output_type": "stream",
     "text": [
      "Training model...\n",
      "Train on 1355492 samples, validate on 150611 samples\n",
      "Epoch 1/300\n",
      "85s - loss: 1.9526 - acc: 0.2992 - val_loss: 1.9282 - val_acc: 0.3067\n",
      "Epoch 2/300\n",
      "96s - loss: 1.9232 - acc: 0.3075 - val_loss: 1.9394 - val_acc: 0.3065\n",
      "Epoch 3/300\n",
      "94s - loss: 1.9166 - acc: 0.3092 - val_loss: 1.9213 - val_acc: 0.3054\n",
      "Epoch 4/300\n",
      "91s - loss: 1.9118 - acc: 0.3107 - val_loss: 1.9209 - val_acc: 0.3045\n",
      "Epoch 5/300\n",
      "93s - loss: 1.9085 - acc: 0.3116 - val_loss: 1.9060 - val_acc: 0.3140\n",
      "Epoch 6/300\n",
      "91s - loss: 1.9057 - acc: 0.3124 - val_loss: 1.9005 - val_acc: 0.3148\n",
      "Epoch 7/300\n",
      "91s - loss: 1.9032 - acc: 0.3134 - val_loss: 1.9112 - val_acc: 0.3132\n",
      "Epoch 8/300\n",
      "92s - loss: 1.9033 - acc: 0.3132 - val_loss: 1.9080 - val_acc: 0.3111\n",
      "Epoch 9/300\n",
      "92s - loss: 1.9029 - acc: 0.3138 - val_loss: 1.9396 - val_acc: 0.3100\n",
      "Epoch 10/300\n",
      "93s - loss: 1.9022 - acc: 0.3141 - val_loss: 1.9207 - val_acc: 0.3071\n",
      "Epoch 11/300\n",
      "90s - loss: 1.9025 - acc: 0.3139 - val_loss: 1.9136 - val_acc: 0.3126\n",
      "Epoch 12/300\n",
      "92s - loss: 1.9023 - acc: 0.3143 - val_loss: 1.9103 - val_acc: 0.3144\n",
      "Epoch 13/300\n",
      "93s - loss: 1.9014 - acc: 0.3143 - val_loss: 1.9121 - val_acc: 0.3122\n",
      "Epoch 14/300\n",
      "90s - loss: 1.9011 - acc: 0.3143 - val_loss: 1.9149 - val_acc: 0.3090\n",
      "Epoch 15/300\n",
      "92s - loss: 1.9008 - acc: 0.3146 - val_loss: 1.9035 - val_acc: 0.3156\n",
      "Epoch 16/300\n",
      "90s - loss: 1.9006 - acc: 0.3148 - val_loss: 1.9117 - val_acc: 0.3133\n",
      "Epoch 17/300\n",
      "92s - loss: 1.8986 - acc: 0.3153 - val_loss: 1.9110 - val_acc: 0.3131\n",
      "Epoch 18/300\n",
      "90s - loss: 1.8984 - acc: 0.3154 - val_loss: 1.9012 - val_acc: 0.3171\n",
      "Epoch 19/300\n",
      "94s - loss: 1.8971 - acc: 0.3158 - val_loss: 1.8952 - val_acc: 0.3192\n",
      "Epoch 20/300\n",
      "93s - loss: 1.8956 - acc: 0.3160 - val_loss: 1.9000 - val_acc: 0.3165\n",
      "Epoch 21/300\n",
      "88s - loss: 1.8946 - acc: 0.3166 - val_loss: 1.8919 - val_acc: 0.3193\n",
      "Epoch 22/300\n",
      "93s - loss: 1.8955 - acc: 0.3164 - val_loss: 1.8979 - val_acc: 0.3169\n",
      "Epoch 23/300\n",
      "90s - loss: 1.8955 - acc: 0.3164 - val_loss: 1.9059 - val_acc: 0.3163\n",
      "Epoch 24/300\n",
      "90s - loss: 1.8955 - acc: 0.3168 - val_loss: 1.8998 - val_acc: 0.3182\n",
      "Epoch 25/300\n",
      "91s - loss: 1.8961 - acc: 0.3169 - val_loss: 1.8990 - val_acc: 0.3186\n",
      "Epoch 26/300\n",
      "92s - loss: 1.8969 - acc: 0.3169 - val_loss: 1.8968 - val_acc: 0.3192\n",
      "Epoch 27/300\n",
      "91s - loss: 1.8969 - acc: 0.3171 - val_loss: 1.9019 - val_acc: 0.3184\n",
      "Epoch 28/300\n",
      "90s - loss: 1.8969 - acc: 0.3168 - val_loss: 1.9022 - val_acc: 0.3168\n",
      "Epoch 29/300\n",
      "93s - loss: 1.8958 - acc: 0.3170 - val_loss: 1.9000 - val_acc: 0.3185\n",
      "Epoch 30/300\n",
      "93s - loss: 1.8975 - acc: 0.3175 - val_loss: 1.9135 - val_acc: 0.3133\n",
      "Epoch 31/300\n",
      "90s - loss: 1.8979 - acc: 0.3173 - val_loss: 1.9089 - val_acc: 0.3152\n",
      "Epoch 32/300\n",
      "90s - loss: 1.8987 - acc: 0.3175 - val_loss: 1.9061 - val_acc: 0.3149\n",
      "Epoch 33/300\n",
      "92s - loss: 1.9012 - acc: 0.3173 - val_loss: 1.9120 - val_acc: 0.3178\n",
      "Epoch 34/300\n",
      "91s - loss: 1.9054 - acc: 0.3168 - val_loss: 1.9020 - val_acc: 0.3179\n",
      "Epoch 35/300\n",
      "93s - loss: 1.9033 - acc: 0.3173 - val_loss: 1.9028 - val_acc: 0.3183\n",
      "Epoch 36/300\n",
      "89s - loss: 1.9051 - acc: 0.3169 - val_loss: 1.9171 - val_acc: 0.3174\n",
      "Epoch 37/300\n",
      "90s - loss: 1.9038 - acc: 0.3176 - val_loss: 1.9077 - val_acc: 0.3203\n",
      "Epoch 38/300\n",
      "91s - loss: 1.9039 - acc: 0.3173 - val_loss: 1.9029 - val_acc: 0.3193\n",
      "Epoch 39/300\n",
      "93s - loss: 1.9038 - acc: 0.3176 - val_loss: 1.9126 - val_acc: 0.3154\n",
      "Epoch 40/300\n",
      "92s - loss: 1.9061 - acc: 0.3174 - val_loss: 1.9051 - val_acc: 0.3181\n",
      "Epoch 41/300\n",
      "86s - loss: 1.9062 - acc: 0.3176 - val_loss: 1.9230 - val_acc: 0.3131\n",
      "Epoch 42/300\n",
      "93s - loss: 1.9080 - acc: 0.3177 - val_loss: 1.9144 - val_acc: 0.3192\n",
      "Epoch 43/300\n",
      "91s - loss: 1.9067 - acc: 0.3175 - val_loss: 1.9050 - val_acc: 0.3187\n",
      "Epoch 44/300\n",
      "92s - loss: 1.9043 - acc: 0.3178 - val_loss: 1.9160 - val_acc: 0.3142\n",
      "Epoch 45/300\n",
      "91s - loss: 1.9081 - acc: 0.3178 - val_loss: 1.9081 - val_acc: 0.3182\n",
      "Epoch 46/300\n",
      "90s - loss: 1.9060 - acc: 0.3178 - val_loss: 1.9152 - val_acc: 0.3169\n",
      "Epoch 47/300\n",
      "91s - loss: 1.9061 - acc: 0.3175 - val_loss: 1.9074 - val_acc: 0.3166\n",
      "Epoch 48/300\n",
      "92s - loss: 1.9019 - acc: 0.3177 - val_loss: 1.9178 - val_acc: 0.3151\n",
      "Epoch 49/300\n",
      "89s - loss: 1.9040 - acc: 0.3177 - val_loss: 1.9037 - val_acc: 0.3197\n",
      "Epoch 50/300\n",
      "87s - loss: 1.9045 - acc: 0.3175 - val_loss: 1.9087 - val_acc: 0.3185\n",
      "Epoch 51/300\n",
      "92s - loss: 1.9088 - acc: 0.3177 - val_loss: 1.9211 - val_acc: 0.3204\n",
      "Epoch 52/300\n",
      "92s - loss: 1.9093 - acc: 0.3180 - val_loss: 1.9235 - val_acc: 0.3139\n",
      "Epoch 53/300\n",
      "92s - loss: 1.9038 - acc: 0.3180 - val_loss: 1.9138 - val_acc: 0.3167\n",
      "Epoch 54/300\n",
      "94s - loss: 1.9048 - acc: 0.3179 - val_loss: 1.9066 - val_acc: 0.3182\n",
      "Epoch 55/300\n",
      "89s - loss: 1.9028 - acc: 0.3178 - val_loss: 1.9137 - val_acc: 0.3165\n",
      "Epoch 56/300\n",
      "92s - loss: 1.9026 - acc: 0.3179 - val_loss: 1.9091 - val_acc: 0.3176\n",
      "Epoch 57/300\n",
      "94s - loss: 1.9003 - acc: 0.3178 - val_loss: 1.8979 - val_acc: 0.3189\n",
      "Epoch 58/300\n",
      "91s - loss: 1.8990 - acc: 0.3180 - val_loss: 1.9154 - val_acc: 0.3136\n",
      "Epoch 59/300\n",
      "93s - loss: 1.8986 - acc: 0.3175 - val_loss: 1.9095 - val_acc: 0.3147\n",
      "Epoch 60/300\n",
      "91s - loss: 1.8987 - acc: 0.3179 - val_loss: 1.9078 - val_acc: 0.3157\n",
      "Epoch 61/300\n",
      "93s - loss: 1.9007 - acc: 0.3178 - val_loss: 1.9049 - val_acc: 0.3170\n",
      "Epoch 62/300\n",
      "94s - loss: 1.9005 - acc: 0.3177 - val_loss: 1.9081 - val_acc: 0.3169\n",
      "Epoch 63/300\n",
      "92s - loss: 1.9014 - acc: 0.3179 - val_loss: 1.9059 - val_acc: 0.3184\n",
      "Epoch 64/300\n",
      "90s - loss: 1.9038 - acc: 0.3177 - val_loss: 1.8996 - val_acc: 0.3185\n",
      "Epoch 65/300\n",
      "91s - loss: 1.9032 - acc: 0.3180 - val_loss: 1.9043 - val_acc: 0.3183\n",
      "Epoch 66/300\n",
      "93s - loss: 1.9037 - acc: 0.3177 - val_loss: 1.9072 - val_acc: 0.3197\n",
      "Epoch 67/300\n",
      "92s - loss: 1.9051 - acc: 0.3176 - val_loss: 1.9084 - val_acc: 0.3172\n",
      "Epoch 68/300\n",
      "91s - loss: 1.9063 - acc: 0.3175 - val_loss: 1.9191 - val_acc: 0.3173\n",
      "Epoch 69/300\n",
      "93s - loss: 1.9070 - acc: 0.3174 - val_loss: 1.9156 - val_acc: 0.3150\n",
      "Epoch 70/300\n",
      "93s - loss: 1.9076 - acc: 0.3173 - val_loss: 1.9181 - val_acc: 0.3176\n",
      "Epoch 71/300\n",
      "91s - loss: 1.9083 - acc: 0.3173 - val_loss: 1.9158 - val_acc: 0.3163\n",
      "Epoch 72/300\n",
      "91s - loss: 1.9103 - acc: 0.3171 - val_loss: 1.9257 - val_acc: 0.3137\n",
      "Epoch 73/300\n",
      "93s - loss: 1.9106 - acc: 0.3170 - val_loss: 1.9284 - val_acc: 0.3149\n",
      "Epoch 74/300\n",
      "93s - loss: 1.9106 - acc: 0.3173 - val_loss: 1.9110 - val_acc: 0.3173\n",
      "Epoch 75/300\n",
      "91s - loss: 1.9098 - acc: 0.3174 - val_loss: 1.9059 - val_acc: 0.3180\n",
      "Epoch 76/300\n",
      "91s - loss: 1.9095 - acc: 0.3173 - val_loss: 1.9190 - val_acc: 0.3155\n",
      "Epoch 77/300\n",
      "90s - loss: 1.9133 - acc: 0.3175 - val_loss: 1.9220 - val_acc: 0.3182\n",
      "Epoch 78/300\n",
      "92s - loss: 1.9136 - acc: 0.3174 - val_loss: 1.9177 - val_acc: 0.3181\n",
      "Epoch 79/300\n",
      "92s - loss: 1.9139 - acc: 0.3174 - val_loss: 1.9212 - val_acc: 0.3168\n",
      "Epoch 80/300\n",
      "93s - loss: 1.9137 - acc: 0.3175 - val_loss: 1.9141 - val_acc: 0.3146\n",
      "Epoch 81/300\n",
      "92s - loss: 1.9146 - acc: 0.3174 - val_loss: 1.9215 - val_acc: 0.3185\n",
      "Epoch 82/300\n",
      "92s - loss: 1.9141 - acc: 0.3171 - val_loss: 1.9174 - val_acc: 0.3160\n",
      "Epoch 83/300\n",
      "92s - loss: 1.9139 - acc: 0.3174 - val_loss: 1.9239 - val_acc: 0.3186\n",
      "Epoch 84/300\n",
      "90s - loss: 1.9143 - acc: 0.3174 - val_loss: 1.9214 - val_acc: 0.3145\n",
      "Epoch 85/300\n",
      "92s - loss: 1.9136 - acc: 0.3175 - val_loss: 1.9513 - val_acc: 0.3059\n",
      "Epoch 86/300\n",
      "90s - loss: 1.9168 - acc: 0.3172 - val_loss: 1.9327 - val_acc: 0.3168\n",
      "Epoch 87/300\n",
      "92s - loss: 1.9174 - acc: 0.3169 - val_loss: 1.9284 - val_acc: 0.3125\n",
      "Epoch 88/300\n",
      "96s - loss: 1.9212 - acc: 0.3174 - val_loss: 1.9253 - val_acc: 0.3182\n",
      "Epoch 89/300\n",
      "93s - loss: 1.9236 - acc: 0.3171 - val_loss: 1.9220 - val_acc: 0.3165\n",
      "Epoch 90/300\n",
      "94s - loss: 1.9223 - acc: 0.3171 - val_loss: 1.9310 - val_acc: 0.3184\n",
      "Epoch 91/300\n",
      "91s - loss: 1.9228 - acc: 0.3173 - val_loss: 1.9423 - val_acc: 0.3142\n",
      "Epoch 92/300\n",
      "91s - loss: 1.9263 - acc: 0.3167 - val_loss: 1.9327 - val_acc: 0.3164\n",
      "Epoch 93/300\n",
      "93s - loss: 1.9304 - acc: 0.3165 - val_loss: 1.9357 - val_acc: 0.3161\n",
      "Epoch 94/300\n",
      "93s - loss: 1.9373 - acc: 0.3169 - val_loss: 1.9403 - val_acc: 0.3175\n",
      "Epoch 95/300\n",
      "94s - loss: 1.9356 - acc: 0.3167 - val_loss: 1.9630 - val_acc: 0.3083\n",
      "Epoch 96/300\n",
      "89s - loss: 1.9429 - acc: 0.3164 - val_loss: 1.9530 - val_acc: 0.3185\n",
      "Epoch 97/300\n",
      "92s - loss: 1.9256 - acc: 0.3167 - val_loss: 1.9335 - val_acc: 0.3155\n",
      "Epoch 98/300\n",
      "92s - loss: 1.9185 - acc: 0.3169 - val_loss: 1.9321 - val_acc: 0.3146\n",
      "Epoch 99/300\n"
     ]
    },
    {
     "name": "stdout",
     "output_type": "stream",
     "text": [
      "93s - loss: 1.9199 - acc: 0.3170 - val_loss: 1.9266 - val_acc: 0.3154\n",
      "Epoch 100/300\n",
      "92s - loss: 1.9206 - acc: 0.3169 - val_loss: 1.9160 - val_acc: 0.3189\n",
      "Epoch 101/300\n",
      "92s - loss: 1.9237 - acc: 0.3168 - val_loss: 1.9230 - val_acc: 0.3193\n",
      "Epoch 102/300\n",
      "90s - loss: 1.9254 - acc: 0.3167 - val_loss: 1.9345 - val_acc: 0.3175\n",
      "Epoch 103/300\n",
      "94s - loss: 1.9294 - acc: 0.3169 - val_loss: 1.9341 - val_acc: 0.3175\n",
      "Epoch 104/300\n",
      "93s - loss: 1.9295 - acc: 0.3167 - val_loss: 1.9418 - val_acc: 0.3177\n",
      "Epoch 105/300\n",
      "94s - loss: 1.9305 - acc: 0.3169 - val_loss: 1.9303 - val_acc: 0.3140\n",
      "Epoch 106/300\n",
      "93s - loss: 1.9283 - acc: 0.3166 - val_loss: 1.9352 - val_acc: 0.3145\n",
      "Epoch 107/300\n",
      "91s - loss: 1.9296 - acc: 0.3169 - val_loss: 1.9539 - val_acc: 0.3091\n",
      "Epoch 108/300\n",
      "94s - loss: 1.9374 - acc: 0.3170 - val_loss: 1.9394 - val_acc: 0.3190\n",
      "Epoch 109/300\n",
      "94s - loss: 1.9368 - acc: 0.3170 - val_loss: 1.9460 - val_acc: 0.3155\n",
      "Epoch 110/300\n",
      "93s - loss: 1.9340 - acc: 0.3169 - val_loss: 1.9451 - val_acc: 0.3169\n",
      "Epoch 111/300\n",
      "95s - loss: 1.9350 - acc: 0.3167 - val_loss: 1.9315 - val_acc: 0.3181\n",
      "Epoch 112/300\n",
      "94s - loss: 1.9360 - acc: 0.3169 - val_loss: 1.9414 - val_acc: 0.3162\n",
      "Epoch 113/300\n",
      "93s - loss: 1.9362 - acc: 0.3171 - val_loss: 1.9429 - val_acc: 0.3155\n",
      "Epoch 114/300\n",
      "94s - loss: 1.9357 - acc: 0.3168 - val_loss: 1.9564 - val_acc: 0.3107\n",
      "Epoch 115/300\n",
      "90s - loss: 1.9354 - acc: 0.3166 - val_loss: 1.9437 - val_acc: 0.3169\n",
      "Epoch 116/300\n",
      "92s - loss: 1.9392 - acc: 0.3166 - val_loss: 1.9398 - val_acc: 0.3149\n",
      "Epoch 117/300\n",
      "93s - loss: 1.9405 - acc: 0.3168 - val_loss: 1.9283 - val_acc: 0.3180\n",
      "Epoch 118/300\n",
      "95s - loss: 1.9400 - acc: 0.3167 - val_loss: 1.9487 - val_acc: 0.3171\n",
      "Epoch 119/300\n",
      "91s - loss: 1.9411 - acc: 0.3162 - val_loss: 1.9523 - val_acc: 0.3151\n",
      "Epoch 120/300\n",
      "92s - loss: 1.9437 - acc: 0.3166 - val_loss: 1.9417 - val_acc: 0.3183\n",
      "Epoch 121/300\n",
      "94s - loss: 1.9433 - acc: 0.3162 - val_loss: 1.9546 - val_acc: 0.3186\n",
      "Epoch 122/300\n",
      "93s - loss: 1.9409 - acc: 0.3165 - val_loss: 1.9417 - val_acc: 0.3138\n",
      "Epoch 123/300\n",
      "92s - loss: 1.9351 - acc: 0.3163 - val_loss: 1.9471 - val_acc: 0.3122\n",
      "Epoch 124/300\n",
      "93s - loss: 1.9362 - acc: 0.3165 - val_loss: 1.9574 - val_acc: 0.3168\n",
      "Epoch 125/300\n",
      "95s - loss: 1.9367 - acc: 0.3164 - val_loss: 1.9590 - val_acc: 0.3180\n",
      "Epoch 126/300\n",
      "91s - loss: 1.9382 - acc: 0.3164 - val_loss: 1.9321 - val_acc: 0.3178\n",
      "Epoch 127/300\n",
      "94s - loss: 1.9379 - acc: 0.3166 - val_loss: 1.9336 - val_acc: 0.3169\n",
      "Epoch 128/300\n",
      "93s - loss: 1.9342 - acc: 0.3169 - val_loss: 1.9419 - val_acc: 0.3181\n",
      "Epoch 129/300\n",
      "92s - loss: 1.9307 - acc: 0.3166 - val_loss: 1.9426 - val_acc: 0.3153\n",
      "Epoch 130/300\n",
      "95s - loss: 1.9307 - acc: 0.3169 - val_loss: 1.9369 - val_acc: 0.3180\n",
      "Epoch 131/300\n",
      "95s - loss: 1.9292 - acc: 0.3168 - val_loss: 1.9323 - val_acc: 0.3127\n",
      "Epoch 132/300\n",
      "95s - loss: 1.9305 - acc: 0.3167 - val_loss: 1.9200 - val_acc: 0.3159\n",
      "Epoch 133/300\n",
      "91s - loss: 1.9244 - acc: 0.3166 - val_loss: 1.9333 - val_acc: 0.3184\n",
      "Epoch 134/300\n",
      "93s - loss: 1.9303 - acc: 0.3168 - val_loss: 1.9421 - val_acc: 0.3179\n",
      "Epoch 135/300\n",
      "93s - loss: 1.9304 - acc: 0.3172 - val_loss: 1.9361 - val_acc: 0.3167\n",
      "Epoch 136/300\n",
      "92s - loss: 1.9327 - acc: 0.3166 - val_loss: 1.9640 - val_acc: 0.3175\n",
      "Epoch 137/300\n",
      "94s - loss: 1.9371 - acc: 0.3167 - val_loss: 1.9427 - val_acc: 0.3173\n",
      "Epoch 138/300\n",
      "93s - loss: 1.9371 - acc: 0.3168 - val_loss: 1.9515 - val_acc: 0.3153\n",
      "Epoch 139/300\n",
      "94s - loss: 1.9335 - acc: 0.3164 - val_loss: 1.9353 - val_acc: 0.3145\n",
      "Epoch 140/300\n",
      "95s - loss: 1.9338 - acc: 0.3168 - val_loss: 1.9457 - val_acc: 0.3178\n",
      "Epoch 141/300\n",
      "90s - loss: 1.9359 - acc: 0.3167 - val_loss: 1.9358 - val_acc: 0.3183\n",
      "Epoch 142/300\n",
      "93s - loss: 1.9353 - acc: 0.3169 - val_loss: 1.9408 - val_acc: 0.3177\n",
      "Epoch 143/300\n",
      "87s - loss: 1.9347 - acc: 0.3165 - val_loss: 1.9693 - val_acc: 0.3156\n",
      "Epoch 144/300\n",
      "85s - loss: 1.9449 - acc: 0.3165 - val_loss: 1.9625 - val_acc: 0.3168\n",
      "Epoch 145/300\n",
      "84s - loss: 1.9409 - acc: 0.3163 - val_loss: 1.9524 - val_acc: 0.3180\n",
      "Epoch 146/300\n",
      "84s - loss: 1.9355 - acc: 0.3167 - val_loss: 1.9533 - val_acc: 0.3165\n",
      "Epoch 147/300\n",
      "84s - loss: 1.9405 - acc: 0.3165 - val_loss: 1.9219 - val_acc: 0.3184\n",
      "Epoch 148/300\n",
      "84s - loss: 1.9341 - acc: 0.3166 - val_loss: 1.9299 - val_acc: 0.3163\n",
      "Epoch 149/300\n",
      "84s - loss: 1.9355 - acc: 0.3168 - val_loss: 1.9424 - val_acc: 0.3159\n",
      "Epoch 150/300\n",
      "85s - loss: 1.9384 - acc: 0.3165 - val_loss: 1.9894 - val_acc: 0.3153\n",
      "Epoch 151/300\n",
      "84s - loss: 1.9426 - acc: 0.3167 - val_loss: 1.9439 - val_acc: 0.3194\n",
      "Epoch 152/300\n",
      "83s - loss: 1.9439 - acc: 0.3164 - val_loss: 1.9377 - val_acc: 0.3164\n",
      "Epoch 153/300\n",
      "84s - loss: 1.9408 - acc: 0.3169 - val_loss: 1.9352 - val_acc: 0.3167\n",
      "Epoch 154/300\n",
      "84s - loss: 1.9437 - acc: 0.3164 - val_loss: 1.9826 - val_acc: 0.3126\n",
      "Epoch 155/300\n",
      "84s - loss: 1.9435 - acc: 0.3167 - val_loss: 1.9699 - val_acc: 0.3139\n",
      "Epoch 156/300\n",
      "84s - loss: 1.9395 - acc: 0.3166 - val_loss: 1.9429 - val_acc: 0.3181\n",
      "Epoch 157/300\n",
      "85s - loss: 1.9493 - acc: 0.3169 - val_loss: 1.9438 - val_acc: 0.3171\n",
      "Epoch 158/300\n",
      "83s - loss: 1.9427 - acc: 0.3166 - val_loss: 1.9759 - val_acc: 0.3159\n",
      "Epoch 159/300\n",
      "85s - loss: 1.9517 - acc: 0.3166 - val_loss: 1.9736 - val_acc: 0.3133\n",
      "Epoch 160/300\n",
      "84s - loss: 1.9540 - acc: 0.3168 - val_loss: 1.9770 - val_acc: 0.3178\n",
      "Epoch 161/300\n",
      "84s - loss: 1.9586 - acc: 0.3165 - val_loss: 1.9525 - val_acc: 0.3193\n",
      "Epoch 162/300\n",
      "85s - loss: 1.9575 - acc: 0.3169 - val_loss: 2.0134 - val_acc: 0.3140\n",
      "Epoch 163/300\n",
      "85s - loss: 1.9621 - acc: 0.3167 - val_loss: 2.0062 - val_acc: 0.3176\n",
      "Epoch 164/300\n",
      "84s - loss: 1.9552 - acc: 0.3166 - val_loss: 1.9649 - val_acc: 0.3119\n",
      "Epoch 165/300\n",
      "84s - loss: 1.9608 - acc: 0.3167 - val_loss: 1.9780 - val_acc: 0.3195\n",
      "Epoch 166/300\n",
      "85s - loss: 1.9624 - acc: 0.3167 - val_loss: 1.9686 - val_acc: 0.3154\n",
      "Epoch 167/300\n",
      "86s - loss: 1.9694 - acc: 0.3164 - val_loss: 1.9697 - val_acc: 0.3178\n",
      "Epoch 168/300\n",
      "86s - loss: 1.9649 - acc: 0.3167 - val_loss: 1.9621 - val_acc: 0.3175\n",
      "Epoch 169/300\n",
      "86s - loss: 1.9699 - acc: 0.3164 - val_loss: 1.9886 - val_acc: 0.3108\n",
      "Epoch 170/300\n",
      "86s - loss: 1.9850 - acc: 0.3168 - val_loss: 1.9861 - val_acc: 0.3133\n",
      "Epoch 171/300\n",
      "85s - loss: 1.9894 - acc: 0.3167 - val_loss: 2.0303 - val_acc: 0.3155\n",
      "Epoch 172/300\n",
      "85s - loss: 1.9944 - acc: 0.3163 - val_loss: 2.0116 - val_acc: 0.3178\n",
      "Epoch 173/300\n",
      "86s - loss: 1.9869 - acc: 0.3164 - val_loss: 2.0694 - val_acc: 0.3151\n",
      "Epoch 174/300\n",
      "86s - loss: 1.9985 - acc: 0.3166 - val_loss: 1.9802 - val_acc: 0.3165\n",
      "Epoch 175/300\n",
      "89s - loss: 1.9850 - acc: 0.3163 - val_loss: 1.9816 - val_acc: 0.3081\n",
      "Epoch 176/300\n",
      "92s - loss: 2.0041 - acc: 0.3161 - val_loss: 1.9686 - val_acc: 0.3144\n",
      "Epoch 177/300\n",
      "94s - loss: 2.0041 - acc: 0.3163 - val_loss: 1.9779 - val_acc: 0.3175\n",
      "Epoch 178/300\n",
      "92s - loss: 2.0121 - acc: 0.3162 - val_loss: 2.0719 - val_acc: 0.3170\n",
      "Epoch 179/300\n",
      "94s - loss: 2.0096 - acc: 0.3163 - val_loss: 1.9690 - val_acc: 0.3137\n",
      "Epoch 180/300\n",
      "93s - loss: 2.0071 - acc: 0.3164 - val_loss: 2.0075 - val_acc: 0.3147\n",
      "Epoch 181/300\n",
      "92s - loss: 2.0035 - acc: 0.3161 - val_loss: 1.9811 - val_acc: 0.3156\n",
      "Epoch 182/300\n",
      "92s - loss: 1.9964 - acc: 0.3165 - val_loss: 2.2409 - val_acc: 0.3153\n",
      "Epoch 183/300\n",
      "94s - loss: 2.0073 - acc: 0.3165 - val_loss: 1.9828 - val_acc: 0.3148\n",
      "Epoch 184/300\n",
      "92s - loss: 2.0350 - acc: 0.3164 - val_loss: 2.0708 - val_acc: 0.3144\n",
      "Epoch 185/300\n",
      "93s - loss: 2.0138 - acc: 0.3162 - val_loss: 1.9821 - val_acc: 0.3160\n",
      "Epoch 186/300\n",
      "93s - loss: 2.0158 - acc: 0.3164 - val_loss: 1.9855 - val_acc: 0.3155\n",
      "Epoch 187/300\n",
      "91s - loss: 2.0360 - acc: 0.3164 - val_loss: 1.9650 - val_acc: 0.3175\n",
      "Epoch 188/300\n",
      "94s - loss: 2.0327 - acc: 0.3162 - val_loss: 2.0455 - val_acc: 0.3132\n",
      "Epoch 189/300\n",
      "93s - loss: 2.0221 - acc: 0.3162 - val_loss: 2.0977 - val_acc: 0.3174\n",
      "Epoch 190/300\n",
      "90s - loss: 2.0247 - acc: 0.3165 - val_loss: 2.0270 - val_acc: 0.3174\n",
      "Epoch 191/300\n",
      "92s - loss: 2.0515 - acc: 0.3165 - val_loss: 1.9913 - val_acc: 0.3177\n",
      "Epoch 192/300\n",
      "94s - loss: 2.0660 - acc: 0.3161 - val_loss: 2.0898 - val_acc: 0.3156\n",
      "Epoch 193/300\n",
      "91s - loss: 2.0594 - acc: 0.3161 - val_loss: 2.1949 - val_acc: 0.3158\n",
      "Epoch 194/300\n",
      "94s - loss: 2.1065 - acc: 0.3163 - val_loss: 1.9919 - val_acc: 0.3124\n",
      "Epoch 195/300\n",
      "93s - loss: 2.0587 - acc: 0.3163 - val_loss: 2.0804 - val_acc: 0.3158\n",
      "Epoch 196/300\n",
      "90s - loss: 2.0660 - acc: 0.3161 - val_loss: 1.9935 - val_acc: 0.3159\n",
      "Epoch 197/300\n"
     ]
    },
    {
     "name": "stdout",
     "output_type": "stream",
     "text": [
      "91s - loss: 2.0547 - acc: 0.3166 - val_loss: 2.1191 - val_acc: 0.3158\n",
      "Epoch 198/300\n",
      "93s - loss: 2.0495 - acc: 0.3165 - val_loss: 1.9563 - val_acc: 0.3136\n",
      "Epoch 199/300\n",
      "94s - loss: 2.0704 - acc: 0.3165 - val_loss: 2.0235 - val_acc: 0.3164\n",
      "Epoch 200/300\n",
      "92s - loss: 2.1370 - acc: 0.3158 - val_loss: 2.0405 - val_acc: 0.3168\n",
      "Epoch 201/300\n",
      "92s - loss: 2.0792 - acc: 0.3162 - val_loss: 2.0357 - val_acc: 0.3165\n",
      "Epoch 202/300\n",
      "95s - loss: 2.0690 - acc: 0.3159 - val_loss: 2.1766 - val_acc: 0.3153\n",
      "Epoch 203/300\n",
      "91s - loss: 2.0738 - acc: 0.3168 - val_loss: 2.0806 - val_acc: 0.3166\n",
      "Epoch 204/300\n",
      "97s - loss: 2.0465 - acc: 0.3164 - val_loss: 2.0426 - val_acc: 0.3165\n",
      "Epoch 205/300\n",
      "92s - loss: 2.0578 - acc: 0.3165 - val_loss: 2.0083 - val_acc: 0.3174\n",
      "Epoch 206/300\n",
      "91s - loss: 2.1137 - acc: 0.3161 - val_loss: 2.5233 - val_acc: 0.3119\n",
      "Epoch 207/300\n",
      "91s - loss: 2.1097 - acc: 0.3163 - val_loss: 1.9669 - val_acc: 0.3151\n",
      "Epoch 208/300\n",
      "93s - loss: 2.1209 - acc: 0.3161 - val_loss: 2.1481 - val_acc: 0.3169\n",
      "Epoch 209/300\n",
      "90s - loss: 2.1149 - acc: 0.3162 - val_loss: 2.0176 - val_acc: 0.3170\n",
      "Epoch 210/300\n",
      "91s - loss: 2.1101 - acc: 0.3157 - val_loss: 2.2330 - val_acc: 0.3137\n",
      "Epoch 211/300\n",
      "95s - loss: 2.1232 - acc: 0.3159 - val_loss: 2.0864 - val_acc: 0.3176\n",
      "Epoch 212/300\n",
      "91s - loss: 2.1291 - acc: 0.3157 - val_loss: 2.0523 - val_acc: 0.3159\n",
      "Epoch 213/300\n",
      "92s - loss: 2.1178 - acc: 0.3165 - val_loss: 2.1179 - val_acc: 0.3141\n",
      "Epoch 214/300\n",
      "93s - loss: 2.1369 - acc: 0.3159 - val_loss: 2.1877 - val_acc: 0.3171\n",
      "Epoch 215/300\n",
      "89s - loss: 2.1021 - acc: 0.3162 - val_loss: 2.0511 - val_acc: 0.3161\n",
      "Epoch 216/300\n",
      "93s - loss: 2.1144 - acc: 0.3161 - val_loss: 2.2266 - val_acc: 0.3123\n",
      "Epoch 217/300\n",
      "91s - loss: 2.1147 - acc: 0.3161 - val_loss: 2.0311 - val_acc: 0.3174\n",
      "Epoch 218/300\n",
      "93s - loss: 2.0818 - acc: 0.3158 - val_loss: 2.0491 - val_acc: 0.3153\n",
      "Epoch 219/300\n",
      "91s - loss: 2.0811 - acc: 0.3162 - val_loss: 2.0511 - val_acc: 0.3150\n",
      "Epoch 220/300\n",
      "89s - loss: 2.1202 - acc: 0.3160 - val_loss: 2.0287 - val_acc: 0.3159\n",
      "Epoch 221/300\n",
      "96s - loss: 2.0869 - acc: 0.3160 - val_loss: 2.0052 - val_acc: 0.3165\n",
      "Epoch 222/300\n",
      "95s - loss: 2.1452 - acc: 0.3160 - val_loss: 2.0073 - val_acc: 0.3154\n",
      "Epoch 223/300\n",
      "92s - loss: 2.1526 - acc: 0.3160 - val_loss: 2.3055 - val_acc: 0.3131\n",
      "Epoch 224/300\n",
      "93s - loss: 2.1199 - acc: 0.3158 - val_loss: 2.0399 - val_acc: 0.3173\n",
      "Epoch 225/300\n",
      "94s - loss: 2.1233 - acc: 0.3161 - val_loss: 2.0416 - val_acc: 0.3153\n",
      "Epoch 226/300\n",
      "88s - loss: 2.1255 - acc: 0.3160 - val_loss: 2.0623 - val_acc: 0.3138\n",
      "Epoch 227/300\n",
      "94s - loss: 2.1499 - acc: 0.3158 - val_loss: 2.2089 - val_acc: 0.3167\n",
      "Epoch 228/300\n",
      "92s - loss: 2.1312 - acc: 0.3161 - val_loss: 2.1202 - val_acc: 0.3176\n",
      "Epoch 229/300\n",
      "92s - loss: 2.1872 - acc: 0.3159 - val_loss: 2.2685 - val_acc: 0.3166\n",
      "Epoch 230/300\n",
      "93s - loss: 2.1568 - acc: 0.3161 - val_loss: 2.1537 - val_acc: 0.3058\n",
      "Epoch 231/300\n",
      "92s - loss: 2.1505 - acc: 0.3157 - val_loss: 2.1913 - val_acc: 0.3018\n",
      "Epoch 232/300\n",
      "94s - loss: 2.1994 - acc: 0.3157 - val_loss: 2.0900 - val_acc: 0.3170\n",
      "Epoch 233/300\n",
      "95s - loss: 2.1038 - acc: 0.3158 - val_loss: 2.1526 - val_acc: 0.3161\n",
      "Epoch 234/300\n",
      "93s - loss: 2.1166 - acc: 0.3154 - val_loss: 2.0949 - val_acc: 0.3140\n",
      "Epoch 235/300\n",
      "94s - loss: 2.0836 - acc: 0.3157 - val_loss: 2.0125 - val_acc: 0.3157\n",
      "Epoch 236/300\n",
      "89s - loss: 2.1070 - acc: 0.3160 - val_loss: 2.1059 - val_acc: 0.3175\n",
      "Epoch 237/300\n",
      "92s - loss: 2.1335 - acc: 0.3152 - val_loss: 2.0079 - val_acc: 0.3110\n",
      "Epoch 238/300\n",
      "94s - loss: 2.1636 - acc: 0.3151 - val_loss: 2.1749 - val_acc: 0.3161\n",
      "Epoch 239/300\n",
      "92s - loss: 2.0845 - acc: 0.3154 - val_loss: 2.1097 - val_acc: 0.3117\n",
      "Epoch 240/300\n",
      "89s - loss: 2.1418 - acc: 0.3152 - val_loss: 2.0296 - val_acc: 0.3155\n",
      "Epoch 241/300\n",
      "93s - loss: 2.0936 - acc: 0.3156 - val_loss: 2.0339 - val_acc: 0.3155\n",
      "Epoch 242/300\n",
      "94s - loss: 2.0620 - acc: 0.3160 - val_loss: 2.0197 - val_acc: 0.3130\n",
      "Epoch 243/300\n",
      "93s - loss: 2.1141 - acc: 0.3156 - val_loss: 2.0670 - val_acc: 0.2955\n",
      "Epoch 244/300\n",
      "92s - loss: 2.0913 - acc: 0.3159 - val_loss: 1.9839 - val_acc: 0.3138\n",
      "Epoch 245/300\n",
      "94s - loss: 2.1058 - acc: 0.3161 - val_loss: 2.1703 - val_acc: 0.3123\n",
      "Epoch 246/300\n",
      "90s - loss: 2.1025 - acc: 0.3162 - val_loss: 2.1202 - val_acc: 0.3121\n",
      "Epoch 247/300\n",
      "89s - loss: 2.1192 - acc: 0.3156 - val_loss: 2.0190 - val_acc: 0.3158\n",
      "Epoch 248/300\n",
      "91s - loss: 2.1243 - acc: 0.3162 - val_loss: 1.9750 - val_acc: 0.3152\n",
      "Epoch 249/300\n",
      "91s - loss: 2.1079 - acc: 0.3161 - val_loss: 2.0323 - val_acc: 0.3156\n",
      "Epoch 250/300\n",
      "91s - loss: 2.1066 - acc: 0.3163 - val_loss: 2.4724 - val_acc: 0.3153\n",
      "Epoch 251/300\n",
      "91s - loss: 2.1696 - acc: 0.3158 - val_loss: 2.0263 - val_acc: 0.3172\n",
      "Epoch 252/300\n",
      "94s - loss: 2.1657 - acc: 0.3153 - val_loss: 2.0587 - val_acc: 0.3151\n",
      "Epoch 253/300\n",
      "91s - loss: 2.0809 - acc: 0.3161 - val_loss: 2.0996 - val_acc: 0.3161\n",
      "Epoch 254/300\n",
      "91s - loss: 2.1335 - acc: 0.3158 - val_loss: 2.0567 - val_acc: 0.3131\n",
      "Epoch 255/300\n",
      "92s - loss: 2.1778 - acc: 0.3158 - val_loss: 2.1062 - val_acc: 0.3146\n",
      "Epoch 256/300\n",
      "93s - loss: 2.2215 - acc: 0.3153 - val_loss: 1.9852 - val_acc: 0.3164\n",
      "Epoch 257/300\n",
      "93s - loss: 2.1526 - acc: 0.3161 - val_loss: 2.3849 - val_acc: 0.3163\n",
      "Epoch 258/300\n",
      "91s - loss: 2.1587 - acc: 0.3157 - val_loss: 2.0658 - val_acc: 0.3165\n",
      "Epoch 259/300\n",
      "92s - loss: 2.1926 - acc: 0.3155 - val_loss: 2.0704 - val_acc: 0.3149\n",
      "Epoch 260/300\n",
      "92s - loss: 2.1872 - acc: 0.3158 - val_loss: 2.2356 - val_acc: 0.3132\n",
      "Epoch 261/300\n",
      "92s - loss: 2.2494 - acc: 0.3152 - val_loss: 2.2069 - val_acc: 0.3106\n",
      "Epoch 262/300\n",
      "88s - loss: 2.1888 - acc: 0.3154 - val_loss: 2.2478 - val_acc: 0.3137\n",
      "Epoch 263/300\n",
      "91s - loss: 2.1437 - acc: 0.3158 - val_loss: 2.0913 - val_acc: 0.3134\n",
      "Epoch 264/300\n",
      "94s - loss: 2.2115 - acc: 0.3154 - val_loss: 2.0384 - val_acc: 0.3152\n",
      "Epoch 265/300\n",
      "92s - loss: 2.1674 - acc: 0.3156 - val_loss: 2.0651 - val_acc: 0.3163\n",
      "Epoch 266/300\n",
      "95s - loss: 2.1600 - acc: 0.3159 - val_loss: 2.1736 - val_acc: 0.3163\n",
      "Epoch 267/300\n",
      "89s - loss: 2.1520 - acc: 0.3156 - val_loss: 2.1576 - val_acc: 0.3143\n",
      "Epoch 268/300\n",
      "94s - loss: 2.1452 - acc: 0.3156 - val_loss: 2.1188 - val_acc: 0.3168\n",
      "Epoch 269/300\n",
      "93s - loss: 2.2338 - acc: 0.3153 - val_loss: 2.2100 - val_acc: 0.3139\n",
      "Epoch 270/300\n",
      "91s - loss: 2.1621 - acc: 0.3154 - val_loss: 2.2175 - val_acc: 0.3148\n",
      "Epoch 271/300\n",
      "91s - loss: 2.1529 - acc: 0.3155 - val_loss: 1.9810 - val_acc: 0.3153\n",
      "Epoch 272/300\n",
      "96s - loss: 2.1344 - acc: 0.3156 - val_loss: 2.1430 - val_acc: 0.3160\n",
      "Epoch 273/300\n",
      "90s - loss: 2.2321 - acc: 0.3151 - val_loss: 2.2114 - val_acc: 0.3127\n",
      "Epoch 274/300\n",
      "92s - loss: 2.1262 - acc: 0.3154 - val_loss: 2.1121 - val_acc: 0.3138\n",
      "Epoch 275/300\n",
      "96s - loss: 2.2222 - acc: 0.3151 - val_loss: 2.1716 - val_acc: 0.3161\n",
      "Epoch 276/300\n",
      "92s - loss: 2.1930 - acc: 0.3154 - val_loss: 2.0598 - val_acc: 0.3148\n",
      "Epoch 277/300\n",
      "88s - loss: 2.1767 - acc: 0.3152 - val_loss: 2.3198 - val_acc: 0.3130\n",
      "Epoch 278/300\n",
      "93s - loss: 2.1617 - acc: 0.3151 - val_loss: 2.2842 - val_acc: 0.3147\n",
      "Epoch 279/300\n",
      "93s - loss: 2.2078 - acc: 0.3151 - val_loss: 2.3957 - val_acc: 0.3122\n",
      "Epoch 280/300\n",
      "91s - loss: 2.1983 - acc: 0.3150 - val_loss: 2.1023 - val_acc: 0.3161\n",
      "Epoch 281/300\n",
      "93s - loss: 2.1765 - acc: 0.3148 - val_loss: 2.1071 - val_acc: 0.3089\n",
      "Epoch 282/300\n",
      "92s - loss: 2.1813 - acc: 0.3147 - val_loss: 2.0810 - val_acc: 0.3153\n",
      "Epoch 283/300\n",
      "95s - loss: 2.1767 - acc: 0.3150 - val_loss: 2.1200 - val_acc: 0.3076\n",
      "Epoch 284/300\n",
      "92s - loss: 2.2078 - acc: 0.3150 - val_loss: 2.2772 - val_acc: 0.3099\n",
      "Epoch 285/300\n",
      "90s - loss: 2.2263 - acc: 0.3143 - val_loss: 2.2072 - val_acc: 0.3143\n",
      "Epoch 286/300\n",
      "90s - loss: 2.2163 - acc: 0.3147 - val_loss: 2.0110 - val_acc: 0.3111\n",
      "Epoch 287/300\n",
      "92s - loss: 2.2823 - acc: 0.3142 - val_loss: 2.1652 - val_acc: 0.3167\n",
      "Epoch 288/300\n",
      "94s - loss: 2.2565 - acc: 0.3142 - val_loss: 2.2208 - val_acc: 0.3099\n",
      "Epoch 289/300\n",
      "93s - loss: 2.2617 - acc: 0.3142 - val_loss: 2.3092 - val_acc: 0.3130\n",
      "Epoch 290/300\n",
      "90s - loss: 2.2596 - acc: 0.3143 - val_loss: 2.1323 - val_acc: 0.3163\n",
      "Epoch 291/300\n",
      "91s - loss: 2.2110 - acc: 0.3144 - val_loss: 2.1480 - val_acc: 0.3125\n",
      "Epoch 292/300\n",
      "95s - loss: 2.2766 - acc: 0.3143 - val_loss: 2.2706 - val_acc: 0.3153\n",
      "Epoch 293/300\n",
      "96s - loss: 2.2113 - acc: 0.3142 - val_loss: 2.1505 - val_acc: 0.3163\n",
      "Epoch 294/300\n",
      "93s - loss: 2.3958 - acc: 0.3131 - val_loss: 2.2473 - val_acc: 0.3142\n",
      "Epoch 295/300\n"
     ]
    },
    {
     "name": "stdout",
     "output_type": "stream",
     "text": [
      "95s - loss: 2.2953 - acc: 0.3136 - val_loss: 2.1414 - val_acc: 0.3168\n",
      "Epoch 296/300\n",
      "90s - loss: 2.2925 - acc: 0.3137 - val_loss: 2.6524 - val_acc: 0.3067\n",
      "Epoch 297/300\n",
      "89s - loss: 2.4185 - acc: 0.3129 - val_loss: 3.2018 - val_acc: 0.3081\n",
      "Epoch 298/300\n",
      "91s - loss: 2.4235 - acc: 0.3124 - val_loss: 2.3788 - val_acc: 0.3150\n",
      "Epoch 299/300\n",
      "91s - loss: 2.2879 - acc: 0.3132 - val_loss: 2.2136 - val_acc: 0.3076\n",
      "Epoch 300/300\n",
      "93s - loss: 2.3304 - acc: 0.3130 - val_loss: 2.4005 - val_acc: 0.3032\n",
      "Training duration : 27551.374199151993\n"
     ]
    }
   ],
   "source": [
    "start_time = time.time()\n",
    "print('Training model...')\n",
    "model.fit(train_x, train_y , epochs=epochs, batch_size=batch,\n",
    "          shuffle=True,validation_split=0.1, verbose=2)\n",
    "print(\"Training duration : {0}\".format(time.time() - start_time))\n"
   ]
  },
  {
   "cell_type": "code",
   "execution_count": 73,
   "metadata": {
    "collapsed": true
   },
   "outputs": [],
   "source": [
    "train_time = time.time() - start_time"
   ]
  },
  {
   "cell_type": "markdown",
   "metadata": {},
   "source": [
    "# save model"
   ]
  },
  {
   "cell_type": "code",
   "execution_count": 74,
   "metadata": {},
   "outputs": [
    {
     "name": "stdout",
     "output_type": "stream",
     "text": [
      "Saved model to disk\n"
     ]
    }
   ],
   "source": [
    "# serialize model to JSON\n",
    "model_json = model.to_json()\n",
    "with open(\"model.json\", \"w\") as json_file:\n",
    "    json_file.write(model_json)\n",
    "# serialize weights to HDF5\n",
    "model.save_weights(\"model.h5\")\n",
    "print(\"Saved model to disk\")\n",
    " \n"
   ]
  },
  {
   "cell_type": "markdown",
   "metadata": {},
   "source": [
    "# test model and get accuracy"
   ]
  },
  {
   "cell_type": "code",
   "execution_count": 75,
   "metadata": {},
   "outputs": [
    {
     "name": "stdout",
     "output_type": "stream",
     "text": [
      "376160/376526 [============================>.] - ETA: 0s"
     ]
    }
   ],
   "source": [
    "test_batch = 32\n",
    "loss, accuracy = model.evaluate(test_x, test_y, batch_size=test_batch)"
   ]
  },
  {
   "cell_type": "code",
   "execution_count": 76,
   "metadata": {},
   "outputs": [
    {
     "name": "stdout",
     "output_type": "stream",
     "text": [
      "acc: 30.29%\n"
     ]
    }
   ],
   "source": [
    "print(\"%s: %.2f%%\" % (model.metrics_names[1], accuracy*100))\n"
   ]
  },
  {
   "cell_type": "markdown",
   "metadata": {},
   "source": [
    "# send mail to alert"
   ]
  },
  {
   "cell_type": "code",
   "execution_count": 77,
   "metadata": {
    "collapsed": true
   },
   "outputs": [],
   "source": [
    "model_config = []\n",
    "for index, layer in enumerate(model.get_config()):\n",
    "    model_config.append(\"layer - > %d===============\" % index)\n",
    "    model_config.append(\"class_name = \" + layer[\"class_name\"] )\n",
    "    if(str(layer[\"config\"].get(\"units\", \"None\")) != \"None\"):\n",
    "        model_config.append(\"units = \" + str(layer[\"config\"].get(\"units\", \"None\")))\n",
    "    if(str(layer[\"config\"].get(\"activation\", \"None\")) != \"None\"):\n",
    "        model_config.append(\"activation = \" + layer[\"config\"][\"activation\"])\n",
    "    if(str(layer[\"config\"].get(\"rate\", \"None\")) != \"None\"):\n",
    "        model_config.append(\"rate = \" + str(layer[\"config\"][\"rate\"]))\n",
    "model_info = '\\n'.join(model_config)"
   ]
  },
  {
   "cell_type": "code",
   "execution_count": 78,
   "metadata": {
    "collapsed": true
   },
   "outputs": [],
   "source": [
    "model_info += \"\\n\\ntrain epochs = \" + str(epochs)\n",
    "model_info += \"\\ntrain batch = \" + str(batch)\n",
    "model_info += \"\\ntest batch = \" + str(test_batch)\n",
    "model_info += \"\\ntrain time = \" + str(train_time)\n",
    "model_info += \"\\nloss = \" + str(loss)\n",
    "model_info += \"\\n\\n\\naccuracy = \" + str(accuracy)\n",
    "\n"
   ]
  },
  {
   "cell_type": "code",
   "execution_count": 79,
   "metadata": {},
   "outputs": [
    {
     "name": "stdout",
     "output_type": "stream",
     "text": [
      "Start Send Mail\n",
      "User Email : a - DONE \n",
      "User Email : a - DONE \n",
      "User Email : 2 - DONE \n",
      "User Email : 6 - DONE \n",
      "User Email : 3 - DONE \n",
      "User Email : 6 - DONE \n",
      "User Email : 5 - DONE \n",
      "User Email : 5 - DONE \n",
      "User Email : 6 - DONE \n",
      "User Email : 6 - DONE \n",
      "User Email : @ - DONE \n",
      "User Email : g - DONE \n",
      "User Email : m - DONE \n",
      "User Email : a - DONE \n",
      "User Email : i - DONE \n",
      "User Email : l - DONE \n",
      "User Email : . - DONE \n",
      "User Email : c - DONE \n",
      "User Email : o - DONE \n",
      "User Email : m - DONE \n",
      "Finish Send Mail\n"
     ]
    }
   ],
   "source": [
    "test=mail()\n",
    "test.main(\"model finished\", model_info)"
   ]
  },
  {
   "cell_type": "markdown",
   "metadata": {},
   "source": [
    "# write readme to report the model"
   ]
  },
  {
   "cell_type": "code",
   "execution_count": 80,
   "metadata": {},
   "outputs": [
    {
     "data": {
      "text/plain": [
       "True"
      ]
     },
     "execution_count": 80,
     "metadata": {},
     "output_type": "execute_result"
    }
   ],
   "source": [
    "md_info = model_info.replace(\"\\n\", \"<br>\")\n",
    "with open('readme.md', 'w+') as f:\n",
    "     f.write(md_info)\n",
    "f.closed"
   ]
  },
  {
   "cell_type": "code",
   "execution_count": 81,
   "metadata": {},
   "outputs": [
    {
     "name": "stdout",
     "output_type": "stream",
     "text": [
      "layer - > 0===============\n",
      "class_name = Dense\n",
      "units = 128\n",
      "activation = linear\n",
      "layer - > 1===============\n",
      "class_name = Activation\n",
      "activation = relu\n",
      "layer - > 2===============\n",
      "class_name = Dense\n",
      "units = 64\n",
      "activation = linear\n",
      "layer - > 3===============\n",
      "class_name = Activation\n",
      "activation = relu\n",
      "layer - > 4===============\n",
      "class_name = Dense\n",
      "units = 32\n",
      "activation = linear\n",
      "layer - > 5===============\n",
      "class_name = Activation\n",
      "activation = relu\n",
      "layer - > 6===============\n",
      "class_name = Dense\n",
      "units = 11\n",
      "activation = linear\n",
      "layer - > 7===============\n",
      "class_name = Activation\n",
      "activation = softmax\n",
      "\n",
      "train epochs = 300\n",
      "train batch = 64\n",
      "test batch = 32\n",
      "train time = 27551.39390516281\n",
      "loss = 2.39791243811\n",
      "\n",
      "\n",
      "accuracy = 0.302937911327\n"
     ]
    }
   ],
   "source": [
    "print(model_info)"
   ]
  },
  {
   "cell_type": "code",
   "execution_count": 82,
   "metadata": {
    "collapsed": true
   },
   "outputs": [],
   "source": [
    "from sklearn.metrics import confusion_matrix\n",
    "import matplotlib.pyplot as plt\n",
    "import itertools"
   ]
  },
  {
   "cell_type": "code",
   "execution_count": 83,
   "metadata": {
    "collapsed": true
   },
   "outputs": [],
   "source": [
    "def plot_confusion_matrix(cm, classes,\n",
    "                          normalize=False,\n",
    "                          title='Confusion matrix',\n",
    "                          cmap=plt.cm.Blues):\n",
    "    \"\"\"\n",
    "    This function prints and plots the confusion matrix.\n",
    "    Normalization can be applied by setting `normalize=True`.\n",
    "    \"\"\"\n",
    "    plt.imshow(cm, interpolation='nearest', cmap=cmap)\n",
    "    plt.title(title)\n",
    "    plt.colorbar()\n",
    "    tick_marks = np.arange(len(classes))\n",
    "    plt.xticks(tick_marks, classes, rotation=45)\n",
    "    plt.yticks(tick_marks, classes)\n",
    "\n",
    "    if normalize:\n",
    "        cm = cm.astype('float') / cm.sum(axis=1)[:, np.newaxis]\n",
    "#         print(\"Normalized confusion matrix\")\n",
    "#     else:\n",
    "#         print('Confusion matrix, without normalization')\n",
    "\n",
    "#     print(cm)\n",
    "\n",
    "    thresh = cm.max() / 2.\n",
    "    for i, j in itertools.product(range(cm.shape[0]), range(cm.shape[1])):\n",
    "        plt.text(j, i, \"\",\n",
    "                 horizontalalignment=\"center\",\n",
    "                 color=\"white\" if cm[i, j] > thresh else \"black\")\n",
    "\n",
    "    plt.tight_layout()\n",
    "    plt.ylabel('True label')\n",
    "    plt.xlabel('Predicted label')"
   ]
  },
  {
   "cell_type": "code",
   "execution_count": 84,
   "metadata": {
    "collapsed": true
   },
   "outputs": [],
   "source": [
    "pred = model.predict(test_x)"
   ]
  },
  {
   "cell_type": "code",
   "execution_count": 85,
   "metadata": {},
   "outputs": [
    {
     "data": {
      "text/plain": [
       "array([[    0,     0,     0,   558,  4784,  2802,     0,     0,  2736,\n",
       "            0,     0],\n",
       "       [    0,     0,     0,  1846,  9850,  3460,     0,     0,  2134,\n",
       "            1,     0],\n",
       "       [    0,     0,     0,   631,  6156,  5859,     0,     0,  2384,\n",
       "            0,     0],\n",
       "       [    0,     0,     0, 20314,  7523,   326,     0,     0,   801,\n",
       "            1,     0],\n",
       "       [    0,     0,     0, 10814, 55773, 14247,     0,     0,  4087,\n",
       "            0,     1],\n",
       "       [    0,     0,     0,  4602, 47616, 27227,     0,     0,  6731,\n",
       "            1,     0],\n",
       "       [    0,     0,     0,   450, 11286,  9014,     0,     0,   271,\n",
       "            0,     0],\n",
       "       [    0,     0,     0,  1552,  6827,  1725,     0,     0,  1270,\n",
       "            0,     0],\n",
       "       [    0,     0,     0,  5500, 23617, 13538,     0,     0, 10749,\n",
       "            0,     0],\n",
       "       [    0,     0,     0,  2592,  9383,  3069,     0,     0,  4522,\n",
       "            1,     0],\n",
       "       [    0,     0,     0,  2834, 17178,  5340,     0,     0,  2543,\n",
       "            0,     0]])"
      ]
     },
     "execution_count": 85,
     "metadata": {},
     "output_type": "execute_result"
    }
   ],
   "source": [
    "cnf_matrix = confusion_matrix(np.argmax(test_y, axis = 1), np.argmax(pred, axis = 1))\n",
    "cnf_matrix"
   ]
  },
  {
   "cell_type": "code",
   "execution_count": 86,
   "metadata": {},
   "outputs": [
    {
     "data": {
      "image/png": "[encoded data removed]",
      "text/plain": [
       "<matplotlib.figure.Figure at 0x1eb3b334358>"
      ]
     },
     "metadata": {},
     "output_type": "display_data"
    }
   ],
   "source": [
    "np.set_printoptions(precision=2)\n",
    "plt.figure(figsize=(6, 6), dpi = 120)\n",
    "plot_confusion_matrix(cnf_matrix, classes=encoder.classes_, normalize=True, title='confusion matrix')\n",
    "plt.show()"
   ]
  },
  {
   "cell_type": "code",
   "execution_count": 110,
   "metadata": {},
   "outputs": [
    {
     "name": "stdout",
     "output_type": "stream",
     "text": [
      "[[ 0.  0.  0. ...,  0.  1.  0.]\n",
      " [ 0.  0.  0. ...,  0.  0.  0.]\n",
      " [ 0.  0.  0. ...,  0.  0.  0.]\n",
      " ..., \n",
      " [ 0.  0.  0. ...,  0.  1.  0.]\n",
      " [ 0.  0.  0. ...,  0.  0.  0.]\n",
      " [ 0.  0.  0. ...,  0.  0.  0.]]\n",
      "[[ 0.  0.  0. ...,  0.  1.  0.]\n",
      " [ 0.  0.  0. ...,  0.  0.  0.]\n",
      " [ 0.  0.  0. ...,  0.  0.  0.]\n",
      " ..., \n",
      " [ 0.  0.  0. ...,  0.  1.  0.]\n",
      " [ 0.  0.  0. ...,  0.  0.  0.]\n",
      " [ 0.  0.  0. ...,  0.  0.  0.]]\n",
      "[[ 0.  0.  0. ...,  0.  1.  0.]\n",
      " [ 0.  0.  0. ...,  0.  0.  0.]\n",
      " [ 0.  0.  0. ...,  0.  0.  0.]\n",
      " ..., \n",
      " [ 0.  0.  0. ...,  0.  1.  0.]\n",
      " [ 0.  0.  0. ...,  0.  0.  0.]\n",
      " [ 0.  0.  0. ...,  0.  0.  0.]]\n",
      "[[ 0.  0.  0. ...,  0.  1.  0.]\n",
      " [ 0.  0.  0. ...,  0.  0.  0.]\n",
      " [ 0.  0.  0. ...,  0.  0.  0.]\n",
      " ..., \n",
      " [ 0.  0.  0. ...,  0.  1.  0.]\n",
      " [ 0.  0.  0. ...,  0.  0.  0.]\n",
      " [ 0.  0.  0. ...,  0.  0.  0.]]\n",
      "[[ 0.  0.  0. ...,  0.  1.  0.]\n",
      " [ 0.  0.  0. ...,  0.  0.  0.]\n",
      " [ 0.  0.  0. ...,  0.  0.  0.]\n",
      " ..., \n",
      " [ 0.  0.  0. ...,  0.  1.  0.]\n",
      " [ 0.  0.  0. ...,  0.  0.  0.]\n",
      " [ 0.  0.  0. ...,  0.  0.  0.]]\n",
      "[[ 0.  0.  0. ...,  0.  1.  0.]\n",
      " [ 0.  0.  0. ...,  0.  0.  0.]\n",
      " [ 0.  0.  0. ...,  0.  0.  0.]\n",
      " ..., \n",
      " [ 0.  0.  0. ...,  0.  1.  0.]\n",
      " [ 0.  0.  0. ...,  0.  0.  0.]\n",
      " [ 0.  0.  0. ...,  0.  0.  0.]]\n",
      "[[ 0.  0.  0. ...,  0.  1.  0.]\n",
      " [ 0.  0.  0. ...,  0.  0.  0.]\n",
      " [ 0.  0.  0. ...,  0.  0.  0.]\n",
      " ..., \n",
      " [ 0.  0.  0. ...,  0.  1.  0.]\n",
      " [ 0.  0.  0. ...,  0.  0.  0.]\n",
      " [ 0.  0.  0. ...,  0.  0.  0.]]\n",
      "[[ 0.  0.  0. ...,  0.  1.  0.]\n",
      " [ 0.  0.  0. ...,  0.  0.  0.]\n",
      " [ 0.  0.  0. ...,  0.  0.  0.]\n",
      " ..., \n",
      " [ 0.  0.  0. ...,  0.  1.  0.]\n",
      " [ 0.  0.  0. ...,  0.  0.  0.]\n",
      " [ 0.  0.  0. ...,  0.  0.  0.]]\n",
      "[[ 0.  0.  0. ...,  0.  1.  0.]\n",
      " [ 0.  0.  0. ...,  0.  0.  0.]\n",
      " [ 0.  0.  0. ...,  0.  0.  0.]\n",
      " ..., \n",
      " [ 0.  0.  0. ...,  0.  1.  0.]\n",
      " [ 0.  0.  0. ...,  0.  0.  0.]\n",
      " [ 0.  0.  0. ...,  0.  0.  0.]]\n",
      "[[ 0.  0.  0. ...,  0.  1.  0.]\n",
      " [ 0.  0.  0. ...,  0.  0.  0.]\n",
      " [ 0.  0.  0. ...,  0.  0.  0.]\n",
      " ..., \n",
      " [ 0.  0.  0. ...,  0.  1.  0.]\n",
      " [ 0.  0.  0. ...,  0.  0.  0.]\n",
      " [ 0.  0.  0. ...,  0.  0.  0.]]\n"
     ]
    }
   ],
   "source": [
    "# for i in range(10):\n",
    "#     probabilities = model.predict(test_x[i:i+1,:], batch_size=32, verbose=0)\n",
    "#     probabilities = model.predict(test_x[i:i+1,:])\n",
    "#     probabilities = model.predict(test_x)\n",
    "#     probabilities[probabilities>=0.5] = 1\n",
    "#     probabilities[probabilities<0.5] = 0\n",
    "#     print(probabilities)"
   ]
  }
 ],
 "metadata": {
  "kernelspec": {
   "display_name": "Python 3",
   "language": "python",
   "name": "python3"
  },
  "language_info": {
   "codemirror_mode": {
    "name": "ipython",
    "version": 3
   },
   "file_extension": ".py",
   "mimetype": "text/x-python",
   "name": "python",
   "nbconvert_exporter": "python",
   "pygments_lexer": "ipython3",
   "version": "3.5.3"
  }
 },
 "nbformat": 4,
 "nbformat_minor": 2
}
